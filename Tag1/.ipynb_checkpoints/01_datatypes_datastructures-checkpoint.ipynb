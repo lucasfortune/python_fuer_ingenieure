{
 "cells": [
  {
   "cell_type": "markdown",
   "id": "ea19ab10-1c33-49ad-9d49-33b759aa94bb",
   "metadata": {},
   "source": [
    "# Python Grundlagen 1\n",
    "## Variablen und Datenstrukturen\n",
    "***\n",
    "In diesem Notebook wird behandelt:\n",
    "- Was sind Variablen und welche gibt es?\n",
    "- Wie erstellt man eine Variable und wie überschreibt man sie?\n",
    "- In welchen Strukturen können Variablen in Python verarbeitet werden?\n",
    "***"
   ]
  },
  {
   "cell_type": "markdown",
   "id": "2ab1cc55-5588-4192-949e-c9f07ce751c4",
   "metadata": {},
   "source": [
    "## 1 Variablen\n",
    "Variablen sind **Platzhalter** für Daten (Zahlen, Texte, etc.), die sich im Laufe eines Programmes ändern können. <br>\n",
    "In Python werden Variablen mit dem ```=``` Operator gleichzeitig erstellt und definiert: \n",
    "```python\n",
    "meine_variable = Wert\n",
    "```\n",
    "Der Name der Variable, die wir erstellt haben, ist ```meine_variable``` und wir haben ihr den Wert ```Wert``` zugewiesen. <br><br>\n",
    "Variablen können verschiedene Typen von Werten haben:\n",
    "```python\n",
    "# Eine ganze Zahl, genannt int:\n",
    "meine_variable = 9\n",
    "\n",
    "# Ein Gleitkommazahl, genannt float:\n",
    "meine_variable = 3.14683327\n",
    "\n",
    "# Ein Boolean, wahr oder falsch:\n",
    "meine_variable = True\n",
    "meine_variable = False\n",
    "\n",
    "# Ein Text, genannt string:\n",
    "meine_variable = \"Hallo\"\n",
    "```\n",
    "\n",
    "<div class=\"alert alert-block alert-info\">\n",
    "<b> Info:</b> # signalisiert ein Kommentar im Code. Alles was in einer Zeile hinter einer Raute steht, wird vom Python Interpreter ignoriert.\n",
    "</div>\n",
    "\n",
    "Variablen lassen sich direkt mit mathematischen Operatoren bearbeiten:\n",
    "```python\n",
    "meine_variable = 7\n",
    "doppelte_variable = meine_variable + meine_variable\n",
    "```\n",
    "Jedes Mal, wenn der ```=``` nach einer Variable verwendet wird, wird ihr Wert **überschrieben**. <br>\n",
    "Um sich den Wert einer Variable **ausgeben** zu lassen verwendet man die ```print()```Funktion:\n",
    "```python\n",
    "#Eine Variable wird erstellt:\n",
    "meine_variable = 7\n",
    "# der ursprüngliche Wert wird überschrieben\n",
    "meine_variable = 8.5\n",
    "# eine neue Variable wird mithilfe der Ersten und einem mathematischen Operator erstellt:\n",
    "doppelte_variable = meine_variable + meine_variable\n",
    "\n",
    "# die Werte der beiden Variablen werden ausgegeben:\n",
    "print(meine_variable)\n",
    "print(doppelte_variable)\n",
    ">>> 8.5\n",
    ">>> 17\n",
    "```\n",
    "Um sich den Datentyp einer Variable ausgeben zu lassen, verwendet man die ```type()``` Funktion:\n",
    "```python\n",
    "# Ein paar verschiedene Variablen werden erstellt:\n",
    "x = 9\n",
    "y = 1.367\n",
    "z = \"Hallo Welt\"\n",
    "xyz = True\n",
    "\n",
    "# Wir lassen uns die Datentypen der Variablen ausgeben:\n",
    "print(type(x))\n",
    ">>> int\n",
    "\n",
    "print(type(y))\n",
    ">>> float\n",
    "\n",
    "print(type(z))\n",
    ">>> string\n",
    "\n",
    "print(type(xyz))\n",
    ">>> bool\n",
    "```\n",
    "\n",
    "Variablen können einfache Namen wie ```x```oder ```y```haben, oder auch ausführlichere Namen, die beschreiben, was hinter der Variable steckt, wie zum Beispiel: ```customer_transactions_2020-2024``` oder ```standard_deviation_dataset28.3_august_24```. <br>\n",
    "Beim benennen von Variablen gibt es einige **Regeln**: <br>\n",
    "- Der Name einer Variable muss mit einem **Buchstaben** beginnen, nicht mit einer **Zahl**.\n",
    "- Variablennamen dürfen nur aus **alphanumerischen Zeichen** und **Unterstrichen (_)** bestehen.\n",
    "- Variablen sind **case sensitive**. Groß und kleinschreibung aller Zeichen im Namen müssen beachtet werden.\n"
   ]
  },
  {
   "cell_type": "markdown",
   "id": "d02fb3d7-0b18-47bf-ac4a-435ff1e2fcc6",
   "metadata": {},
   "source": [
    "### 1.1 Aufgabe:\n",
    "> (a) Erstelle eine neue Variable und weise ihr einen beliebigen Wert von Type ```float``` zu. <br>\n",
    "> (b) Erstelle eine weitere neue Variable, deren Wert dem dreifachen Wert der ersten Variable entspricht. <br>\n",
    "> (c) Lasse dir die Werte der beiden Variablen ausgeben"
   ]
  },
  {
   "cell_type": "code",
   "execution_count": null,
   "id": "a0288f02-eb16-449c-b6eb-5c0f9df89b2e",
   "metadata": {},
   "outputs": [],
   "source": [
    "# deine Lösung:\n",
    "\n",
    "\n",
    "\n"
   ]
  },
  {
   "cell_type": "markdown",
   "id": "6340dd07-b325-4c71-815c-e1f89e70dda8",
   "metadata": {
    "jp-MarkdownHeadingCollapsed": true
   },
   "source": [
    "#### Klick hier, um dir die Lösung anzeigen zu lassen:"
   ]
  },
  {
   "cell_type": "code",
   "execution_count": 1,
   "id": "5b4d71c2-4527-453c-83fe-0558d0fcc8a2",
   "metadata": {},
   "outputs": [
    {
     "name": "stdout",
     "output_type": "stream",
     "text": [
      "2.565\n",
      "7.695\n"
     ]
    }
   ],
   "source": [
    "variable = 2.565\n",
    "neue_variable = 3 * variable\n",
    "# auch richtig:\n",
    "neue_variable = variable + variable + variable\n",
    "print(variable)\n",
    "print(neue_variable)"
   ]
  },
  {
   "cell_type": "markdown",
   "id": "6a518277-0588-4c99-9209-b5730c0d071c",
   "metadata": {},
   "source": [
    "## 2 Datenstrukturen\n",
    "Variablen und Werte können in Python in verschiednenen Formen von Datenstrukturen organisiert, gespeicher und manipoliert werden."
   ]
  },
  {
   "cell_type": "markdown",
   "id": "be9f747c-5003-4fbd-b20b-e121463daaa8",
   "metadata": {},
   "source": [
    "### 2.1 Listen\n",
    "### Index\n",
    "Eine Liste kann mehrere Werte beinhalten. Ihr Syntax ist folgender:\n",
    "```python\n",
    "eine_liste = [4, 2, 9, 1]\n",
    "```\n",
    "- die Liste ```eine_liste``` enthält vier **items**: ```4```, ```2```, ```9``` und ```1```.\n",
    "- viereckige Klammern ```[]``` bestimmen den Anfang und das Ende der Liste.\n",
    "- Listenitems werden durch ein **Komma** voneinander getrennt.\n",
    "Um einzele Elemente einer Liste zu erreichen, muss man den **Index** also seine Position in der Liste zwischen den eckigen Klammern spezifizieren.\n",
    "\n",
    "<div class=\"alert alert-block alert-success\">\n",
    "Indexe in Python beginnen immer bei 0. Das <b>erste</b> Item der Liste hat also den Index 0, das zweite den Index 1, das dritte den Index 2 und so weiter.\n",
    "</div>\n",
    "\n",
    "```python\n",
    "# gib das erste Element der Liste aus:\n",
    "print(eine_Liste[0])\n",
    ">>> 4\n",
    "\n",
    "# gib das zweite Element der Liste aus:\n",
    "print(eine_Liste[1])\n",
    ">>> 2\n",
    "```\n",
    "Man kan den Index einer Liste auch nutzen, um den Wert des Items in der Liste zu überschreiben:\n",
    "```python\n",
    "eine_liste[3] = 42\n",
    "\n",
    "print(eine_Liste)\n",
    ">>>[4, 2, 9, 42\n",
    "```\n",
    "Es ist auch möglich die Elemente einer Liste rückwärts zu Indizieren, genannt negative indexing:\n",
    "```python\n",
    "eine_liste = [4, 2, 9, 1]\n",
    "\n",
    "print(eine_Liste[-1])\n",
    ">>>1\n",
    "\n",
    "eine_Liste[-2] = 84\n",
    "\n",
    "print(eine_Liste)\n",
    ">>>[4, 2, 84, 1]\n",
    "```\n",
    "\n",
    "<div class=\"alert alert-block alert-success\">\n",
    "Negative Indexe in Python beginnen immer bei -1. Das <b>letzte</b> Item der Liste hat also den Index -1, das zweite den Index -2, das dritte den Index -3 und so weiter.\n",
    "</div>\n",
    "\n",
    "Eine Variable vom Typ ```string``` kann auch als Liste von Zeichen gelesen werden. Man kann deshalb Indexing verwenden, um die einzelnen Buchstaben eines Strings anzusprechen:\n",
    "```python\n",
    "text = \"Gefrierschrank\"\n",
    "\n",
    "print(text[7])\n",
    ">>> s\n",
    "```\n"
   ]
  },
  {
   "cell_type": "markdown",
   "id": "d42c99a5-b196-4be5-ab03-d5c38f855f3f",
   "metadata": {},
   "source": [
    "#### 2.1.1 Aufgabe:\n",
    "> (a) Erstelle eine Liste mit 5 items vom Typ int. <br>\n",
    "> (b) Nutze Listenindizes um eine zweite Liste zu erstellen, die die Items der ersten Liste enthält, nur nach Größe sortiert. <br>\n",
    "> (c) Lass dir die beiden Listen ausgeben."
   ]
  },
  {
   "cell_type": "code",
   "execution_count": null,
   "id": "977318fe-814f-468c-8ab0-5e9e168e8eeb",
   "metadata": {},
   "outputs": [],
   "source": [
    "# Deine Lösung\n",
    "\n",
    "\n",
    "\n"
   ]
  },
  {
   "cell_type": "markdown",
   "id": "d94c21db-e9e1-48db-a884-76430e0edaad",
   "metadata": {
    "jp-MarkdownHeadingCollapsed": true
   },
   "source": [
    "#### Klicke hier, um dir die Lösung anzeigen zu lassen:"
   ]
  },
  {
   "cell_type": "code",
   "execution_count": 3,
   "id": "2fea84a4-2b4c-48a4-b32f-7b460cb61a72",
   "metadata": {},
   "outputs": [
    {
     "name": "stdout",
     "output_type": "stream",
     "text": [
      "[4, 2, 9, 1, 42]\n",
      "[1, 2, 4, 9, 42]\n"
     ]
    }
   ],
   "source": [
    "Liste = [4, 2, 9, 1, 42]\n",
    "neue_Liste = [Liste[3], Liste[1], Liste[0], Liste[2], Liste[4]]\n",
    "\n",
    "print(Liste)\n",
    "print(neue_Liste)"
   ]
  },
  {
   "cell_type": "markdown",
   "id": "0016a0c8-c807-46d0-a3b4-6ca8d2f201ba",
   "metadata": {},
   "source": [
    "### Slicing\n",
    "Slicing ist eine andere Form des Indexing. Man nutzt es, um eine Liste in Teile zu unterteilen, indem man den Start- und den Endindex der Subliste spezifiziert.\n",
    "```python\n",
    "eine_Liste = [1, 5, 8, 3, 2, 103, 11]\n",
    "\n",
    "# die ersten 4 Items der Liste:\n",
    "ersten_vier = eine_Liste[0:4]\n",
    "\n",
    "print(ersten_vier)\n",
    ">>>[1, 5, 8, 3]\n",
    "```\n",
    "\n",
    "Die Liste ```ersten_vier```ethält also die Items der Liste ```eine_Liste``` mit den Indexen ```0```, ```1```, ```2``` und ```3```. \n",
    "\n",
    "<div class=\"alert alert-block alert-success\">\n",
    "Das Item mit dem letzten Idex, der in der Subliste spezifiziert wurde, wird NICHT miteinbezogen.\n",
    "</div>\n",
    "\n",
    "Bei großen Listen scheint es manchmal unmöglich, die einzelnen Items zu zählen, die sie enthält. Um die Länge einer Liste festzustellen, verwendet man die ```len``` Funktion:\n",
    "```python\n",
    "eine_Liste = [1, 5, 8, 3, 2, 103, 11]\n",
    "\n",
    "# Länge der Liste\n",
    "len(eine_Liste)\n",
    ">>> 7\n",
    "```"
   ]
  },
  {
   "cell_type": "markdown",
   "id": "8c605297-940b-4bc2-87a7-3b2e07be801d",
   "metadata": {},
   "source": [
    "#### 2.1.2 Aufgabe:\n",
    "> (a) Lass dir die ersten zehn Items der Liste ```lange_Liste``` ausgeben <br>"
   ]
  },
  {
   "cell_type": "code",
   "execution_count": 5,
   "id": "35da51e0-83b8-43f2-82a4-8cfc43085f8c",
   "metadata": {},
   "outputs": [],
   "source": [
    "lange_Liste = [-16, 6, -4, -18, 18, 20, 21, -6, 19, 25, 11,\n",
    "                    2, 9, 7, -16, 16, 4, -15, 11, 7, 17, 18, 4,\n",
    "                    25, 17, 28, -6, 17, 1, 14, -20, -15, 20, -15,\n",
    "                    -8, 8, -19, -11, -20, -16, 3, 3, -10, -5, 10,\n",
    "                    24, -1, 1, -10, 6, 10, -6, -14, 25, 8, -11,\n",
    "                    -17, -9, 0, 21, 3, 14, 7, 10, 25, 24, -18, -11,\n",
    "                    2, 29, 17, -6, 6, -11, 2, -18, 20, -15, -11,\n",
    "                    15, -10, 8, -15, 25, -15, 10, 28, -12, 11, 14,\n",
    "                    27, -1, 10, -2, -15, -10, 19, 26, 3, 27]\n",
    "\n",
    "# Deine Lösung\n",
    "\n",
    "\n",
    "\n",
    "\n"
   ]
  },
  {
   "cell_type": "markdown",
   "id": "c6104de5-099b-447a-812d-9a5eb6e0a00c",
   "metadata": {
    "jp-MarkdownHeadingCollapsed": true
   },
   "source": [
    "#### Klicke hier, um dir die Lösung anzeigen zu lassen:"
   ]
  },
  {
   "cell_type": "code",
   "execution_count": null,
   "id": "8380a058-cdc4-47bd-9a44-7db433ebf12e",
   "metadata": {},
   "outputs": [],
   "source": [
    "print(lange_Liste[0:10])"
   ]
  },
  {
   "cell_type": "markdown",
   "id": "dbfa6bf7-92a7-4698-b70f-8dbd193ee491",
   "metadata": {},
   "source": [
    "### Mehr Listenmethoden\n",
    "***\n",
    "#### insert und pop\n",
    "Bisher haben wir gelernt, wie man die Elemente einer Liste bearbeitet. Mit den folgenden Methoden werden wir lernen, wie man Elemente einer Liste löscht oder neue hinzufügt: <br>\n",
    "Dafür verwendet man die ```insert``` und die ```pop``` **Methode**. <br>\n",
    "Bei der Objekt orientierten Programmierung nennt man eine klassenspezifische Funktion (die Listen-Klasse in unserem Fall) eine **Methode**. <br>\n",
    "Die ```pop``` Methode de Listen-Klasse verwndet man, um Elemtente an spezifischen Indexen zu löschen. Die Methode gibt außerdem auch den Wert des gelöschten Elements aus:\n",
    "\n",
    "```python\n",
    "meine_Liste = [1, 5, \"Hello\", -1.4, \"how\", 103, \"are\", \"you\"]\n",
    "\n",
    "# Das Element mit Index 4 wird gelöscht und ausgegeben\n",
    "meine_Liste.pop(4)\n",
    ">>> how\n",
    "\n",
    "print(meine_Liste)\n",
    ">>> [1, 5, 'Hello', -1.4, 103, 'are', 'you']\n",
    "```\n",
    "\n",
    "Der Syntax einer Methode setzt sich aus dem **Objekt**, der <b>Methode</b> und optional einem <b>Parameter</b> zusammen. In diesem fall ist ```meine_Liste``` das Objekt, ```pop()``` die Methode und das Parameter, das den Index wiedergibt ist ```4```.\n",
    "\n",
    "\n",
    "<div class=\"alert alert-block alert-success\">\n",
    "<ul>\n",
    "    <li>Das Objekt, dass die Mehtode aufruft, muss bereits existieren.</li>\n",
    "    <li>Der Name der Methode muss von Klammern gefolgt sein, die die Parameter der Methode enthalten.</li>\n",
    "    <li>Der name des Objekts und der Name der Methode werden durch einen Punkt getrennt.</li>\n",
    "</ul>\n",
    "</div>\n"
   ]
  },
  {
   "cell_type": "markdown",
   "id": "050b0852-c1af-4d5b-b61e-5610e8c9ae72",
   "metadata": {},
   "source": [
    "#### 2.1.3 Aufgabe:\n",
    "> (a) Entferne die Elemente ```\"Hello\"```, ```\"how\"```, ```\"are\"``` und ```\"you\"``` von der Liste ```meine_Liste``` mit der ```pop``` Methode. **Achtung:** Die Indexe der Elemtente ändern sich, wenn Elemten gelöscht werden. <br>\n",
    "> (b) Lass dir die Liste ausgeben."
   ]
  },
  {
   "cell_type": "code",
   "execution_count": null,
   "id": "5c918509-60fc-48e8-80a8-cdebcf39356a",
   "metadata": {},
   "outputs": [],
   "source": [
    "meine_Liste = [1, 5, \"Hello\", -1.4, \"how\", 103, \"are\", \"you\"]\n",
    "\n",
    "# Deine Lösung:\n",
    "\n",
    "\n",
    "\n"
   ]
  },
  {
   "cell_type": "markdown",
   "id": "8f5c0c31-78c0-4c45-b8cb-8fbae28a92af",
   "metadata": {
    "jp-MarkdownHeadingCollapsed": true
   },
   "source": [
    "#### Lösung:"
   ]
  },
  {
   "cell_type": "code",
   "execution_count": null,
   "id": "05aba383-6bd3-4545-885a-ab8010ba2660",
   "metadata": {},
   "outputs": [],
   "source": [
    "meine_Liste = [1, 5, \"Hello\", -1.4, \"how\", 103, \"are\", \"you\"]\n",
    "\n",
    "# löschen vom \"Hello\" (Index 2)\n",
    "meine_Liste.pop(2)\n",
    "\n",
    "# löschen vom \"how\" (Index 3)\n",
    "meine_Liste.pop(3)\n",
    "\n",
    "# löschen vom \"are\" (Index -2)\n",
    "meine_Liste.pop(-2)\n",
    "\n",
    "# löschen vom \"you\" (Index -1)\n",
    "meine_Liste.pop(-1)\n",
    "\n",
    "\n",
    "# Display of the list\n",
    "print(meine_Liste)"
   ]
  },
  {
   "cell_type": "markdown",
   "id": "087b6e1b-7152-4477-ad55-aaff7f53cffe",
   "metadata": {},
   "source": [
    "Eine alternative Methode, um Elemtente von Listen zu löschen ist die ```remove``` Mehtode. Mit dem Parameter spezifiziert man hier den **Wert** des Elements, das entfernt werden soll. **Es wird nur das erlste Elemtent mit diesem Wert entfernt** Diese Methode modifiziert die Liste direkt und gibt, anders als die ```pop``` Methode nichts aus:\n",
    "\n",
    "```python \n",
    "l=[0,6,4,6]\n",
    "# Löschen des Wertes 6\n",
    "l.remove(6)\n",
    "\n",
    "print(l)>>> [0,4,6]\n",
    "```"
   ]
  },
  {
   "cell_type": "markdown",
   "id": "7884337c-8e60-4c9b-927c-e0cb377201e6",
   "metadata": {},
   "source": [
    "#### insert\n",
    "Um einer Liste ein Element auf einem spezifischen Index hinzuzufügen, verwendet man die ```insert``` Methode. Diese methode benötigt zwei Argumente: den **Index**, auf dem das Element eingefügt werden soll und den **Wert** des neuen Elements:\n",
    "```python\n",
    "# Füge der Liste den Wert \"Hello\" auf Index 2 hinzu:\n",
    "meine_Liste.insert(2, \"Hello\")"
   ]
  },
  {
   "cell_type": "markdown",
   "id": "36dc5a8d-39e6-4196-afb9-dde9bf8287d2",
   "metadata": {},
   "source": [
    "#### 2.1.4 Aufgabe:\n",
    "> (a) Entferne alle Zahlen aus der Liste ```meine_Liste``` mit der ```pop``` Methode. <br>\n",
    "> (b) Füge der Liste die Elemente ```\"Bonjour\"```, ```\"comment\"```, ```\"ça\"``` und ```\"va\"``` hinzu, um die folgende Liste zu kreieren: \n",
    "```[\"Hello\", \"Bonjour\", \"how\", \"comment\", \"are\", \"ça\", \"you\", \"va\"]``` <br>\n",
    "> (c) Lass dir die Liste ausgeben"
   ]
  },
  {
   "cell_type": "code",
   "execution_count": null,
   "id": "4ba58f36-d776-4bf5-af33-8d6801ae381c",
   "metadata": {},
   "outputs": [],
   "source": [
    "meine_Liste = [1, 5, \"Hello\", -1.4, \"how\", 103, \"are\", \"you\"]\n",
    "\n",
    "# Deine Lösung:\n",
    "\n",
    "\n",
    "\n"
   ]
  },
  {
   "cell_type": "markdown",
   "id": "c8e202db-346a-405e-b4e7-cd530ad84c3d",
   "metadata": {
    "jp-MarkdownHeadingCollapsed": true
   },
   "source": [
    "#### Lösung:"
   ]
  },
  {
   "cell_type": "code",
   "execution_count": null,
   "id": "f1fe7bf2-00e0-431a-93ba-56edbedd5ed0",
   "metadata": {},
   "outputs": [],
   "source": [
    "meine_Liste = [1, 5, \"Hello\", -1.4, \"how\", 103, \"are\", \"you\"]\n",
    "\n",
    "# Entferne alle Zahlen\n",
    "meine_Liste.pop(0)\n",
    "meine_Liste.pop(0)\n",
    "meine_Liste.pop(1)\n",
    "meine_Liste.pop(-3)\n",
    "\n",
    "# Einfügen der Elemente \"Bonjour\", \"comment\", \"ça\" und \"va\"\n",
    "meine_Liste.insert(1, \"Bonjour\")\n",
    "meine_Liste.insert(3, \"comment\")\n",
    "meine_Liste.insert(5, \"ça\")\n",
    "meine_Liste.insert(7, \"va\")\n",
    "\n",
    "# Ausgabe\n",
    "print(my_list)"
   ]
  },
  {
   "cell_type": "markdown",
   "id": "1958cdf9-8dd1-4428-ab8b-daf0275ef05e",
   "metadata": {},
   "source": [
    "#### append\n",
    "\n",
    "Um am Ende einer Liste ein neues Element anzufügen, verwendet man die ```append``` Methode:\n",
    "```python\n",
    "# Füge die ganze Zahl 12 am Ende der Liste an:\n",
    "eine_Liste.append(12)\n",
    "\n",
    "# Ausgeben\n",
    "print(eine_Liste)\n",
    ">>> [1, 5, 8, 3, 2, 103, 11, 12]\n",
    "```\n"
   ]
  },
  {
   "cell_type": "markdown",
   "id": "1e5f1e18-646a-4edf-941e-2296ede26629",
   "metadata": {},
   "source": [
    "#### 2.1.5 Aufgabe\n",
    "> (a) Lass dir die Länge der Liste ```meine_Liste``` ausgeben <br>\n",
    "> (b) Füge die Items ```-2```, ```0``` und ```1``` am Ende der Liste ein. <br>\n",
    "> (c) Lass dir ```meine_Liste``` ausgeben."
   ]
  },
  {
   "cell_type": "code",
   "execution_count": 7,
   "id": "fd63e290-8ecf-4551-a494-824997924ba9",
   "metadata": {},
   "outputs": [],
   "source": [
    "meine_Liste = [-3, -1, 2, 3, 4]\n",
    "\n",
    "# Deine Lösung\n",
    "\n",
    "\n",
    "\n"
   ]
  },
  {
   "cell_type": "markdown",
   "id": "1a1427e2-8fa8-48d9-bfc8-7e7aaf2a7993",
   "metadata": {
    "jp-MarkdownHeadingCollapsed": true
   },
   "source": [
    "#### Klicke hier, um dir die Lösung anzeigen zu lassen:\n"
   ]
  },
  {
   "cell_type": "code",
   "execution_count": 8,
   "id": "053ec87e-dcb7-4285-8157-5c16f76f895f",
   "metadata": {},
   "outputs": [
    {
     "name": "stdout",
     "output_type": "stream",
     "text": [
      "5\n",
      "[-3, -1, 2, 3, 4, -2, 0, 1]\n"
     ]
    }
   ],
   "source": [
    "print(len(meine_Liste))\n",
    "\n",
    "# -2 hinzugefügt\n",
    "meine_Liste.append(-2)\n",
    "\n",
    "# 0 hinzugefügt\n",
    "meine_Liste.append(0)\n",
    "\n",
    "# 1 hinzugefügt\n",
    "meine_Liste.append(1)\n",
    "\n",
    "print(meine_Liste)"
   ]
  },
  {
   "cell_type": "markdown",
   "id": "f233bc10-cb47-497f-af68-79a8815c0a7b",
   "metadata": {},
   "source": [
    "#### extend\n",
    "Um zwei Listen miteinander zu verbinden, verwendet man die ```extend``` Methode. Das Parametder der ```extend``` Methode ist die Liste, die der Liste, die die methode aufruft, hinzugefügt werden soll:\n",
    "```python\n",
    "\n",
    "liste_1 = [\"Hello\", \"how\", \"are\", \"you\", \"?\"]\n",
    "liste_2 = [\"Fine\", \"and\", \"you\", \"?\"]\n",
    "\n",
    "# Merging the elements of liste_2 with liste_1\n",
    "liste_1.extend(liste_2)\n",
    "\n",
    "# Display of liste_1\n",
    "print(liste_1)\n",
    ">>>[\"Hello\", \"how\", \"are\", \"you\", \"?\", \"Fine\", \"and\", \"you\", \"?\"]\n",
    "```\n",
    "\n",
    "#### sort\n",
    "Um die Elemente einer Liste aufsteigend oder absteigend zu ordnen, verwendet man die ```sort``` Methode. <br>\n",
    "Standardmäßig ordnet die ```sort``` Methode die Elemente einer Liste in aufsteigender Reihenfolge. Über das Parameter der Methode kann man mit ```reverse = True``` die Reihenfolge umdrehen:\n",
    "```python\n",
    "l = [4,-3,7]\n",
    "# in aufsteigender Reihenfolge:\n",
    "l.sort()\n",
    "print(l)\n",
    ">>> [-3, 4, 7]\n",
    "# in absteigender Reihenfolge:\n",
    "l.sort(reverse = True)\n",
    "print(l)\n",
    ">>> [7, 4, -3]\n",
    "```\n"
   ]
  },
  {
   "cell_type": "markdown",
   "id": "63c4eb4d-0d18-4ad8-8d2d-eaefdd55d8f1",
   "metadata": {},
   "source": [
    "#### 2.1.6 Aufgabe\n",
    "> (a) Ordne die Liste ```string_liste``` mit der ```sort``` Methode. <br>\n",
    "> (b) Lass dir die sortierte Liste ausgeben. <br> \n",
    "> (c) Kannst du erkennen, wie Elemente vom Typ ```string``` sortiert wernden? "
   ]
  },
  {
   "cell_type": "code",
   "execution_count": null,
   "id": "e0e16d6f-351f-4af2-b2e3-7a24945fc27e",
   "metadata": {},
   "outputs": [],
   "source": [
    "string_Liste = [\"Hello\", \"how\", \"are\", \"you\", \"?\", \"Fine\", \"and\", \"you\", \"?\"]\n",
    "\n",
    "# Deine Lösung:\n",
    "\n",
    "\n",
    "\n"
   ]
  },
  {
   "cell_type": "markdown",
   "id": "f98c22e4-427a-4ccc-9a63-b7df759f709f",
   "metadata": {
    "jp-MarkdownHeadingCollapsed": true
   },
   "source": [
    "#### Lösung:"
   ]
  },
  {
   "cell_type": "markdown",
   "id": "afdc603c-92bc-4160-b027-4cd9f54e22e1",
   "metadata": {},
   "source": [
    "```python\n",
    "string_Liste = [\"Hello\", \"how\", \"are\", \"you\", \"?\", \"Fine\", \"and\", \"you\", \"?\"]\n",
    "\n",
    "string_Liste.sort()\n",
    "print(string_Liste)\n",
    ">>> ['?', '?', 'Fine', 'Hello', 'and', 'are', 'how', 'you', 'you']\n",
    "```\n",
    "Elemente von Typ ```string``` werden alphabetisch sortiert. Dabei werden zuerst die Satzeichenaufgeführt, dann alle Elemente, die mit Großbuchstaben beginnen, in alphabetischer Reihenfolge und zuletzt alle Elemente, die mit Kleinbuchstaben beginnen, in alphabetischer Reihenfolge."
   ]
  },
  {
   "cell_type": "markdown",
   "id": "80ce2576-6972-4011-8faf-8b00344e9785",
   "metadata": {},
   "source": [
    "### 2.2 Tuple\n",
    "Tupel sind eine Datenstruktur ähnlich wie Listen:\n",
    "```python\n",
    "# Erstellen eines Tupels\n",
    "ein_tupel = (\"Hallo\", -1, 133)\n",
    "ein_tupel = \"Hallo\", -1, 133    # Diese Schreibweisen sind gleichwertig\n",
    "\n",
    "# Anzeigen des ersten Elements des Tupels\n",
    "print(ein_tupel[0])\n",
    ">>> Hallo\n",
    "\n",
    "# Anzeigen des letzten Elements des Tupels\n",
    "print(ein_tupel[-1])\n",
    ">>> 133\n",
    "```\n",
    "- Tuple können **mit** oder auch **ohne Klammern** definiert werden.\n",
    "- Die Indizierung von Tuples ist **identisch** mit der von Listen.\n",
    "Eine sehr wichtige Eigenschaft von Tupeln ist, dass sie **unveränderlich** sind, d.h. sie können nicht durch Indizierung verändert werden. <br>\n",
    "Die Stärke von Tupeln ist eventuell nicht sofort offensichtlich. Eine der großen Stärken dieser Klasse ist die sogenannte Tupel-Zuweisung, die es ermöglicht, mehreren Variablen gleichzeitig Werte zuzuweisen:\n",
    "```python\n",
    "ein_tupel = \"Hallo\", -1, 133\n",
    "print(ein_tupel)\n",
    "\n",
    "# Tupel-Zuweisung\n",
    "x, y, z = ein_tupel\n",
    "\n",
    "print(x)\n",
    ">>> \"Hallo\"\n",
    "print(y)\n",
    ">>> -1\n",
    "print(z)\n",
    ">>> 133\n",
    "```\n",
    "\n",
    "Die Variablen ```x```, ```y``` und ```z``` wurden gleichzeitig erstellt und mit Werten belegt. Damit die Tupel-Zuweisung korrekt funktioniert, muss es **genauso viele** Variablen zur Zuweisung geben wie **Elemente im Tupel**. <br>\n",
    "Die Tupel-Zuweisung bietet eine elegante syntaktische Lösung für das Problem des Werte-Austauschs: Wir haben zwei Variablen a und b und möchten ihre Werte austauschen, d.h. a soll den Wert von b annehmen und b den Wert von a. <br>\n",
    "In klassischeren Programmiersprachen müssten wir eine temporäre Variable erstellen, die einen der Werte von a oder b enthält:\n",
    "```python\n",
    "# Wir speichern den Wert von a in einer temporären Variable\n",
    "tmp = a\n",
    "\n",
    "# Wir überschreiben a mit dem Wert von b\n",
    "a = b\n",
    "\n",
    "# Wir überschreiben b mit dem Wert der temporären Variable\n",
    "b = tmp\n",
    "```\n",
    "Dank der Tupel-Zuweisung aknn diese Operation in einer einzigen Codezeile durchgeführt werden:\n",
    "```python\n",
    "# Austausch der Werte zwischen a und b\n",
    "a, b = b, a\n",
    "```"
   ]
  },
  {
   "cell_type": "markdown",
   "id": "9925b7ea-7b32-4014-8ea3-19d46f5d6f40",
   "metadata": {},
   "source": [
    "### 2.2.1 Aufgabe:\n",
    "> (a) Erstelle ein Toupel mir dem Namen ```koordinaten```, das die x-, y- und die z-Koordinaten eines Punktes im Raum enthält: ```2, -3, 5```<br>\n",
    "> (b) Weise die drei Werte des Tupels mithilfe der Tupel-Zuweisung den Variablen x, y und z zu. <br>\n",
    "> (c) Lass dir die einzelnen Werte des Tupels ausgeben. <br>"
   ]
  },
  {
   "cell_type": "code",
   "execution_count": null,
   "id": "6c4c7651-83d0-41ca-9bcf-85e857ff3fd8",
   "metadata": {},
   "outputs": [],
   "source": [
    "# Deine Lösung:\n",
    "\n",
    "\n",
    "\n"
   ]
  },
  {
   "cell_type": "markdown",
   "id": "4daa6456-a93e-4019-89cf-134784f409ec",
   "metadata": {},
   "source": [
    "### Lösung:"
   ]
  },
  {
   "cell_type": "code",
   "execution_count": null,
   "id": "1c51a6d4-a226-4407-885e-ca632d1e1273",
   "metadata": {},
   "outputs": [],
   "source": [
    "# (a) Tupel erstellen\n",
    "koordinaten = (2, -3, 5)\n",
    "\n",
    "# (b) Tupel-Zuweisung\n",
    "x, y, z = koordinaten\n",
    "\n",
    "# Ausgabe zur Überprüfung\n",
    "print(\"x:\", x)\n",
    "print(\"y:\", y)\n",
    "print(\"z:\", z)"
   ]
  },
  {
   "cell_type": "markdown",
   "id": "4c2340a0-fc4c-4fc8-b308-a02abdeaf9b0",
   "metadata": {},
   "source": [
    "### 2.3 Dictionaries\n",
    "Listen und Tupel sind Datenstrukturen, deren Elemente durch ganze Zahlen in geordneter Reihenfolge indiziert werden. <br>\n",
    "Wörterbücher (Dictionaries) sind eine besondere Datenstruktur, da ihre Elemente frei durch Zahlen, Zeichenketten und sogar Tupel indiziert werden können.<br>\n",
    "Wörterbücher sind sehr nützlich für die Speicherung von Informationen:\n",
    "```python\n",
    "# Definition eines Wörterbuchs\n",
    "ein_dict = {\"alter\": 25,\n",
    "            \"größe\": 183,\n",
    "            \"geschlecht\": \"W\",\n",
    "            \"vorname\": \"Vanessa\"}\n",
    "\n",
    "# Ausgabe durch Indexing mit Strings:\n",
    "print(ein_dict[\"alter\"])\n",
    ">>> 25\n",
    "\n",
    "print(ein_dict[\"vorname\"])\n",
    ">>> Vanessa\n",
    "```\n",
    "- Die Definition eines Wörterbuchs erfolgt mit **geschweiften Klammern**.\n",
    "- Jedes Element des Wörterbuchs ist ein **Key: Value-Paar**.\n",
    "- Auf die Wörterbuch-Informationen wird zugegriffen, indem die **Keys** als **Index** in eckigen Klammern verwendet werden.\n",
    "\n",
    "Wir können die in diesem Wörterbuch enthaltenen Informationen in der folgenden Tabelle zusammenfassen:\n",
    "| Key    | Value        |\n",
    "| ------------ | ----------- |\n",
    "| `\"alter\"`    | `25`        |\n",
    "| `\"größe\"`    | `183`       |\n",
    "| `\"geschlecht\"`| `\"W\"`       |\n",
    "| `\"vorname\"`  | `\"Vanessa\"` |\n",
    "\n",
    "Die Syntax für die Erstellung und Indizierung von Wörterbüchern wird sehr häufig beim Umgang mit Datenbanken verwendet."
   ]
  },
  {
   "cell_type": "markdown",
   "id": "0d1cee58-7749-4177-a18c-f05308b28767",
   "metadata": {},
   "source": [
    "#### 2.3.1 Aufgabe:\n",
    "> (a) Erstelle ein Wörterbuch mit dem Namen ```personalausweis``` mit den folgenden Key-Value-Paaren:\n",
    "> | Key     | Value          |\n",
    "> | ------------- | ------------- |\n",
    "> | `\"vorname\"`   | `\"Paul\"`      |\n",
    "> | `\"nachname\"`  | `\"Glück\"`  |\n",
    "> | `\"ausgestellt\"`| `1978`        |\n",
    "> \n",
    "> (b) Überschreibe den Wert, der dem Schlüssel ```\"vorname\"``` zugeordnet ist, mit dem Wert \"Rebecca\" und gib das neue Dictionary ```personalausweis``` aus."
   ]
  },
  {
   "cell_type": "code",
   "execution_count": null,
   "id": "ea712ea3-355e-4fd2-bd15-1a127a631b0c",
   "metadata": {},
   "outputs": [],
   "source": [
    "#Deine Lösung:\n",
    "\n",
    "\n"
   ]
  },
  {
   "cell_type": "markdown",
   "id": "a4efaf66-b6e7-426f-b8a3-7c3e807f93c5",
   "metadata": {
    "jp-MarkdownHeadingCollapsed": true
   },
   "source": [
    "#### Lösung:"
   ]
  },
  {
   "cell_type": "code",
   "execution_count": null,
   "id": "6b8d7c5b-68ea-431c-a385-054f45ad2b97",
   "metadata": {},
   "outputs": [],
   "source": [
    "# (a) Definition des Wörterbuchs\n",
    "personalausweis = {\"vorname\": \"Paul\",\n",
    "                  \"nachname\": \"Glück\",\n",
    "                  \"ausstellung\": 1978}\n",
    "print(personalausweis)\n",
    "\n",
    "# (b) Überschreiben eines Feldes im Wörterbuch\n",
    "personalausweis[\"vorname\"] = \"Rebecca\"\n",
    "print(personalausweis)"
   ]
  },
  {
   "cell_type": "markdown",
   "id": "03b6e512-4448-4053-9e81-e28a3d4a0e1e",
   "metadata": {},
   "source": [
    "#### weiter\n",
    "Es ist möglich, einem Wörterbuch **neue** Schlüssel hinzuzufügen, indem man einfach einem neuen Schlüssel einen Wert zuweist:\n",
    "```python\n",
    "# Hinzufügen eines neuen Schlüssels zum Wörterbuch\n",
    "ein_dict[\"neuer_schlüssel\"] = ein_wert\n",
    "```\n",
    "Wie bei Listen ist es möglich, ein Element mit der Methode ```pop``` zu löschen. Statt den zu löschenden Index anzugeben, muss man den Schlüssel eingeben:\n",
    "```python\n",
    "# Löschen des Schlüssels \"ein_schlüssel\"\n",
    "ein_dict.pop(\"ein_schlüssel\")\n",
    "```\n"
   ]
  },
  {
   "cell_type": "markdown",
   "id": "4ec37155-3787-4d47-8ea9-e8c80495c978",
   "metadata": {},
   "source": [
    "#### 2.3.2 Aufgabe:\n",
    "> (a) Füge dem Dictionary ```personalausweis``` einen neuen Key ```ablauf``` hinzu, weise ihm den Wert ```1993``` zu und gib das neue Dictionry aus."
   ]
  },
  {
   "cell_type": "code",
   "execution_count": null,
   "id": "28f1cf21-3786-49b1-8c75-d4f58af0212a",
   "metadata": {},
   "outputs": [],
   "source": [
    "# Deine Lösung:\n",
    "\n",
    "\n",
    "\n"
   ]
  },
  {
   "cell_type": "markdown",
   "id": "e687c546-bbf8-49ae-b4d5-2919acb57dc8",
   "metadata": {
    "jp-MarkdownHeadingCollapsed": true
   },
   "source": [
    "#### Lösung:"
   ]
  },
  {
   "cell_type": "code",
   "execution_count": null,
   "id": "6af93da3-51e6-4f66-b0fe-60b23e63f5e9",
   "metadata": {},
   "outputs": [],
   "source": [
    "# Hinzufügen eines neuen Schlüssels zum Wörterbuch\n",
    "personalausweis[\"ablauf\"] = 1993\n",
    "print(personalausweis)"
   ]
  },
  {
   "cell_type": "markdown",
   "id": "6f373c50-33ea-49ab-834a-242a77ded860",
   "metadata": {},
   "source": [
    "### Fazit\n",
    "Listen, Tupel und Wörterbücher sind indizierbare **Variablen**, die viele verschiedene Elemente enthalten können. <br>\n",
    "In diesem einführenden Notebook haben wir gelernt, wie man sie manipuliert, und die verwendete Syntax wird für alle indizierbaren Objekte gleich sein, die wir später verwenden werden, wie zum Beispiel **Datenbanken**. <br>\n",
    "\n",
    "- Der Zugriff auf die Elemente einer indizierbaren Variable erfolgt über eckige Klammern ```[]```, indem man eingibt: <br>\n",
    "\n",
    "    - Bei Listen und Tupel den **Positionsindex** eines Wertes. Die Indizes einer Liste oder eines Tupels beginnen immer bei 0. Es ist auch möglich, auf mehrere Indizes durch **Slicing** zuzugreifen.\n",
    "    - Für **Dictionaries**: den **Key**.\n",
    "\n",
    "Jeder indizierbare Typ hat sein spezifisches Symbol für seine Erstellung:\n",
    "- Für eine Liste verwenden wir eckige Klammern: ```[]```\n",
    "- Für ein Tupel die runden Klammern: ```()``` (oder nichts)\n",
    "- Für ein Dictionary die geschweiften Klammern: ```{}```\n",
    "\n",
    "\n",
    "Alle diese Typen sind in Wirklichkeit **Klassen** von Objekten. Es ist möglich, mit diesen Klassen durch ihre **Methoden** mit mehr Möglichkeiten zu interagieren.  <br>\n",
    "Wir haben einige Methoden der Listen-Klasse kennengelernt, um auf zusätzliche Funktionen zuzugreifen:\n",
    "\n",
    "| Methode     | Parameter          | Beschreibung |\n",
    "| ----------- | ----------------- | ------------ |\n",
    "| **pop**     | index             | Entfernt und gibt das Element an dem angegebenen Index zurück |\n",
    "| **remove**  | wert              | Löscht ein Element aus der Liste basierend auf seinem Wert |\n",
    "| **insert**  | index, wert       | Fügt ein neues Element an der angegebenen Position in die Liste ein |\n",
    "| **append**  | wert              | Fügt den Wert am Ende der Liste hinzu |\n",
    "| **extend**  | liste             | Verbindet die aufrufende Liste mit der Liste im Argument |\n",
    "| **sort**    | wert              | Sortiert die Liste in der durch den Argumentwert angegebenen Reihenfolge |\n",
    "\n"
   ]
  }
 ],
 "metadata": {
  "kernelspec": {
   "display_name": "Python 3 (ipykernel)",
   "language": "python",
   "name": "python3"
  },
  "language_info": {
   "codemirror_mode": {
    "name": "ipython",
    "version": 3
   },
   "file_extension": ".py",
   "mimetype": "text/x-python",
   "name": "python",
   "nbconvert_exporter": "python",
   "pygments_lexer": "ipython3",
   "version": "3.13.0"
  }
 },
 "nbformat": 4,
 "nbformat_minor": 5
}
