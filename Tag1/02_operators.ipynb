{
 "cells": [
  {
   "cell_type": "markdown",
   "id": "77c7f108-bf00-46b8-9aba-ca5cb6e827eb",
   "metadata": {},
   "source": [
    "# Python Grundlagen 2\n",
    "## Operatoren und Bedingungen\n",
    "***\n",
    "In diesem Notebook wird behandelt:\n",
    "- Was sind Operatoren und welche gibt es?\n",
    "- Was sind Kontrollstrukturen bzw. Bedingungen und wie verwendet man sie?\n",
    "***"
   ]
  },
  {
   "cell_type": "markdown",
   "id": "70709553-0f65-488d-991a-0930d118d9de",
   "metadata": {},
   "source": [
    "## Einführung\n",
    "Wie wir in der letzten Lektion kurz gesehen haben, werden Operatoren wie ```+``` oder ```=``` verwendet, um Operationen mit Variablen und ihren Werten durchzuführen. Diese Operatoren gehören zur großen Familie der Python-Operatoren. In dieser Lektion werden wir lernen, wie man mit folgenden Kategorien von Operatoren umgeht:\n",
    "\n",
    "\n",
    "- Arithmetische Operatoren\n",
    "- Zuweisungsoperatoren\n",
    "- Vergleichsoperatoren\n",
    "- Mitgliedschaftsoperatoren\n",
    "- Logische Operatoren\n",
    "\n",
    "\n",
    "Anschließend werden wir sehen, wie man diese Operatoren verwendet, um die Ausführung von Code mit den Anweisungen ```if```, ```else``` und ```elif``` zu steuern. <br>\n"
   ]
  },
  {
   "cell_type": "markdown",
   "id": "d3da0d4a-b24d-4b31-8f0c-8cca449e2909",
   "metadata": {},
   "source": [
    "## 1 Operatoren\n",
    "***\n",
    "### 1.1 Arithmetische Operatoren\n",
    "Die **arithmetischen Operatoren**, die wir auf **numerische** Variablen anwenden können, sind:\n",
    "\n",
    "| Symbol | Operation | Beispiel |\n",
    "|:----:|:------------:|:-----------------------|\n",
    "| `+` | Addition | `6+4` ergibt `10` |\n",
    "| `-` | Subtraktion | `6-4` ergibt `2` |\n",
    "| `*` | Multiplikation | `6*4` ergibt `24` |\n",
    "| `/` | Reelle Division | `6/4` ergibt `1.5` |\n",
    "| `//` | Ganzzahlige Division | `6.0//4` ergibt `1` |\n",
    "| `**` | Potenzierung | `6**4` ergibt `1296` |\n",
    "| `%` | Modulo | `6%4` ergibt `2` |\n",
    "\n",
    "Die ganzzahlige Division ```//``` gibt an, wie oft die Zahl auf der rechten Seite vollständig in die Zahl auf der linken Seite passt. Zum Beispiel ergibt ```7//2``` gleich ```3```, weil ```2``` dreimal in ```7``` passt. <br>\n",
    "Der **Modulo**-Operator % berechnet den Rest der ganzzahligen Division zwischen 2 Zahlen. Zum Beispiel ist ```7%2``` gleich ```1```, weil ```7``` durch ```2``` dreimal teilbar ist und ```1``` übrig bleibt. <br>\n",
    "Der **%**-Operator wird verwendet, um festzustellen, ob eine Zahl gerade oder ungerade ist. Wenn eine Zahl ```n``` gerade ist, dann ist ```n%2``` gleich ```0```. Ist ```n``` ungerade, dann ist ```n%2``` gleich ```1```."
   ]
  },
  {
   "cell_type": "markdown",
   "id": "8954ad84-0c0c-4886-a1b0-17ab9e4239f9",
   "metadata": {},
   "source": [
    "#### 1.1.1 Aufgabe:\n",
    "> (a) Erstelle die Variable ```distance``` und weise ihr den Wert ```750``` zu (Entfernung zwischen Paris und Marseille in km). <br>\n",
    "> (b) Erstelle die Variable ```speed``` und weise ihr den Wert ```4.8``` zu (durchschnittliche Geschwindigkeit eines Fußgängers in km/h). <br>\n",
    "> (c) Erstelle eine neue Variable ```time```, die den Wert von ```distance``` geteilt durch ```speed``` enthält. Die Variable ```time``` sollte uns die Zeit in Stunden angeben, die ein Fußgänger benötigen würde, um ohne Pause von Paris nach Marseille zu laufen. <br>\n",
    "> (d) Wie viele Tage und Stunden würde es dauern, ohne Pause von Paris nach Marseille zu laufen? Gib die Antwort in der Form ```\"Sie würden __ Tage und __ Stunden brauchen, um von Paris nach Marseille zu laufen.\"``` aus."
   ]
  },
  {
   "cell_type": "code",
   "execution_count": 3,
   "id": "6ded465d-11e8-47f9-8da4-ab27bff76654",
   "metadata": {},
   "outputs": [
    {
     "name": "stdout",
     "output_type": "stream",
     "text": [
      "['/Users/lucasfortune/mambaforge/envs/edv2/lib/python310.zip', '/Users/lucasfortune/mambaforge/envs/edv2/lib/python3.10', '/Users/lucasfortune/mambaforge/envs/edv2/lib/python3.10/lib-dynload', '', '/Users/lucasfortune/mambaforge/envs/edv2/lib/python3.10/site-packages']\n"
     ]
    }
   ],
   "source": [
    "# Deine Lösung:\n",
    "\n",
    "\n",
    "import sys\n",
    "print(sys.path)\n"
   ]
  },
  {
   "cell_type": "code",
   "execution_count": 4,
   "id": "dc64a1d9-ff1a-4f1e-800c-0b35b0853007",
   "metadata": {},
   "outputs": [
    {
     "name": "stdout",
     "output_type": "stream",
     "text": [
      "['/Users/lucasfortune/mambaforge/envs/edv2/lib/python3.10/site-packages']\n"
     ]
    }
   ],
   "source": [
    "import site\n",
    "print(site.getsitepackages())"
   ]
  },
  {
   "cell_type": "code",
   "execution_count": null,
   "id": "2bdc4633-3839-46a9-a8b5-9a9b89575375",
   "metadata": {},
   "outputs": [],
   "source": []
  },
  {
   "cell_type": "markdown",
   "id": "9d897117-ad7f-43ec-a5af-6a9445d0ea5b",
   "metadata": {
    "jp-MarkdownHeadingCollapsed": true
   },
   "source": [
    "#### Lösung:"
   ]
  },
  {
   "cell_type": "code",
   "execution_count": null,
   "id": "4d3579dc-3713-4dbd-a604-c6c93fbba4e1",
   "metadata": {},
   "outputs": [],
   "source": [
    "# (a)\n",
    "distance = 750\n",
    "\n",
    "# (b)\n",
    "speed = 4.8\n",
    "\n",
    "# (c)\n",
    "time = distance/speed\n",
    "\n",
    "# (d)\n",
    "days = time // 24\n",
    "hours_remaining = time % 24\n",
    "\n",
    "print(\"Sie würden\", int(days), \"Tage und\", int(hours_remaining), \"Stunden brauchen, um von Paris nach Marseille zu laufen.\")"
   ]
  },
  {
   "cell_type": "markdown",
   "id": "029dbbf5-56cc-4dbb-bf8a-43dbd13d0b2b",
   "metadata": {},
   "source": [
    "### 1.2 Zuweisungsoperatoren\n",
    "Für alle arithmetischen Operationen, wie Addition oder Multiplikation, können wir die Operation und die Variablenzuweisung gleichzeitig durch die Operatoren ```+=``` oder ```*=``` ausführen.\n",
    "\n",
    "| Symbol | Operation |\n",
    "|:------:|:--------------:|\n",
    "| `+=` | Addition |\n",
    "| `-=` | Subtraktion |\n",
    "| `*=` | Multiplikation |\n",
    "| `/=` | Reelle Division |\n",
    "| `//=` | Ganzzahlige Division |\n",
    "| `**=` | Potenzierung |\n",
    "| `%=` | Modulo |\n",
    "\n",
    "```x += 3``` ist **gleichwertig** zu ```x = x + 3```. Ebenso ist ```z **= 2``` das gleiche wie ```z = z**2```."
   ]
  },
  {
   "cell_type": "markdown",
   "id": "83a84596-57a0-44a5-b985-b3a8f6021615",
   "metadata": {},
   "source": [
    "#### 1.2.1 Aufgabe\n",
    "> (a) Ein Zauberer behauptet, dass wenn man eine Primzahl nimmt, die nicht 2 oder 3 ist, und folgende Operationen durchführt:\n",
    "> - diese Zahl quadriert,\n",
    "> - 17 dazu addiert,\n",
    "> - dann durch 12 teilt,\n",
    "> \n",
    "> dass man als Rest immer 6 erhält. Hat er Recht? <br>\n",
    "> Zur Erinnerung: Eine Primzahl ist eine Zahl, die nur durch 1 und sich selbst teilbar ist. Die 10 kleinsten Primzahlen außer 2 und 3  sind 5, 7, 11, 13, 17, 19, 23, 29, 31, 37."
   ]
  },
  {
   "cell_type": "code",
   "execution_count": null,
   "id": "6240f5a8-720b-477f-92f6-f91b864a5125",
   "metadata": {},
   "outputs": [],
   "source": [
    "primzahlen = [5, 7, 11, 13, 17, 19, 23, 29, 31, 37]\n",
    "x = primzahlen[0]\n",
    "# Deine Lösung:\n",
    "\n",
    "\n",
    "\n"
   ]
  },
  {
   "cell_type": "markdown",
   "id": "496ba83c-f862-439c-be26-769c092a184d",
   "metadata": {
    "jp-MarkdownHeadingCollapsed": true
   },
   "source": [
    "#### Lösung:"
   ]
  },
  {
   "cell_type": "code",
   "execution_count": null,
   "id": "39b374cd-d117-46c8-bd37-a8e233225cf8",
   "metadata": {},
   "outputs": [],
   "source": [
    "primzahlen = [5, 7, 11, 13, 17, 19, 23, 29, 31, 37]\n",
    "x = primzahlen[0]\n",
    "\n",
    "# Wir quadrieren x:\n",
    "x **= 2\n",
    "\n",
    "# wir addieren 17 zu x\n",
    "x += 17\n",
    "\n",
    "# wir teilen durch 12 und behalten den Rest:\n",
    "x %= 12\n",
    "\n",
    "print(x)\n",
    "# The magician is right"
   ]
  },
  {
   "cell_type": "markdown",
   "id": "9bdb7fc4-fbfc-424f-b890-3139de0c3158",
   "metadata": {},
   "source": [
    "### 1.3 Vergleichsoperatoren\n",
    "\n",
    "Vergleichsoperatoren ermöglichen uns, die Werte zweier Variablen zu vergleichen. Vergleichsoperationen geben den booleschen Wert `**True**` zurück, wenn der Ausdruck wahr ist, oder **`False`**, wenn er sich als falsch erweist. Zum Beispiel:\n",
    "\n",
    "```python\n",
    "x, y = 3, 5\n",
    "\n",
    "# Ist x kleiner als y?\n",
    "print(x < y)\n",
    ">>> True\n",
    "```\n",
    "\n",
    "Die Vergleichsoperatoren in Python sind:\n",
    "\n",
    "| Ausdruck | Beispiel | Bedeutung |\n",
    "|:---------|:---------|:----------|\n",
    "| `<`      | `x < y`  | Ist `x` **kleiner als** `y`? |\n",
    "| `<=`     | `x <= y` | Ist `x` **kleiner oder gleich** `y`? |\n",
    "| `>`      | `x > y`  | Ist `x` **größer als** `y`? |\n",
    "| `>=`     | `x >= y` | Ist `x` **größer oder gleich** `y`? |\n",
    "| `==`     | `x == y` | Ist `x` **gleich** `y`? |\n",
    "| `!=`     | `x != y` | Ist `x` **ungleich** `y`? |\n",
    "\n",
    "Beispiel:\n",
    " ```python\n",
    " x, y = 3, 5\n",
    "\n",
    " # Ist x gleich y?\n",
    " print(x == y)\n",
    " >>> False\n",
    " ```\n",
    "\n",
    "<div class=\"alert alert-block alert-success\">\n",
    " <b>Achtung, nicht verwechseln:</b> x == y & x = y. Der erste Operator wird für <b>Vergleiche</b> verwendet, während der zweite für die <b>Zuweisung von Werten zu Variablen</b> verwendet wird.\n",
    "</div>"
   ]
  },
  {
   "cell_type": "markdown",
   "id": "af182100-c98a-4271-b9e5-18462e51a0f4",
   "metadata": {},
   "source": [
    "### 1.3.1 Aufgabe:\n",
    "> (a) Bestimme in einer einzigen Codezeile mit einem booleschen Wert, ob die Zahl $3^7 + 2^{14}$ durch 7 teilbar ist. <br>\n",
    "> (b) Bestimme dann, ob die Zahl $3^{2n + 1} + 2^{4n + 2}$ für n = 4, 5 und 10 durch 7 teilbar ist."
   ]
  },
  {
   "cell_type": "code",
   "execution_count": null,
   "id": "9e631354-863c-473d-a3ef-fe1479dec1eb",
   "metadata": {},
   "outputs": [],
   "source": [
    "# Deine Lösung:\n",
    "\n",
    "\n",
    "\n"
   ]
  },
  {
   "cell_type": "markdown",
   "id": "5bd68703-cb3e-4261-b87c-848abe8d8344",
   "metadata": {
    "jp-MarkdownHeadingCollapsed": true
   },
   "source": [
    "#### Lösung:"
   ]
  },
  {
   "cell_type": "code",
   "execution_count": null,
   "id": "ac162302-ab95-482b-88cb-1d7e1d271792",
   "metadata": {},
   "outputs": [],
   "source": [
    "# (a)\n",
    "print((3**7 + 2**14) % 7 == 0)\n",
    "\n",
    "# (b)\n",
    "n = 4\n",
    "x = 3**(2*n + 1) + 2**(4*n + 2)\n",
    "print(x % 7 == 0)\n",
    "\n",
    "n = 5\n",
    "x = 3**(2*n + 1) + 2**(4*n + 2)\n",
    "print(x%7 == 0)\n",
    "\n",
    "n = 10\n",
    "x = 3**(2*n + 1) + 2**(4*n + 2)\n",
    "print(x%7 == 0)"
   ]
  },
  {
   "cell_type": "markdown",
   "id": "ff840cc6-8e50-4be1-be1f-7fffeacf1de2",
   "metadata": {},
   "source": [
    "### 1.4 Zugehörigkeitsoperatoren\n",
    "Zugehörigkeitsoperatoren werden verwendet, um zu prüfen, ob ein Wert in einer Sequenz, wie einer Liste oder einem Tupel, vorkommt oder nicht. <br>\n",
    "Der Operator ```in``` ermittelt, ob ein Wert in einer Sequenz vorkommt, der Operator ```not``` in ermittelt, ob ein Wert nicht vorkommt:\n",
    "```python\n",
    "a_list = [1, 3, 102, 32, 11, -12, 33]\n",
    "x = 14\n",
    "\n",
    "# Ist der Wert von x einer der Werte in a_list?\n",
    "print(x in a_list)\n",
    ">>> False\n",
    "\n",
    "# Ist der Wert von x NICHT einer der Werte in a_list?\n",
    "print(x not in a_list)\n",
    ">>> True\n",
    "```\n",
    "Die Variable ```auszug```in der folgenden Zelle enthält einen Auszug aus dem Wikipedia-Artikel über die FIFA Weltmeisterschaft als **Liste** von Wörtern.<br>\n",
    "#### 1.4.1 Aufgaben:\n",
    "> (a) Führe die folgende Zelle aus, um die Variable ```auszug``` zu initialisieren."
   ]
  },
  {
   "cell_type": "code",
   "execution_count": null,
   "id": "3cc2cb1d-56e4-405f-9367-8523ae7d9eaf",
   "metadata": {},
   "outputs": [],
   "source": [
    "auszug = ['The', '21', 'World', 'Cup', 'tournaments', 'have', 'been', 'won', 'by', 'eight',\n",
    "           'national', 'teams.', 'Brazil', 'have', 'won', 'five', 'times', ',', 'and',\n",
    "           'they', 'are', 'the', 'only', 'team', 'to', 'have', 'played', 'in', 'every',\n",
    "           'tournament', '.', 'The', 'other', 'World', 'Cup', 'winners', 'are', 'Germany',\n",
    "           'and', 'Italy', ',', 'with', 'four', 'titles', 'each', ';', 'Argentina', ',',\n",
    "           'France', ',', 'and', 'inaugural', 'winner', 'Uruguay,', 'with', 'two', 'titles',\n",
    "           'each', ';and', 'England', 'and', 'Spain', ',', 'with', 'one', 'title', 'each', '.']"
   ]
  },
  {
   "cell_type": "markdown",
   "id": "04457790-ab6b-4d49-a5dd-ce85c7381452",
   "metadata": {},
   "source": [
    "> (b) Ermittle in einer einzigen Codezeile, ob das Land Deutschland (\"Germany\") in diesem Auszug erwähnt wird.<br>\n",
    "> (c) Leider werden Verlierer schnell vergessen, auch wenn ihre Leistung historisch war. Überprüfe, ob das Land Kroatien (\"Croatia\") in dem Auszug **nicht** erwähnt wird."
   ]
  },
  {
   "cell_type": "code",
   "execution_count": null,
   "id": "c17ce7e3-df4a-4fcf-b964-1ec8b36e9eb6",
   "metadata": {},
   "outputs": [],
   "source": [
    "# Deine Lösung:\n",
    "\n",
    "\n",
    "\n"
   ]
  },
  {
   "cell_type": "markdown",
   "id": "e6d14c5b-bb0c-47d4-acd0-c789ff72812f",
   "metadata": {
    "jp-MarkdownHeadingCollapsed": true
   },
   "source": [
    "#### Lösung:"
   ]
  },
  {
   "cell_type": "code",
   "execution_count": null,
   "id": "96f50a03-c416-4a34-a214-8f9cdf44acf1",
   "metadata": {},
   "outputs": [],
   "source": [
    "# Wird Deutschland erwähnt?\n",
    "print(\"France\" in auszug)\n",
    "\n",
    "# Wird Kroatien NICHT erwähnt?\n",
    "print(\"Croatia\" not in auszug)"
   ]
  },
  {
   "cell_type": "markdown",
   "id": "24deda9e-c425-454a-9632-06f60c357dd6",
   "metadata": {},
   "source": [
    "### 1.5 Logische Operatoren\n",
    "Logische Operatoren ermöglichen uns, boolesche Arithmetik durchzuführen. Typischerweise werden bei mehreren booleschen Ausdrücken logische Operatoren verwendet, um zu bestimmen, ob:\n",
    "- **Alle** Ausdrücke wahr sind.\n",
    "- **Mindestens einer** der Ausdrücke wahr ist.\n",
    "```python\n",
    "x, y = 3, 5\n",
    "\n",
    "# Ist 3 kleiner als 5? True\n",
    "expression1 = (x < y)\n",
    "\n",
    "# Ist 5 durch 3 teilbar? False\n",
    "expression2 = (y % x == 0)\n",
    "\n",
    "# Sind beide Ausdrücke wahr?\n",
    "print(expression1 and expression2)\n",
    ">>> False\n",
    "\n",
    "# Ist mindestens einer der Ausdrücke wahr?\n",
    "print(expression1 or expression2)\n",
    ">>> True\n",
    "```\n",
    "Der Operator ```not``` gibt die Verneinung eines booleschen Ausdrucks zurück:\n",
    "```python\n",
    "x, y = 3, 5\n",
    "\n",
    "expression = (y % x == 0)\n",
    "\n",
    "# Ist y durch x teilbar?\n",
    "print(expression)\n",
    ">>> False\n",
    "\n",
    "# Ist y NICHT durch x teilbar?\n",
    "print(not expression)\n",
    ">>> True\n",
    "```\n",
    "Die logischen Operatoren sind nachfolgend zusammengefasst:\n",
    "Operator | Beispiel  | Bedeutung\n",
    "---------|-----------|------------\n",
    "and      | P and Q   | Sind P und Q beide wahr?\n",
    "or       | P or Q    | Ist mindestens einer der Ausdrücke P und Q wahr?\n",
    "not      | not P     | Die Verneinung des Ausdrucks P\n",
    "\n"
   ]
  },
  {
   "cell_type": "markdown",
   "id": "9ed81442-3eeb-4c9a-952c-08f7143aefa8",
   "metadata": {},
   "source": [
    "1.5.1 Aufgabe:\n",
    "> Die Regierung hat beschlossen, einigen Beamten einen Bonus von 300€ zu gewähren, je nach Gehalt und Dienstalter. Wie bei allen anderen Maßnahmen der Regierung ist es schwer zu verstehen, für wen sie gilt. <br>\n",
    "> Nach deinem Verständnis kann eine Person den Bonus erhalten, wenn:\n",
    "> - **Kriteium 1**: Sie seit **weniger** als **5 Jahren** angestellt ist **und** ihr Gehalt **unter 1500€** liegt.\n",
    "> - **Kriterium 2**: Sie seit **zwischen 5 und 10 Jahren** angestellt ist **und** ihr Gehalt **zwischen 1500€ und 2300€** liegt.\n",
    "> - **Kriterium 3**: Sie seit **mehr als 10 Jahren** angestellt ist **und** ihr Gehalt **unter 1500€ oder über 2300€** liegt. Das bedeutet, dass eine Person mit mehr als 10 Jahren Dienstalter und einem Gehalt zwischen 1500 und 2300 Euro den Bonus nicht erhalten kann. <br>\n",
    "> Sarah ist seit **12 Jahren** angestellt und verdient **2400€**. <br>\n",
    "> (a) Prüfe mit logischen Operatoren, ob Sarah den Bonus erhalten kann.\n",
    "> - Erstelle dafür zwei Variablen: ```angestellt_seit``` und ```gehalt```.\n",
    "> - Erstelle zusätzlich 3 Variablen die die Kriterien anhand der beiden vorherigen Variablen definieren.\n",
    "\n",
    "<div class=\"alert alert-block alert-success\">\n",
    "<b>Tipp: </b>Um zu testen, ob ein Wert x zwischen zwei Werten a und b liegt, kannst du entweder:\n",
    "    <ul>\n",
    "        <li>Zwei Vergleiche in zwei Ausdrücken machen und einen logischen AND verwenden: x > a and x</li>\n",
    "        <li>Zwei Vergleiche in einem einzigen Ausdruck machen: a < x </li>\n",
    "    </ul>\n",
    "</div>"
   ]
  },
  {
   "cell_type": "code",
   "execution_count": null,
   "id": "09d989cb-a90e-407c-85af-75c40a4c87bc",
   "metadata": {},
   "outputs": [],
   "source": [
    "# Deine Lösung\n",
    "\n",
    "\n",
    "\n"
   ]
  },
  {
   "cell_type": "markdown",
   "id": "f9784e77-4508-49c4-a7d0-5b1c72333c39",
   "metadata": {
    "jp-MarkdownHeadingCollapsed": true
   },
   "source": [
    "#### Lösung:"
   ]
  },
  {
   "cell_type": "code",
   "execution_count": null,
   "id": "3a324e6f-6a75-49ea-9371-b7ab8f24e30a",
   "metadata": {},
   "outputs": [],
   "source": [
    "# Sarah\n",
    "angestellt_seit = 12\n",
    "gehalt = 2400\n",
    "\n",
    "# Ist Sarah seit weniger als 5 Jahren angestellt und verdient weniger als 1500€?\n",
    "kriterium1 = angestellt_seit < 5 and gehalt < 1500\n",
    "\n",
    "# Ist Sarah seit zwischen 5 und 10 Jahren angestellt und verdient zwischen 1500€ und 2300€?\n",
    "kriterium2 = (5 <= angestellt_seit <= 10) and (1500 <= gehalt <= 2300)\n",
    "\n",
    "# Does Bernadette have more than 10 years of seniority and is her salary less than 1500€ or higher than 2300€?\n",
    "# Ist sarah seit mehr als 10 Jahren angestllt und verdient weniger als 1500€ oder mehr als 2300€?\n",
    "kriterium3 = (angestellt_seit > 10) and (1500 > gehalt or gehalt > 2300)\n",
    "\n",
    "# Can Bernadette receive the bonus?\n",
    "print(\"Bekommt Sarah den Bonus?\", kriterium1 or kriterium2 or kriterium3)"
   ]
  },
  {
   "cell_type": "markdown",
   "id": "f65314b3-314d-49ca-adaf-bf1508072e29",
   "metadata": {},
   "source": [
    "## 2 Kontrollstrukturen: Bedingungen\n",
    "***\n",
    "Kontrollstrukturen werden verwendet, um einen Anweisungsblock unter bestimmten Bedingungen auszuführen. Die beiden wichtigsten Kontrollstrukturen sind:\n",
    "- ```if```\n",
    "- ```else```\n",
    "Diese werden häufig verwendet, um zu bestimmen, wie ein Programm den Code ausführen soll. <br>\n",
    "Wenn du das Beispiel aus der vorherigen Übung nimmst und den Regierungsbonus automatisch an berechtigte Beamte überweisen möchtest, müsste das nur für Beamte passieren, denen der Bonus tatsächlich zusteht. <br>\n",
    "Angenommen, die Variable ```eligible``` ist eine Boolesche Variable (d.h. mit dem Wert True oder False), die uns sagt, ob ein Beamter berechtigt ist, und die Variable ```balance``` entspricht dem Geldbetrag auf ihrem Bankkonto. <br>\n",
    "Um den Bonus auf das Guthaben der berechtigten Beamten zu addieren, können wir folgenden Code ausführen:\n",
    "```python\n",
    "# Ist der Beamte für den Bonus berechtigt?\n",
    "if eligible == True:\n",
    "    # Wenn ja, erhöhen wir das Guthaben um 300 Euro\n",
    "    balance += 300\n",
    "```\n",
    "Nach zahlreichen Beschwerden beschließt die Regierung auch einen Bonus von **50€** an Mitarbeiter zahlen, die für den 300€-Bonus **nicht** berechtigt waren. <br>\n",
    "Um den Mitleidsbonus auf die Konten der nicht-berechtigten Beamten gutzuschreiben, fügen wir unserem Programm eine ```else```-Anweisung hinzu. Die Bedingung nach der ```else```-Anweisung wird nur ausgeführt, wenn ```eligible``` gleich ```False``` ist:\n",
    "```python\n",
    "# Ist der Beamte für den Bonus berechtigt?\n",
    "if eligible == True:\n",
    "    # Wenn ja, erhöhen wir das Guthaben um 300 Euro\n",
    "    balance += 300\n",
    "else:\n",
    "    # Wenn nicht, erhöhen wir das Guthaben nur um 50 Euro\n",
    "    balance += 50\n",
    "```\n",
    "Das Zeichen ```:``` nach einer ```if```- oder ```else```-Anweisung ermöglicht es, einen Codeblock zu beginnen. Um den Anfang und das Ende eines Blocks zu bestimmen, **müssen** die Anweisungen, die in einem Block ausgeführt werden sollen, **eingerückt** sein (um einen Tab oder 4 Leerzeichen verschoben). <br>\n",
    "Noch ein Beispiel: <br>\n",
    "Ein gewissenloser Lehrer möchte Schülerbewertungen automatisch anhand ihrer Note generieren. Dazu kann er mehrere Bedingungen nacheinander mit '''elif'''-Anweisungen testen (Verbindung von else und if):\n",
    "```python\n",
    "if grade < 5:\n",
    "    print(\"Sehr mangelhafte Arbeit.\")\n",
    "elif grade < 10:\n",
    "    print(\"Könnte besser sein.\")\n",
    "elif grade < 15:\n",
    "    print(\"Gute Arbeit. Ich ermutige dich, so weiterzumachen.\")\n",
    "else:\n",
    "    print(\"Ausgezeichnete Arbeit. Herzlichen Glückwunsch.\")\n",
    "```\n"
   ]
  },
  {
   "cell_type": "markdown",
   "id": "351c727a-fae5-441b-9402-cd91147005ef",
   "metadata": {},
   "source": [
    "### 2.1 Aufgabe:\n",
    "> (a) Schreibe den folgenden Code neu, indem du nur eine if-Anweisung, eine elif-Anweisung und eine else-Anweisung verwendest.\n",
    "```python\n",
    "if number >= 0:\n",
    "    if number == 0:\n",
    "        print(\"Diese Zahl ist 0.\")\n",
    "    else:\n",
    "        print(\"Diese Zahl ist positiv.\")\n",
    "else:\n",
    "    print(\"Diese Zahl ist negativ.\")\n",
    "```"
   ]
  },
  {
   "cell_type": "code",
   "execution_count": null,
   "id": "d7ab15d3-5ca7-4db6-90b1-412c5a1dcd9a",
   "metadata": {},
   "outputs": [],
   "source": [
    "number = -2\n",
    "# Deine Lösung:\n",
    "\n",
    "\n",
    "\n"
   ]
  },
  {
   "cell_type": "markdown",
   "id": "64362d8d-2899-40f5-922c-fd082cbce8c0",
   "metadata": {},
   "source": [
    "> (b) Ist der Syntax des folgenden Codes korrekt? Wenn nicht, schlage eine Korrektur vor.\n",
    "```python\n",
    "if size < 160:\n",
    "    print(\"Diese Person ist klein.\")\n",
    "else if 160 <= size < 180:\n",
    "    print(\"Diese Person ist mittelgroß.\")\n",
    "else 180 <= size < 200:\n",
    "    print(\"Diese Person ist sehr groß\")\n",
    "else:\n",
    "    print(\"Diese Person ist sehr, sehr groß\")"
   ]
  },
  {
   "cell_type": "code",
   "execution_count": null,
   "id": "dc664537-425a-4653-88f7-cb13120dc573",
   "metadata": {},
   "outputs": [],
   "source": [
    "size = 205\n",
    "# Deine Lösung:\n",
    "\n",
    "\n",
    "\n"
   ]
  },
  {
   "cell_type": "markdown",
   "id": "51dc453b-a387-441d-b242-cf0d4e0f41c7",
   "metadata": {
    "jp-MarkdownHeadingCollapsed": true
   },
   "source": [
    "#### Lösung:"
   ]
  },
  {
   "cell_type": "code",
   "execution_count": null,
   "id": "1babdfc1-dc1b-45c1-80a2-7af891240763",
   "metadata": {},
   "outputs": [],
   "source": [
    "# (a)\n",
    "number = -2\n",
    "\n",
    "if number == 0:\n",
    "    print (\"Diese Zahl ist 0.\")\n",
    "elif number > 0:\n",
    "    print (\"Diese Zahl ist positiv.\")\n",
    "else:\n",
    "    print (\"Diese Zahl ist negativ.\")\n",
    "\n",
    "# (b)\n",
    "size = 205\n",
    "\n",
    "if size <160:\n",
    "    print (\"Diese Person ist klein.\")\n",
    "elif 160 <= size <180:\n",
    "    print (\"Diese Person ist mittelgroß.\")\n",
    "elif 180 <= size <200:\n",
    "    print (\"Diese Person ist sehr groß\")\n",
    "else:\n",
    "    print ((\"Diese Person ist sehr, sehr groß\")"
   ]
  },
  {
   "cell_type": "markdown",
   "id": "631f1c57-cdd7-48d9-a135-b27e5841b46b",
   "metadata": {},
   "source": [
    "## Bonus: Bedingte Zuweisungen\n",
    "Unser Lehrer möchte nun automatisch bestimmen, ob ein Schüler das Jahr wiederholt oder in die nächste Klasse versetzt wird. Abhängig vom Notendurchschnitt eines Schülers muss die Boolesche Variable ```repeating``` den Wert ```True``` annehmen, wenn der Durchschnitt unter 10 liegt, und ```False``` andernfalls. <br>\n",
    "Wie bereits gesehen, könnten wir ```if``` und ```else``` Anweisungen verwenden:\n",
    "```python\n",
    "if average < 10:\n",
    "    repeating = True\n",
    "else:\n",
    "    repeating = False\n",
    "```\n",
    "Python ermöglicht es uns, diese Operation dank einer kompakten und eleganten Syntax in einer Zeile durchzuführen:\n",
    "```python\n",
    "repeating = True if average < 10 else False\n",
    "```\n",
    "Diese Schreibweise ist in ihrem Ergebnise der vorherigen **vollkommen gleichwertig**."
   ]
  },
  {
   "cell_type": "markdown",
   "id": "9a2cf69c-b968-4248-a54b-fee84f5e8f20",
   "metadata": {},
   "source": [
    "## Zusamenfassung und Rückblick\n",
    "***\n",
    "Du kannst die folgenden **arithmetischen Operatoren** für numerische Variablen verwenden:\n",
    "\n",
    "Symbol | Operation        | Beispiel\n",
    "-------|-----------------|----------------------\n",
    "+      | Addition        | 6+4 ergibt 10\n",
    "-      | Subtraktion     | 6-4 ergibt 2\n",
    "*      | Multiplikation  | 6*4 ergibt 24\n",
    "/      | Reelle Division | 6/4 ergibt 1.5\n",
    "//     | Ganzzahldivision| 6.0//4 ergibt 1\n",
    "**     | Potenzierung    | 6**4 ergibt 1296\n",
    "%      | Modulo          | 6%4 ergibt 2\n",
    "\n",
    "Für alle arithmetischen Operationen gibt es eine Möglichkeit, die Operation und Variablenzuweisung mit folgenden **Zuweisungsoperatoren** gleichzeitig durchzuführen:\n",
    "\n",
    "Symbol | Operation\n",
    "-------|---------------\n",
    "+=     | Addition\n",
    "-=     | Subtraktion\n",
    "*=     | Multiplikation\n",
    "/=     | Reelle Division\n",
    "//=    | Ganzzahldivision\n",
    "**=    | Potenzierung\n",
    "%=     | Modulo\n",
    "\n",
    "> **Beispiel**: ```x += 10``` ist gleichbedeutend mit ```x = x + 10```\n",
    "\n",
    "**Vergleichsoperatoren** in Python sind:\n",
    "\n",
    "Ausdruck | Beispiel | Bedeutung\n",
    "---------|----------|------------\n",
    "`<`        | x < y    | Ist x kleiner als y?\n",
    "`<=`       | x <= y   | Ist x kleiner oder gleich y?\n",
    "`>`         | x > y    | Ist x größer als y?\n",
    "`>=`       | x >= y   | Ist x größer oder gleich y?\n",
    "`==`       | x == y   | Ist x gleich y?\n",
    "`!=`       `| x != y   | Ist x ungleich y?\n",
    "\n",
    "Diese Operatoren werden hauptsächlich verwendet, um **Kontrollstrukturen** mit den Anweisungen ```if```, ```else``` und ```elif``` zu erstellen:\n",
    "```python\n",
    "if size < 160:\n",
    "    print(\"Diese Person ist klein.\")\n",
    "elif 160 <= size < 180:\n",
    "    print(\"Diese Person ist mittelgroß.\")\n",
    "elif 180 <= size < 200:\n",
    "    print(\"Diese Person ist sehr groß.\")\n",
    "else:\n",
    "    print(\"Diese Person ist sehr, sehr groß.\")\n",
    "```\n",
    "\n",
    "**Logische Operatoren** ermöglichen uns, komplexere Bedingungen zu erstellen:\n",
    "\n",
    "Operator | Beispiel | Bedeutung\n",
    "---------|----------|------------\n",
    "and      | P and Q  | Sind P und Q beide wahr?\n",
    "or       | P or Q   | Ist mindestens einer der Ausdrücke P und Q wahr?\n",
    "not      | not P    | Die Verneinung des Ausdrucks P\n",
    "\n",
    "```python\n",
    "if (angestellt_seit > 10) and (1500 < gehalt or gehalt > 2300):\n",
    "    print(\"Diese Person ist für den Bonus berechtigt.\")\n",
    "```"
   ]
  }
 ],
 "metadata": {
  "kernelspec": {
   "display_name": "Python 3 (ipykernel)",
   "language": "python",
   "name": "python3"
  },
  "language_info": {
   "codemirror_mode": {
    "name": "ipython",
    "version": 3
   },
   "file_extension": ".py",
   "mimetype": "text/x-python",
   "name": "python",
   "nbconvert_exporter": "python",
   "pygments_lexer": "ipython3",
   "version": "3.10.15"
  }
 },
 "nbformat": 4,
 "nbformat_minor": 5
}
