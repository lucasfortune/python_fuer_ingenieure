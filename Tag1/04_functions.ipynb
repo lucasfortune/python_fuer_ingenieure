{
 "cells": [
  {
   "cell_type": "markdown",
   "id": "249ec6cf-5896-48bd-b688-ab060423e1a2",
   "metadata": {},
   "source": [
    "# Python Grundlagen 4\n",
    "## Funktionen\n",
    "***\n",
    "In diesem Notebook wird behandelt:\n",
    "- Was ist eine Funktion und wie und wann verwendet man sie?\n",
    "- Wie dokumentiert man Funktionen richtig?\n",
    "***"
   ]
  },
  {
   "cell_type": "markdown",
   "id": "71b47f28-5cb8-4704-a95e-af0879fd8bb5",
   "metadata": {},
   "source": [
    "## 1 Funktionen\n",
    "Eine **Funktion** in Python ist ein wiederverwendbarer Codeblock, der eine bestimmte Operation ausführt. <br>\n",
    "Wir haben bereits Beispiele von eingebauten Python-Funktionen gesehen, wie:\n",
    "\n",
    "- Die ```print```-Funktion: Wird verwendet, um ein Objekt anzuzeigen.\n",
    "- Die ```range```-Funktion: Wird verwendet, um durch eine Reihe von ganzen Zahlen zu iterieren.\n",
    "\n",
    "Wir kennen den genauen Code innerhalb dieser Funktionen nicht, können aber trotzdem ihr Ergebnis vorhersagen. Das liegt daran, dass ihr Ergebnis **ausschließlich** von ihren **Parametern** (oder Argumenten) abhängt, die ihnen als Input übergeben werden. <br>\n",
    "Die Syntax zur Definition einer Funktion sieht wie folgt aus:\n",
    "```python\n",
    "def meine_funktion(parameter):\n",
    "    # Anweisungsblock\n",
    "    ...\n",
    "    ...\n",
    "    ...\n",
    "    # Das Ergebnis der Funktion wird durch die Variable ein_wert gegeben\n",
    "    return ein_wert\n",
    "```\n",
    "Das Schlüsselwort ```return``` definiert das **Ergebnis** der Funktion. Dieses Schlüsselwort **beendet auch die Ausführung** der Funktion, sobald der Python-Interpreter es erreicht. Alles, was danach in der Funktionsdefinition folgt, wird nicht ausgeführt.\n",
    "```python\n",
    "# Wir definieren eine Funktion, die bestimmt, ob eine Zahl gerade oder ungerade ist\n",
    "def ist_gerade(zahl):\n",
    "    # Ist die Zahl gerade?\n",
    "    if zahl % 2 == 0:\n",
    "        return True\n",
    "    else:\n",
    "        return False\n",
    "```\n",
    "Diese Funktion nimmt als **Argument** eine **Zahl**, die in einer temporären **Variable** namens ```zahl``` gespeichert wird. Wenn die Funktion ihre Ausführung beendet, wird die Variable ```zahl``` **gelöscht**. <br>\n",
    "Sobald eine Funktion definiert ist, können wir sie auswerten, indem wir die Werte ihrer Parameter angeben:\n",
    "```python\n",
    "print(ist_gerade(zahl = 3))\n",
    ">>> False\n",
    "\n",
    "print(ist_gerade(zahl = 100))\n",
    ">>> True\n",
    "\n",
    "print(ist_gerade(zahl = -2))\n",
    ">>> True\n",
    "```\n",
    "Es ist auch möglich, eine Funktion auszuwerten, ohne die Namen ihrer Parameter anzugeben:\n",
    "```python\n",
    "print(ist_gerade(-4))\n",
    ">>> True\n",
    "```\n",
    "#### 1.1 Aufgaben:\n",
    "> (a) Implementiere eine Funktion namens ```verdoppeln```, die als Argument eine Zahl nimmt und ihr Doppeltes zurückgibt (mit anderen Worten, die Eingabezahl multipliziert mit 2). <br>\n",
    "> (b) Verwende diese Funktion, um das Doppelte von 4 zu berechnen."
   ]
  },
  {
   "cell_type": "code",
   "execution_count": null,
   "id": "94b24206-26a0-4b7d-9b10-cf90ad2fb8ef",
   "metadata": {},
   "outputs": [],
   "source": [
    "# Deine Lösung:\n",
    "\n",
    "\n"
   ]
  },
  {
   "cell_type": "markdown",
   "id": "771429ac-5910-4a41-9e0c-6d4d5171c6c2",
   "metadata": {
    "jp-MarkdownHeadingCollapsed": true
   },
   "source": [
    "#### Lösung:"
   ]
  },
  {
   "cell_type": "code",
   "execution_count": null,
   "id": "18f400bf-e3a7-444c-9cfc-df04e45c4fe3",
   "metadata": {},
   "outputs": [],
   "source": [
    "# (a)\n",
    "def verdoppeln(zahl):\n",
    "    return zahl * 2\n",
    "\n",
    "# (b) \n",
    "verdoppeln(4)"
   ]
  },
  {
   "cell_type": "markdown",
   "id": "05800be1-4d9f-46cf-9d31-579a6252d2a2",
   "metadata": {},
   "source": [
    "#### \n",
    "> (c) Implementiere eine Funktion namens ```add```, die als Argument eine **Liste** von Zahlen nimmt und mit einem Loop die **Summe** aller zahlen in der Liste berechnet. <br>\n",
    "> (d) Wende die Funktion auf die Liste ```[2, 3, 1]``` an."
   ]
  },
  {
   "cell_type": "code",
   "execution_count": null,
   "id": "5bc6a4b0-7c30-4de3-ba53-6b8da8b1f9c0",
   "metadata": {},
   "outputs": [],
   "source": [
    "# Deine Lösung\n",
    "\n",
    "\n",
    "\n"
   ]
  },
  {
   "cell_type": "markdown",
   "id": "91fda68a-7f62-4abd-ac75-b13c86b75c12",
   "metadata": {
    "jp-MarkdownHeadingCollapsed": true
   },
   "source": [
    "#### Lösung:"
   ]
  },
  {
   "cell_type": "code",
   "execution_count": null,
   "id": "1cc13e85-5592-40f0-9154-550f30eb318c",
   "metadata": {},
   "outputs": [],
   "source": [
    "# (c)\n",
    "def add(list_of_numbers):\n",
    "    s = 0  # Initialisiere die Summenvariable (zuerst 0)\n",
    "    for element in list_of_numbers:  # Iteriere über jedes Element der Liste\n",
    "        s += element  # Addiere das jeweilige Element zu s\n",
    "    return s  # Gib die finale Summe zurück\n",
    "\n",
    "# (d)\n",
    "test_list = [2, 3, 1]\n",
    "print(add(test_list))  # Gib das Ergebnis der 'add' Funktion für die Liste aus"
   ]
  },
  {
   "cell_type": "markdown",
   "id": "b59416fb-ab8b-4e5f-8d78-f464d99505ac",
   "metadata": {},
   "source": [
    "#### \n",
    "> (e) Schreibe eine Funktion namens **```list_product```**, die als Argument eine **Liste** von Zahlen nimmt und dann das **Produkt** aller Zahlen in der Liste mithilfe einer Schleife berechnet. Mit anderen Worten, ```list_product``` gibt das Ergebnis der Multiplikation aller Elemente der Liste zurück. <br>\n",
    "\n",
    "> (f) Wende diese Funktion auf die Liste ```[1, 0.12, -54, 12, 0.33, 12]``` an. Das Ergebnis sollte ```-307.9296``` sein. <br>"
   ]
  },
  {
   "cell_type": "code",
   "execution_count": null,
   "id": "bc65066d-afa3-4d29-8428-b0b6f496588a",
   "metadata": {},
   "outputs": [],
   "source": [
    "test_list = [1, 0.12, -54, 12, 0.33, 12]\n",
    "# Deine Lösung:\n",
    "\n",
    "\n",
    "\n"
   ]
  },
  {
   "cell_type": "markdown",
   "id": "6929b486-a32b-4a5f-83e3-6e213eea3312",
   "metadata": {
    "jp-MarkdownHeadingCollapsed": true
   },
   "source": [
    "#### Lösung"
   ]
  },
  {
   "cell_type": "code",
   "execution_count": null,
   "id": "7998fbfc-4dc6-4043-b7d6-ffccba9d29f5",
   "metadata": {},
   "outputs": [],
   "source": [
    "# (e)\n",
    "def list_product(list_of_numbers):\n",
    "    # Wir initialisieren das Produkt auf 1\n",
    "    product = 1\n",
    "    \n",
    "    # Für jede Zahl in der Liste\n",
    "    for number in list_of_numbers:\n",
    "        # multiplizieren wir das Produkt mit der zahl\n",
    "        product *= number\n",
    "        \n",
    "    return product\n",
    "\n",
    "# (f)\n",
    "test_list = [1, 0.12, -54, 12, 0.33, 12]\n",
    "print(list_product(test_list))"
   ]
  },
  {
   "cell_type": "markdown",
   "id": "5f48d894-e817-4d60-a1e6-6f299e806373",
   "metadata": {},
   "source": [
    "#### \n",
    "> (g) Implementiere eine Funktion namens ```variation```, die als Argument den Anfangswert und den Endwert nimmt und die Änderungsrate zwischen den beiden Werten zurückgibt. Die Formel für die Änderungsrate lautet: <br>\n",
    "> $$ \\text{Änderungsrate} = \\frac{ \\text{Endwert} - \\text{Anfangswert} }{ \\text{Anfangswert} } \\times 100  $$ <br>\n",
    ">\n",
    "> (h) Werte diese Funktion mit einem Anfangswert von ```2000``` und einem Endwert von ```1000``` aus. Das Ergebnis sollte ```-50.0``` sein. <br>"
   ]
  },
  {
   "cell_type": "code",
   "execution_count": 1,
   "id": "fa376c73-1054-4fb4-bf2c-90eec31434b8",
   "metadata": {},
   "outputs": [],
   "source": [
    "# Deine Lösung:\n",
    "\n",
    "\n",
    "\n"
   ]
  },
  {
   "cell_type": "markdown",
   "id": "13873a63-c898-4628-a307-e124e38d5d3c",
   "metadata": {
    "jp-MarkdownHeadingCollapsed": true
   },
   "source": [
    "#### Lösung:"
   ]
  },
  {
   "cell_type": "code",
   "execution_count": null,
   "id": "516d8f75-9261-4e77-a8e7-d4fbc2e3fa07",
   "metadata": {},
   "outputs": [],
   "source": [
    "# (g)\n",
    "def variation(initial_value, final_value):\n",
    "    # Berechne die Änderungsrate\n",
    "    variation_rate = ((final_value - initial_value) / initial_value) * 100\n",
    "    return variation_rate  # Gib die Änderungsrate zurück\n",
    "\n",
    "# (h)\n",
    "print(variation(2000, 1000))"
   ]
  },
  {
   "cell_type": "markdown",
   "id": "64308a9e-0295-4eba-80f7-a96161ec77aa",
   "metadata": {},
   "source": [
    "#### \n",
    "> (i) Implementiere eine Funktion namens ```f```, die eine ganze Zahl **n** als Input nimmt und den Wert des Quadrats von n ($n^2$) zurückgibt. <br>\n",
    "\n",
    "> (j) Zeige das Ergebnis der Funktion ```f``` mit **n=2** und dann **n=15**. <br>"
   ]
  },
  {
   "cell_type": "code",
   "execution_count": null,
   "id": "03aa31a1-3e05-4e5e-8642-4c93acb0a438",
   "metadata": {},
   "outputs": [],
   "source": [
    "# Deine Lösung:\n",
    "\n",
    "\n",
    "\n"
   ]
  },
  {
   "cell_type": "markdown",
   "id": "04bfcb71-041c-4b5c-b206-8014640014d2",
   "metadata": {
    "jp-MarkdownHeadingCollapsed": true
   },
   "source": [
    "#### Lösung:"
   ]
  },
  {
   "cell_type": "code",
   "execution_count": null,
   "id": "373e01a2-44d4-4f18-acbe-93f373a9cc4a",
   "metadata": {},
   "outputs": [],
   "source": [
    "# (i)\n",
    "def f(n):\n",
    "    square = n**2\n",
    "    return square\n",
    "\n",
    "\n",
    "# (j)\n",
    "print(f(2))\n",
    "print(f(15))"
   ]
  },
  {
   "cell_type": "markdown",
   "id": "c66c09a7-b18a-45e4-a7bc-88096a27537b",
   "metadata": {},
   "source": [
    "#### \n",
    "> Der Vorteil einer Funktion ist, dass man ihr Ergebnis in einer Variable speichern und später im Code verwenden kann (zum Beispiel innerhalb einer anderen Funktion).\n",
    ">```python\n",
    "># Funktion f wie zuvor definiert\n",
    ">def f(n):\n",
    ">   square = n**2\n",
    ">   return square\n",
    ">``` <br>\n",
    "\n",
    "> (k) Implementiere unter Wiederverwendung der Funktion **```f```** eine Funktion namens **```g```**, die als Input eine ganze Zahl **n** nimmt und den Wert von $n^2 + 2$ zurückgibt. <br>\n"
   ]
  },
  {
   "cell_type": "code",
   "execution_count": null,
   "id": "c9f87e98-8b86-4feb-86d9-c2885c9a9af5",
   "metadata": {},
   "outputs": [],
   "source": [
    "# Deine Lösung:\n",
    "\n",
    "\n",
    "\n"
   ]
  },
  {
   "cell_type": "markdown",
   "id": "84135bff-e803-4070-8f5a-74a7e9b5e4b3",
   "metadata": {
    "jp-MarkdownHeadingCollapsed": true
   },
   "source": [
    "#### Lösung:"
   ]
  },
  {
   "cell_type": "code",
   "execution_count": null,
   "id": "eb634408-febf-4658-acca-c08dbf06718c",
   "metadata": {},
   "outputs": [],
   "source": [
    "# (k)\n",
    "def g(n):\n",
    "    calculation = f(n) # 'calculation' nummt den Wert von f(n) also n^2\n",
    "    calculation += 2  # wir addieren 2 zu 'calculation'\n",
    "    return calculation"
   ]
  },
  {
   "cell_type": "markdown",
   "id": "d13c3d4d-f316-4118-ac39-24d60269ea61",
   "metadata": {},
   "source": [
    "#### \n",
    "> (l) Schreibe eine Funktion namens **```uniques```**, die eine Liste als Argument nimmt und eine neue Liste mit den eindeutigen Werten dieser Liste zurückgibt. <br>\n",
    ">\n",
    "> Der Begriff **\"eindeutige Werte\"** bedeutet nicht Werte, die nur einmal in der Liste vorkommen, sondern die verschiedenen **Werte**, die vorhanden sind.\n",
    ">\n",
    "> Daher sollte ```uniques([1, 1, 2, 2, 2, 3, 3, \"Hello\"])``` **```[1, 2, 3, \"Hello\"]```** zurückgeben.\n",
    ">\n",
    "> Diese Terminologie wird sehr häufig verwendet, auch wenn sie nicht die gleiche Bedeutung wie im Alltag hat.\n",
    ">\n",
    "> Du kannst prüfen, ob ein Wert Teil einer Liste ist, indem du den Membership-Operator **```in```** verwendest:\n",
    ">```python\n",
    ">3 in [3, 1, 2]\n",
    ">>>> True\n",
    ">\n",
    ">-1 in [3, 1, 2]\n",
    ">>>> False\n",
    ">```"
   ]
  },
  {
   "cell_type": "code",
   "execution_count": null,
   "id": "8560a825-4545-4144-8864-96013f4129c4",
   "metadata": {},
   "outputs": [],
   "source": [
    "# Deine Lösung:\n",
    "\n",
    "\n"
   ]
  },
  {
   "cell_type": "markdown",
   "id": "3f777877-4096-415c-901d-29e5f3a2fc7b",
   "metadata": {
    "jp-MarkdownHeadingCollapsed": true
   },
   "source": [
    "#### Lösung:"
   ]
  },
  {
   "cell_type": "code",
   "execution_count": null,
   "id": "48bb51bd-2f0f-4cb5-9a38-1477bc4d20db",
   "metadata": {},
   "outputs": [],
   "source": [
    "# (l)\n",
    "def uniques(list_of_elements):\n",
    "    # Wir initialisieren die Liste einzigartiger Werte\n",
    "    unique_values = []\n",
    "    \n",
    "    # Für jedes item der Liste\n",
    "    for element in list_of_elements:\n",
    "        # Falls das Element nciht auf der Liste einzigartiger Werte ist\n",
    "        if element not in unique_values:\n",
    "            # kommt es auf die Liste\n",
    "            unique_values.append(element)\n",
    "    \n",
    "    return unique_values\n",
    "\n",
    "print(uniques([1, 1, 2, 2, 2, 3, 3, \"Hello\"]))"
   ]
  },
  {
   "cell_type": "markdown",
   "id": "850d4294-cbd6-4b68-b833-12c3bf69b230",
   "metadata": {},
   "source": [
    "#### \n",
    "> (m) Definiere eine Funktion namens ```common_list```, die als Input zwei **Listen** ```l1``` und ```l2``` nimmt und die **Liste der gemeinsamen Elemente** beider Listen zurückgibt. <br>\n",
    ">\n",
    "> (n) Zeige das Ergebnis der Funktion ```common_list``` mit ```l1 = [2,3,4,8,11,7]``` und ```l2 = [2,9,10,7]```."
   ]
  },
  {
   "cell_type": "code",
   "execution_count": null,
   "id": "3ed3d8eb-69ce-4865-a48a-f8d7a1102759",
   "metadata": {},
   "outputs": [],
   "source": [
    "# Deine Lösung:\n",
    "\n",
    "\n",
    "\n"
   ]
  },
  {
   "cell_type": "markdown",
   "id": "ca96e877-0cdc-4575-b94b-ee0f21a9014c",
   "metadata": {
    "jp-MarkdownHeadingCollapsed": true
   },
   "source": [
    "#### Lösung:"
   ]
  },
  {
   "cell_type": "code",
   "execution_count": null,
   "id": "f1025d6a-933c-45a2-be1c-33fec3d6039b",
   "metadata": {},
   "outputs": [],
   "source": [
    "# (m)\n",
    "def common_list(l1,l2):\n",
    "    l3=[]\n",
    "    for element in l1: # Iteriere über die Liste l1.\n",
    "        if element in l2: # überprüfe ob ein Element von l1 in l2 ist\n",
    "            l3.append(element) # Falls ja, fügen wir es der Liste l3 hinzu.\n",
    "    return l3\n",
    "\n",
    "# (n)\n",
    "l1 = [2,3,4,8,11,7]\n",
    "l2 = [2,9,10,7]\n",
    "print(\"Elements common to the two lists :\",common_list(l1,l2))"
   ]
  },
  {
   "cell_type": "markdown",
   "id": "ef9141c3-c9a7-423f-a108-7b07120f3365",
   "metadata": {},
   "source": [
    "#### \n",
    "> (o) Erstelle eine Funktion **```power4```**, die als Argument eine Zahl ```x``` nimmt und die ersten 4 Potenzen dieser Zahl zurückgibt (also $x^1, x^2, x^3, x^4$). <br>\n",
    ">\n",
    "> (p) Teste diese Funktion mit ```x = 8``` und speichere die Ergebnisse in 4 Variablen ```x_1```, ```x_2```, ```x_3``` und ```x_4```. <br>\n",
    ">\n",
    "> (q) Erstelle eine Funktion ```power_diff```, die als Argument 4 Zahlen ```x_1```, ```x_2```, ```x_3``` und ```x_4``` nimmt und zurückgibt:\n",
    "> * Die Differenz zwischen ```x_2``` und ```x_1```\n",
    "> * Die Differenz zwischen ```x_3``` und ```x_2```\n",
    "> * Die Differenz zwischen ```x_4``` und ```x_3``` <br>\n",
    ">\n",
    "> (r) Teste diese Funktion mit den zuvor erhaltenen Werten ```x_1```, ```x_2```, ```x_3``` und ```x_4```."
   ]
  },
  {
   "cell_type": "code",
   "execution_count": null,
   "id": "f8a8d04c-2f52-478c-a897-070462d79f4b",
   "metadata": {},
   "outputs": [],
   "source": [
    "# Deine Lösung:\n",
    "\n",
    "\n",
    "\n"
   ]
  },
  {
   "cell_type": "markdown",
   "id": "f9d236f8-003f-4d62-8d66-4f03dbb99dc4",
   "metadata": {
    "jp-MarkdownHeadingCollapsed": true
   },
   "source": [
    "#### Lösung:"
   ]
  },
  {
   "cell_type": "code",
   "execution_count": null,
   "id": "22b0ef5d-118d-4a04-85f1-8aba2be237be",
   "metadata": {},
   "outputs": [],
   "source": [
    "# (o)\n",
    "def power4(x):\n",
    "    return x**1, x**2, x**3, x**4\n",
    "\n",
    "# (p)\n",
    "x_1, x_2, x_3, x_4 = power4(x = 8)\n",
    "\n",
    "# (q)\n",
    "def power_diff(x_1, x_2, x_3, x_4):\n",
    "    diff1 = x_2 - x_1\n",
    "    diff2 = x_3 - x_2\n",
    "    diff3 = x_4 - x_3\n",
    "    \n",
    "    return diff1, diff2, diff3\n",
    "\n",
    "# (r)\n",
    "diff1, diff2, diff3 = power_diff(x_1, x_2, x_3, x_4)\n",
    "\n",
    "print(diff1, diff2, diff3)"
   ]
  },
  {
   "cell_type": "markdown",
   "id": "fe0b25a6-18ea-4322-8838-41259e3c2d24",
   "metadata": {},
   "source": [
    "## 2. Dokumentation einer Funktion\n",
    "\n",
    " Um eine Funktion mit anderen Nutzern zu teilen, ist es üblich, eine kurze **Beschreibung** zu schreiben, die erklärt, **wie** die Funktion verwendet werden muss.\n",
    "\n",
    " Diese Beschreibung wird als **Dokumentation** einer Funktion bezeichnet und entspricht einer Bedienungsanleitung.\n",
    "\n",
    " Die Dokumentation sollte am Anfang der Funktionsdefinition geschrieben werden:\n",
    "\n",
    "```python\n",
    " def sort_list(a_list, order = \"ascending\"):\n",
    " \"\"\"\n",
    " Diese Funktion sortiert eine Liste in der durch das 'order'-Argument festgelegten Reihenfolge.\n",
    "\n",
    " Parameter:\n",
    " -----------\n",
    " list: Die zu sortierende Liste.\n",
    "\n",
    " order: Muss den Wert \"ascending\" haben, wenn wir die Liste in aufsteigender Reihenfolge sortieren wollen.\n",
    "        Muss den Wert \"descending\" haben, wenn andernfalls.\n",
    "\n",
    " Gibt zurück:\n",
    " --------\n",
    " Die gleiche Liste, aber sortiert.\n",
    " \"\"\"\n",
    " # Anweisungen\n",
    " ...\n",
    " ...\n",
    " ...\n",
    " return sorted_list\n",
    " ```\n",
    "\n",
    " Dreifache Anführungszeichen **```\"\"\"```** definieren **den Anfang und das Ende** der Dokumentation.\n",
    "\n",
    " Du kannst die Dokumentation einer Funktion mithilfe der Python-Funktion **```help```** anzeigen lassen.\n",
    "\n",
    "#### 2.1 Aufgaben:\n",
    "> (a) Zeige die Dokumentation der Python-Funktion **```len```** an. Ein \"Container\" ist ein beliebiges Objekt, über das iteriert werden kann, wie zum Beispiel eine Liste, ein Tuple, ein String, etc. <br>\n",
    "\n",
    "> (b) Schreibe eine Funktion **```total_len```**, die als Argument eine Liste von Listen nimmt und die Gesamtanzahl der Elemente in dieser Liste bestimmt. Schreibe eine kurze **Dokumentation**, die ihre Verwendung beschreibt. <br>\n",
    "\n",
    "> (c) Teste diese Funktion mit der Liste:\n",
    ">```python\n",
    ">test_list = [[1, 23, 1201, 21, 213, 2],\n",
    ">             [2311, 12, 3, 4],\n",
    ">             [11, 32, 1, 1, 2, 3, 3],\n",
    ">             [1, 1, 1, 1, 1, 1, 1, 1, 1, 1, 1, 1, 1, 1]]\n",
    ">```\n",
    ">Die Funktion ```total_len``` sollte ```31``` zurückgeben."
   ]
  },
  {
   "cell_type": "code",
   "execution_count": null,
   "id": "a0294a4b-631c-4add-b2fc-f3617a314f38",
   "metadata": {},
   "outputs": [],
   "source": [
    "# Deine Lösung:\n",
    "\n",
    "\n"
   ]
  },
  {
   "cell_type": "markdown",
   "id": "4c9640b3-08f2-4f25-b786-9da1abf1626e",
   "metadata": {
    "jp-MarkdownHeadingCollapsed": true
   },
   "source": [
    "#### Lösung:"
   ]
  },
  {
   "cell_type": "code",
   "execution_count": null,
   "id": "fcbecff8-882e-411f-ae63-151cc913c609",
   "metadata": {},
   "outputs": [],
   "source": [
    "help(len)\n",
    "# Die len Funktion gibt die Anzahl der Elemente in einem Container zurück\n",
    "\n",
    "def total_len(list_of_lists):\n",
    "    \"\"\"\n",
    "    This function counts the total number of items in a list of lists.\n",
    "    \n",
    "    Parameters:\n",
    "    -----------\n",
    "    list_of_lists: A list of lists.\n",
    "    \n",
    "    Returns:\n",
    "    --------\n",
    "    n_elements: the total number of elements in list_of_lists.\n",
    "    \"\"\"\n",
    "    # Wir initialisieren die Anzahl der Elemente anfangs auf 0\n",
    "    n_elements = 0\n",
    "    \n",
    "    # Für jede Liste in der Liste von Listen\n",
    "    for a_list in list_of_lists:\n",
    "        # Zählen wir die Anzahl der Elemente in der Liste\n",
    "        n_elements += len(a_list)\n",
    "        \n",
    "    return n_elements\n",
    "\n",
    "test_list = [[1, 23, 1201, 21, 213, 2],\n",
    "             [2311, 12, 3, 4],\n",
    "             [11, 32, 1, 1, 2, 3, 3],\n",
    "             [1, 1, 1, 1, 1, 1, 1, 1, 1, 1, 1, 1, 1, 1]]\n",
    "\n",
    "print(\"The list test_list contains\", total_len(test_list), \"elements.\")"
   ]
  },
  {
   "cell_type": "markdown",
   "id": "7a160c02-912c-4673-9f37-b7b1707f30ce",
   "metadata": {},
   "source": [
    "## 3. Rekursive Funktionen\n",
    "Eine Rekursion ist die Eigenschaft einer Funktion, sich während ihrer Ausführung selbst aufzurufen.\n",
    "\n",
    "Diese Art der Syntax kann einige Probleme sehr einfach lösen, wird aber in Python nicht häufig verwendet, da es schwieriger ist, das endgültige Ergebnis einer rekursiven Funktion vorherzusagen.\n",
    "\n",
    "Die Idee rekursiver Funktionen ist es, **ein Problem so lange zu vereinfachen, bis die Lösung trivial ist**.\n",
    "\n",
    "Zum Beispiel, wenn sich **N** Personen zur Begrüßung die Hand geben sollen, **wie viele Händedrücke werden benötigt**?\n",
    "\n",
    "Angenommen, eine Person unter den N Personen hat allen anderen N-1 Personen die Hand geschüttelt. Zu Beginn zählen wir **N-1** Händedrücke, und dann reicht es aus, die Händedrücke für die verbleibenden N-1 Personen zu zählen, was das gleiche Problem ist, aber mit einer Person weniger.\n",
    "\n",
    "Wir zählen auf diese Weise weiter, bis nur noch 2 Personen übrig sind. In diesem Fall gibt es nur noch einen möglichen Händedruck.\n",
    "\n",
    "In Python können wir eine rekursive Funktion definieren, um die Anzahl der Händedrücke zwischen N Personen zu zählen:\n",
    "\n",
    "```python\n",
    "def how_many_handshakes(N):\n",
    "    \"\"\"\n",
    "    Diese Funktion zählt die Anzahl der Händedrücke,\n",
    "    die N Personen zur Begrüßung benötigen.\n",
    "    \"\"\"\n",
    "    # Wenn es nur 2 Personen gibt\n",
    "    if N == 2:\n",
    "        # Kann es nur einen Händedruck geben\n",
    "        return 1\n",
    "    # Andernfalls\n",
    "    else:\n",
    "        # Wir zählen N-1 Händedrücke + die Anzahl der Händedrücke\n",
    "        # zwischen den verbleibenden N-1 Personen\n",
    "        return N-1 + how_many_handshakes(N-1)\n",
    "```\n",
    "\n",
    "Rekursivität gibt uns eine einfache Lösung für dieses Problem.\n",
    "\n",
    "#### 3.1 Aufgaben:\n",
    "> (a) Definiere eine rekursive Funktion namens **```factorial```** mit Parameter $n$, die die Fakultät $n! = 1 \\times 2 \\times ... \\times n$ berechnet:\n",
    "> * Beachte die Rekursion $n! = n \\times (n-1)!$\n",
    "> * Wir nehmen an, dass $0! = 1$ <br>\n",
    "\n",
    "> (b) Berechne $5!$ ($5!$ sollte gleich $120$ sein)."
   ]
  },
  {
   "cell_type": "code",
   "execution_count": null,
   "id": "a6044b55-4ca2-40d0-b27d-5d4692d3b40c",
   "metadata": {},
   "outputs": [],
   "source": [
    "# Deine Lösung:\n",
    "\n",
    "\n",
    "\n"
   ]
  },
  {
   "cell_type": "markdown",
   "id": "1b06bc1d-529b-4af9-a84e-874d66674cb3",
   "metadata": {
    "jp-MarkdownHeadingCollapsed": true
   },
   "source": [
    "#### Lösung:"
   ]
  },
  {
   "cell_type": "code",
   "execution_count": null,
   "id": "fc538576-924b-4172-a690-10bf6baa158f",
   "metadata": {},
   "outputs": [],
   "source": [
    "# (a)\n",
    "def factorial(n):\n",
    "    if n < 0: \n",
    "        return \"Negative number.\" # stoppt die Funktion, falls die Zahl negativ ist\n",
    "    \n",
    "    # Der einfache Fall falls n == 0\n",
    "    if n == 0:\n",
    "        return 1\n",
    "    else :\n",
    "        # Wir nutzen die Rekursion n! = n * (n-1)!\n",
    "        return n*factorial(n-1)\n",
    "\n",
    "# (b)\n",
    "print(factorial(n=5))"
   ]
  },
  {
   "cell_type": "markdown",
   "id": "c7cb4dff-f5e3-4a20-9478-af6c5fe49450",
   "metadata": {},
   "source": [
    "## 4. Bonus-Aufgaben\n",
    "> (a) Implementiere eine rekursive Funktion namens ```fibonacci```, die einer Zahl **n** den Wert des Terms der Fibonacci-Folge ```F(n)``` zuordnet. Um diese Funktion zu definieren, müssen folgende Elemente berücksichtigt werden:\n",
    "> * F(0) = 0\n",
    "> * F(1) = 1\n",
    "> * F(n) = F(n-1) + F(n-2) für n > 1 <br>\n",
    ">\n",
    "> (b) Werte diese Funktion mit n=10 aus (```F(10) = 55```). <br>\n"
   ]
  },
  {
   "cell_type": "code",
   "execution_count": null,
   "id": "51b326c0-40e8-4eda-a344-14b3a285f3ff",
   "metadata": {},
   "outputs": [],
   "source": [
    "# Deine Lösung:\n",
    "\n",
    "\n"
   ]
  },
  {
   "cell_type": "markdown",
   "id": "ffbddc21-0791-4328-8035-6b1615ef33ed",
   "metadata": {},
   "source": [
    "> (c) Implementiere eine Funktion namens ```solve```, die das folgende System lösen kann:\n",
    ">```python\n",
    ">{\n",
    ">    x + y + z = 2       \n",
    ">    x - y - z = 0\n",
    ">    2x + yz   = 0\n",
    ">}\n",
    ">```\n",
    ">\n",
    "> **Jede Unbekannte hat einen ganzzahligen Wert zwischen -1 und 2.** Das System hat auch zwei Lösungen, aber das Ziel der Funktion ist es, eine einzelne Lösung zurückzugeben. Die Funktion hat keine Argumente und muss verschachtelte ```for```-Schleifen und das Schlüsselwort ```break``` verwenden, um eine Lösung des Systems in Tupelform zurückzugeben."
   ]
  },
  {
   "cell_type": "code",
   "execution_count": null,
   "id": "72404af0-d62d-4bda-b166-a22828131da2",
   "metadata": {},
   "outputs": [],
   "source": [
    "# Deine Lösung:\n",
    "\n",
    "\n",
    "\n"
   ]
  },
  {
   "cell_type": "markdown",
   "id": "b93dac4f-6fdf-4d0c-9364-9fa92b4c4513",
   "metadata": {
    "jp-MarkdownHeadingCollapsed": true
   },
   "source": [
    "#### Lösung:"
   ]
  },
  {
   "cell_type": "code",
   "execution_count": null,
   "id": "bc5f6f6c-711b-4ece-9d80-baead5f2b2c7",
   "metadata": {},
   "outputs": [],
   "source": [
    "# (a)\n",
    "def fibonacci(n):\n",
    "    if n == 0:\n",
    "        return 0    # F(0) = 0\n",
    "    elif n == 1:\n",
    "        return 1    # F(1) = 1 \n",
    "    else:\n",
    "        return fibonacci(n-1) + fibonacci(n-2)  # F(n) = F(n-1) + F(n-2)\n",
    "\n",
    "# (b)\n",
    "print(fibonacci(10))\n",
    "\n",
    "# (c)\n",
    "def solve():\n",
    "    solution_found = False  # Boolean Variable die angibt, ob die Lösung gefunden wurde\n",
    "    # Gehe über die möglichen Werte von x, y und z in verschachtelten for-Loops (Werte zwischen -1 und 2)\n",
    "    for x in range(-1,3):\n",
    "        for y in range(-1,3):\n",
    "            for z in range(-1,3):\n",
    "                if x + y + z == 2 and x - y - z == 0 and 2*x + y*z == 0: # condition implying that the solution has been found\n",
    "                    solution_found = True \n",
    "                    break                   # wir verlassen den dritten for-Loop (z), da die Lösung gefunden wurde\n",
    "            if solution_found:               \n",
    "                break                       # wir verlassen den zweiten for-Loop (y), da die Lösung gefunden wurde\n",
    "        if solution_found:\n",
    "            break                           # wir verlassen den ersten for-Loop (x), da die Lösung gefunden wurde\n",
    "    return x,y,z\n",
    "\n",
    "print(\"Lösung gefunden :\",solve())"
   ]
  }
 ],
 "metadata": {
  "kernelspec": {
   "display_name": "Python 3 (ipykernel)",
   "language": "python",
   "name": "python3"
  },
  "language_info": {
   "codemirror_mode": {
    "name": "ipython",
    "version": 3
   },
   "file_extension": ".py",
   "mimetype": "text/x-python",
   "name": "python",
   "nbconvert_exporter": "python",
   "pygments_lexer": "ipython3",
   "version": "3.10.15"
  }
 },
 "nbformat": 4,
 "nbformat_minor": 5
}
