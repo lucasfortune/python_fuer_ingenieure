{
 "cells": [
  {
   "cell_type": "markdown",
   "id": "fb9adb4e-6536-4761-80e5-a54b5d98b0f0",
   "metadata": {},
   "source": [
    "# Python Grundlagen 3\n",
    "## Loops\n",
    "***\n",
    "In diesem Notebook wird behandelt:\n",
    "- Welche Arten von Loops gibt es?\n",
    "- wie verwendet man sie richtig?\n",
    "***\n",
    "Beim Erstellen eines Algorithmus kommt es häufig vor, dass wir dieselben Codezeilen mehrmals wiederholen müssen. Dafür verwenden wir **Loops**, die eine Reihe von Operationen so oft wie nötig ausführen. <br>\n",
    "In Python gibt es zwei Arten von Loops: ```for``` und ```while``` Loops."
   ]
  },
  {
   "cell_type": "markdown",
   "id": "fda29c67-ff87-4360-913f-290bca6d4b93",
   "metadata": {},
   "source": [
    "## 1 Der while-Loop\n",
    "Der ```while```-Loop ermöglicht es dir, einen Codeblock solange zu wiederholen, wie eine bestimmte Bedingung erfüllt ist. <br>\n",
    "Beispiel: <br>\n",
    "Um den Index des Wortes ```\"found\"``` in einer Liste von Wörtern zu bestimmen, kannst du alle Indexe der Liste durchlaufen, bis du den ```\"found\"```-String findest:\n",
    "```python\n",
    "# Die Wortliste, in der wir nach \"found\" suchen wollen\n",
    "sentence = ['The', 'while', 'loop', 'browses', 'all', 'the',\n",
    "            'elements', 'from', 'the', 'list', \"until\", 'it',\n",
    "            'has', 'found', 'what', 'it', 'seeks', '.']\n",
    "\n",
    "# Die Variable i speichert den Startindex\n",
    "i = 0\n",
    "\n",
    "# Solange das Wort am aktuellen Index nicht \"found\" ist\n",
    "while sentence[i] != \"found\":\n",
    "    # Erhöhen wir i um 1, um zum nächsten Index zu gehen\n",
    "    i += 1\n",
    "\n",
    "# Die Schleife stoppt, wenn wir das richtige Wort gefunden haben\n",
    "print(\"Das Wort 'found' ist am Index\", i)\n",
    ">>> Das Wort 'found' ist am Index 13\n",
    "```\n",
    "Die Allgemeine Struktur eines ```while```-Loops sieht so aus:\n",
    "```python\n",
    "while bedingung == True:\n",
    "    anweisung1\n",
    "    ...\n",
    "    anweisungN\n",
    "\n",
    "anweisung_nach_der_schleife\n",
    "```\n",
    "Bei jeder **Iteration** des ```while```-Loops wird die Bedingung überprüft. Ist die Bedingung wahr, wird der Anweisungsblock ausgeführt, andernfalls endet die Schleife. <br>\n",
    "Zeilen außerhalb des Anweisungsblocks gehören nicht zur Schleife und werden erst ausgeführt, wenn die Schleife beendet ist. <br>\n",
    "Wenn die Bedingung von Anfang an falsch ist, wird der Anweisungsblock nie ausgeführt. <br>\n",
    "Wenn die Bedingung dagegen immer wahr ist, wird der Anweisungsblock unendlich oft ausgeführt. Es ist daher wichtig sicherzustellen, dass die Schleife irgendwann endet."
   ]
  },
  {
   "cell_type": "markdown",
   "id": "a96e91ab-d965-44ab-b5b8-7e17ab8226d3",
   "metadata": {},
   "source": [
    "#### 1.1 Aufgaben:\n",
    "> (a) Initialisiere eine Variable ```i``` mit dem Wert ```1```. <br>\n",
    "> (b) Nutze ```i``` um mit einem ```while```-Loop die ersten 10 natürlichen Zahlen auszugeben.\n",
    "<div class=\"alert alert-block alert-success\">\n",
    "Falls du aus Versehen einen unendlich weiterlaufenden Loop startest, musst du den Python Kernel deines Notebooks unterbrechen. <br>\n",
    "Klicke dafür ganz oben auf der Seite auf \"Kernel\" und dann auf \"Interrupt Kernel\"\n",
    "</div>"
   ]
  },
  {
   "cell_type": "code",
   "execution_count": null,
   "id": "a8abc460-c98a-4d61-8a62-74597b633c4c",
   "metadata": {},
   "outputs": [],
   "source": [
    "# Deine Lösung:\n",
    "\n",
    "\n",
    "\n"
   ]
  },
  {
   "cell_type": "markdown",
   "id": "71ab23ba-f29e-414e-831b-f95e19e16f2e",
   "metadata": {},
   "source": [
    "> (c) Wir haben eine Liste mit den gestoppten Zeiten von Athleten auf 100m Sprint. Die Liste ist aufsteigend angeordnet. Nutze einen ```while```-Loop, um herauszufinden, wie viele Sprinter die 100m in unter 10 Sekunden gelaufen sind."
   ]
  },
  {
   "cell_type": "code",
   "execution_count": null,
   "id": "28f1d207-3205-47ec-a8aa-c21529d213ca",
   "metadata": {},
   "outputs": [],
   "source": [
    "ergebnisse = [9.81, 9.89, 9.91, 9.93, 9.94, 9.95, 9.96, 9.97, 9.98, 10.03, 10.04, 10.05, 10.06, 10.08, 10.11, 10.23]\n",
    "\n",
    "# Deine Lösung:\n",
    "\n",
    "\n",
    "\n"
   ]
  },
  {
   "cell_type": "markdown",
   "id": "d78a4938-382a-4c64-b399-7664969ee3b3",
   "metadata": {
    "jp-MarkdownHeadingCollapsed": true
   },
   "source": [
    "#### Lösung:"
   ]
  },
  {
   "cell_type": "code",
   "execution_count": null,
   "id": "4858876a-9d3c-4bed-b5fa-1de9c3894039",
   "metadata": {},
   "outputs": [],
   "source": [
    "# (a)\n",
    "i = 1\n",
    "# (b)\n",
    "# solange (while) i kleiner als 10 ist:\n",
    "while i <= 10:\n",
    "    # geben wir i aus \n",
    "    print(i)\n",
    "    \n",
    "    # dann erhöhen wir i um 1:\n",
    "    i += 1\n",
    "\n",
    "# (c)\n",
    "ergebnisse = [9.81, 9.89, 9.91, 9.93, 9.94, 9.95, 9.96, 9.97, 9.98, 10.03, 10.04, 10.05, 10.06, 10.08, 10.11, 10.23]\n",
    "\n",
    "# Die Variable n soll die Anzahl der Sprinter ehtalten, \n",
    "# die die 100m in unter 10 Sekunden gelaufen sind.\n",
    "n = 0\n",
    "\n",
    "# Die Variable i iteriert durch die Indexe der Ergebniss-Liste\n",
    "i = 0\n",
    "\n",
    "# Solange (while) i kleiner ist als die Länge der Liste\n",
    "while i < len(ergebnisse):\n",
    "    # falls das Ergebniss des Sprinters kleiner als 10 ist:\n",
    "    if ergebnisse[i] < 10:\n",
    "        # erhöhen wir n um 1 \n",
    "        n += 1\n",
    "        \n",
    "    # dann erhöhen wir i um 1\n",
    "    i += 1\n",
    "\n",
    "print(n, \"Sprinter sind die 100m in unter 10 Sekunden gelaufen.\")"
   ]
  },
  {
   "cell_type": "markdown",
   "id": "6daed1bc-e9c5-445e-922d-ba3f94acd7b2",
   "metadata": {},
   "source": [
    "## 2 Der for-Loop\n",
    "\n",
    "Der ```for```-Loop ermöglicht es dir, einen Anweisungsblock auf kontrollierte Weise zu wiederholen. Bei einem ```while```-Loop ist oft nicht klar, wie oft sie ausgeführt wird. <br>\n",
    "Der ```for```-Loop ist dagegen sehr explizit in Bezug auf die Variable, die bei jeder Iteration verändert wird. Außerdem ist die Anzahl der Schleifendurchläufe immer endlich. <br>\n",
    "Zum Beispiel können wir einen ```for```-Loop verwenden, um die Buchstaben im Wort \"loop\" nacheinander anzuzeigen:\n",
    "```python\n",
    "for buchstabe in \"loop\":\n",
    "    print(buchstabe)\n",
    ">>> l\n",
    ">>> o\n",
    ">>> o\n",
    ">>> p\n",
    "```\n",
    "Der Syntax eines ```for```-Loops sieht so aus:\n",
    "```python\n",
    "for element in sequenz:\n",
    "    anweisung1\n",
    "    ...\n",
    "    anweisungN\n",
    "    \n",
    "weitere_anweisung\n",
    "```\n",
    "Der ```for```-Loop führt den Anweisungsblock für jedes ```element``` in der ```sequenz``` aus. <br>\n",
    "Wie beim ```while```-Loop gehören Zeilen außerhalb des Anweisungsblocks nicht zum Loop und werden erst ausgeführt, wenn der Loop beendet ist. <br>\n",
    "Die Abarbeitung erfolgt in folgender Reihenfolge:\n",
    "\n",
    "- Die Variable ```element``` nimmt den Wert des ersten Elements der ```sequenz``` an\n",
    "- Der Anweisungsblock wird ausgeführt\n",
    "- Die Variable ```element``` nimmt den Wert des zweiten Elements der ```sequenz``` an\n",
    "- Der Anweisungsblock wird ausgeführt\n",
    "- ...\n",
    "- Die Variable ```element``` nimmt den Wert des **letzten** Elements der ```sequenz``` an\n",
    "- Der Anweisungsblock wird ausgeführt und die Schleife endet\n",
    "- Die ```weitere_anweisung``` wird ausgeführt\n",
    "\n",
    "Das ```sequenz```-Objekt kann jede Art von indizierbarem Objekt sein, wie eine ```liste```, ein ```tuple```, eine ```string``` usw. <br>\n",
    "Im ```for```-Loop musst du die ```element```-Variable nicht selbst ändern, Python kümmert sich automatisch darum. Achte aber darauf, dass du die Schlüsselwörter ```in``` und ```:```  nicht vergisst, da sie unverzichtbar sind."
   ]
  },
  {
   "cell_type": "markdown",
   "id": "2f3bade0-d637-4e21-960e-8ecc5318bfef",
   "metadata": {},
   "source": [
    "#### 2.1 Aufgaben:\n",
    "> Ein Lehrer hat seine Schüler zu streng benotet und möchte ihre Noten anheben, damit der Klassendurchschnitt über 10/20 liegt. <br>\n",
    "> Die Noten der Schüler wurden in der folgenden Liste gespeichert:\n",
    "```python\n",
    "schlechte_noten = [0, 2, 3, 3, 3, 3, 4, 5, 5, 5, 6, 6, 6, 6, 6, 7, 7, 8, 8, 8, 8, 8, 8, 9, 10, 10, 10, 11, 12, 14]\n",
    "```\n",
    "> Benutze ```for```-Loops, um: <br>\n",
    "> (a) Den Klassendurchschnitt zu berechnen und auszugeben. Es gibt 30 Schüler in der Klasse. <br>\n",
    "> (b) Eine Liste ```gute_noten``` zu erstellen, in der die Noten um 4 Punkte erhöht sind. Erstelle dafür eine leere Liste und füge die Noten einzeln mit der ```append```-Methode hinzu. <br>\n",
    "> (c) Überprüfe, ob der neue Durchschnitt über 10 liegt."
   ]
  },
  {
   "cell_type": "code",
   "execution_count": null,
   "id": "cfdde8d3-bc84-490c-884c-100758ecf4d1",
   "metadata": {},
   "outputs": [],
   "source": [
    "schlechte_noten = [0, 2, 3, 3, 3, 3, 4, 5, 5, 5, 6, 6, 6, 6, 6, 7, 7, 8, 8, 8, 8, 8, 8, 9, 10, 10, 10, 11, 12, 14]\n",
    "# Deine Lösung\n",
    "\n",
    "\n",
    "\n"
   ]
  },
  {
   "cell_type": "markdown",
   "id": "0499a1d3-97d4-49cb-bfd9-bd73430a4eea",
   "metadata": {},
   "source": [
    "> (d) Finde das Maximum und das Minimum der Liste ```l = [2, 3,8, 1, 4]```mit einem ```for```-Loop."
   ]
  },
  {
   "cell_type": "code",
   "execution_count": 3,
   "id": "6ffd9f83-de58-4019-bf51-9ed902b1350a",
   "metadata": {},
   "outputs": [
    {
     "name": "stdout",
     "output_type": "stream",
     "text": [
      "3.10.15 | packaged by conda-forge | (main, Oct 16 2024, 01:24:20) [Clang 17.0.6 ]\n"
     ]
    }
   ],
   "source": [
    "# Deine Lösung:\n",
    "\n",
    "\n",
    "import sys\n",
    "print(sys.version)"
   ]
  },
  {
   "cell_type": "markdown",
   "id": "b6fab697-c192-4c22-82b6-c728a51995b3",
   "metadata": {},
   "source": [
    "> Normalerweise bedeutet die Verwendung ein Loop, dass man alle Elemente einer Datenstruktur durchläuft. Hier kommt das ```break```-Schlüsselwort ins Spiel, das es ermöglicht, einen Loop zu beenden und mit der nächsten Anweisung fortzufahren. <br>\n",
    "> Es kann zum Beispiel für ```for```- und ```while```-Loops verwendet werden, wenn eine bestimmte Bedingung geprüft wird, wie im folgenden Beispiel zu sehen ist:\n",
    "```python\n",
    "i=0\n",
    "while(i<15):\n",
    "    print(i)\n",
    "    if i==1:\n",
    "        break # Sobald die Variable i bei 1 angekommen ist, unterbrechen wir den Loop\n",
    "    i+=1\n",
    "```\n",
    "> (e) Erstelle die Liste ```l``` mit den folgenden Elementen: ```[2, 3, 4, 5, 6, 4]``` und gib den Text ```„Die Zahl 4 ist vorhanden“``` aus, sobald die Zahl 4 erkannt wird. Dieser Text darf nur einmal in der Ausgabe angezeigt werden. Verwende dafür einen ```for```-Loop und das ```break```-Schlüsselwort."
   ]
  },
  {
   "cell_type": "code",
   "execution_count": null,
   "id": "193f4cba-5ae1-4d53-b9e2-d0c05f0e21b2",
   "metadata": {},
   "outputs": [],
   "source": [
    "# Deine Lösung:\n",
    "\n",
    "\n",
    "\n"
   ]
  },
  {
   "cell_type": "markdown",
   "id": "ad301c9f-3d67-4a8f-a15c-877b3b99d2d6",
   "metadata": {
    "jp-MarkdownHeadingCollapsed": true
   },
   "source": [
    "#### Lösung:"
   ]
  },
  {
   "cell_type": "code",
   "execution_count": null,
   "id": "05976482-b60b-4343-9b25-befcd320c6f1",
   "metadata": {},
   "outputs": [],
   "source": [
    "schlechte_noten = [0, 2, 3, 3, 3, 3, 4, 5, 5, 5, 6, 6, 6, 6, 6, 7, 7, 8, 8, 8, 8, 8, 8, 9, 10, 10, 10, 11, 12, 14]\n",
    "# (a)\n",
    "summe = 0\n",
    "for note in schlechte_noten:\n",
    "    summe += note\n",
    "durchschnitt = summe / 30\n",
    "print(\"Ursprünglicher Durchschnitt:\", durchschnitt)\n",
    "\n",
    "# (b)\n",
    "summe = 0\n",
    "for note in schlechte_noten:\n",
    "    summe += note\n",
    "durchschnitt = summe / 30\n",
    "print(\"Ursprünglicher Durchschnitt:\", durchschnitt)\n",
    "\n",
    "# (c)\n",
    "summe = 0\n",
    "for note in gute_noten:\n",
    "    summe += note\n",
    "neuer_durchschnitt = summe / 30\n",
    "print(\"Neuer Durchschnitt:\", neuer_durchschnitt)\n"
   ]
  },
  {
   "cell_type": "code",
   "execution_count": null,
   "id": "af199ddd-e26c-4a9c-ac42-22e011fd027b",
   "metadata": {},
   "outputs": [],
   "source": [
    "# (d)\n",
    "l = [2, 3, 8, 1, 4]\n",
    "\n",
    "maxi = l[0]\n",
    "mini = l[0]\n",
    "\n",
    "for i in l:\n",
    "    if i > maxi:\n",
    "        maxi = i\n",
    "    if i < mini:\n",
    "        mini = i\n",
    "print(\"Maximum der Liste :\", maxi)\n",
    "print(\"Minimum der Liste :\", mini)"
   ]
  },
  {
   "cell_type": "markdown",
   "id": "99acd00c-1ad3-47f8-81eb-0cbdec61604a",
   "metadata": {},
   "source": [
    "> Man könnte auch die ```min``` oder die ```max```-Funktionen verwenden:\n",
    "```python\n",
    "l = [2, 3, 8, 1, 4]\n",
    "print(\"Maximum derListe :\", max(l))\n",
    ">>> 8\n",
    "print(\"Minimum der Liste :\", min(l))\n",
    ">>> 1\n",
    "```"
   ]
  },
  {
   "cell_type": "code",
   "execution_count": null,
   "id": "e7b228bc-10b8-44ad-ade3-58141eee9477",
   "metadata": {},
   "outputs": [],
   "source": [
    "# (e) \n",
    "l = [2, 3, 4, 5, 6, 4]\n",
    "for i in l:\n",
    "    if i==4:\n",
    "        print(\"Die Zahl 4 ist vorhanden\") \n",
    "        break"
   ]
  },
  {
   "cell_type": "markdown",
   "id": "782155ee-85cc-4a5b-9c65-85e231fcff7e",
   "metadata": {},
   "source": [
    "### for- oder while-Loop, welchen sollte ich verwenden?\n",
    "Sowohl ```for```-Loops als auch ```while```-Loops werden verwendet, um einen Codeblock mehrfach zu wiederholen. Meistens können beide Loops für dieselbe Aufgabe verwendet werden, aber je nach Art der Iteration eignen sie sich am besten für unterschiedliche Szenarien:\n",
    "- Verwende einen ```for```-Loop, wenn du über eine Sequenz iterierst oder wenn du die Anzahl der Iterationen kennst.\n",
    "- Verwende einen ```while```-Loop, wenn die Anzahl der Iterationen unbekannt ist und von der Erfüllung einer Bedingung abhängt."
   ]
  },
  {
   "cell_type": "markdown",
   "id": "cd9a79cf-1e8c-4e26-9604-2b7a39380266",
   "metadata": {},
   "source": [
    "#### Aufgaben:\n",
    "> Löse die beiden  Aufgaben entweder mit einem ```for```- oder einem ```while```-Loop:\n",
    "> (a) Wie viele Zahlen in der Liste ```zahlen = [24, 44, 46, 47, 66, 68, 74, 90, 94, 98]``` sind durch 7 teilbar? <br>\n",
    "> (b) Finde die zwei kleinsten Zahlen, die größer als 0 und durch 2 und 3 teilbar sind. <br>\n",
    "> **Tipp**: Eine Zahl ```x``` ist durch eine Zahl ```y``` teilbar, wenn ```x % y == 0```"
   ]
  },
  {
   "cell_type": "code",
   "execution_count": null,
   "id": "c3d530c3-b830-455c-babb-e9704dbc3b7a",
   "metadata": {},
   "outputs": [],
   "source": [
    "# Deine Lösung:\n",
    "\n",
    "\n",
    "\n"
   ]
  },
  {
   "cell_type": "markdown",
   "id": "137f27b5-17b0-4a66-b7ce-2f405ca699c1",
   "metadata": {
    "jp-MarkdownHeadingCollapsed": true
   },
   "source": [
    "#### Lösung:"
   ]
  },
  {
   "cell_type": "code",
   "execution_count": null,
   "id": "164ba8fb-4349-4189-8429-8f737f4b80bc",
   "metadata": {},
   "outputs": [],
   "source": [
    "# (a) mit for-Loop\n",
    "numbers = [24, 44, 46, 47, 66, 68, 74, 90, 94, 98]\n",
    "count = 0\n",
    "\n",
    "for number in numbers:\n",
    "    if number % 7 == 0:\n",
    "        count = count + 1\n",
    "\n",
    "print(count)\n",
    "\n",
    "# (a) mit while-Loop\n",
    "numbers = [24, 44, 46, 47, 66, 68, 74, 90, 94, 98]\n",
    "count = 0\n",
    "i = 0\n",
    "\n",
    "while i < len(numbers):\n",
    "    if numbers[i] % 7 == 0:\n",
    "        count = count + 1\n",
    "    i = i + 1\n",
    "\n",
    "print(count)\n",
    "\n",
    "# (b) mit while-Loop\n",
    "numbers = []\n",
    "i = 1\n",
    "\n",
    "while len(numbers) < 2:\n",
    "    if i % 2 == 0 and i % 3 == 0:\n",
    "        numbers.append(i)\n",
    "    i = i + 1\n",
    "\n",
    "print(numbers)\n",
    "\n",
    "# (b) mit for-Loop\n",
    "# Die Range muss groß genug gewählt werden, damit die ersten beiden Zahlen gefunden werden können.\n",
    "range_of_numbers = [1, 2, 3, 4, 5, 6, 7, 8, 9, 10, 11, 12, 13, 14, 15, 16, 17, 18, 19, 20]\n",
    "numbers = []\n",
    "for i in range_of_numbers:  \n",
    "    if i % 2 == 0 and i % 3 == 0:\n",
    "        numbers.append(i)\n",
    "    if len(numbers) == 2:\n",
    "        break\n",
    "\n",
    "print(numbers)\n",
    "\n",
    "# Beide Methoden funktionieren. \n",
    "# Bei (a) scheint der for-Loop etwas intuitiver und bei (b) der while-Loop"
   ]
  },
  {
   "cell_type": "markdown",
   "id": "1f28bacf-2efb-4e72-ab4a-1caeb95f43f2",
   "metadata": {},
   "source": [
    "## 3 Die range Funktion\n",
    "Die ```range```-Funktion wird oft mit ```for```-Loops verwendet:\n",
    "\n",
    "- Sie nimmt als Argumente einen **Start**, ein **Ende** und einen **Schritt**-Wert.\n",
    "- Sie gibt eine **Sequenz** von Zahlen vom Startwert bis zum Endwert zurück (der Startwert ist eingeschlossen, aber der Endwert ist ausgeschlossen), wobei der Schrittwert das Inkrement zwischen zwei aufeinanderfolgenden Zahlen bestimmt.\n",
    "\n",
    "<img src=\"../imgs/Range.png\" style=\"height:200px\">\n",
    "Standardmäßig ist der Start 0 und der Schritt 1.\n",
    "Das bedeutet:\n",
    "\n",
    "- range(5) gibt die Sequenz der ganzen Zahlen von 0 bis 4 zurück\n",
    "- range(1, 10) gibt die Sequenz der ganzen Zahlen von 1 bis 9 zurück\n",
    "- range(1, 10, 3) gibt die Sequenz 1, 4, 7 zurück\n",
    "- range(10, -1, -1) gibt die Sequenz der ganzen Zahlen von 10 bis 0 zurück. Die Zahlenfolge beginnt bei 10 (start), endet bei 0 (end) und geht von 10 bis 0 (der Schritt ist negativ)"
   ]
  },
  {
   "cell_type": "markdown",
   "id": "d18e09ad-9f12-4c97-966e-06d6bd018cd8",
   "metadata": {},
   "source": [
    "#### 3.1 Aufgaben:\n",
    "> (a) Berechne die Summe von:\n",
    "> - allen Zahlen zwischen 1 und (einschließlich) 100\n",
    "> - allen geraden Zahlen zwischen 1 und (einschließlich) 100"
   ]
  },
  {
   "cell_type": "code",
   "execution_count": null,
   "id": "5f53f806-889e-43fe-99b5-606d15e8078c",
   "metadata": {},
   "outputs": [],
   "source": [
    "# Deine Lösung:\n",
    "\n",
    "\n",
    "\n"
   ]
  },
  {
   "cell_type": "markdown",
   "id": "61fa46fd-debc-464a-86aa-3d3f081fc0a5",
   "metadata": {},
   "source": [
    "> (b) Die Fläche eines Feldes beträgt 2000 Quadratmeter. Jedes Jahr verdoppelt sich seine Fläche. Berechne die Fläche des Feldes nach 10 Jahren mit einem ```for```-Loop."
   ]
  },
  {
   "cell_type": "code",
   "execution_count": null,
   "id": "d9cd3d7d-a37b-4857-82eb-db7701b62675",
   "metadata": {},
   "outputs": [],
   "source": [
    "# Deine Lösung:\n",
    "\n",
    "\n",
    "\n"
   ]
  },
  {
   "cell_type": "markdown",
   "id": "fcab4a54-521f-4613-af7c-71cfde7297c2",
   "metadata": {},
   "source": [
    "> (c) Beantworte die Aufgabe (b) nochmal, aber diesmal mit einem ```while```-Loop."
   ]
  },
  {
   "cell_type": "code",
   "execution_count": null,
   "id": "711fe42b-fcc2-4263-ac0c-dfe05c83ee12",
   "metadata": {},
   "outputs": [],
   "source": [
    "# Deine Lösung:\n",
    "\n",
    "\n",
    "\n"
   ]
  },
  {
   "cell_type": "markdown",
   "id": "592e8c00-db64-430a-a8de-bc8d5aa84210",
   "metadata": {},
   "source": [
    "> Die Fibonacci-Sequenz ist eine Folge von ganzen Zahlen, bei der jeder Term die Summe der beiden vorhergehenden Terme ist. <br>\n",
    "> Um die Terme der Fibonacci-Sequenz zu berechnen, sind die ersten beiden Terme fest definiert: <br>\n",
    "$$\n",
    "\\begin{align}\n",
    "u_0 = 0 \\\\\n",
    "u_1 = 1\n",
    "\\end{align}\n",
    "$$\n",
    "> Für $i \\geq 2$ werden die Terme $u_i$ mit folgender Formel berechnet:<br>\n",
    "> $$ u_i = u_{i-1} + u_{i-2}$$\n",
    ">\n",
    "> (d) Berechne und speichere mit einem ```for```-Loop und der ```range```-Funktion die **ersten 100 Terme** der Fibonacci-Sequenz in der Liste ```u```."
   ]
  },
  {
   "cell_type": "code",
   "execution_count": null,
   "id": "0a2d777b-a155-49cc-9dbc-0b3154ff7821",
   "metadata": {},
   "outputs": [],
   "source": [
    "# Die ersten zwei terme der Fibonnaci Sequenz:\n",
    "u = [0, 1]\n",
    "# Deine Lösung:\n",
    "\n",
    "\n",
    "\n"
   ]
  },
  {
   "cell_type": "markdown",
   "id": "db830fc2-2d12-42e5-a85a-a1efa23822c4",
   "metadata": {},
   "source": [
    "> (e) Schreibe ein Programm, das die Reihenfolge des Wortes ```\"cargo\"``` mit einem ```for```-Loop und der ```range```-Funktion und der Hilfe von Listen-Indexing umkehrt."
   ]
  },
  {
   "cell_type": "code",
   "execution_count": 13,
   "id": "b9c507d2-8663-4f88-ade1-5a3e023dc44b",
   "metadata": {},
   "outputs": [],
   "source": [
    "# Deine Lösung:\n",
    "\n",
    "\n"
   ]
  },
  {
   "cell_type": "markdown",
   "id": "b386cc45-83de-4a17-ab6f-86d04c8b38e3",
   "metadata": {
    "jp-MarkdownHeadingCollapsed": true
   },
   "source": [
    "#### Lösungen:"
   ]
  },
  {
   "cell_type": "code",
   "execution_count": null,
   "id": "f6867602-4d92-4e66-a666-631d43e1e186",
   "metadata": {},
   "outputs": [],
   "source": [
    "# (a)\n",
    "# Summe aller Zahlen\n",
    "summe_alle = 0\n",
    "for i in range(1, 101):  # Start bei 1, bis 100\n",
    "    summe_alle = summe_alle + i\n",
    "print(\"Die Summe aller Zahlen zwischen 1 und 100 ist:\", summe_alle)\n",
    "\n",
    "# Summe der geraden Zahlen\n",
    "summe_gerade = 0\n",
    "for i in range(2, 101, 2):  # Start bei 2, bis 100, in 2er-Schritten\n",
    "    summe_gerade = summe_gerade + i\n",
    "print(\"Die Summe aller geraden Zahlen zwischen 1 und 100 ist:\", summe_gerade)\n",
    "\n",
    "# Alternative ohne for-Loop:\n",
    "summe_alle = sum(range(1, 101))\n",
    "summe_gerade = sum(range(2, 101, 2))\n",
    "\n",
    "# (b)\n",
    "flaeche = 2000\n",
    "for jahr in range(0, 10):\n",
    "    flaeche = flaeche * 2\n",
    "print(flaeche)\n",
    "\n",
    "# (c)\n",
    "jahr = 0\n",
    "flaeche = 2000\n",
    "while(jahr != 10):\n",
    "    jahr += 1\n",
    "    flaeche = flaeche * 2\n",
    "print(flaeche)\n",
    "\n",
    "# (d)\n",
    "# Die ersten zwei Terme der Fibonacci-Sequenz\n",
    "u = [0, 1]\n",
    "\n",
    "# Für i von 2 bis 100\n",
    "for i in range(2, 100): \n",
    "    # Wir berechnen u_i mit u[i-1] und u[i-2]\n",
    "    u_i = u[i-1] + u[i-2]\n",
    "    \n",
    "    # Wir fügen u_i am Ende der Liste u hinzu\n",
    "    u.append(u_i)\n",
    "\n",
    "# (e)\n",
    "wort = \"cargo\"\n",
    "umgekehrt = \"\"\n",
    "for buchstabe in range(len(wort)-1, -1, -1):\n",
    "    umgekehrt += wort[buchstabe]\n",
    "print(\"Das umgekehrte Wort ist:\", umgekehrt)"
   ]
  },
  {
   "cell_type": "markdown",
   "id": "c7467409-00e0-46f3-8a9b-53791b173129",
   "metadata": {},
   "source": [
    "Eine einfachere Option ist die Verwendung von **Slicing**, um die Reihenfolge eines Wortes mit dem Ausdruck ```[::-1]``` umzukehren.\n",
    "\n",
    "- Der erste ```:``` zeigt an, dass das Slicing alle Elemente von Anfang bis Ende enthält.\n",
    "- Der zweite : zeigt das gleiche an, nämlich dass der Schnitt aus allen Elementen des Index vom Anfang bis zum Ende bestehen wird.\n",
    "- Die Zahl -1 gibt den Schrittwert an und bedeutet, dass die Liste vom Ende zum Anfang (in umgekehrter Richtung) durchlaufen wird.\n",
    "```python\n",
    "wort = 'cargo'\n",
    "print(wort[::-1])\n",
    ">>> ograc\n",
    "```"
   ]
  },
  {
   "cell_type": "markdown",
   "id": "47a2b77a-91a7-4c8b-b634-17a14bcbcdad",
   "metadata": {},
   "source": [
    "## 4 Verschachtelte Loops\n",
    "Loops können ineinander verschachtelt werden. Zum Beispiel kannst du bei einer Liste von Listen alle ihre Elemente mit zwei verschachtelten Loops durchlaufen. <br>\n",
    "Die Syntax sieht wie folgt aus:\n",
    "```python\n",
    "# Für jede Liste in der Liste von Listen\n",
    "for liste in liste_von_listen:\n",
    "    # Für jedes Element in der Liste\n",
    "    for element in liste:\n",
    "        ...\n",
    "        ...\n",
    "```\n",
    "**Jeder Anweisungsblock muss sehr sorgfältig eingerückt werden.** Wie bei ```if```-Anweisungen grenzt die Einrückung den Anfang und das Ende der Codeblöcke ab."
   ]
  },
  {
   "cell_type": "markdown",
   "id": "288374c0-ee60-4796-a76c-c1719e1c669a",
   "metadata": {},
   "source": [
    "#### 4.1 Aufgaben:\n",
    "> a) Berechne, wie oft der Buchstabe 'e' im folgenden Text vorkommt. Dafür kannst du:\n",
    "> \n",
    "> - Mit einem Loop jedes Wort im Text durchlaufen\n",
    "> - Mit einem weiteren Loop jeden Buchstaben im Wort durchlaufen und dabei zählen, wie oft der Buchstabe 'e' vorkommt"
   ]
  },
  {
   "cell_type": "code",
   "execution_count": null,
   "id": "f4d0d8a6-f4de-48fd-8910-f0561828cf2a",
   "metadata": {},
   "outputs": [],
   "source": [
    "text = ['The', '21', 'World', 'Cup', 'tournaments', 'have', 'been', 'won', 'by', 'eight',\n",
    "        'national', 'teams.', 'Brazil', 'have', 'won', 'five', 'times', ',', 'and',\n",
    "        'they', 'are', 'the', 'only', 'team', 'to', 'have', 'played', 'in', 'every',\n",
    "        'tournament', '.', 'The', 'other', 'World', 'Cup', 'winners', 'are', 'Germany',\n",
    "        'and', 'Italy', ',', 'with', 'four', 'titles', 'each', ';', 'Argentina', ',',\n",
    "        'France', ',', 'and', 'inaugural', 'winner', 'Uruguay,', 'with', 'two', 'titles',\n",
    "        'each', ';and', 'England', 'and', 'Spain', ',', 'with', 'one', 'title', 'each', '.']\n",
    "\n",
    "# Deine Lösung:\n",
    "\n",
    "\n",
    "\n"
   ]
  },
  {
   "cell_type": "markdown",
   "id": "a6e480cf-2f5f-4d46-aae7-0f759153d5dc",
   "metadata": {},
   "source": [
    "> (b) Zähle, wie oft der Buchstabe 'i' in der Liste mit den folgenden Elementen vorkommt: ```['iconoclastic cargo', 'unbelievable imagination']```. Verwende dafür verschachtelte ```for```-Loops und Listen-Indexing für Strings."
   ]
  },
  {
   "cell_type": "code",
   "execution_count": null,
   "id": "b2a3a473-8cb5-4060-8edc-a0b55aab7f19",
   "metadata": {},
   "outputs": [],
   "source": [
    "# Deine Lösung:\n",
    "\n",
    "\n",
    "\n"
   ]
  },
  {
   "cell_type": "markdown",
   "id": "aaa72bd2-ac98-4cac-8510-a800d1856120",
   "metadata": {
    "jp-MarkdownHeadingCollapsed": true
   },
   "source": [
    "#### Lösungen:"
   ]
  },
  {
   "cell_type": "code",
   "execution_count": null,
   "id": "b7d97848-9109-4c01-95af-603fc5d515d6",
   "metadata": {},
   "outputs": [],
   "source": [
    "# (a)\n",
    "text = ['The', '21', 'World', 'Cup', 'tournaments', 'have', 'been', 'won', 'by', 'eight',\n",
    "        'national', 'teams.', 'Brazil', 'have', 'won', 'five', 'times', ',', 'and',\n",
    "        'they', 'are', 'the', 'only', 'team', 'to', 'have', 'played', 'in', 'every',\n",
    "        'tournament', '.', 'The', 'other', 'World', 'Cup', 'winners', 'are', 'Germany',\n",
    "        'and', 'Italy', ',', 'with', 'four', 'titles', 'each', ';', 'Argentina', ',',\n",
    "        'France', ',', 'and', 'inaugural', 'winner', 'Uruguay,', 'with', 'two', 'titles',\n",
    "        'each', ';and', 'England', 'and', 'Spain', ',', 'with', 'one', 'title', 'each', '.']\n",
    "\n",
    "# Die Anzahl der 'e' speichern wir in der Variable n\n",
    "n = 0\n",
    "\n",
    "# Für jedes Wort im Text\n",
    "for wort in text:\n",
    "    # Für jeden Buchstaben im Wort\n",
    "    for buchstabe in wort:\n",
    "        # Wenn der Buchstabe ein 'e' ist\n",
    "        if buchstabe == 'e':\n",
    "            # Erhöhen wir n um 1\n",
    "            n += 1\n",
    "\n",
    "print(\"Der Buchstabe 'e' kommt\", n, \"mal im Text vor.\")\n",
    "\n",
    "#(b)\n",
    "a = ['iconoclastic cargo', 'unbelievable imagination']\n",
    "anzahl = 0\n",
    "\n",
    "for ausdruck in a:\n",
    "    for buchstabe in range(0, len(ausdruck)):\n",
    "        if ausdruck[buchstabe] == 'i':\n",
    "            anzahl += 1\n",
    "\n",
    "print(\"Der Buchstabe 'i' kommt\", anzahl, \"mal vor\")"
   ]
  },
  {
   "cell_type": "markdown",
   "id": "0ac80ce4-4590-40e3-878d-d77bed8a34b0",
   "metadata": {},
   "source": [
    "## 5 List Comprehension\n",
    "List Comprehension ist ein äußerst interessantes Konzept in Python, das dem zentralen Ziel der Codevereinfachung und Produktivitätssteigerung dient. <br>\n",
    "Mit dem Syntax des ```for```-Loop ermöglicht sie eine sehr **kompakte und elegante Definition einer Liste** von Werten.<br>\n",
    "Nehmen wir an, wir möchten die ersten 10 Quadratzahlen in einer Liste speichern. Dafür könnten wir wie bisher eine leere Liste erstellen und einen ```for```-Loop verwenden:\n",
    "```python\n",
    "my_list = []\n",
    "\n",
    "# Für i von 0 bis 9\n",
    "for i in range(10):\n",
    "    my_list.append(i**2)\n",
    "```\n",
    "Python erlaubt uns, diese Syntax dank List Comprehension zu verkürzen:\n",
    "```python\n",
    "my_list = [i**2 for i in range(10)]\n",
    "```\n",
    "Diese beiden Schreibweisen sind **absolut gleichwertig**. <br>\n",
    "In einer früheren Übung wollten wir alle Noten um 4 Punkte erhöhen. Mit List Comprehension hätten wir einfach schreiben können:\n",
    "```python\n",
    "gute_noten = [note + 4 for note in schlechte_noten]\n",
    "```\n"
   ]
  },
  {
   "cell_type": "markdown",
   "id": "433061a8-2192-427e-b85f-c821ea8000fa",
   "metadata": {},
   "source": [
    "#### 5.1 Aufgaben:\n",
    "> (a) Speichere in einer Liste namens ```powers_three``` die ersten 10 Potenzen von 3."
   ]
  },
  {
   "cell_type": "code",
   "execution_count": null,
   "id": "6ba0f2fc-53d2-4942-bd76-bdfe77446e02",
   "metadata": {},
   "outputs": [],
   "source": [
    "# Deine Lösung:\n",
    "\n",
    "\n",
    "\n"
   ]
  },
  {
   "cell_type": "markdown",
   "id": "711f8730-bfd9-4d32-8305-fbfd669390f8",
   "metadata": {},
   "source": [
    "> (b) Eine Liste ```numbers_list``` ist gegeben. Erstelle eine neue Liste namens double_list, die das Doppelte jedes Elements aus numbers_list enthält.<br>\n",
    "> (c) Erstelle aus ```numbers_list``` eine Liste namens ```even_list```, die für jede Zahl in ```numbers_list``` ```\"even\"``` angibt, wenn die Zahl gerade ist, und ```\"odd\"``` falls nicht. Die Parität kann mit dem Modulo-Operator % getestet werden. <br>\n",
    "> Zur Erinnerung die Syntax für **bedingte Zuweisungen**:\n",
    ">```python\n",
    "># Ein Schüler muss wiederholen, wenn sein Notendurchschnitt unter 10 liegt\n",
    ">wiederholen = True if durchschnitt < 10 else False\n",
    ">```\n"
   ]
  },
  {
   "cell_type": "code",
   "execution_count": null,
   "id": "668a7d11-f1cb-43ba-8541-2f62de4820e9",
   "metadata": {},
   "outputs": [],
   "source": [
    "numbers_list = [10, 12, 7, 3, 26, 2, 19]\n",
    "# Deine Lösung:\n",
    "\n",
    "\n",
    "\n"
   ]
  },
  {
   "cell_type": "markdown",
   "id": "ebbd9c5e-fe8f-4087-86ef-092dc209e256",
   "metadata": {},
   "source": [
    "> (d) Extrahiere mit einer ```List Comprehension``` aus einer Liste von Wörtern eine Teilliste mit Palindromen, also Wörtern, die vorwärts und rückwärts gleich gelesen werden können (Beispiel: racecar, noon). Die Wortliste besteht aus: ```\"level\", \"hello\", \"noon\", \"summer\", \"deed\"```."
   ]
  },
  {
   "cell_type": "code",
   "execution_count": null,
   "id": "627fa0cf-502d-4f1a-84a2-08b6ca34e671",
   "metadata": {},
   "outputs": [],
   "source": [
    "# Deine Lösung:\n",
    "\n",
    "\n",
    "\n"
   ]
  },
  {
   "cell_type": "markdown",
   "id": "327863a7-f3e6-4812-9fcf-036e2fecd2fe",
   "metadata": {
    "jp-MarkdownHeadingCollapsed": true
   },
   "source": [
    "#### Lösungen:"
   ]
  },
  {
   "cell_type": "code",
   "execution_count": null,
   "id": "b648b92b-9d5d-40bc-b392-cf899e5ee76a",
   "metadata": {},
   "outputs": [],
   "source": [
    "# (a)\n",
    "powers_three = [3**k for k in range(10)]\n",
    "\n",
    "# (b)\n",
    "numbers_list = [10, 12, 7, 3, 26, 2, 19]\n",
    "double_list = [number * 2 for number in numbers_list]\n",
    "\n",
    "# (c)\n",
    "numbers_list = [10, 12, 7, 3, 26, 2, 19]\n",
    "even_list = [\"even\" if number % 2 == 0 else \"odd\" for number in numbers_list]\n",
    "print(even_list)\n",
    "\n",
    "# (d) \n",
    "l = [\"level\", \"hello\", \"noon\", \"summer\", \"deed\"]\n",
    "palindrome = [wort for wort in l if wort == wort[::-1]]\n",
    "print(\"Palindrome:\", palindrome)"
   ]
  },
  {
   "cell_type": "markdown",
   "id": "1241208d-8f9c-42d9-b9ec-862d8287a063",
   "metadata": {},
   "source": [
    "## 6 Die enumerate-Funktion\n",
    "Manchmal ist es nützlich, auf den Index eines Elements in einer Sequenz zuzugreifen. Dafür können wir die ```enumerate```-Funktion in der for-Loop verwenden:\n",
    "```python\n",
    "for index, element in enumerate(sequenz):\n",
    "    ...\n",
    "    ...\n",
    "```\n",
    "Zum Beispiel, wenn wir die verschiedenen Positionen des Wortes ```\"the\"``` in einem Text anzeigen möchten:\n",
    "```python\n",
    "text = [\"the\", \"word\", \"the\", \"is\", \"the\", \"word\", \"of\", \"which\", \"we\", \"search\", \"the\", \"position\"]\n",
    "\n",
    "# Für jedes Wort im Text\n",
    "for position, wort in enumerate(text):\n",
    "    # Wenn das Wort \"the\" ist\n",
    "    if wort == \"the\":\n",
    "        # Zeigen wir seine Position an\n",
    "        print(position)\n",
    ">>> 0\n",
    ">>> 2\n",
    ">>> 4\n",
    ">>> 10\n",
    "```\n"
   ]
  },
  {
   "cell_type": "markdown",
   "id": "5cf0ba22-4f7f-405e-add4-fd34b51120a5",
   "metadata": {},
   "source": [
    "#### 6.1 Aufgaben:\n",
    "> (a) Bestimme den Index des Maximums der Liste ```L``` mit der ```enumerate```-Funktion. Um dieses Maximum zu finden, musst du einfach das größte bisher gesehene Element während der Iteration durch die Liste speichern. <br>\n",
    "> (b) Zeige den Index und den Wert des Maximums der Liste an."
   ]
  },
  {
   "cell_type": "code",
   "execution_count": null,
   "id": "6ba6b203-5e85-41b4-b7e6-07b578f919a1",
   "metadata": {},
   "outputs": [],
   "source": [
    "L = [22, 65, 75, 93, 64, 47, 91, 53, 86, 53, 88, 17, 94, 39]\n",
    "# Deine Lösung:\n",
    "\n",
    "\n",
    "\n"
   ]
  },
  {
   "cell_type": "markdown",
   "id": "a139f208-9c16-444e-ad66-6af5e7da81b6",
   "metadata": {
    "jp-MarkdownHeadingCollapsed": true
   },
   "source": [
    "#### Lösung:"
   ]
  },
  {
   "cell_type": "code",
   "execution_count": null,
   "id": "9686ecdc-01c3-42e1-9f56-b58dcc8f3996",
   "metadata": {},
   "outputs": [],
   "source": [
    "L = [22, 65, 75, 93, 64, 47, 91, 53, 86, 53, 88, 17, 94, 39]\n",
    "\n",
    "maximum = 0\n",
    "max_index = 0\n",
    "\n",
    "# Für jedes Element in der Liste L\n",
    "for index, element in enumerate(L):\n",
    "    # Wenn das Element größer ist als die bisher gesehenen\n",
    "    if element > maximum:\n",
    "        # Überschreiben wir das Maximum mit seinem Wert\n",
    "        maximum = element\n",
    "        max_index = index\n",
    "\n",
    "print(\"Das Maximum der Liste ist am Index\", max_index)"
   ]
  },
  {
   "cell_type": "markdown",
   "id": "f13570f7-9385-4248-a5cb-333f07e2313f",
   "metadata": {},
   "source": [
    "## 7 Die zip-Funktion\n",
    "Die zip-Funktion ermöglicht es dir, mehrere Sequenzen gleicher Länge gleichzeitig in einer einzigen for-Loop zu durchlaufen. <br>\n",
    "Die Syntax sieht wie folgt aus:\n",
    "```python\n",
    "# Bei jeder Iteration nehmen wir ein Element der ersten und ein Element der zweiten Sequenz\n",
    "for element1, element2 in zip(sequenz1, sequenz2):\n",
    "    ...\n",
    "    ...\n",
    "```\n",
    "Diese Syntax kann auf beliebig viele Sequenzen erweitert werden."
   ]
  },
  {
   "cell_type": "markdown",
   "id": "f3145e6a-d1a8-42c4-a95d-307787d85510",
   "metadata": {},
   "source": [
    "#### 7.1 Aufgaben:\n",
    "> Wir haben 2 Listen, die jeweils die Einnahmen und Ausgaben von Personen für einen Monat enthalten. Die Personen haben in beiden Listen den gleichen Index. <br>\n",
    "> (a)Erstelle eine Liste mit den Ersparnissen, die die Personen in diesem Monat gemacht haben, indem du die Differenz zwischen Einnahmen und Ausgaben jeder Person berechnest."
   ]
  },
  {
   "cell_type": "code",
   "execution_count": null,
   "id": "d5929be5-b761-4c8f-b4d0-17b84976b37a",
   "metadata": {},
   "outputs": [],
   "source": [
    "einnahmen = [1200, 2000, 1500, 0, 1000, 4500, 1200, 500, 1350, 2200, 1650, 1300, 2300]\n",
    "ausgaben = [1000, 1700, 2000, 700, 1200, 3500, 200, 500, 1000, 3500, 1350, 1050, 1850]\n",
    "\n",
    "# Deine Lösung:\n",
    "\n",
    "\n",
    "\n"
   ]
  },
  {
   "cell_type": "markdown",
   "id": "c05bebfa-0979-494e-b315-5389794f6de7",
   "metadata": {
    "jp-MarkdownHeadingCollapsed": true
   },
   "source": [
    "#### Lösung:"
   ]
  },
  {
   "cell_type": "code",
   "execution_count": null,
   "id": "f21b576c-559a-461b-a34b-c69cf739882d",
   "metadata": {},
   "outputs": [],
   "source": [
    "einnahmen = [1200, 2000, 1500, 0, 1000, 4500, 1200, 500, 1350, 2200, 1650, 1300, 2300]\n",
    "ausgaben = [1000, 1700, 2000, 700, 1200, 3500, 200, 500, 1000, 3500, 1350, 1050, 1850]\n",
    "\n",
    "ersparnisse = []\n",
    "\n",
    "for einkommen, ausgabe in zip(einnahmen, ausgaben):\n",
    "    ersparnis = einkommen - ausgabe\n",
    "    ersparnisse.append(ersparnis)\n",
    "    \n",
    "print(ersparnisse)"
   ]
  },
  {
   "cell_type": "markdown",
   "id": "720d9ff4-76e7-402b-aa1c-cd5f2735c780",
   "metadata": {},
   "source": [
    "## Zusammenfassung und Überblick\n",
    "***\n",
    "Loops sind essentielle Programmierwerkzeuge. Sie ermöglichen es dir, Anweisungen kontrolliert zu wiederholen. <br>\n",
    "In diesem Tutorial hast du gelernt, wie man:\n",
    "\n",
    "- Einen ```while```-Loop definiert, der ausgeführt wird, solange seine Bedingung erfüllt ist\n",
    "- Ein ```for```-Loop definiert, mit dem man Sequenzen durchlaufen kann\n",
    "- Die ```range```-Funktion verwendet, um durch Listen von ganzen Zahlen zu iterieren\n",
    "- Das Schlüsselwort ```break``` benutzt, um eine Loop bei einer bestimmten Bedingung zu beenden\n",
    "- Mit Slicing ```::-1``` die Reihenfolge einer Sequenz umkehrt\n",
    "- Die ```enumerate```-Funktion verwendet, um sowohl die **Indexe** als auch die **Werte** einer Sequenz zu durchlaufen\n",
    "- Die ```zip```-Funktion benutzt, um mehrere Listen in einem einzigen ```for```-Loop zu durchlaufen"
   ]
  },
  {
   "cell_type": "code",
   "execution_count": null,
   "id": "9f9d96a5-3572-4c26-b6f1-7405c61d3a63",
   "metadata": {},
   "outputs": [],
   "source": []
  }
 ],
 "metadata": {
  "kernelspec": {
   "display_name": "Python 3 (ipykernel)",
   "language": "python",
   "name": "python3"
  },
  "language_info": {
   "codemirror_mode": {
    "name": "ipython",
    "version": 3
   },
   "file_extension": ".py",
   "mimetype": "text/x-python",
   "name": "python",
   "nbconvert_exporter": "python",
   "pygments_lexer": "ipython3",
   "version": "3.10.15"
  }
 },
 "nbformat": 4,
 "nbformat_minor": 5
}
