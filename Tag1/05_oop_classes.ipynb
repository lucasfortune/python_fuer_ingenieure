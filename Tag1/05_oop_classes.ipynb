{
 "cells": [
  {
   "cell_type": "markdown",
   "id": "8328a419-f386-44a4-9784-0ff05c5faed3",
   "metadata": {},
   "source": [
    "# Python Grundlagen 5\n",
    "## Objektorientiertes Programmieren 01\n",
    "***\n",
    "In diesem Notebook wird behandelt:\n",
    "- Klassen\n",
    "- Dokumentation von Klassen\n",
    "- Module\n",
    "***"
   ]
  },
  {
   "cell_type": "code",
   "execution_count": 1,
   "id": "b96fcb19-990b-4a9a-ad63-0d33160410b6",
   "metadata": {},
   "outputs": [
    {
     "name": "stdout",
     "output_type": "stream",
     "text": [
      "['/Users/lucasfortune/mambaforge/envs/edv2/lib/python310.zip', '/Users/lucasfortune/mambaforge/envs/edv2/lib/python3.10', '/Users/lucasfortune/mambaforge/envs/edv2/lib/python3.10/lib-dynload', '', '/Users/lucasfortune/mambaforge/envs/edv2/lib/python3.10/site-packages']\n"
     ]
    }
   ],
   "source": []
  },
  {
   "cell_type": "markdown",
   "id": "1f633097-1743-4ff0-8e58-2110f1715262",
   "metadata": {},
   "source": [
    "### Einführung und Voraussetzungen\n",
    "In Python und vielen anderen Programmiersprachen besteht die *objektorientierte Programmierung* darin, *Klassen* von *Objekten* zu erstellen, die spezifische Informationen und Werkzeuge zu ihrer Handhabung enthalten.\n",
    "<br><br>\n",
    "Alle Werkzeuge, die wir für Data Science verwenden (*DataFrames, scikit-learn Modelle, matplotlib*, ...), sind auf diese Weise aufgebaut. Die Mechanik der Python-Objekte zu verstehen und zu wissen, wie man sie verwendet, ist wesentlich, um alle Funktionen dieser sehr nützlichen Werkzeuge nutzen zu können.\n",
    "<br><br>\n",
    "Darüber hinaus gibt die objektorientierte Programmierung dem Entwickler die Flexibilität, ein Objekt an seine Bedürfnisse anzupassen, dank der *Vererbung*, die wir im zweiten Teil sehen werden. Diese Technik wird häufig verwendet, um Pakete wie **scikit-learn** zu entwickeln, die es einem Benutzer ermöglichen, die benötigten Modelle einfach zu entwickeln und zu evaluieren.\n",
    "<br><br>\n",
    "Um diese Module unter bestmöglichen Bedingungen anzugehen, ist es wichtig, das Modul *Einführung in die Python-Programmierung* abgeschlossen zu haben.\n",
    "\n",
    "### 1 Einführung in Klassen\n",
    "In Python wird eine Klasse wie folgt definiert: <br>\n",
    "```python\n",
    "class Vehicle: # Definition der Klasse Vehicle\n",
    "    def __init__(self, a, b = []):\n",
    "        self.seats = a                 # Anzahl der Sitze im Fahrzeug\n",
    "        self.passengers = b            # Liste mit Passagiernamen\n",
    "        \n",
    "    def print_passengers(self):\n",
    "        for i in range(len(self.passengers)):\n",
    "            print(self.passengers[i])\n",
    "```\n",
    "```py\n",
    "car1 = Vehicle(4, ['Pierre', 'Adrian']) # Instanziierung eines Objekts der Klasse Vehicle\n",
    "```\n",
    "\n",
    "Der obige Code entspricht der Definition einer Klasse namens ```Vehicle```, die 2 Informationen enthält: die Anzahl der Sitze des ```Vehicle``` in der Variable **```seats```** und die Namen der Passagiere an Bord des ```Vehicle``` in der Variable **```passengers```**.\n",
    "\n",
    "Diese Klasse enthält eine ```print_passengers``` *Methode*, die die Namen der Passagiere an Bord in der Konsole anzeigt.\n",
    "\n",
    "Die Anweisung ```car1 = Vehicle(4, ['Pierre', 'Adrian'])``` entspricht der *Instanziierung* der Klasse ```Vehicle```.\n",
    "\n",
    "#### Wichtige Hinweise und Definitionen\n",
    "* ```Vehicle``` ist eine *Klasse* von Objekten.\n",
    "\n",
    "* ```car1``` ist eine *Instanz* der Klasse ```Vehicle```.\n",
    "\n",
    "* ```seats``` und ```passengers``` werden als **Attribute** der Klasse ```Vehicle``` bezeichnet.\n",
    "\n",
    "* Die in der Klasse ```Vehicle``` definierten Funktionen wie ```print_passengers``` und ```__init__``` werden als **Methoden** der Klasse ```Vehicle``` bezeichnet.\n",
    "\n",
    "* Die ```__init__``` Methode nimmt als Argumente die Variablen, die die Attribute einer Instanz definieren werden, wenn sie erstellt wird.<br>\n",
    "\n",
    "> <div class=\"alert alert-info\">\n",
    "<i class=\"fa fa-info-circle\"></i>\n",
    "Die <code style=\"background-color: transparent; color: inherit\">__init__</code> Methode wird automatisch beim Instanziieren jeder Klasse aufgerufen.\n",
    "> </div><div class=\"alert alert-danger\">\n",
    "<i class='fa fa-exclamation-triangle'></i>\n",
    "Alle innerhalb einer Klasse definierten Methoden haben das <code style=\"background-color: transparent; color: inherit\">self</code> Argument als ersten Parameter. Dieser Parameter wird verwendet, um die Instanz anzugeben, die die Methode aufgerufen hat.\n",
    "<br></div>\n",
    "\n",
    "\n",
    "#### 1.1 Aufgaben:\n",
    "Basierend auf der Syntax der oben definierten Klasse ```Vehicle```:\n",
    "\n",
    "\n",
    "> (a) Definiere eine neue Klasse ```Complex``` mit 2 Attributen:\n",
    "> * **```part_re```**, das den reellen Teil einer komplexen Zahl enthält\n",
    "> * **```part_im```**, das den imaginären Teil einer komplexen Zahl enthält <br>\n",
    "\n",
    "> (b) Definiere in der Klasse ```Complex``` eine ```display``` Methode, die einen ```Complex``` in seiner algebraischen Form *a ± bi* ausgibt. Diese Methode sollte sich an das Vorzeichen des Imaginärteils anpassen (Die Methode sollte ```4 - 2i```, ```6 + 2i```, ```5```, ... anzeigen können). <br>\n",
    "\n",
    "> (c) Instanziiere zwei ```Complex``` Objekte, die den komplexen Zahlen $4 + 5i$ und $3 - 2i$ entsprechen, und gib sie auf der Konsole aus."
   ]
  },
  {
   "cell_type": "code",
   "execution_count": null,
   "id": "4bc14b92-24c2-487f-9192-15bcdfe658fb",
   "metadata": {},
   "outputs": [],
   "source": [
    "# Deine Lösung:\n",
    "\n",
    "\n",
    "\n"
   ]
  },
  {
   "cell_type": "markdown",
   "id": "272527db-e992-42ea-b5fc-e4b2e0c65ddf",
   "metadata": {
    "jp-MarkdownHeadingCollapsed": true
   },
   "source": [
    "#### Lösung:"
   ]
  },
  {
   "cell_type": "code",
   "execution_count": null,
   "id": "41770851-19ca-43d4-876e-66ce13c79372",
   "metadata": {},
   "outputs": [],
   "source": [
    "class Complex:\n",
    "    def __init__(self, re, im):\n",
    "        self.part_re = re\n",
    "        self.part_im = im\n",
    "        \n",
    "    def display(self):\n",
    "        if self.part_im < 0:\n",
    "            print(self.part_re, '-', -self.part_im, 'i')\n",
    "        elif self.part_im == 0:\n",
    "            print(self.part_re)\n",
    "        else:\n",
    "            print(self.part_re, '+', self.part_im, 'i')\n",
    "            \n",
    "Complex(4, 5).display()\n",
    "Complex(3, -2).display()"
   ]
  },
  {
   "cell_type": "markdown",
   "id": "43869873-e4a7-4458-ac7f-d0ecc150d6ca",
   "metadata": {},
   "source": [
    "####\n",
    "Sobald ein Objekt einer Klasse instanziiert ist, ist es möglich, auf seine Attribute und Methoden mit den Befehlen ```.attribute``` und ```.method()``` zuzugreifen, wie unten gezeigt:\n",
    "```python\n",
    "class Vehicle:\n",
    "    def __init__(self, a, b=[]):\n",
    "        self.seats = a\n",
    "        self.passengers = b\n",
    "    def print_passengers(self):\n",
    "        for i in range(len(self.passengers)):\n",
    "            print(self.passengers[i])\n",
    "\n",
    "\n"
   ]
  },
  {
   "cell_type": "code",
   "execution_count": null,
   "id": "c154e2ed-7515-4e05-a5c5-41878445fd3d",
   "metadata": {},
   "outputs": [],
   "source": [
    "# Führe die Zelle aus. Du kannst die Instanziierung ändern, damit die Änderungen übernommen werden.\n",
    "car2 = Vehicle(4,['Dimitri', 'Charles', 'Yohan'])\n",
    "\n",
    "print(car2.seats)          # Anzeige des 'seats' Attributs\n",
    "car2.print_passengers()    # Aufruf der print_passengers Methode"
   ]
  },
  {
   "cell_type": "markdown",
   "id": "981b9ab5-05b6-4da8-8a6d-a5ec851c1c66",
   "metadata": {},
   "source": [
    "Die Flexibilität von Klassen in der objektorientierten Programmierung ermöglicht es dem Entwickler, eine Klasse zu erweitern, indem er neue Attribute und Methoden hinzufügt. Alle Instanzen dieser Klasse können dann diese Methoden aufrufen.\n",
    "\n",
    "Zum Beispiel können wir in der Klasse ```Vehicle``` eine neue ```add``` Methode definieren, die eine Person zur Passagierliste hinzufügt:\n",
    "\n",
    "```python\n",
    "class Vehicle:\n",
    "    def __init__(self, a, b = []):\n",
    "        self.seats = a\n",
    "        self.passengers = b\n",
    " \n",
    "    def print_passengers(self):\n",
    "        for i in range(len(self.passengers)):\n",
    "            print(self.passengers[i])\n",
    "\n",
    "    def add(self, name):            #Neue Methode\n",
    "        self.passengers.append(name)\n",
    "```\n",
    "\n",
    "> <div class=\"alert alert-success\">\n",
    "<i class=\"fa fa-question-circle\"></i>\n",
    "In Python ist eine Liste eine Instanz der eingebauten <code style=\"background-color: transparent; color: inherit\">list</code> Klasse. Daher erfolgt der Aufruf der <code style=\"background-color: transparent; color: inherit\">append</code> Methode auf die gleiche Weise wie der Aufruf einer Methode aus den Klassen <code style=\"background-color: transparent; color: inherit\">Vehicle</code> oder <code style=\"background-color: transparent; color: inherit\">Complex</code>.\n",
    "> </div><br>\n",
    "\n",
    "#### Aufgaben:\n",
    "> (d) Definiere in der Klasse ```Complex``` eine ```add``` Methode, die als Argument ein ```Complex``` Objekt nimmt und es zu der Instanz addiert, die die Methode aufruft. Das Ergebnis dieser Summe wird in den Attributen des aufrufenden ```Complex``` gespeichert. <br>\n",
    "\n",
    "> (e) Teste die neue ```add``` Methode an zwei Instanzen der Klasse ```Complex``` und zeige ihre Summe an."
   ]
  },
  {
   "cell_type": "code",
   "execution_count": null,
   "id": "6e13821c-a392-4640-a49f-af69012f6a7c",
   "metadata": {},
   "outputs": [],
   "source": [
    "# Deine Lösung:\n",
    "\n",
    "\n",
    "\n"
   ]
  },
  {
   "cell_type": "markdown",
   "id": "e18d51ad-2910-4e84-9a24-9417e7f056a8",
   "metadata": {
    "jp-MarkdownHeadingCollapsed": true
   },
   "source": [
    "#### Lösung:"
   ]
  },
  {
   "cell_type": "code",
   "execution_count": null,
   "id": "55ea652c-fc2d-4f80-97e9-63208a755b7e",
   "metadata": {},
   "outputs": [],
   "source": [
    "class Complex:\n",
    "    def __init__(self, a, b):\n",
    "        self.part_re = a\n",
    "        self.part_im = b\n",
    "        \n",
    "    def display(self):\n",
    "        if(self.part_im < 0):\n",
    "            print(self.part_re,'-', -self.part_im,'i')\n",
    "        if(self.part_im == 0):\n",
    "            print(self.part_re)\n",
    "        if(self.part_im > 0):\n",
    "            print(self.part_re, '+',self.part_im,'i')\n",
    "            \n",
    "    def add(self, C):\n",
    "        self.part_re = self.part_re + C.part_re\n",
    "        self.part_im = self.part_im + C.part_im\n",
    "        \n",
    "C1 = Complex(4, -1)\n",
    "C2 = Complex(-1, 3)\n",
    "\n",
    "C1.add(C2)\n",
    "C1.display()"
   ]
  },
  {
   "cell_type": "markdown",
   "id": "a5aa8e0f-2c6d-4821-b121-1502c4046b41",
   "metadata": {},
   "source": [
    "## 2 Klassen und Dokumentation\n",
    "Um von anderen nutzbar zu sein, muss eine Klasse immer **gut dokumentiert** sein.\n",
    "\n",
    "Wie bei Funktionen beginnt und endet das Schreiben der Dokumentation für eine Klasse mit drei Anführungszeichen ```\"\"\"```:\n",
    "\n",
    "```python\n",
    "class Car:\n",
    "    \"\"\"\n",
    "    Die Car-Klasse ermöglicht es dir, ein Auto zu erstellen.\n",
    "    \n",
    "    Parameter:\n",
    "    ----------\n",
    "    color: Zeichenkette: Farbe des Autos.\n",
    "    model: Zeichenkette: Modell des Autos.\n",
    "    horsepower: Ganzzahl: Hubraum des Autos.\n",
    "    \n",
    "    Beispiel\n",
    "    -------\n",
    "    aventador = Car(color = \"orange\", model = \"Aventador\", horsepower = 700)\n",
    "    \"\"\"\n",
    "    def __init__(self, color, model, horsepower):\n",
    "        self.color = color\n",
    "        self.model = model\n",
    "        self.horsepower = horsepower\n",
    "\n",
    "    def change_color(self, new_color):\n",
    "        \"\"\"\n",
    "        Ändert die Farbe eines Autos.\n",
    "\n",
    "        Parameter:\n",
    "        ----------\n",
    "        new_color: Zeichenkette: Neue Farbe des Autos.\n",
    "        \"\"\"\n",
    "        self.color = new_color\n",
    "```\n",
    "\n",
    "Wenn ein anderer Benutzer nun Hilfe bei der Verwendung dieser Klasse benötigt, kann er die Funktion **```help```** verwenden, um ihre Dokumentation anzuzeigen:\n",
    "\n",
    "```python\n",
    "help(Car)\n",
    "```\n",
    "```\n",
    "class Car(builtins.object)\n",
    " |  Car(color, model, horsepower)\n",
    " |  \n",
    " |  Die Car-Klasse ermöglicht es dir, ein Auto zu erstellen.\n",
    " |  \n",
    " |  Parameter:\n",
    " |  ----------\n",
    " |  color: Zeichenkette: Farbe des Autos.\n",
    " |  model: Zeichenkette: Modell des Autos.\n",
    " |  horsepower: Ganzzahl: Hubraum des Autos.\n",
    " |  \n",
    " |  Beispiel\n",
    " |  -------\n",
    " |  aventador = Car(color = \"orange\", model = \"Aventador\", horsepower = 700)\n",
    " |  \n",
    " |  Hier definierte Methoden:\n",
    " |  \n",
    " |  __init__(self, color, model, horsepower)\n",
    " |      Initialisiere self. Siehe help(type(self)) für genaue Signatur.\n",
    " |  \n",
    " |  change_color(self, new_color)\n",
    " |      Ändert die Farbe eines Autos.\n",
    " |      \n",
    " |      Parameter:\n",
    " |      ----------\n",
    " |      new_color: Zeichenkette: Neue Farbe des Autos.\n",
    "```\n",
    "\n",
    "Der Zweck einer Dokumentation ist es, **von anderen Benutzern gelesen und verstanden zu werden**. Sie ermöglicht uns auch, die Verwendung einer Methode zu verstehen, die wir definiert haben.\n",
    "\n",
    "Die Dokumentation ist die **erste** Ressource, die man konsultieren sollte, um zu verstehen, wie man eine Klasse handhabt. Alle Klassen, die du in deiner Ausbildung verwenden wirst, haben **umfassende Dokumentationen**. Allerdings können sie mit wenig Erfahrung schwer zu verstehen sein.\n",
    "\n",
    "#### 2.1 Aufgaben:\n",
    "Wir haben die Liste ```u = [1, 9, -3, 3, -5, 4, -4, 7, 3, 4, 5, 0, 8, 7, -1, -3, 7, 6, 0, 2]```\n",
    "\n",
    "\n",
    "> (a) Finde mithilfe der Funktion **```help```** eine Methode der Listenklasse, die es uns ermöglicht, die Liste ```u``` zu sortieren, und zeige dann ```u``` in aufsteigender Reihenfolge an. <br>\n",
    "> \n",
    "> (b) Finde eine Methode, um **alle** Elemente aus der Liste ```u``` zu entfernen."
   ]
  },
  {
   "cell_type": "code",
   "execution_count": null,
   "id": "ab2a3c92-ca98-46cc-8f04-c4d0667cbf11",
   "metadata": {},
   "outputs": [],
   "source": [
    "# Deine Lösung:\n",
    "\n",
    "\n"
   ]
  },
  {
   "cell_type": "markdown",
   "id": "db370b04-113d-4fc3-bf7c-c5b9a7913e3c",
   "metadata": {
    "jp-MarkdownHeadingCollapsed": true
   },
   "source": [
    "#### Lösung:"
   ]
  },
  {
   "cell_type": "code",
   "execution_count": null,
   "id": "0c96e790-eeff-412d-a5b3-573508ea78c0",
   "metadata": {},
   "outputs": [],
   "source": [
    "u = [1, 9, -3, 3, -5, 4, -4, 7, 3, 4, 5, 0, 8, 7, -1, -3, 7, 6, 0, 2]\n",
    "print(\" u :\", u)\n",
    "\n",
    "# Wir ordnen u in aufsteigender Reihenfolge\n",
    "u.sort()\n",
    "print(\"\\n u sorted:\\n\", u)\n",
    "\n",
    "# Wir entfernen alle Elemente von u\n",
    "u.clear()\n",
    "print(\"\\n u empty: \\n\", u)"
   ]
  },
  {
   "cell_type": "markdown",
   "id": "2c823044-2d7e-49b2-b98e-dba24562ecaf",
   "metadata": {},
   "source": [
    "## 3 Module\n",
    "Ein Modul (auch bekannt als *Paket* oder *Bibliothek*) ist eine Python-Datei, die Definitionen von Klassen und Funktionen enthält.\n",
    "\n",
    "Module ermöglichen es dir, bereits geschriebene Funktionen wiederzuverwenden, ohne sie kopieren zu müssen.\n",
    "\n",
    "Module sind leicht teilbar und spezialisieren sich auf sehr spezifische Aufgaben wie:\n",
    "> * Datenbankverwaltung (```pandas```)\n",
    ">\n",
    ">\n",
    "> * Optimierte Berechnungen (```numpy```)\n",
    ">\n",
    ">\n",
    "> * Graphenerstellung (```matplotlib```)\n",
    ">\n",
    ">\n",
    "> * Maschinelles Lernen (```scikit-learn```)\n",
    "\n",
    "Alle Data Science-Aufgaben, die du in deiner Ausbildung lernen wirst, basieren auf Modulen, die von anderen Entwicklern geschrieben wurden. Diese Module gehören zu den größten Stärken der Python-Sprache.\n",
    "\n",
    "Um ein Modul zu importieren, musst du das Schlüsselwort **```import```** verwenden:\n",
    "\n",
    "```python\n",
    "# Wir importieren die gesamte Numpy-Bibliothek\n",
    "import numpy\n",
    "```\n",
    "\n",
    "Um eine Funktion dieses Moduls zu verwenden, muss über das Modul darauf zugegriffen werden:\n",
    "\n",
    "```python\n",
    "x = 0\n",
    "\n",
    "# Die 'cos'-Funktion von numpy ermöglicht es dir, den Kosinus einer Zahl zu berechnen\n",
    "print(numpy.cos(x))\n",
    ">>> 1.0\n",
    "```\n",
    "\n",
    "Es ist nicht sehr praktisch, jedes Mal ```numpy``` schreiben zu müssen, wenn wir eine Funktion aus diesem Modul verwenden wollen. Dafür können wir seinen Namen mit dem Schlüsselwort **```as```** **abkürzen**:\n",
    "\n",
    "```python\n",
    "# Wir importieren numpy und kürzen seinen Namen mit 'np' ab\n",
    "import numpy as np\n",
    "\n",
    "x = 0\n",
    "print(np.cos(x))\n",
    ">>> 1.0\n",
    "```\n",
    "\n",
    "Wir sagen, dass ```np``` der **Alias** von ```numpy``` ist.\n",
    "\n",
    "Diese Praxis wird sehr häufig verwendet und ist die Hauptart, Module zu importieren. Während deiner Ausbildung wirst du die folgenden Importe und Aliase sehen:\n",
    "\n",
    "```python\n",
    "import numpy as np\n",
    "import pandas as pd\n",
    "import matplotlib.pyplot as plt\n",
    "```\n",
    "\n",
    "Wenn du nicht das gesamte Modul importieren möchtest, ist es möglich, nur **einige** Funktionen oder Klassen des Moduls mit dem Schlüsselwort **```from```** zu importieren:\n",
    "\n",
    "```python\n",
    "# Wir importieren nur die Funktionen cos, sin und exp aus dem numpy-Modul\n",
    "from numpy import cos, sin, exp\n",
    "```\n",
    "\n",
    "#### 3.1 Aufgaben:\n",
    "> (a) Importiere die Funktion **```fetch_clifornia_housing```** aus dem Modul **```sklearn.datasets```**. <br>\n",
    "> \n",
    "> (b) Speichere in einer Variable namens **```california_dataset```** die Ausgabe der Funktion ```fetch_clifornia_housing```, wenn sie **ohne Argumente** aufgerufen wird. Was ist der Typ dieser Variable? <br>\n",
    "\n",
    "\n"
   ]
  },
  {
   "cell_type": "code",
   "execution_count": null,
   "id": "dacec225-083b-434b-b8df-3c883658e59e",
   "metadata": {},
   "outputs": [],
   "source": [
    "# Deine Lösung:\n",
    "\n",
    "\n",
    "\n"
   ]
  },
  {
   "cell_type": "markdown",
   "id": "96cc0f5f-31ae-43b2-812e-74e4be6a40d2",
   "metadata": {},
   "source": [
    "#### Lösung:"
   ]
  },
  {
   "cell_type": "code",
   "execution_count": 6,
   "id": "d5cdbc46-26bf-4779-b79f-f91ae54dcfcd",
   "metadata": {},
   "outputs": [
    {
     "name": "stdout",
     "output_type": "stream",
     "text": [
      "<class 'sklearn.utils._bunch.Bunch'>\n",
      "{'data': array([[   8.3252    ,   41.        ,    6.98412698, ...,    2.55555556,\n",
      "          37.88      , -122.23      ],\n",
      "       [   8.3014    ,   21.        ,    6.23813708, ...,    2.10984183,\n",
      "          37.86      , -122.22      ],\n",
      "       [   7.2574    ,   52.        ,    8.28813559, ...,    2.80225989,\n",
      "          37.85      , -122.24      ],\n",
      "       ...,\n",
      "       [   1.7       ,   17.        ,    5.20554273, ...,    2.3256351 ,\n",
      "          39.43      , -121.22      ],\n",
      "       [   1.8672    ,   18.        ,    5.32951289, ...,    2.12320917,\n",
      "          39.43      , -121.32      ],\n",
      "       [   2.3886    ,   16.        ,    5.25471698, ...,    2.61698113,\n",
      "          39.37      , -121.24      ]]), 'target': array([4.526, 3.585, 3.521, ..., 0.923, 0.847, 0.894]), 'frame': None, 'target_names': ['MedHouseVal'], 'feature_names': ['MedInc', 'HouseAge', 'AveRooms', 'AveBedrms', 'Population', 'AveOccup', 'Latitude', 'Longitude'], 'DESCR': '.. _california_housing_dataset:\\n\\nCalifornia Housing dataset\\n--------------------------\\n\\n**Data Set Characteristics:**\\n\\n:Number of Instances: 20640\\n\\n:Number of Attributes: 8 numeric, predictive attributes and the target\\n\\n:Attribute Information:\\n    - MedInc        median income in block group\\n    - HouseAge      median house age in block group\\n    - AveRooms      average number of rooms per household\\n    - AveBedrms     average number of bedrooms per household\\n    - Population    block group population\\n    - AveOccup      average number of household members\\n    - Latitude      block group latitude\\n    - Longitude     block group longitude\\n\\n:Missing Attribute Values: None\\n\\nThis dataset was obtained from the StatLib repository.\\nhttps://www.dcc.fc.up.pt/~ltorgo/Regression/cal_housing.html\\n\\nThe target variable is the median house value for California districts,\\nexpressed in hundreds of thousands of dollars ($100,000).\\n\\nThis dataset was derived from the 1990 U.S. census, using one row per census\\nblock group. A block group is the smallest geographical unit for which the U.S.\\nCensus Bureau publishes sample data (a block group typically has a population\\nof 600 to 3,000 people).\\n\\nA household is a group of people residing within a home. Since the average\\nnumber of rooms and bedrooms in this dataset are provided per household, these\\ncolumns may take surprisingly large values for block groups with few households\\nand many empty houses, such as vacation resorts.\\n\\nIt can be downloaded/loaded using the\\n:func:`sklearn.datasets.fetch_california_housing` function.\\n\\n.. rubric:: References\\n\\n- Pace, R. Kelley and Ronald Barry, Sparse Spatial Autoregressions,\\n  Statistics and Probability Letters, 33 (1997) 291-297\\n'}\n"
     ]
    }
   ],
   "source": [
    "# Wir importieren die load_boston Funktion des sklearn.datasets Moduls\n",
    "from sklearn.datasets import fetch_california_housing\n",
    "\n",
    "# Wir führen die load_boston Funktion aus und\n",
    "# speichern ihren Output in der boston_dataset Variable\n",
    "california_dataset = fetch_california_housing()\n",
    "\n",
    "print(type(california_dataset))\n",
    "print(california_dataset)"
   ]
  },
  {
   "cell_type": "markdown",
   "id": "0fe5f149-ec10-417e-8345-fcad20377675",
   "metadata": {},
   "source": [
    "#### \n",
    "\n",
    "Die Variable ```boston_dataset``` ist ein **Dictionary**. Denk daran, dass ein Dictionary eine Datenstruktur ist, bei der die Daten durch **Schlüssel** indiziert werden. Um auf einen Schlüssel aus einem Dictionary zuzugreifen, musst du nur den Schlüssel in eckigen Klammern eingeben:\n",
    "\n",
    "```python\n",
    "a_dictionary['key']\n",
    "```\n",
    "\n",
    "Das ```boston_dataset``` Dictionary enthält 4 Schlüssel:\n",
    " * ```'data'```: Der Boston-Immobiliendatensatz. Er enthält Eigenschaften von Immobilien in Boston.\n",
    "\n",
    "\n",
    " * ```'target'```: Die Preise dieser Immobilien. Das Ziel des Datensatzes ist es, den Verkaufspreis einer Immobilie basierend auf ihren Eigenschaften zu bestimmen.\n",
    "\n",
    "\n",
    " * ```'feature_names'```: Die Namen, die den Eigenschaften der Immobilien gegeben wurden.\n",
    "\n",
    "\n",
    " * ```'DESCR'```: Ein Text, der den Datensatz und seine Variablen beschreibt.\n",
    "\n",
    "> (c) Speichere in einer Variable namens **```X```** den Wert, der mit dem Schlüssel **```'data'```** des ```boston_dataset``` Dictionary verknüpft ist. <br>\n",
    ">\n",
    "> (d) Speichere in einer Variable namens **```feature_names```** den Wert, der mit dem Schlüssel **```'feature_names'```** des ```boston_dataset``` Dictionary verknüpft ist. <br>\n"
   ]
  },
  {
   "cell_type": "code",
   "execution_count": null,
   "id": "43ed3857-f920-48a7-ab58-dddc42fee325",
   "metadata": {},
   "outputs": [],
   "source": [
    "# Deine Lösung:\n",
    "\n",
    "\n",
    "\n"
   ]
  },
  {
   "cell_type": "markdown",
   "id": "312160af-9209-4a9c-b1bf-85e600eab2cd",
   "metadata": {},
   "source": [
    "#### Lösung:"
   ]
  },
  {
   "cell_type": "code",
   "execution_count": null,
   "id": "1cba5fd0-17b6-44c2-bb25-e94d97acc039",
   "metadata": {},
   "outputs": [],
   "source": [
    "X = boston_dataset['data']\n",
    "\n",
    "feature_names = boston_dataset['feature_names']"
   ]
  },
  {
   "cell_type": "markdown",
   "id": "ac87816b-9904-48a0-a3b4-dc2dcbe6b826",
   "metadata": {},
   "source": [
    "#### \n",
    "\n",
    "Wir werden jetzt ein Objekt der Klasse **```DataFrame```** instanziieren, das sehr nützlich für die Visualisierung und Verarbeitung von Datensätzen ist.\n",
    "\n",
    "> (e) Importiere das Modul ```pandas``` unter dem Alias **```pd```**. <br>\n",
    "\n",
    "> (f) Instanziiere ein Objekt der Klasse ```DataFrame``` mit dem Konstruktor ```pd.DataFrame()```. Das Objekt sollte **```df```** heißen und die Argumente des Konstruktors sollten **```data = X, columns = feature_names```** sein. <br>\n",
    "\n",
    "> (g) Zeige die ersten 10 Zeilen des ```DataFrame``` ```df``` an, indem du seine Methode **```head```** mit dem Argument **```n = 10```** aufrufst."
   ]
  },
  {
   "cell_type": "code",
   "execution_count": null,
   "id": "44e01e3f-2e27-460c-bc72-6e75c365db6d",
   "metadata": {},
   "outputs": [],
   "source": [
    "# Deine Lösung:\n",
    "\n",
    "\n",
    "\n"
   ]
  },
  {
   "cell_type": "markdown",
   "id": "2ced9f87-9897-4511-8af1-7d333b32e66b",
   "metadata": {
    "jp-MarkdownHeadingCollapsed": true
   },
   "source": [
    "#### Lösung:"
   ]
  },
  {
   "cell_type": "code",
   "execution_count": null,
   "id": "35487540-ccbc-4f0f-b2aa-38e7045e4dbb",
   "metadata": {},
   "outputs": [],
   "source": [
    "# We import the pandas module under the alias pd\n",
    "import pandas as pd\n",
    "\n",
    "# Instantiate a DataFrame object with its constructor\n",
    "df = pd.DataFrame(data = X, columns = feature_names)\n",
    "\n",
    "# Display the first 10 lines of the DataFrame using the head method\n",
    "df.head(10)"
   ]
  },
  {
   "cell_type": "markdown",
   "id": "4989afad-478f-432a-831e-68a092f89a65",
   "metadata": {},
   "source": [
    "Du hast gerade deinen ersten Datensatz mit den Modulen ```sklearn.datasets``` und ```pandas``` importiert und angezeigt.\n",
    "\n",
    "Wie du im weiteren Verlauf deiner Ausbildung sehen wirst, ist die ```DataFrame```-Klasse von ```pandas``` effizienter als die Listen- oder Dictionary-Klasse für die Handhabung von tabellarischen Daten. Sie ist eines der grundlegenden Werkzeuge für die Datenanalyse mit Python.\n",
    "\n"
   ]
  }
 ],
 "metadata": {
  "kernelspec": {
   "display_name": "Python 3 (ipykernel)",
   "language": "python",
   "name": "python3"
  },
  "language_info": {
   "codemirror_mode": {
    "name": "ipython",
    "version": 3
   },
   "file_extension": ".py",
   "mimetype": "text/x-python",
   "name": "python",
   "nbconvert_exporter": "python",
   "pygments_lexer": "ipython3",
   "version": "3.10.15"
  }
 },
 "nbformat": 4,
 "nbformat_minor": 5
}
