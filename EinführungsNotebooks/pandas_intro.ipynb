{
 "cells": [
  {
   "cell_type": "markdown",
   "id": "39cd4823-2994-4a65-ba0c-0c192d638943",
   "metadata": {},
   "source": [
    "# EDV-Coaching - Python\n",
    "## Einführung in Pandas\n",
    "***\n",
    "In diesem Notebook wird behandelt:\n",
    "- DataFrame und Series erstellen\n",
    "- Daten laden und speichern\n",
    "- Datenauswahl und Filterung\n",
    "- Grundlegende Datenanalyse\n",
    "- Datentransformation\n",
    "- Gruppierung und Aggregation\n",
    "***\n",
    "# Was ist Pandas?\n",
    "\n",
    "Pandas ist eine leistungsstarke Bibliothek für Datenmanipulation und -analyse. Der Name leitet sich von \"Panel Data\" ab, und die Bibliothek ist speziell für die Arbeit mit strukturierten Daten optimiert. <br>\n",
    "\n",
    "Wichtige Merkmale von Pandas sind: <br>\n",
    "- DataFrame-Objekt für intuitive Handhabung tabellarischer Daten <br>\n",
    "- Effiziente Datenein- und -ausgabe in verschiedenen Formaten (CSV, Excel, SQL, etc.) <br>\n",
    "- Leistungsfähige Werkzeuge für Datenbereinigung und -transformation <br>\n",
    "- Flexible Gruppierung und Aggregation von Daten <br>\n",
    "- Integrierte Werkzeuge für Zeitreihenanalyse <br>\n",
    "\n",
    "Pandas ist zum Standard in der Datenanalyse geworden, da es die Lücke zwischen Rohdaten und statistischer Analyse effektiv schließt. <br>\n",
    "## 1 DataFrame und Series erstellen\n",
    "\n",
    "Pandas hat zwei Hauptdatenstrukturen: Series (1D) und DataFrame (2D): <br>"
   ]
  },
  {
   "cell_type": "code",
   "execution_count": 1,
   "id": "cc29a631-af44-48f8-acca-e0721d1d3cb1",
   "metadata": {},
   "outputs": [
    {
     "name": "stdout",
     "output_type": "stream",
     "text": [
      "Series:\n",
      "0    1.0\n",
      "1    3.0\n",
      "2    5.0\n",
      "3    NaN\n",
      "4    6.0\n",
      "5    8.0\n",
      "dtype: float64\n",
      "\n",
      "DataFrame:\n",
      "    Name  Alter    Stadt  Gehalt\n",
      "0   Anna     25   Berlin   45000\n",
      "1    Ben     30  Hamburg   55000\n",
      "2  Clara     22  München   35000\n",
      "3  David     35   Berlin   65000\n"
     ]
    }
   ],
   "source": [
    "import pandas as pd\n",
    "import numpy as np\n",
    "\n",
    "# Series erstellen\n",
    "s = pd.Series([1, 3, 5, np.nan, 6, 8])\n",
    "\n",
    "# DataFrame aus Dictionary erstellen\n",
    "data = {\n",
    "    'Name': ['Anna', 'Ben', 'Clara', 'David'],\n",
    "    'Alter': [25, 30, 22, 35],\n",
    "    'Stadt': ['Berlin', 'Hamburg', 'München', 'Berlin'],\n",
    "    'Gehalt': [45000, 55000, 35000, 65000]\n",
    "}\n",
    "df = pd.DataFrame(data)\n",
    "\n",
    "print(\"Series:\")\n",
    "print(s)\n",
    "print(\"\\nDataFrame:\")\n",
    "print(df)"
   ]
  },
  {
   "cell_type": "markdown",
   "id": "5318c084-9af4-4ba3-99cd-ed52c039c620",
   "metadata": {},
   "source": [
    "## 2 Daten laden und speichern\n",
    "\n",
    "Pandas kann verschiedene Dateiformate lesen und schreiben: <br>"
   ]
  },
  {
   "cell_type": "code",
   "execution_count": 3,
   "id": "e5272ffd-9f3d-40ad-bb1a-55a939877463",
   "metadata": {},
   "outputs": [
    {
     "name": "stdout",
     "output_type": "stream",
     "text": [
      "Geladene CSV-Daten:\n",
      "    Name  Alter    Stadt  Gehalt\n",
      "0   Anna     25   Berlin   45000\n",
      "1    Ben     30  Hamburg   55000\n",
      "2  Clara     22  München   35000\n",
      "3  David     35   Berlin   65000\n"
     ]
    }
   ],
   "source": [
    "# CSV Datei erstellen und lesen\n",
    "df.to_csv('beispiel.csv', index=False)\n",
    "df_csv = pd.read_csv('beispiel.csv')\n",
    "\n",
    "# Excel Datei erstellen und lesen\n",
    "#df.to_excel('beispiel.xlsx', index=False)\n",
    "#df_excel = pd.read_excel('beispiel.xlsx')\n",
    "\n",
    "# JSON Format\n",
    "#df.to_json('beispiel.json')\n",
    "#df_json = pd.read_json('beispiel.json')\n",
    "\n",
    "print(\"Geladene CSV-Daten:\")\n",
    "print(df_csv)"
   ]
  },
  {
   "cell_type": "markdown",
   "id": "e9acb004-4cd8-4d2a-81e1-3e74887a5a1d",
   "metadata": {},
   "source": [
    "## 3 Datenauswahl und Filterung\n",
    "\n",
    "Verschiedene Möglichkeiten, Daten auszuwählen: <br>"
   ]
  },
  {
   "cell_type": "code",
   "execution_count": null,
   "id": "07d6d093-dde7-430b-8b63-b1aca64b2fcf",
   "metadata": {},
   "outputs": [],
   "source": [
    "# Spaltenauswahl\n",
    "namen = df['Name']\n",
    "info = df[['Name', 'Stadt']]\n",
    "\n",
    "# Zeilenauswahl nach Position\n",
    "erste_zeile = df.iloc[0]\n",
    "block = df.iloc[0:2, 1:3]\n",
    "\n",
    "# Zeilenauswahl nach Bedingung\n",
    "berliner = df[df['Stadt'] == 'Berlin']\n",
    "gut_bezahlt = df[df['Gehalt'] > 50000]\n",
    "\n",
    "# Kombinierte Bedingungen\n",
    "jung_berlin = df[(df['Stadt'] == 'Berlin') & (df['Alter'] < 30)]\n",
    "\n",
    "print(\"Mitarbeiter aus Berlin:\")\n",
    "print(berliner)"
   ]
  },
  {
   "cell_type": "markdown",
   "id": "91cf6ee7-1fa6-4682-9fa2-c7f5723423f3",
   "metadata": {},
   "source": [
    "## 4 Grundlegende Datenanalyse\n",
    "\n",
    "Pandas bietet viele Funktionen für beschreibende Statistik: <br>"
   ]
  },
  {
   "cell_type": "code",
   "execution_count": null,
   "id": "1371965b-80e7-4d11-bf76-4736a586c9e3",
   "metadata": {},
   "outputs": [],
   "source": [
    "# Statistische Zusammenfassung\n",
    "zusammenfassung = df.describe()\n",
    "\n",
    "# Einzelne statistische Maße\n",
    "mittelwert = df['Gehalt'].mean()\n",
    "median = df['Gehalt'].median()\n",
    "maximum = df['Gehalt'].max()\n",
    "\n",
    "# Häufigkeiten\n",
    "stadt_counts = df['Stadt'].value_counts()\n",
    "\n",
    "# Korrelationen\n",
    "korrelationen = df.corr()\n",
    "\n",
    "print(\"Statistische Zusammenfassung:\")\n",
    "print(zusammenfassung)\n",
    "print(\"\\nStädte-Verteilung:\")\n",
    "print(stadt_counts)"
   ]
  },
  {
   "cell_type": "markdown",
   "id": "ba03f301-5f05-44ed-99c0-00f10dac3090",
   "metadata": {},
   "source": [
    "## 5 Datentransformation\n",
    "\n",
    "Daten aufbereiten und transformieren: <br>"
   ]
  },
  {
   "cell_type": "code",
   "execution_count": null,
   "id": "c762f654-f726-4bd1-852c-04c121364775",
   "metadata": {},
   "outputs": [],
   "source": [
    "# Neue Spalte hinzufügen\n",
    "df['Bonus'] = df['Gehalt'] * 0.1\n",
    "df['Gesamtgehalt'] = df['Gehalt'] + df['Bonus']\n",
    "\n",
    "# Datentypen umwandeln\n",
    "df['Alter'] = df['Alter'].astype(float)\n",
    "\n",
    "# Werte ersetzen\n",
    "df['Stadt'] = df['Stadt'].replace('Berlin', 'BER')\n",
    "\n",
    "# Kategorische Daten\n",
    "df['Stadt_Kategorie'] = pd.Categorical(df['Stadt'])\n",
    "\n",
    "print(\"Transformierte Daten:\")\n",
    "print(df)"
   ]
  },
  {
   "cell_type": "markdown",
   "id": "1742c6cd-f026-41d5-acfa-68fe784ed7e4",
   "metadata": {},
   "source": [
    "## 6 Gruppierung und Aggregation\n",
    "\n",
    "Daten gruppieren und zusammenfassen: <br>"
   ]
  },
  {
   "cell_type": "code",
   "execution_count": null,
   "id": "07e3ebd2-76d0-4def-8a8f-450f65bb3c80",
   "metadata": {},
   "outputs": [],
   "source": [
    "# Nach Stadt gruppieren\n",
    "nach_stadt = df.groupby('Stadt')\n",
    "\n",
    "# Verschiedene Aggregationen\n",
    "stadt_statistik = nach_stadt.agg({\n",
    "    'Gehalt': ['mean', 'min', 'max'],\n",
    "    'Alter': 'mean'\n",
    "})\n",
    "\n",
    "# Gruppierung mit mehreren Spalten\n",
    "multi_group = df.groupby(['Stadt', 'Alter'])['Gehalt'].mean()\n",
    "\n",
    "print(\"Statistik nach Städten:\")\n",
    "print(stadt_statistik)\n"
   ]
  },
  {
   "cell_type": "markdown",
   "id": "1070f377-453f-4b5e-84d0-67f89fa285a1",
   "metadata": {},
   "source": [
    "## 7 Fehlende Werte\n",
    "\n",
    "Umgang mit fehlenden Werten (NaN): <br>"
   ]
  },
  {
   "cell_type": "code",
   "execution_count": null,
   "id": "1b5f917e-acbc-4c2b-bd69-940e043c8071",
   "metadata": {},
   "outputs": [],
   "source": [
    "# Fehlende Werte einfügen\n",
    "df.loc[1, 'Gehalt'] = np.nan\n",
    "\n",
    "# Fehlende Werte erkennen\n",
    "fehlend = df.isna()\n",
    "fehlend_summe = df.isna().sum()\n",
    "\n",
    "# Fehlende Werte behandeln\n",
    "df_clean = df.dropna()           # Zeilen mit NA entfernen\n",
    "df_filled = df.fillna(0)         # NAs mit 0 füllen\n",
    "df_mean = df.fillna(df.mean())   # NAs mit Mittelwert füllen\n",
    "\n",
    "print(\"Anzahl fehlender Werte pro Spalte:\")\n",
    "print(fehlend_summe)"
   ]
  },
  {
   "cell_type": "markdown",
   "id": "59eaf8d6-90d9-4702-a083-f880737387cf",
   "metadata": {},
   "source": [
    "## 8 Zeitreihen\n",
    "\n",
    "Pandas hat spezielle Funktionen für Zeitreihen: <br>"
   ]
  },
  {
   "cell_type": "code",
   "execution_count": null,
   "id": "407ef574-5989-4473-84f1-496995e2b056",
   "metadata": {},
   "outputs": [],
   "source": [
    "# Zeitreihen-Index erstellen\n",
    "dates = pd.date_range('20240101', periods=6)\n",
    "ts = pd.Series(np.random.randn(6), index=dates)\n",
    "\n",
    "# Zeitreihen-Operationen\n",
    "monatlich = ts.resample('M').mean()\n",
    "rolling = ts.rolling(window=3).mean()\n",
    "shift = ts.shift(1)\n",
    "\n",
    "print(\"Zeitreihe:\")\n",
    "print(ts)\n",
    "print(\"\\nGleitender Durchschnitt:\")\n",
    "print(rolling)"
   ]
  },
  {
   "cell_type": "markdown",
   "id": "fcff5ac7-7069-4a13-bb71-5c1579fe3a39",
   "metadata": {},
   "source": [
    "## Fazit:\n",
    "\n",
    "Pandas bietet: <br>\n",
    "- Flexible Datenstrukturen für tabellarische Daten <br>\n",
    "- Umfangreiche Import/Export-Möglichkeiten <br>\n",
    "- Leistungsfähige Datenanalyse-Werkzeuge <br>\n",
    "- Effiziente Datentransformation und -bereinigung <br>\n",
    "- Fortgeschrittene Gruppierungs- und Aggregationsfunktionen <br>\n",
    "\n",
    "Diese Funktionen machen Pandas zum Standardwerkzeug für Datenanalyse in Python. <br>"
   ]
  }
 ],
 "metadata": {
  "kernelspec": {
   "display_name": "Python 3 (ipykernel)",
   "language": "python",
   "name": "python3"
  },
  "language_info": {
   "codemirror_mode": {
    "name": "ipython",
    "version": 3
   },
   "file_extension": ".py",
   "mimetype": "text/x-python",
   "name": "python",
   "nbconvert_exporter": "python",
   "pygments_lexer": "ipython3",
   "version": "3.10.15"
  }
 },
 "nbformat": 4,
 "nbformat_minor": 5
}
