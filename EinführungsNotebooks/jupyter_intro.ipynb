{
 "cells": [
  {
   "cell_type": "markdown",
   "id": "c50f40d3-9e76-4ab1-924d-7064889ccbb7",
   "metadata": {},
   "source": [
    "# EDV-Coaching - Python\n",
    "## Einführung in Jupyter Notebook\n",
    "***\n",
    "In diesem Notebook wird behandelt:\n",
    "- Was ist Jupyter Notebook?\n",
    "- Grundlegende Navigation\n",
    "- Zelltypen und Modi\n",
    "- Nützliche Tastenkombinationen\n",
    "- Best Practices\n",
    "***\n",
    "\n",
    "## 1 Was ist Jupyter Notebook?\n",
    "\n",
    "Jupyter Notebook ist eine webbasierte interaktive Entwicklungsumgebung, die es ermöglicht, Code, Text, Gleichungen und Visualisierungen in einem einzigen Dokument zu kombinieren. <br>\n",
    "\n",
    "Der Name \"Jupyter\" ist eine Anspielung auf die drei Kernprogrammiersprachen: **Ju**lia, **Py**thon und **R**. <br>\n",
    "\n",
    "## 2 Navigation und Grundfunktionen\n",
    "\n",
    "Ein Jupyter Notebook besteht aus einer Reihe von Zellen. Es gibt zwei Hauptmodi: <br>\n",
    "\n",
    "1. **Kommandomodus** (blauer Rand):\n",
    "   - Aktivierung durch `Esc`\n",
    "   - Zum Navigieren zwischen Zellen\n",
    "   - Für Zelloperationen (kopieren, einfügen, löschen) <br>\n",
    "\n",
    "2. **Bearbeitungsmodus** (grüner Rand):\n",
    "   - Aktivierung durch `Enter`\n",
    "   - Zum Bearbeiten des Zelleninhalts <br>\n",
    "\n",
    "## 3 Zelltypen\n",
    "\n",
    "In Jupyter gibt es verschiedene Zelltypen: <br>\n",
    "\n",
    "### 3.1 Code-Zellen\n",
    "Code-Zellen enthalten ausführbaren Python-Code: <br>"
   ]
  },
  {
   "cell_type": "code",
   "execution_count": 3,
   "id": "0d75f529-4663-4761-b6f4-7e8a2dbade7f",
   "metadata": {},
   "outputs": [
    {
     "name": "stdout",
     "output_type": "stream",
     "text": [
      "Hallo Welt!\n",
      "Die Summe ist: 15\n"
     ]
    }
   ],
   "source": [
    "# Dies ist eine Code-Zelle\n",
    "print(\"Hallo Welt!\")\n",
    "x = 5\n",
    "y = 10\n",
    "print(f\"Die Summe ist: {x + y}\")"
   ]
  },
  {
   "cell_type": "code",
   "execution_count": null,
   "id": "ce777eaf-fdc8-4c62-8d48-8758b69ee889",
   "metadata": {},
   "outputs": [],
   "source": []
  },
  {
   "cell_type": "markdown",
   "id": "b5f76381-924c-4e1d-854a-364ae9fa7a7f",
   "metadata": {},
   "source": [
    "### 3.2 Markdown-Zellen\n",
    "Markdown-Zellen enthalten formatierten Text: <br>\n",
    "\n",
    "- **Fetter Text** mit `**Text**`\n",
    "- *Kursiver Text* mit `*Text*`\n",
    "- `Code` mit Backticks\n",
    "- Mathematische Formeln mit LaTeX: $E = mc^2$\n",
    "- Listen mit `-` oder `1.`\n",
    "- Links mit `[Text](URL)` <br>\n",
    "\n",
    "## 4 Wichtige Tastenkombinationen\n",
    "\n",
    "| Tastenkombination | Funktion |\n",
    "|:-----------------|:----------|\n",
    "| `Shift + Enter`  | Zelle ausführen und zur nächsten springen |\n",
    "| `Ctrl + Enter`   | Zelle ausführen und in der Zelle bleiben |\n",
    "| `Alt + Enter`    | Zelle ausführen und neue Zelle einfügen |\n",
    "| `Esc + M`        | Zelle zu Markdown konvertieren |\n",
    "| `Esc + Y`        | Zelle zu Code konvertieren |\n",
    "| `Esc + A`        | Neue Zelle oberhalb einfügen |\n",
    "| `Esc + B`        | Neue Zelle unterhalb einfügen |\n",
    "| `Esc + DD`       | Zelle löschen |\n",
    "| `Esc + Z`        | Letzte Löschung rückgängig machen |\n",
    "\n",
    "## 5 Best Practices\n",
    "\n",
    "1. **Strukturierung**:\n",
    "   - Verwende klare Überschriften\n",
    "   - Teile Code in logische Abschnitte\n",
    "   - Dokumentiere wichtige Schritte <br>\n",
    "\n",
    "2. **Code-Ausführung**:\n",
    "   - Führe Zellen in der richtigen Reihenfolge aus\n",
    "   - Nutze \"Kernel → Restart & Run All\" zum Testen\n",
    "   - Speichere regelmäßig (`Ctrl + S`) <br>\n",
    "\n",
    "3. **Dokumentation**:\n",
    "   - Kommentiere komplexen Code\n",
    "   - Nutze Markdown für Erklärungen\n",
    "   - Füge Beispiele hinzu <br>\n",
    "\n",
    "\n",
    "## 6 Magische Befehle\n",
    "\n",
    "Jupyter unterstützt spezielle Befehle, die mit % beginnen: <br>"
   ]
  },
  {
   "cell_type": "code",
   "execution_count": 2,
   "id": "53145e16-a8a1-4eda-b0c3-7091ed628750",
   "metadata": {},
   "outputs": [
    {
     "name": "stderr",
     "output_type": "stream",
     "text": [
      "UsageError: Line magic function `%%time` not found.\n"
     ]
    }
   ],
   "source": [
    "# Zeitmessung einer Zelle\n",
    "%%time\n",
    "for i in range(1000000):\n",
    "    pass\n",
    "\n",
    "# Anzeigen aller Variablen\n",
    "%who\n",
    "\n",
    "# Matplotlib-Plots im Notebook anzeigen\n",
    "%matplotlib inline\n"
   ]
  },
  {
   "cell_type": "markdown",
   "id": "a2882a8d-203c-43b5-a23f-e477594fdd32",
   "metadata": {},
   "source": [
    "## Fazit:\n",
    "\n",
    "Jupyter Notebook ist ein mächtiges Werkzeug für:\n",
    "- Interaktive Datenanalyse\n",
    "- Dokumentation von Code\n",
    "- Präsentation von Ergebnissen\n",
    "- Lehre und Lernen\n",
    "- Wissenschaftliches Arbeiten <br>\n",
    "\n",
    "In den nächsten Notebooks werden wir diese Funktionen nutzen, um Python und seine wissenschaftlichen Bibliotheken zu erkunden. <br>"
   ]
  },
  {
   "cell_type": "code",
   "execution_count": 4,
   "id": "94d2fc33-ee99-4527-94d0-85cf31372607",
   "metadata": {},
   "outputs": [
    {
     "name": "stdout",
     "output_type": "stream",
     "text": [
      "5\n"
     ]
    }
   ],
   "source": [
    "print(x)"
   ]
  },
  {
   "cell_type": "code",
   "execution_count": null,
   "id": "937958f1-add2-498f-9274-2a7da0c83262",
   "metadata": {},
   "outputs": [],
   "source": []
  }
 ],
 "metadata": {
  "kernelspec": {
   "display_name": "Python 3 (ipykernel)",
   "language": "python",
   "name": "python3"
  },
  "language_info": {
   "codemirror_mode": {
    "name": "ipython",
    "version": 3
   },
   "file_extension": ".py",
   "mimetype": "text/x-python",
   "name": "python",
   "nbconvert_exporter": "python",
   "pygments_lexer": "ipython3",
   "version": "3.10.15"
  }
 },
 "nbformat": 4,
 "nbformat_minor": 5
}
