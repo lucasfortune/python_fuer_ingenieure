{
 "cells": [
  {
   "cell_type": "markdown",
   "id": "085e5d13-c00e-4a86-90c3-6d11b3a56c51",
   "metadata": {},
   "source": [
    "# EDV-Coaching - Python\n",
    "## Einführung in NumPy\n",
    "***\n",
    "In diesem Notebook wird behandelt:\n",
    "- Arrays erstellen und manipulieren\n",
    "- Array-Operationen und Broadcasting\n",
    "- Indexing und Slicing\n",
    "- Mathematische Funktionen\n",
    "- Lineare Algebra Grundlagen\n",
    "***\n",
    "# Was ist Numpy?\n",
    "\n",
    "NumPy (Numerical Python) ist die Grundlage für wissenschaftliches Rechnen in Python. Es führt ein mächtiges N-dimensionales Array-Objekt ein und bietet Werkzeuge zur Integration von C/C++ Code. <br>\n",
    "\n",
    "Wichtige Merkmale von NumPy sind: <br>\n",
    "- Effiziente Speicherung und Verarbeitung großer Datenmengen <br>\n",
    "- Umfangreiche mathematische Funktionen für Arrays <br>\n",
    "- Werkzeuge für lineare Algebra und zufällige Zahlen <br>\n",
    "- Optimierte Performance durch vectorisierte Operationen <br>\n",
    "- Grundlage für viele andere wissenschaftliche Python-Bibliotheken <br>\n",
    "\n",
    "NumPy ist unverzichtbar für wissenschaftliche Berechnungen, da es die Geschwindigkeit von C mit der Benutzerfreundlichkeit von Python verbindet. <br>\n",
    "## 1 NumPy Arrays erstellen\n",
    "\n",
    "NumPy's Hauptdatenstruktur ist das mehrdimensionale Array: <br>"
   ]
  },
  {
   "cell_type": "code",
   "execution_count": 5,
   "id": "b53ea471-37d7-44d8-a0aa-0ddd8f2d12a3",
   "metadata": {},
   "outputs": [
    {
     "name": "stdout",
     "output_type": "stream",
     "text": [
      "2D Array:\n",
      "[[1 2 3]\n",
      " [4 5 6]]\n",
      "\n",
      "Einheitsmatrix:\n",
      "[[1. 0. 0.]\n",
      " [0. 1. 0.]\n",
      " [0. 0. 1.]]\n"
     ]
    }
   ],
   "source": [
    "import numpy as np\n",
    "\n",
    "# Arrays aus Listen erstellen\n",
    "arr1d = np.array([1, 2, 3, 4, 5])\n",
    "arr2d = np.array([[1, 2, 3], [4, 5, 6]])\n",
    "\n",
    "# Spezielle Arrays erstellen\n",
    "nullen = np.zeros((3, 4))       # Array mit Nullen\n",
    "einsen = np.ones((2, 3))        # Array mit Einsen\n",
    "identität = np.eye(3)           # 3x3 Einheitsmatrix\n",
    "bereich = np.arange(0, 10, 2)   # Array [0, 2, 4, 6, 8]\n",
    "linear = np.linspace(0, 1, 5)   # 5 gleichmäßig verteilte Punkte\n",
    "\n",
    "print(\"2D Array:\")\n",
    "print(arr2d)\n",
    "print(\"\\nEinheitsmatrix:\")\n",
    "print(identität)"
   ]
  },
  {
   "cell_type": "markdown",
   "id": "a22b338d-63e0-4726-939b-6e3dd1314053",
   "metadata": {},
   "source": [
    "## 2 Array-Operationen und Broadcasting\n",
    "\n",
    "NumPy ermöglicht effiziente elementweise Operationen: <br>"
   ]
  },
  {
   "cell_type": "code",
   "execution_count": null,
   "id": "acddbf89-842c-4175-982d-eda0c060745a",
   "metadata": {},
   "outputs": [],
   "source": [
    "# Grundlegende Operationen\n",
    "a = np.array([1, 2, 3])\n",
    "b = np.array([4, 5, 6])\n",
    "\n",
    "summe = a + b\n",
    "produkt = a * b\n",
    "quadrat = a ** 2\n",
    "\n",
    "# Broadcasting (Arrays unterschiedlicher Dimension)\n",
    "matrix = np.array([[1, 2, 3],\n",
    "                  [4, 5, 6]])\n",
    "vektor = np.array([10, 20, 30])\n",
    "\n",
    "# Broadcasting addiert den Vektor zu jeder Zeile der Matrix\n",
    "ergebnis = matrix + vektor\n",
    "\n",
    "print(\"Matrix + Vektor:\")\n",
    "print(ergebnis)"
   ]
  },
  {
   "cell_type": "markdown",
   "id": "9d4639c1-77c0-4ec9-80fa-f363ef0c17f2",
   "metadata": {},
   "source": [
    "## 3 Indexing und Slicing\n",
    "\n",
    "NumPy bietet erweiterte Möglichkeiten für Indexing und Slicing: <br>"
   ]
  },
  {
   "cell_type": "code",
   "execution_count": null,
   "id": "be5895da-18e7-474e-aab2-0a43c6cbcb55",
   "metadata": {},
   "outputs": [],
   "source": [
    "# Array erstellen\n",
    "arr = np.array([[1, 2, 3, 4],\n",
    "                [5, 6, 7, 8],\n",
    "                [9, 10, 11, 12]])\n",
    "\n",
    "# Einzelne Elemente\n",
    "element = arr[1, 2]     # Zeile 1, Spalte 2\n",
    "\n",
    "# Slicing\n",
    "zeile = arr[1, :]       # Komplette zweite Zeile\n",
    "spalte = arr[:, 1]      # Komplette zweite Spalte\n",
    "block = arr[0:2, 1:3]   # 2x2 Block aus der Mitte\n",
    "\n",
    "# Bedingtes Indexing\n",
    "maske = arr > 6\n",
    "gefiltert = arr[maske]  # Alle Elemente größer als 6\n",
    "\n",
    "print(\"Original Array:\")\n",
    "print(arr)\n",
    "print(\"\\nGefilterter Block:\")\n",
    "print(block)"
   ]
  },
  {
   "cell_type": "markdown",
   "id": "008782f7-9314-4482-8558-a93fce3a6d62",
   "metadata": {},
   "source": [
    "## 4 Mathematische Funktionen\n",
    "\n",
    "NumPy enthält viele mathematische Funktionen: <br>"
   ]
  },
  {
   "cell_type": "code",
   "execution_count": null,
   "id": "250632e3-35ff-4290-8e84-598e88b2b27b",
   "metadata": {},
   "outputs": [],
   "source": [
    "# Array für Demonstrationen\n",
    "x = np.linspace(0, 2*np.pi, 5)\n",
    "\n",
    "# Trigonometrische Funktionen\n",
    "sinus = np.sin(x)\n",
    "cosinus = np.cos(x)\n",
    "\n",
    "# Exponential und Logarithmus\n",
    "exp = np.exp(x)\n",
    "log = np.log(exp)    # Natürlicher Logarithmus\n",
    "\n",
    "# Statistik\n",
    "zahlen = np.array([1, 2, 3, 4, 5])\n",
    "mittelwert = np.mean(zahlen)\n",
    "median = np.median(zahlen)\n",
    "stdabw = np.std(zahlen)\n",
    "\n",
    "print(f\"Mittelwert: {mittelwert}\")\n",
    "print(f\"Standardabweichung: {stdabw}\")"
   ]
  },
  {
   "cell_type": "markdown",
   "id": "14aa2eab-8aeb-430d-9540-82ab3d672a72",
   "metadata": {},
   "source": [
    "## 5 Lineare Algebra\n",
    "\n",
    "NumPy bietet grundlegende Funktionen für lineare Algebra: <br>"
   ]
  },
  {
   "cell_type": "code",
   "execution_count": null,
   "id": "98542563-5484-40ae-8a0b-9c9e413a4ab8",
   "metadata": {},
   "outputs": [],
   "source": [
    "# Matrizen erstellen\n",
    "A = np.array([[1, 2], [3, 4]])\n",
    "B = np.array([[5, 6], [7, 8]])\n",
    "\n",
    "# Matrixoperationen\n",
    "produkt = np.dot(A, B)      # Matrixmultiplikation\n",
    "determinante = np.linalg.det(A)\n",
    "inverse = np.linalg.inv(A)\n",
    "eigenwerte = np.linalg.eigvals(A)\n",
    "\n",
    "print(\"Matrix A:\")\n",
    "print(A)\n",
    "print(\"\\nInverse von A:\")\n",
    "print(inverse)\n",
    "print(\"\\nEigenwerte von A:\")\n",
    "print(eigenwerte)"
   ]
  },
  {
   "cell_type": "markdown",
   "id": "792f2ad3-efa6-47dd-96d0-5782f8ff5577",
   "metadata": {},
   "source": [
    "## 6 Array-Manipulation\n",
    "\n",
    "NumPy bietet verschiedene Möglichkeiten, Arrays umzuformen: <br>"
   ]
  },
  {
   "cell_type": "code",
   "execution_count": null,
   "id": "9f43c7fd-5dd5-4b23-82a5-f571564bc9b8",
   "metadata": {},
   "outputs": [],
   "source": [
    "# Array erstellen\n",
    "arr = np.arange(12)\n",
    "\n",
    "# Umformen\n",
    "matrix = arr.reshape(3, 4)  # 3x4 Matrix\n",
    "transponiert = matrix.T     # Transponierte\n",
    "\n",
    "# Arrays verbinden\n",
    "a = np.array([1, 2, 3])\n",
    "b = np.array([4, 5, 6])\n",
    "\n",
    "vertikal = np.vstack((a, b))    # Vertikales Stapeln\n",
    "horizontal = np.hstack((a, b))  # Horizontales Stapeln\n",
    "\n",
    "print(\"Umgeformte Matrix:\")\n",
    "print(matrix)\n",
    "print(\"\\nVertikal gestapelt:\")\n",
    "print(vertikal)"
   ]
  },
  {
   "cell_type": "markdown",
   "id": "9a5f7549-48ec-4d3f-a1b5-817eb512c41c",
   "metadata": {},
   "source": [
    "## 7 Zufallszahlen\n",
    "\n",
    "NumPy's Random-Modul für Zufallszahlen: <br>"
   ]
  },
  {
   "cell_type": "code",
   "execution_count": null,
   "id": "9a3f25f6-a53a-4a8f-a83c-2da4d60cddb3",
   "metadata": {},
   "outputs": [],
   "source": [
    "# Gleichverteilte Zufallszahlen\n",
    "zufall_uniform = np.random.rand(3, 3)\n",
    "\n",
    "# Normalverteilte Zufallszahlen\n",
    "zufall_normal = np.random.randn(3, 3)\n",
    "\n",
    "# Zufällige ganze Zahlen\n",
    "zufall_int = np.random.randint(0, 10, size=(3, 3))\n",
    "\n",
    "print(\"Normalverteilte Zufallsmatrix:\")\n",
    "print(zufall_normal)"
   ]
  },
  {
   "cell_type": "markdown",
   "id": "b342eb06-7c85-4612-9bbd-8b64729d39d8",
   "metadata": {},
   "source": [
    "## Fazit:\n",
    "\n",
    "NumPy bietet: <br>\n",
    "- Effiziente Array-Operationen <br>\n",
    "- Umfangreiche mathematische Funktionen <br>\n",
    "- Fortgeschrittene Indexing-Möglichkeiten <br>\n",
    "- Grundlegende lineare Algebra <br>\n",
    "- Einfache Array-Manipulation <br>\n",
    "\n",
    "Diese Funktionen bilden die Grundlage für wissenschaftliche Berechnungen in Python. <br>"
   ]
  }
 ],
 "metadata": {
  "kernelspec": {
   "display_name": "Python 3 (ipykernel)",
   "language": "python",
   "name": "python3"
  },
  "language_info": {
   "codemirror_mode": {
    "name": "ipython",
    "version": 3
   },
   "file_extension": ".py",
   "mimetype": "text/x-python",
   "name": "python",
   "nbconvert_exporter": "python",
   "pygments_lexer": "ipython3",
   "version": "3.10.15"
  }
 },
 "nbformat": 4,
 "nbformat_minor": 5
}
