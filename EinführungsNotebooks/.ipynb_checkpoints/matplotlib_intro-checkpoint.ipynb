{
 "cells": [
  {
   "cell_type": "markdown",
   "id": "17ebdc30-692b-4042-949c-5826ef01a008",
   "metadata": {},
   "source": [
    "# EDV-Coaching - Python\n",
    "## Einführung in Matplotlib\n",
    "***\n",
    "In diesem Notebook wird behandelt:\n",
    "- Grundlegende Plottypen\n",
    "- Subplot und Figure Management\n",
    "- Achsen und Beschriftungen\n",
    "- Farben und Stile\n",
    "- Fortgeschrittene Visualisierungen\n",
    "***\n",
    "# Was ist Matplotlib?\n",
    "\n",
    "Matplotlib ist die umfassendste Plotting-Bibliothek für Python. Sie wurde ursprünglich als MATLAB-ähnliche Plotting-Schnittstelle entwickelt und hat sich zum De-facto-Standard für Visualisierungen in Python entwickelt. <br>\n",
    "\n",
    "Wichtige Merkmale von Matplotlib sind: <br>\n",
    "- Erzeugung publikationsreifer Grafiken <br>\n",
    "- Große Auswahl an Plot-Typen und Anpassungsmöglichkeiten <br>\n",
    "- Gute Integration mit NumPy und Pandas <br>\n",
    "- Export in verschiedene Dateiformate (PNG, PDF, SVG, etc.) <br>\n",
    "- Unterstützung für interaktive Plots <br>\n",
    "\n",
    "Matplotlib wird häufig in wissenschaftlichen Anwendungen verwendet, da es präzise Kontrolle über jeden Aspekt einer Visualisierung ermöglicht. <br>\n",
    "## 1 Grundlegende Plot-Erstellung\n",
    "\n",
    "Matplotlib bietet verschiedene Basis-Plottypen: <br>"
   ]
  },
  {
   "cell_type": "code",
   "execution_count": null,
   "id": "04d7e6c4-a925-4332-9879-a7b8859b8a71",
   "metadata": {},
   "outputs": [],
   "source": [
    "import matplotlib.pyplot as plt\n",
    "import numpy as np\n",
    "\n",
    "# Daten generieren\n",
    "x = np.linspace(0, 10, 100)\n",
    "y = np.sin(x)\n",
    "\n",
    "# Einfacher Linienplot\n",
    "plt.figure(figsize=(10, 6))\n",
    "plt.plot(x, y, label='Sinus')\n",
    "plt.title('Einfacher Linienplot')\n",
    "plt.xlabel('x-Achse')\n",
    "plt.ylabel('y-Achse')\n",
    "plt.grid(True)\n",
    "plt.legend()\n",
    "plt.show()"
   ]
  },
  {
   "cell_type": "markdown",
   "id": "fd80ff6f-f03c-4dab-8e42-1724972803c1",
   "metadata": {},
   "source": [
    "## 2 Verschiedene Plottypen\n",
    "\n",
    "Matplotlib unterstützt viele Visualisierungstypen: <br>"
   ]
  },
  {
   "cell_type": "code",
   "execution_count": null,
   "id": "5ec05b30-3111-43de-80e7-5372add9e25e",
   "metadata": {},
   "outputs": [],
   "source": [
    "# Daten für verschiedene Plots\n",
    "x = np.linspace(0, 10, 30)\n",
    "y1 = np.sin(x)\n",
    "y2 = np.random.randn(30)\n",
    "y3 = np.random.rand(30)\n",
    "\n",
    "# Mehrere Plots erstellen\n",
    "plt.figure(figsize=(15, 10))\n",
    "\n",
    "# Streudiagramm\n",
    "plt.subplot(2, 2, 1)\n",
    "plt.scatter(x, y2, c='red', alpha=0.5, label='Scatter')\n",
    "plt.title('Streudiagramm')\n",
    "plt.legend()\n",
    "\n",
    "# Balkendiagramm\n",
    "plt.subplot(2, 2, 2)\n",
    "plt.bar(x[:10], y3[:10], label='Bars')\n",
    "plt.title('Balkendiagramm')\n",
    "plt.legend()\n",
    "\n",
    "# Histogramm\n",
    "plt.subplot(2, 2, 3)\n",
    "plt.hist(y2, bins=15, alpha=0.7, label='Histogram')\n",
    "plt.title('Histogramm')\n",
    "plt.legend()\n",
    "\n",
    "# Step Plot\n",
    "plt.subplot(2, 2, 4)\n",
    "plt.step(x, y1, label='Steps')\n",
    "plt.title('Step Plot')\n",
    "plt.legend()\n",
    "\n",
    "plt.tight_layout()\n",
    "plt.show()"
   ]
  },
  {
   "cell_type": "markdown",
   "id": "54f363ff-3f35-49f3-aafb-f5b134e5f15d",
   "metadata": {},
   "source": [
    "## 3 Plot-Anpassung\n",
    "\n",
    "Detaillierte Kontrolle über das Aussehen der Plots: <br>"
   ]
  },
  {
   "cell_type": "code",
   "execution_count": null,
   "id": "9a6cb27d-3767-4ce8-9f43-b546d09be22f",
   "metadata": {},
   "outputs": [],
   "source": [
    "# Plot mit verschiedenen Anpassungen\n",
    "plt.figure(figsize=(12, 6))\n",
    "\n",
    "# Verschiedene Linientypen und Marker\n",
    "plt.plot(x, np.sin(x), 'r--', label='Sinus', linewidth=2)\n",
    "plt.plot(x, np.cos(x), 'b.-', label='Cosinus', markersize=10)\n",
    "plt.plot(x, -np.sin(x), 'g:', label='-Sinus', linewidth=3)\n",
    "\n",
    "# Achsenbeschriftungen mit LaTeX\n",
    "plt.xlabel(r'$\\theta$ (rad)', fontsize=12)\n",
    "plt.ylabel(r'$f(\\theta)$', fontsize=12)\n",
    "\n",
    "# Titel mit Schriftart-Anpassung\n",
    "plt.title('Trigonometrische Funktionen', \n",
    "         fontsize=14, \n",
    "         fontweight='bold')\n",
    "\n",
    "# Gitternetz-Anpassung\n",
    "plt.grid(True, linestyle='--', alpha=0.7)\n",
    "\n",
    "# Legende mit Anpassung\n",
    "plt.legend(loc='upper right', \n",
    "          framealpha=0.9, \n",
    "          shadow=True)\n",
    "\n",
    "plt.show()"
   ]
  },
  {
   "cell_type": "markdown",
   "id": "e46dc655-babe-42a3-8e85-26e581070cfd",
   "metadata": {},
   "source": [
    "## 4 Statistische Visualisierungen\n",
    "\n",
    "Plots für statistische Daten: <br>"
   ]
  },
  {
   "cell_type": "code",
   "execution_count": null,
   "id": "e2f2e26f-5908-45e8-aee4-cb0707a7e5d7",
   "metadata": {},
   "outputs": [],
   "source": [
    "# Daten generieren\n",
    "data1 = np.random.normal(0, 1, 1000)\n",
    "data2 = np.random.normal(2, 1.5, 1000)\n",
    "\n",
    "plt.figure(figsize=(15, 5))\n",
    "\n",
    "# Box Plot\n",
    "plt.subplot(131)\n",
    "plt.boxplot([data1, data2], labels=['Set 1', 'Set 2'])\n",
    "plt.title('Box Plot')\n",
    "\n",
    "# Violin Plot\n",
    "plt.subplot(132)\n",
    "plt.violinplot([data1, data2])\n",
    "plt.title('Violin Plot')\n",
    "\n",
    "# KDE Plot\n",
    "plt.subplot(133)\n",
    "from scipy import stats\n",
    "x_range = np.linspace(-5, 8, 200)\n",
    "kde1 = stats.gaussian_kde(data1)\n",
    "kde2 = stats.gaussian_kde(data2)\n",
    "plt.plot(x_range, kde1(x_range), label='Set 1')\n",
    "plt.plot(x_range, kde2(x_range), label='Set 2')\n",
    "plt.title('KDE Plot')\n",
    "plt.legend()\n",
    "\n",
    "plt.tight_layout()\n",
    "plt.show()"
   ]
  },
  {
   "cell_type": "markdown",
   "id": "46f2a91b-0565-43e8-8feb-5028c4a1e3e4",
   "metadata": {},
   "source": [
    "## 5 3D-Plots\n",
    "\n",
    "Matplotlib kann auch 3D-Visualisierungen erstellen: <br>"
   ]
  },
  {
   "cell_type": "code",
   "execution_count": null,
   "id": "f1a3b46f-3365-4cc4-abc0-0e22b3f137ce",
   "metadata": {},
   "outputs": [],
   "source": [
    "from mpl_toolkits.mplot3d import Axes3D\n",
    "\n",
    "# 3D Daten generieren\n",
    "x = np.linspace(-5, 5, 100)\n",
    "y = np.linspace(-5, 5, 100)\n",
    "X, Y = np.meshgrid(x, y)\n",
    "Z = np.sin(np.sqrt(X**2 + Y**2))\n",
    "\n",
    "# 3D Surface Plot\n",
    "fig = plt.figure(figsize=(12, 5))\n",
    "\n",
    "ax1 = fig.add_subplot(121, projection='3d')\n",
    "surf = ax1.plot_surface(X, Y, Z, cmap='viridis')\n",
    "ax1.set_title('Surface Plot')\n",
    "fig.colorbar(surf)\n",
    "\n",
    "# 3D Wireframe\n",
    "ax2 = fig.add_subplot(122, projection='3d')\n",
    "wire = ax2.plot_wireframe(X, Y, Z, rstride=5, cstride=5)\n",
    "ax2.set_title('Wireframe Plot')\n",
    "\n",
    "plt.tight_layout()\n",
    "plt.show()"
   ]
  },
  {
   "cell_type": "markdown",
   "id": "67243d8e-57cc-4698-ba0b-188ebeb28c48",
   "metadata": {},
   "source": [
    "## 6 Spezialisierte Plots\n",
    "\n",
    "Matplotlib bietet auch spezialisierte Visualisierungen: <br>"
   ]
  },
  {
   "cell_type": "code",
   "execution_count": null,
   "id": "679070f0-eab6-4aa4-92f3-cbf3d44e6a92",
   "metadata": {},
   "outputs": [],
   "source": [
    "# Polarer Plot\n",
    "plt.figure(figsize=(12, 5))\n",
    "\n",
    "plt.subplot(121, projection='polar')\n",
    "theta = np.linspace(0, 2*np.pi, 100)\n",
    "r = 2*np.cos(4*theta)\n",
    "plt.plot(theta, r)\n",
    "plt.title('Polarer Plot')\n",
    "\n",
    "# Konturplot\n",
    "plt.subplot(122)\n",
    "plt.contour(X, Y, Z, levels=15, cmap='RdGy')\n",
    "plt.colorbar(label='z-Wert')\n",
    "plt.title('Konturplot')\n",
    "\n",
    "plt.tight_layout()\n",
    "plt.show()"
   ]
  },
  {
   "cell_type": "markdown",
   "id": "ac74f133-43c4-4713-b8a0-b5b2bfde5767",
   "metadata": {},
   "source": [
    "## 7 Stil und Design\n",
    "\n",
    "Matplotlib bietet verschiedene Stile und Themes: <br>"
   ]
  },
  {
   "cell_type": "code",
   "execution_count": null,
   "id": "4070d131-7d58-43e7-889b-91e92625f4cf",
   "metadata": {},
   "outputs": [],
   "source": [
    "# Verfügbare Stile anzeigen\n",
    "print(\"Verfügbare Stile:\", plt.style.available)\n",
    "\n",
    "# Verschiedene Stile demonstrieren\n",
    "data = np.random.randn(1000)\n",
    "\n",
    "styles = ['default', 'seaborn', 'ggplot', 'bmh']\n",
    "plt.figure(figsize=(15, 10))\n",
    "\n",
    "for i, style in enumerate(styles, 1):\n",
    "    with plt.style.context(style):\n",
    "        plt.subplot(2, 2, i)\n",
    "        plt.hist(data, bins=30)\n",
    "        plt.title(f'Style: {style}')\n",
    "\n",
    "plt.tight_layout()\n",
    "plt.show()"
   ]
  },
  {
   "cell_type": "markdown",
   "id": "01b7c29a-3fec-4544-a9f0-9c0b42fd395a",
   "metadata": {},
   "source": [
    "## Fazit:\n",
    "\n",
    "Matplotlib bietet: <br>\n",
    "- Vielfältige Plottypen für verschiedene Anwendungen <br>\n",
    "- Umfangreiche Anpassungsmöglichkeiten <br>\n",
    "- Unterstützung für statistische Visualisierungen <br>\n",
    "- 3D-Plotting-Fähigkeiten <br>\n",
    "- Verschiedene Stile und Designs <br>\n",
    "\n",
    "Diese Funktionen machen Matplotlib zur Standardbibliothek für wissenschaftliche Visualisierungen in Python. <br>"
   ]
  }
 ],
 "metadata": {
  "kernelspec": {
   "display_name": "Python 3 (ipykernel)",
   "language": "python",
   "name": "python3"
  },
  "language_info": {
   "codemirror_mode": {
    "name": "ipython",
    "version": 3
   },
   "file_extension": ".py",
   "mimetype": "text/x-python",
   "name": "python",
   "nbconvert_exporter": "python",
   "pygments_lexer": "ipython3",
   "version": "3.10.15"
  }
 },
 "nbformat": 4,
 "nbformat_minor": 5
}
