{
 "cells": [
  {
   "cell_type": "markdown",
   "id": "24f53f5e-92b2-49ec-ba83-d5eb19878b5d",
   "metadata": {},
   "source": [
    "# EDV-Coaching - Python\n",
    "## Einführung in Python\n",
    "***\n",
    "In diesem Notebook wird behandelt:\n",
    "- Grundlegende Datentypen\n",
    "- Kontrollstrukturen\n",
    "- Funktionen\n",
    "- Listen und Dictionaries\n",
    "- List Comprehension\n",
    "***\n",
    "\n",
    "## 1 Grundlegende Datentypen\n",
    "\n",
    "Python hat verschiedene eingebaute Datentypen: <br>"
   ]
  },
  {
   "cell_type": "code",
   "execution_count": 10,
   "id": "013dfa89-cdfd-4b79-bb05-4c4c5d2de73b",
   "metadata": {},
   "outputs": [
    {
     "name": "stdout",
     "output_type": "stream",
     "text": [
      "Typ von ganzzahl: <class 'int'>\n",
      "Typ von text: <class 'str'>\n",
      "Typ von wahr: <class 'bool'>\n"
     ]
    },
    {
     "data": {
      "text/plain": [
       "3.14"
      ]
     },
     "execution_count": 10,
     "metadata": {},
     "output_type": "execute_result"
    }
   ],
   "source": [
    "# Zahlen\n",
    "ganzzahl = 42                # Integer\n",
    "kommazahl = 3.14            # Float\n",
    "komplex_zahl = 1 + 2j       # Complex\n",
    "\n",
    "# Text\n",
    "text = \"Hallo Welt\"         # String\n",
    "multiline = \"\"\"Mehrere\n",
    "Zeilen\"\"\"                   # Mehrzeiliger String\n",
    "\n",
    "# Boolean\n",
    "wahr = True\n",
    "falsch = False\n",
    "\n",
    "# Ausgabe der Datentypen\n",
    "print(f\"Typ von ganzzahl: {type(ganzzahl)}\")\n",
    "print(f\"Typ von text: {type(text)}\")\n",
    "print(f\"Typ von wahr: {type(wahr)}\")\n",
    "\n",
    "kommazahl"
   ]
  },
  {
   "cell_type": "markdown",
   "id": "01804e58-4e57-433e-a492-32177e30bbf2",
   "metadata": {},
   "source": [
    "## 2 Kontrollstrukturen\n",
    "\n",
    "Python verwendet Einrückungen für Codeblöcke: <br>"
   ]
  },
  {
   "cell_type": "code",
   "execution_count": null,
   "id": "dc754f13-eeb2-4873-8a00-befbcd9e5898",
   "metadata": {},
   "outputs": [],
   "source": [
    "# If-Else Bedingung\n",
    "x = 42\n",
    "\n",
    "if x> 50:\n",
    "    print(\"x ist größer als 50\")\n",
    "elif x > 40:\n",
    "    print(\"x ist größer als 40\")\n",
    "else:\n",
    "    print(\"x ist kleiner oder gleich 40\")\n",
    "\n",
    "# For-Schleife\n",
    "for i in range(3):\n",
    "    print(f\"Durchgang {i}\")\n",
    "\n",
    "# While-Schleife\n",
    "counter = 0\n",
    "while counter < 3:\n",
    "    print(f\"Counter: {counter}\")\n",
    "    counter += 1"
   ]
  },
  {
   "cell_type": "markdown",
   "id": "20d1a45a-8beb-467e-9b46-837c6aec3f02",
   "metadata": {},
   "source": [
    "## 3 Funktionen\n",
    "\n",
    "Funktionen werden mit `def` definiert: <br>"
   ]
  },
  {
   "cell_type": "code",
   "execution_count": 7,
   "id": "52094fdd-8e47-4865-97fb-0c1905947ade",
   "metadata": {},
   "outputs": [
    {
     "name": "stdout",
     "output_type": "stream",
     "text": [
      "16\n",
      "Hallo, Python!\n",
      "Hi, Welt!\n",
      "27\n"
     ]
    }
   ],
   "source": [
    "# Einfache Funktion\n",
    "def quadrat(x):\n",
    "    return x * x\n",
    "\n",
    "# Funktion mit mehreren Parametern und Standardwert\n",
    "def greet(name, greeting=\"Hallo\"):\n",
    "    return f\"{greeting}, {name}!\"\n",
    "\n",
    "# Lambda-Funktion (anonyme Funktion)\n",
    "kubik = lambda x: x**3\n",
    "\n",
    "# Beispiele\n",
    "print(quadrat(4))           # 16\n",
    "print(greet(\"Python\"))      # Hallo, Python!\n",
    "print(greet(\"Welt\", \"Hi\"))  # Hi, Welt!\n",
    "print(kubik(3))             # 27"
   ]
  },
  {
   "cell_type": "markdown",
   "id": "474b312c-996a-4fa7-a850-c06f7207219e",
   "metadata": {},
   "source": [
    "## 4 Listen und Dictionaries\n",
    "\n",
    "Listen und Dictionaries sind wichtige Datenstrukturen in Python: <br>"
   ]
  },
  {
   "cell_type": "code",
   "execution_count": null,
   "id": "296b117b-a58d-4e3f-8975-a28f769b6e9f",
   "metadata": {},
   "outputs": [],
   "source": [
    "# Listen\n",
    "zahlen = [1, 2, 3, 4, 5]\n",
    "gemischt = [1, \"zwei\", 3.0, [4, 5]]\n",
    "\n",
    "# Listenoperationen\n",
    "zahlen.append(6)        # Hinzufügen am Ende\n",
    "erster = zahlen[0]      # Erstes Element\n",
    "letzter = zahlen[-1]    # Letztes Element\n",
    "teil = zahlen[1:4]      # Slicing (Elemente 1 bis 3)\n",
    "\n",
    "# Dictionaries\n",
    "person = {\n",
    "    \"name\": \"Max\",\n",
    "    \"alter\": 30,\n",
    "    \"stadt\": \"Berlin\"\n",
    "}\n",
    "\n",
    "# Dictionary-Operationen\n",
    "print(person[\"name\"])   # Zugriff auf Wert\n",
    "person[\"beruf\"] = \"Entwickler\"  # Neuer Eintrag\n",
    "alle_keys = person.keys()  # Alle Schlüssel\n"
   ]
  },
  {
   "cell_type": "markdown",
   "id": "83bcb336-da15-416b-97bc-ed413fb8043a",
   "metadata": {},
   "source": [
    "## 5 List Comprehension\n",
    "\n",
    "List Comprehension ist eine elegante Methode, Listen zu erstellen: <br>"
   ]
  },
  {
   "cell_type": "code",
   "execution_count": null,
   "id": "de3a09a6-f5c5-44a4-9fc5-8e03f53c7091",
   "metadata": {},
   "outputs": [],
   "source": [
    "# Traditionelle Schleife\n",
    "quadrate = []\n",
    "for i in range(5):\n",
    "    quadrate.append(i**2)\n",
    "\n",
    "# Gleiche Operation mit List Comprehension\n",
    "quadrate = [i**2 for i in range(5)]\n",
    "\n",
    "# Mit Bedingung\n",
    "gerade = [i for i in range(10) if i % 2 == 0]\n",
    "\n",
    "# Verschachtelte List Comprehension\n",
    "matrix = [[i+j for j in range(3)] for i in range(3)]"
   ]
  },
  {
   "cell_type": "markdown",
   "id": "b11565af-9f3e-40de-abcf-b10d35519778",
   "metadata": {},
   "source": [
    "## 6 Stringformatierung\n",
    "\n",
    "Python bietet verschiedene Möglichkeiten zur Stringformatierung: <br>"
   ]
  },
  {
   "cell_type": "code",
   "execution_count": null,
   "id": "fca6a635-bed4-40ef-83a9-8b2ed569d377",
   "metadata": {},
   "outputs": [],
   "source": [
    "name = \"Python\"\n",
    "version = 3.9\n",
    "\n",
    "# f-Strings (modern)\n",
    "print(f\"{name} Version {version}\")\n",
    "\n",
    "# format()-Methode\n",
    "print(\"{} Version {}\".format(name, version))\n",
    "\n",
    "# %-Formatierung (alt)\n",
    "print(\"%s Version %.1f\" % (name, version))"
   ]
  },
  {
   "cell_type": "markdown",
   "id": "10b8db54-ed3a-4309-9181-59e027b70876",
   "metadata": {},
   "source": [
    "## 7 Exception Handling\n",
    "\n",
    "Fehlerbehandlung in Python: <br>"
   ]
  },
  {
   "cell_type": "code",
   "execution_count": null,
   "id": "49f90ee3-9f3d-4cd2-969b-85bc7ed6df42",
   "metadata": {},
   "outputs": [],
   "source": [
    "# Try-Except Block\n",
    "try:\n",
    "    x = int(\"nicht_numerisch\")\n",
    "except ValueError as e:\n",
    "    print(e)\n",
    "finally:\n",
    "    print(\"Wird immer ausgeführt\")\n",
    "\n",
    "# Mehrere Exception-Typen\n",
    "def divide(a, b):\n",
    "    try:\n",
    "        return a / b\n",
    "    except ZeroDivisionError:\n",
    "        return \"Division durch Null!\"\n",
    "    except TypeError:\n",
    "        return \"Ungültige Typen!\""
   ]
  },
  {
   "cell_type": "markdown",
   "id": "5143ade9-01f2-4cfa-838b-8d94339e39e5",
   "metadata": {},
   "source": [
    "## Fazit:\n",
    "\n",
    "Python bietet: <br>\n",
    "- Klare, lesbare Syntax <br>\n",
    "- Vielseitige Datentypen und Strukturen <br>\n",
    "- Flexible Funktionsdefinitionen <br>\n",
    "- Effiziente Listenoperationen <br>\n",
    "- Umfangreiche Standardbibliothek <br>\n",
    "\n",
    "In den nächsten Notebooks werden wir auf diesen Grundlagen aufbauen und wissenschaftliche Bibliotheken erkunden. <br>"
   ]
  }
 ],
 "metadata": {
  "kernelspec": {
   "display_name": "Python 3 (ipykernel)",
   "language": "python",
   "name": "python3"
  },
  "language_info": {
   "codemirror_mode": {
    "name": "ipython",
    "version": 3
   },
   "file_extension": ".py",
   "mimetype": "text/x-python",
   "name": "python",
   "nbconvert_exporter": "python",
   "pygments_lexer": "ipython3",
   "version": "3.10.15"
  }
 },
 "nbformat": 4,
 "nbformat_minor": 5
}
