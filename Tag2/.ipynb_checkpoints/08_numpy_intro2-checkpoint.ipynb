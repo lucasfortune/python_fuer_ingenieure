{
 "cells": [
  {
   "cell_type": "markdown",
   "id": "a521d182-8148-4765-8516-22469886dbc2",
   "metadata": {},
   "source": [
    "# Python Grundlagen 8\n",
    "## Numpy\n",
    "***\n",
    "In diesem Notebook wird behandelt:\n",
    "- Iteration über Arrays\n",
    "- Umformen und Verketten von Arrays\n",
    "***"
   ]
  },
  {
   "cell_type": "markdown",
   "id": "a5ad6aaa-0327-493f-b074-7f5aab85a857",
   "metadata": {},
   "source": [
    "## 1. Bedingte Indizierung eines `numpy`-Arrays\n",
    " In der vorherigen Lektion haben wir gesehen, wie man ein Array durch **Slicing** entlang mehrerer Dimensionen indiziert: <br>\n",
    " <img src=\"./imgs/indexation_array_slicing2_en.png\" style = \"height:300px\"> <br>\n",
    " Eine fortgeschrittenere Technik ist die Indizierung der Elemente eines Arrays mittels einer **Bedingung**. Dies ermöglicht dir einen einfachen Zugriff auf und die Änderung von Elementen, die eine bestimmte Bedingung erfüllen: <br>\n",
    " ```python\n",
    " # Erstellen eines Arrays der Form 3x3\n",
    " X = np.array ([[-1, 0, 30],\n",
    "                [-2, 3, -5],\n",
    "                [5, -5, 10]])\n",
    "\n",
    " # Wir weisen allen negativen Elementen den Wert 0 zu\n",
    " X[X < 0] = 0\n",
    "\n",
    " # Anzeigen der modifizierten Matrix\n",
    " print(X)\n",
    "\n",
    " >>> [[0, 0, 30],\n",
    " >>>  [0, 3, 0 ],\n",
    " >>>  [5, 0, 10]]\n",
    " ```\n",
    " Zusätzlich ist es möglich, ein Array mittels einer Bedingung zu indizieren, die **auf einem anderen Array ausgewertet** wird: <br>\n",
    " ```python\n",
    " # Erstellen von 2 Arrays mit je 8 Elementen\n",
    " X = np.array([3, -7, -10, 3, 6, 5, 2, 9])\n",
    "\n",
    " y = np.array([0, 1, 1, 1, 0, 1, 0, 0])\n",
    "\n",
    " # Wir weisen den Elementen von X, für die der\n",
    " # Wert von y am entsprechenden Index gleich 1 ist, den Wert -1 zu\n",
    " X[y == 1] = -1\n",
    "\n",
    " # Anzeigen von X\n",
    " print(X)\n",
    " >>> [3, -1, -1, -1, 6, -1, 2, 9]\n",
    "\n",
    " # Anzeigen der Elemente von X, für die der Wert von y am entsprechenden Index 0 ist\n",
    " print(X[y == 0])\n",
    " >>> [3, 6, 2, 9]\n",
    " ```\n",
    "\n",
    "#### 1.1 Aufgaben:\n",
    "\n",
    "Wir haben Zugriff auf Daten eines amerikanischen Supermarkts, der sich auf den [Black Friday](https://en.wikipedia.org/wiki/Black_Friday_(shopping)) vorbereitet, einen Tag, an dem amerikanische Unternehmen sehr große Rabatte anbieten. <br>\n",
    "Die Daten sind auf 3 Arrays verteilt: <br>\n",
    "* `items`: Die Namen der rabattierten Artikel. <br>\n",
    "* `quantities`: Der verfügbare Bestand für jeden rabattierten Artikel. <br>\n",
    "* `discounts`: Der Rabatt für jeden Artikel. Artikel können einen Rabatt von 25, 50, 75 oder 90 Prozent haben. <br>\n",
    "\n",
    "\n",
    "> (a) Führe die folgende Zelle aus, um die Arrays mit den Supermarktdaten zu instanziieren. <br>\n"
   ]
  },
  {
   "cell_type": "code",
   "execution_count": null,
   "id": "b84f4a51-9020-4665-b12a-19836ee46877",
   "metadata": {},
   "outputs": [],
   "source": [
    "import numpy as np\n",
    "\n",
    "items = np.array([\"grid paper\", \"plate\", \"rubber band\", \"key chain\", \"bread\", \"speakers\", \"chocolate\",\n",
    "                  \"fridge\", \"bowl\", \"shirt\", \"truck\", \"canvas\", \"monitor\", \"piano\", \"sailboat\", \"clamp\",\n",
    "                  \"spring\", \"picture frame\", \"knife\", \"hanger\", \"pool stick\", \"buckel\", \"vase\", \"wagon\",\n",
    "                  \"balloon\", \"thread\", \"couch\", \"drawer\", \"packing peanuts\", \"bottle\", \"needle\",\n",
    "                  \"rusty nail\", \"blanket\", \"lamp\", \"box\", \"cookie jar\", \"washing machine\", \"paint brush\",\n",
    "                  \"puddle\", \"sketch pad\", \"sandal\", \"doll\", \"floor\", \"sidewalk\", \"sand paper\", \"stockings\",\n",
    "                  \"bag\", \"perfume\", \"magnet\", \"fake flowers\", \"street lights\", \"carrots\", \"purse\", \"thermostat\",\n",
    "                  \"candle\", \"mouse pad\", \"remote\", \"clothes\", \"rubber duck\", \"hair brush\", \"computer\", \"toe ring\",\n",
    "                  \"scotch tape\", \"nail file\", \"window\", \"table\", \"model car\", \"toothbrush\", \"shoes\", \"leg warmers\",\n",
    "                  \"cat\", \"pillow\", \"rug\", \"hair tie\", \"phone\", \"tooth picks\", \"brocolli\", \"newspaper\", \"towel\",\n",
    "                  \"watch\", \"lotion\", \"apple\", \"pants\", \"air freshener\", \"pen\", \"lace\", \"car\", \"headphones\",\n",
    "                  \"charger\", \"toilet\", \"candy wrapper\", \"soy sauce packet\", \"sticky note\", \"shoe lace\",\n",
    "                  \"zipper\", \"soda can\", \"bed\", \"cell phone\", \"lip gloss\", \"thermometer\"])\n",
    "\n",
    "quantities = np.array([310, 455, 295, 613, 812, 907, 564, 904, 829, 167, 517, 272, 416,\n",
    "                       14, 251, 476, 757, 343, 472,  71, 160, 996, 182, 721, 565, 582,\n",
    "                       279,  66, 297, 800, 914,  69, 498, 885, 114, 876, 635, 295, 146,\n",
    "                       601, 941, 100, 370, 467, 423, 101, 504, 298, 757, 291, 163, 970,\n",
    "                       921, 953, 458, 381, 692, 393, 749, 285, 454, 174,  37, 289, 863,\n",
    "                       885, 331, 585, 678, 834, 349, 732, 149, 486, 993, 869, 967, 537,\n",
    "                       220,  15, 457, 483, 387, 180, 579, 155, 134, 163, 314, 334, 429,\n",
    "                       154,  18, 426, 363, 146, 454, 902, 145,  95])\n",
    "\n",
    "discounts = np.array([25, 25, 50, 25, 50, 50, 50, 25, 50, 50, 25, 25, 25, 25, 50, 75, 25,\n",
    "                      50, 50, 50, 25, 25, 25, 25, 75, 50, 25, 25, 25, 25, 90, 50, 25, 25,\n",
    "                      25, 50, 50, 25, 25, 75, 75, 50, 25, 25, 50, 25, 90, 90, 50, 90, 25,\n",
    "                      25, 25, 25, 25, 25, 25, 50, 25, 25, 75, 50, 50, 25, 50, 25, 25, 50,\n",
    "                      25, 75, 25, 25, 50, 25, 25, 50, 75, 25, 25, 90, 25, 75, 25, 25, 25,\n",
    "                      25, 25, 25, 50, 50, 75, 25, 50, 25, 25, 50, 25, 25, 25, 75])"
   ]
  },
  {
   "cell_type": "markdown",
   "id": "7fb4c88d-a8ef-486c-817d-49063609d5f5",
   "metadata": {},
   "source": [
    "> (b) Zeige mit Hilfe der bedingten Indizierung auf den Arrays `items` und `quantities` die Namen und Anzahl der Artikel an, die einen Rabatt von 90% erhalten werden. <br>"
   ]
  },
  {
   "cell_type": "code",
   "execution_count": null,
   "id": "eeb81bf9-9e3f-444b-8984-de73d1696204",
   "metadata": {},
   "outputs": [],
   "source": [
    "# Deine Lösung:\n",
    "\n",
    "\n",
    "\n"
   ]
  },
  {
   "cell_type": "markdown",
   "id": "ab9be1a1-be15-4d37-9cfd-1867fab6bf97",
   "metadata": {
    "jp-MarkdownHeadingCollapsed": true
   },
   "source": [
    "#### Lösung:"
   ]
  },
  {
   "cell_type": "code",
   "execution_count": null,
   "id": "fff247fd-1eab-48d7-88dd-4b521d4f15f1",
   "metadata": {},
   "outputs": [],
   "source": [
    "# Ausgabe der Namen der Artikel mit 90% Rabatt\n",
    "print(items[discounts == 90])\n",
    "\n",
    "# Ausgabe der Anzahl der Artikel mit 90% Rabatt\n",
    "print(quantities[discounts == 90])"
   ]
  },
  {
   "cell_type": "markdown",
   "id": "d8b8e48f-d25f-43fa-a29d-142893925243",
   "metadata": {},
   "source": [
    "#### \n",
    "> (c) Du möchtest ein neues Handy (`\"cell phone\"`) und Lautsprecher (`\"speakers\"`) kaufen. Finde mit Hilfe der bedingten Indizierung auf `discounts` heraus, welcher Rabatt auf diese Artikel gewährt wird. <br>"
   ]
  },
  {
   "cell_type": "code",
   "execution_count": null,
   "id": "9c3733fc-6b4f-4040-9c2d-696bdf4b9889",
   "metadata": {},
   "outputs": [],
   "source": [
    "# Deine Lösung:\n",
    "\n",
    "\n",
    "\n"
   ]
  },
  {
   "cell_type": "markdown",
   "id": "367e5cb4-0510-4632-9da7-1241c661307a",
   "metadata": {
    "jp-MarkdownHeadingCollapsed": true
   },
   "source": [
    "#### Lösung:"
   ]
  },
  {
   "cell_type": "code",
   "execution_count": null,
   "id": "08bfac23-4e8b-4e90-accc-6acaa67f8dcc",
   "metadata": {},
   "outputs": [],
   "source": [
    "discount_cellphone = discounts[items == 'cell phone']\n",
    "print(\"Cell phones will be discounted by\", discount_cellphone[0], \"percent.\")\n",
    "\n",
    "\n",
    "discount_speaker = discounts[items == 'speakers']\n",
    "print(\"Speakers will be discounted by\", discount_speaker[0], \"percent.\")"
   ]
  },
  {
   "cell_type": "markdown",
   "id": "2db0c7bc-a80e-4d40-b057-a3a5eb248efb",
   "metadata": {},
   "source": [
    "#### \n",
    "> (d) Der Supermarktleiter möchte Artikel mit einer **Menge von 50 oder weniger** sowie deren entsprechende Rabatte identifizieren. Zeige die Namen und die entsprechenden Rabatte dieser Artikel an. <br>\n",
    ">\n",
    "> (e) Welcher Artikel wird voraussichtlich schnell ausverkauft sein? <br>"
   ]
  },
  {
   "cell_type": "code",
   "execution_count": null,
   "id": "f3e4016c-9c2a-4197-82ec-f03abc11dc8e",
   "metadata": {},
   "outputs": [],
   "source": [
    "# Deine Lösung:\n",
    "\n",
    "\n",
    "\n"
   ]
  },
  {
   "cell_type": "markdown",
   "id": "a483cfac-c200-47e5-8821-3bcc0735dc03",
   "metadata": {
    "jp-MarkdownHeadingCollapsed": true
   },
   "source": [
    "#### Lösung:"
   ]
  },
  {
   "cell_type": "code",
   "execution_count": null,
   "id": "7761b6f5-21fc-4349-842e-b852d3fd35e3",
   "metadata": {},
   "outputs": [],
   "source": [
    "print(\"Objects\", items[quantities <= 50])\n",
    "print(\"Discount\", discounts[quantities <= 50])\n",
    "\n",
    "print(\"\\n\")\n",
    "print(\"Watches ('watch') could be sold out very quickly because they are in small quantities and have a discount of 90%.\")\n"
   ]
  },
  {
   "cell_type": "markdown",
   "id": "43385209-eeea-44f3-9318-49c255eef48b",
   "metadata": {},
   "source": [
    "## 2. Iteration über die Elemente eines Arrays\n",
    " Ein Bildschirmpixel kann eine Farbe durch Überlagerung von 3 Kanälen simulieren, die den Farben Rot, Grün und Blau entsprechen. Durch Variation der Lichtintensität dieser Kanäle ist es möglich, einen großen Teil des für das menschliche Auge sichtbaren Farbspektrums abzudecken. <br>\n",
    "  <img src=\"./imgs/rgb_channels_en.png\" style = \"height:350px\"> <br>\n",
    " Aus diesem Grund wird ein **farbiges Bild** mit einer Größe von 32x32 Pixeln oft durch ein Array der Form 32x32x3 dargestellt, wobei die 3. Dimension der Helligkeitsintensität jedes Kanals für jedes Pixel des Bildes entspricht: <br>\n",
    " <img src=\"./imgs/rgb_array_en.png\" style = \"height:350px\"> <br>\n",
    "\n",
    "#### 2.1 Aufgaben:\n",
    "> (a) Führe die nachfolgende Zelle aus, um das Bild zu importieren, das der Zeichnung in den vorherigen Beispielen entspricht. <br>\n",
    "\n"
   ]
  },
  {
   "cell_type": "code",
   "execution_count": null,
   "id": "8b95fcba-ea25-42c8-b1ce-e5c6b9ebaba5",
   "metadata": {},
   "outputs": [],
   "source": [
    "import cv2\n",
    "import numpy as np\n",
    "import matplotlib.pyplot as plt\n",
    "\n",
    "# Image import\n",
    "img = cv2.imread(\"./imgs/mushroom32x32.png\")\n",
    "img = np.int64(img)\n",
    "\n",
    "# Image display\n",
    "_ = plt.imshow(img[:,:, ::-1])\n",
    "_ = plt.axis(\"off\")"
   ]
  },
  {
   "cell_type": "markdown",
   "id": "3bcced61",
   "metadata": {},
   "source": [
    "> (b) Das Bild ist im Array `img` gespeichert. Zeige die **Form** des erstellten Arrays an. "
   ]
  },
  {
   "cell_type": "code",
   "execution_count": null,
   "id": "f6ed7210",
   "metadata": {},
   "outputs": [],
   "source": [
    "# Deine Lösung:\n",
    "\n",
    "\n",
    "\n"
   ]
  },
  {
   "cell_type": "markdown",
   "id": "3dfe53ae",
   "metadata": {
    "jp-MarkdownHeadingCollapsed": true
   },
   "source": [
    "#### Lösung:"
   ]
  },
  {
   "cell_type": "code",
   "execution_count": 2,
   "id": "08abce49",
   "metadata": {},
   "outputs": [
    {
     "name": "stdout",
     "output_type": "stream",
     "text": [
      "(32, 32, 3)\n"
     ]
    }
   ],
   "source": [
    "# Ausgabe der Form des Arrays:\n",
    "print(img.shape)"
   ]
  },
  {
   "cell_type": "markdown",
   "id": "b46ef0d8",
   "metadata": {},
   "source": [
    "#### \n",
    "Um ein Farbbild in ein **Graustufenbild** umzuwandeln, musst du **für jedes Pixel des Bildes** den **Helligkeitsmittelwert über die 3 Kanäle** berechnen. <br>\n",
    " Wir müssen über jedes Pixel des Bildes iterieren, aber bei `numpy`-Arrays mit mehreren Dimensionen müssen die Iterationen **Dimension für Dimension** erfolgen: <br>\n",
    " ```python\n",
    " # Erstellen eines Arrays der Dimensionen 32x32x3 (Zeilen x Spalten x Kanäle)\n",
    " X = np.zeros(shape = (32, 32, 3))\n",
    "\n",
    " # Iteration über die erste Dimension des Arrays (die Zeilen)\n",
    " for row in X:\n",
    "     # Iteration über die zweite Dimension des Arrays (die Pixel der Zeilen)\n",
    "     for pixel in row:\n",
    "         # Iteration über die dritte Dimension des Arrays (die Kanäle des Pixels)\n",
    "         for channel in pixel:\n",
    "             ...\n",
    "             ...\n",
    " ```\n",
    " Ein Pixel eines Bildes ist ein Array mit 3 Elementen, die den Helligkeitsintensitäten der Kanäle entsprechen. Wir können den Durchschnitt dieser drei Elemente berechnen, um die Helligkeitsintensität des Pixels in Graustufen zu erhalten. <br>\n",
    "\n",
    "> (c) Definiere eine Funktion namens **`rgb_zu_grau`**, die ein Array `X` als Parameter nimmt. In dieser Funktion musst du: <br>\n",
    ">\n",
    "> * Ein mit Nullen gefülltes Array namens **`X_grau`** mit der **gleichen Anzahl von Zeilen und Spalten wie `X`** aber **mit einem einzigen Kanal** erstellen. Dieses Array wird die Lichtintensitäten der Pixel in Graustufen enthalten. <br>\n",
    "> \n",
    "> * **Über die Pixel** des Bildes iterieren und den **Durchschnitt der Intensitäten** der Pixelkanäle in `X_grau` am entsprechenden Index speichern. Du kannst den **`enumerate`**-Generator in deinen `for`-Schleifen verwenden, um die Pixel-Indizes zu erhalten. <br>\n",
    ">\n",
    "> Du kannst deine Funktion an `img` testen, um zu überprüfen, ob sie funktioniert, aber sei vorsichtig, das Original nicht zu überschreiben. <br>"
   ]
  },
  {
   "cell_type": "code",
   "execution_count": null,
   "id": "ea495bde",
   "metadata": {},
   "outputs": [],
   "source": [
    "# Deine Lösung\n",
    "\n",
    "\n",
    "\n"
   ]
  },
  {
   "cell_type": "markdown",
   "id": "fe40cc06",
   "metadata": {
    "jp-MarkdownHeadingCollapsed": true
   },
   "source": [
    "#### Lösung:"
   ]
  },
  {
   "cell_type": "code",
   "execution_count": null,
   "id": "8eb5e5f4",
   "metadata": {},
   "outputs": [],
   "source": [
    "def rgb_to_gray(X):\n",
    "    n_rows, n_columns, n_channels = X.shape\n",
    "    \n",
    "    # Erstelle erst ein Array gefüllt mit 0 mit derselben Anzahl an Reihen und Spalten wie X\n",
    "    # aber nur einem Channel\n",
    "    X_gray = np.zeros(shape = (n_rows, n_columns, 1))\n",
    "    \n",
    "    # Für jede Reihe des Bildes:\n",
    "    for i, row in enumerate(X):\n",
    "        # Für jeden Pixel der Reihe\n",
    "        for j, pixel in enumerate(row):\n",
    "            # Berechnen wir den Mittelwert der Channels\n",
    "            average = 0\n",
    "            for channel in pixel:\n",
    "                average += channel\n",
    "            average /= 3\n",
    "            \n",
    "            # Wir speichern das Ergebnis in X-gray\n",
    "            X_gray[i, j] = average\n",
    "            \n",
    "    return X_gray\n",
    "\n",
    "# Test\n",
    "grayscale_image = rgb_to_gray(img)"
   ]
  },
  {
   "cell_type": "markdown",
   "id": "ee2a602f",
   "metadata": {},
   "source": [
    "#### \n",
    "> (d) Führe die folgende Zelle aus, um das Ergebnis von `rgb_zu_grau` anzuzeigen. <br>"
   ]
  },
  {
   "cell_type": "code",
   "execution_count": null,
   "id": "dec61fc3",
   "metadata": {},
   "outputs": [],
   "source": [
    "img = cv2.imread(\"./imgs/mushroom32x32.png\")\n",
    "\n",
    "# Displaying the color image\n",
    "plt.subplot(1, 2, 1)\n",
    "_ = plt.imshow(img[:,:, :: - 1])\n",
    "_ = plt.axis(\"off\")\n",
    "\n",
    "# Displaying the gray scale image\n",
    "plt.subplot(1, 2, 2)\n",
    "_ = plt.imshow(rgb_to_gray(img)[..., 0], cmap = 'gray')\n",
    "_ = plt.axis(\"off\")"
   ]
  },
  {
   "cell_type": "markdown",
   "id": "f7d999fa-09fd-4de3-9cb4-22fba70f9221",
   "metadata": {},
   "source": [
    "## 3. Umformen eines Arrays\n",
    " Die **Form** eines Arrays bezieht sich auf seine Dimensionen. Die Änderung der Größe und Konfiguration eines Arrays wird als **Reshaping** bezeichnet. <br>\n",
    " Es gibt Fälle, in denen ein Array möglicherweise nicht die geeigneten Dimensionen für die **Visualisierung** oder **Verarbeitung mit Machine-Learning-Algorithmen** besitzt, die häufig mit **Vektoren** statt mit Matrizen arbeiten müssen. <br>\n",
    " In solchen Fällen kommt die **`reshape`**-Methode eines Arrays zum Einsatz, die es ermöglicht, die Array-Daten mit anderen Dimensionen neu aufzubauen. Das Argument der `reshape`-Methode bestimmt die gewünschte Form, die wir erreichen möchten: <br>\n",
    " ```python\n",
    " # Erstellen eines Arrays aus einer Liste von 10 Elementen\n",
    " X = np.array([i for i in range(1, 11)]) # 1, 2, ..., 10\n",
    "\n",
    " # Anzeigen der Dimensionen von X\n",
    " print(X.shape)\n",
    " >>> (10,)\n",
    "\n",
    " # Anzeigen von X\n",
    " print(X)\n",
    " >>> [1, 2, 3, 4, 5, 6, 7, 8, 9, 10]\n",
    "\n",
    " # Umformen des Arrays in eine Matrix mit 2 Zeilen und 5 Spalten\n",
    " X_reshaped = X.reshape((2, 5))\n",
    "\n",
    " # Anzeigen des neuen Arrays\n",
    " print(X_reshaped)\n",
    " >>> [[1, 2, 3, 4, 5],\n",
    " >>>  [6, 7, 8, 9, 10]]\n",
    " ```\n",
    " Das Umformen eines Arrays in jede beliebige **Form** ist möglich, solange **beide Formen die gleiche Anzahl von Elementen enthalten**. Im vorherigen Beispiel enthält das Array `X` 10 Elemente, was der gewünschten Form entspricht (2 x 5 = 10). <br>\n",
    " Als Nächstes werden wir kurz auf den **`digits`**-Datensatz aus dem **`scikit-learn`**-Modul eingehen, einer Python-Bibliothek, die häufig für die Erstellung von Machine-Learning-Modellen verwendet wird. <br>\n",
    " Der **`digits`**-Datensatz besteht aus **1797** Bildern, die handgeschriebene Ziffern von 0 bis 9 darstellen. Das Hauptziel dieses Datensatzes ist es, einen Machine-Learning-Algorithmus zu entwickeln, der handgeschriebene Zahlen erkennen kann. <br>\n",
    " Diese Bilder im Datensatz haben eine Auflösung von **8x8 Pixeln in Graustufen**. <br>\n",
    "\n",
    "#### 3.1 Aufgaben:\n",
    "> (a) Führe die nachfolgende Zelle aus, um den **digits**-Datensatz aus dem scikit-learn-Modul zu laden. <br>"
   ]
  },
  {
   "cell_type": "code",
   "execution_count": 4,
   "id": "0741ab5c",
   "metadata": {},
   "outputs": [],
   "source": [
    "# Die load_digits Funktion wird verwendet, um den 'digits' Datensatz in ein Array zu laden\n",
    "from sklearn.datasets import load_digits\n",
    "\n",
    "# Sie gibt ein Dictionary zurück,\n",
    "# das die Daten und Information über den Datensatz enthält\n",
    "digits = load_digits()\n",
    "\n",
    "# The data of the images are in the \"data\" key\n",
    "X = digits['data']\n"
   ]
  },
  {
   "cell_type": "markdown",
   "id": "3cd13d56-6aa6-4f2b-ba61-44ffa7358956",
   "metadata": {},
   "source": [
    " Alle Bilder wurden in das Array `X` geladen. <br>\n",
    ">\n",
    "> (b) Zeige mit Hilfe des `shape`-Attributs die Dimensionen von `X` an. <br>\n"
   ]
  },
  {
   "cell_type": "code",
   "execution_count": null,
   "id": "5514de88",
   "metadata": {},
   "outputs": [],
   "source": [
    "# Deine Lösung:\n",
    "\n",
    "\n",
    "\n"
   ]
  },
  {
   "cell_type": "markdown",
   "id": "6360b2e3-8034-430c-a436-bb19dbc92038",
   "metadata": {
    "jp-MarkdownHeadingCollapsed": true
   },
   "source": [
    "#### Lösung:"
   ]
  },
  {
   "cell_type": "code",
   "execution_count": 6,
   "id": "7e2d9fca-b8f2-4434-a37d-ad92809e86bc",
   "metadata": {},
   "outputs": [
    {
     "name": "stdout",
     "output_type": "stream",
     "text": [
      "(1797, 64)\n"
     ]
    }
   ],
   "source": [
    "print(X.shape)"
   ]
  },
  {
   "cell_type": "markdown",
   "id": "b4770974-e382-42ca-b79c-660c14b98923",
   "metadata": {},
   "source": [
    "#### \n",
    " Das Array `X`, das die Bilder enthält, hat die Dimension **1797x64**, was nicht mit den tatsächlichen Bilddimensionen übereinstimmt. <br>\n",
    " Um die Kompatibilität mit scikit-learn-Algorithmen zu gewährleisten, die keine Matrixdaten verarbeiten können, wurden die ursprünglichen **1797 Bilder der Dimension 8x8 in Vektoren der Größe 8x8 = 64 umgewandelt**. <br>\n",
    " Die 1797 Vektoren wurden **vertikal gestapelt**, um eine **Matrix** zu bilden, die `X` ergibt. Dies ermöglicht es, **den gesamten Datensatz** in einer einzigen Matrix zu haben. Jede Zeile von `X` entspricht daher einem Bild, das in einen Vektor umgewandelt wurde. <br>\n",
    " Wenn wir diese Bilder visualisieren möchten, müssen wir die 64-Element-Vektoren wieder in Matrizen mit den Dimensionen 8x8 umformen. Dies liegt daran, dass Funktionen zur Bildanzeige ausschließlich Matrizen und keine Vektoren verarbeiten können. <br>\n",
    " Um die Bilder in `X` anzuzeigen, werden wir `X` umformen, um ein Array mit den Dimensionen **1797x8x8** zu erhalten. <br>\n",
    ">\n",
    "> (c) Speichere das umgeformte Array `X` mit der Form `(1797, 8, 8)` in einem Array namens **`X_reshaped`**. <br>\n",
    ">\n",
    "> (d) Speichere das Bild am Index `1100` von `X_reshaped` in einem Array namens **`img`**. <br>"
   ]
  },
  {
   "cell_type": "code",
   "execution_count": null,
   "id": "fc0bac2e-0d4f-4178-8091-4200ca3a4b7d",
   "metadata": {},
   "outputs": [],
   "source": [
    "# Deine Lösung:\n",
    "\n",
    "\n",
    "\n"
   ]
  },
  {
   "cell_type": "markdown",
   "id": "0e9c3a91-e3e5-4b04-860e-ee94bdbce09f",
   "metadata": {
    "jp-MarkdownHeadingCollapsed": true
   },
   "source": [
    "#### Lösung:"
   ]
  },
  {
   "cell_type": "code",
   "execution_count": 7,
   "id": "22e302a3-d6c1-43a9-a4cc-b64a60b5b4c6",
   "metadata": {},
   "outputs": [],
   "source": [
    "X_reshaped = X.reshape((1797, 8, 8))\n",
    "\n",
    "img = X_reshaped[1100]"
   ]
  },
  {
   "cell_type": "markdown",
   "id": "a32201dc-8eee-4631-8395-fb577e4819cf",
   "metadata": {},
   "source": [
    "#### \n",
    "> (e) Führe die nächste Zelle aus, um `img` anzuzeigen. Kannst du die angezeigte Zahl erkennen? <br>"
   ]
  },
  {
   "cell_type": "code",
   "execution_count": null,
   "id": "b7b7f3a9-0c53-483a-9361-f31fc6cd7bd7",
   "metadata": {},
   "outputs": [],
   "source": [
    "import matplotlib.pyplot as plt\n",
    "\n",
    "_ = plt.imshow(img, cmap = 'gray')\n",
    "_ = plt.axis(\"off\")"
   ]
  },
  {
   "cell_type": "markdown",
   "id": "260bd490-b0d5-43af-a6b3-aa40107fa9b9",
   "metadata": {},
   "source": [
    "## 4. Verkettung von Arrays\n",
    " Manchmal ist es notwendig, mehrere Arrays zu verbinden, um einen Datensatz zu erstellen. Dafür können wir die Funktion `np.concatenate` verwenden: <br>\n",
    " ```python\n",
    " # Erstellen von zwei Arrays mit 3 Zeilen und 2 Spalten\n",
    " # Das erste ist mit 1 gefüllt\n",
    " X_1 = np.ones(shape = (2, 3))\n",
    " print(X_1)\n",
    "\n",
    " >>> [[1. 1. 1.]\n",
    " >>>  [1. 1. 1.]]\n",
    "\n",
    " # Das zweite ist mit 0 gefüllt\n",
    " X_2 = np.zeros(shape = (2, 3))\n",
    " print(X_2)\n",
    "\n",
    " >>> [[0. 0. 0.]\n",
    " >>>  [0. 0. 0.]]\n",
    "\n",
    " # Verkettung der beiden Arrays auf der Zeilenachse\n",
    " X_3 = np.concatenate([X_1, X_2], axis = 0)\n",
    " print(X_3)\n",
    "\n",
    " >>> [[1. 1. 1.]\n",
    " >>>  [1. 1. 1.]\n",
    " >>>  [0. 0. 0.]\n",
    " >>>  [0. 0. 0.]]\n",
    "\n",
    " # Verkettung der beiden Arrays auf der Spaltenachse\n",
    " X_4 = np.concatenate([X_1, X_2], axis = 1)\n",
    " print(X_4)\n",
    "\n",
    " >>> [[1. 1. 1. 0. 0. 0.]\n",
    " >>>  [1. 1. 1. 0. 0. 0.]]\n",
    " ```\n",
    " * Die zu verkettenden Arrays müssen als **Liste** oder **Tuple** übergeben werden. <br>\n",
    " * Das **`axis`**-Argument bestimmt **die Dimension, auf der** die Arrays verkettet werden sollen. Die Arrays müssen auf dieser Dimension die **gleiche Länge** haben. <br>\n",
    " <img src=\"./imgs/concatenate_arrays.png\" style = \"height:350px\"> <br>\n",
    " Das **`axis`**-Argument wird häufig in `numpy`-Funktionen verwendet. Bei einem 2-dimensionalen Array entspricht eine Operation entlang **`axis` 0** einer Operation entlang der **Zeilenachse** (erste Dimension), während eine Operation entlang **`axis` 1** sich auf die **Spaltenachse** (zweite Dimension) bezieht. <br>\n",
    "\n",
    "#### 4.1 Aufgaben:\n",
    "> (a) Speichere in einem Array namens `img1` das Bild, das sich am Index `560` von `X_reshaped` befindet. <br>\n",
    ">\n",
    "> (b) Speichere in einem Array namens `img2` das Bild, das sich am Index `561` von `X_reshaped` befindet. <br>\n",
    ">\n",
    "> (c) Verkette in einem Array namens `img3` die Arrays `img1` und `img2` **vertikal**, d.h. auf der Zeilenachse. <br>\n"
   ]
  },
  {
   "cell_type": "code",
   "execution_count": 9,
   "id": "562e15d4-0782-413e-81b3-0616787fe729",
   "metadata": {},
   "outputs": [],
   "source": [
    "# Deine Lösung:\n",
    "\n",
    "\n",
    "\n"
   ]
  },
  {
   "cell_type": "markdown",
   "id": "224d6396-404f-4d9a-81f9-1cb7b47dedf4",
   "metadata": {
    "jp-MarkdownHeadingCollapsed": true
   },
   "source": [
    "#### Lösung:"
   ]
  },
  {
   "cell_type": "code",
   "execution_count": 10,
   "id": "5e622344-7419-4ca1-a11d-1dc6ecb83c81",
   "metadata": {},
   "outputs": [],
   "source": [
    "# Speichern der Bilder\n",
    "img1 = X_reshaped[560]\n",
    "img2 = X_reshaped[561]\n",
    "\n",
    "# Vertikale Verkettung der Bilder\n",
    "img3 = np.concatenate([img1, img2], axis = 0)"
   ]
  },
  {
   "cell_type": "markdown",
   "id": "34caf9c7-cc83-403d-9426-aea962a4a979",
   "metadata": {},
   "source": [
    "#### \n",
    "> (d) Führe die nächste Zelle aus, um das Ergebnis der Verkettung anzuzeigen. <br>"
   ]
  },
  {
   "cell_type": "code",
   "execution_count": null,
   "id": "dd3a284a-f5ee-4618-99f9-5b188aab4dff",
   "metadata": {},
   "outputs": [],
   "source": [
    "## Das erste Bild\n",
    "plt.subplot(1, 3, 1)\n",
    "_ = plt.imshow(img1, cmap = 'gray')\n",
    "_ = plt.axis(\"off\")\n",
    "_ = plt.title(\"Image 1\")\n",
    "\n",
    "# Das zweite Bild\n",
    "plt.subplot(1, 3, 2)\n",
    "_ = plt.imshow(img2, cmap = 'gray')\n",
    "_ = plt.axis(\"off\")\n",
    "_ = plt.title(\"Image 2\")\n",
    "\n",
    "# Die Verkettung der Bilder\n",
    "plt.subplot(1, 3, 3)\n",
    "_ = plt.imshow(img3, cmap = 'gray')\n",
    "_ = plt.axis(\"off\")\n",
    "_ = plt.title(\"Vertical Concatenation\")\n",
    "\n",
    "# Anpassen der Größe\n",
    "fig = plt.gcf()\n",
    "fig.set_size_inches((10, 6))\n"
   ]
  }
 ],
 "metadata": {
  "kernelspec": {
   "display_name": "Python 3 (ipykernel)",
   "language": "python",
   "name": "python3"
  },
  "language_info": {
   "codemirror_mode": {
    "name": "ipython",
    "version": 3
   },
   "file_extension": ".py",
   "mimetype": "text/x-python",
   "name": "python",
   "nbconvert_exporter": "python",
   "pygments_lexer": "ipython3",
   "version": "3.10.15"
  }
 },
 "nbformat": 4,
 "nbformat_minor": 5
}
