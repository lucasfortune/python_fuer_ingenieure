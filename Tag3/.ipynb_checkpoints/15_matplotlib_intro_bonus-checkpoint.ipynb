{
 "cells": [
  {
   "cell_type": "markdown",
   "id": "59525393-4edc-4d7c-aedc-2c9f7dd03dd0",
   "metadata": {},
   "source": [
    "# Python Datenvisualisierung - Bonus\n",
    "## Matplotlib\n",
    "***\n",
    "In diesem Notebook wird behandelt:\n",
    "- Text\n",
    "- Annotierungen\n",
    "***"
   ]
  },
  {
   "cell_type": "markdown",
   "id": "38e70cde-3acb-4385-8ea6-170565ef577e",
   "metadata": {},
   "source": [
    "## 1. Text und Anmerkungen\n",
    "\n",
    "#### Bitte führe diese Zelle aus, bevor du mit der Übung beginnst"
   ]
  },
  {
   "cell_type": "code",
   "execution_count": null,
   "id": "520f15ae-1492-4ec6-b177-0048abc4c58b",
   "metadata": {},
   "outputs": [],
   "source": [
    "%matplotlib inline\n",
    "import matplotlib.pyplot as plt\n",
    "import numpy as np"
   ]
  },
  {
   "cell_type": "markdown",
   "id": "408fc9ae-6eda-410f-8665-f4591facea94",
   "metadata": {},
   "source": [
    "Es ist möglich, Text zu den Grafiken hinzuzufügen, indem du die Koordinaten angibst, an denen der Text beginnen soll, mit dem Befehl `plt.text`. <br>\n",
    "\n",
    "<span style=\"color:#09b038; text-decoration : underline\">Beispiel: Verwendung des Befehls **plt.text**</span><br>\n",
    "`plt.text(3, 5, 'meinText')` zeigt 'meinText' horizontal vom Punkt (3,5) der Grafik an. <br>\n",
    "\n",
    "#### 6.1 Aufgaben:\n",
    "> (a) Stelle das Liniendiagramm der Funktion $f(x)=cos(2\\pi x)$ im Intervall `[0,2]` dar. <br>\n",
    ">\n",
    "> (b) Begrenze die y-Achse auf `[-2, 2]`. <br>\n",
    ">\n",
    "> (c) Füge den Text 'lokales Maximum' zum Punkt `(0.8, 1.1)` hinzu."
   ]
  },
  {
   "cell_type": "code",
   "execution_count": 1,
   "id": "492381f8-ced2-45c6-a632-391b7159af19",
   "metadata": {},
   "outputs": [],
   "source": [
    "# Deine Lösung:\n",
    "\n",
    "\n",
    "\n"
   ]
  },
  {
   "cell_type": "markdown",
   "id": "7184d132-54b7-4433-91b6-8750ea2835a3",
   "metadata": {
    "jp-MarkdownHeadingCollapsed": true
   },
   "source": [
    "#### Lösung:"
   ]
  },
  {
   "cell_type": "code",
   "execution_count": null,
   "id": "4a2fbddd-8ea9-4a21-b12b-0c7e55753e31",
   "metadata": {},
   "outputs": [],
   "source": [
    "t = np.arange(0.0, 2.0, 0.01)\n",
    "# Wir erstellen die Sequenz von Punkten zwischen 0 und 2 mit einer Schrittweite von 0.01\n",
    "\n",
    "plt.plot(t, np.cos(2*np.pi*t))\n",
    "# Das Liniendiagramm der Funktion f(t)=cos(2*pi*t)\n",
    "plt.ylim(-2,2)\n",
    "# Die y-Achse wird zwischen -2 und 2 begrenzt\n",
    "\n",
    "plt.text(0.8, 1.1, 'lokales Maximum')\n",
    "# Der Text 'lokales Maximum' wird am Punkt (0.8, 1.1) der Grafik angezeigt"
   ]
  },
  {
   "cell_type": "markdown",
   "id": "2366015c-77c0-4ed3-bf8c-880bd11f7164",
   "metadata": {},
   "source": [
    "#### \n",
    "Um eine Anmerkung mit einem beschreibenden Pfeil hinzuzufügen, der auf einen bestimmten Punkt in der Grafik zeigt, verwende `plt.annotate`. <br>\n",
    "Diese Methode nimmt folgende Argumente: <br>\n",
    "- den Text, den du anzeigen möchtest\n",
    "- `xy`, das die Koordinaten angibt, wo sich der zu kommentierende Punkt befindet\n",
    "- `xytext`, das die Koordinaten des Punktes angibt, wo der Text beginnt\n",
    "- `arrowprops`, das die Eigenschaften des Anmerkungspfeils zwischen { } angibt: Farben, Pfeilgröße, Pfeilstil, etc.\n",
    "\n",
    "<span style=\"color:#09b038; text-decoration : underline\">Beispiel: Verwendung des Befehls **plt.annotate**</span><br>\n",
    "```python\n",
    "plt.annotate('Grenze', xy=(1, 2), xytext=(1, 2.5), arrowprops={'facecolor':'blau'})\n",
    "```\n",
    "Zeigt einen blauen Pfeil, der auf den Koordinatenpunkt (1, 2) zeigt und zeigt den Text 'Grenze' am Punkt (1, 2.5) an.\n",
    "\n",
    "> (d) Stelle in einer Gittergrafik das Liniendiagramm der Funktion $f(x) = sin(2\\pi x) \\times exp(-x)$ im Intervall `[0,5]` dar. <br>\n",
    ">\n",
    "> (e) Stelle die Liniendiagramme der Funktionen $exp(-x)$ und $-exp(-x)$ im gleichen Intervall dar. <br>\n",
    ">\n",
    "> (f) Füge einen grünen Anmerkungspfeil zum Punkt (1.5, 0.25) hinzu mit dem Text **'Asymptote: exp(-x)'**, der am Punkt `(2, 0.5)` beginnt. <br>\n",
    ">\n",
    "> (g) Füge einen roten Anmerkungspfeil zum Punkt (1.5, -0.25) hinzu mit dem Text **'Asymptote: -exp(-x)'**, der am Punkt `(2, -0.5)` beginnt."
   ]
  },
  {
   "cell_type": "code",
   "execution_count": 2,
   "id": "67d798ae-5398-41ea-98ac-872b2e9a63f5",
   "metadata": {},
   "outputs": [],
   "source": [
    "# Deine Lösung:\n",
    "\n",
    "\n",
    "\n"
   ]
  },
  {
   "cell_type": "markdown",
   "id": "69f19cc4-2ad4-47ab-aa0e-6a5207fc8a0f",
   "metadata": {
    "jp-MarkdownHeadingCollapsed": true
   },
   "source": [
    "#### Lösung:"
   ]
  },
  {
   "cell_type": "code",
   "execution_count": null,
   "id": "61af4cb4-73a8-40b2-bf76-476f459eabdd",
   "metadata": {},
   "outputs": [],
   "source": [
    "plt.grid(True)\n",
    "\n",
    "x = np.arange(0., 5., .01)\n",
    "\n",
    "y = np.sin(2*np.pi*x) * np.exp(-x)\n",
    "plt.plot(x, y)\n",
    "plt.plot(x, np.exp(-x))\n",
    "plt.plot(x, -np.exp(-x))\n",
    "\n",
    "plt.annotate('Asymptote: exp(-x)', xy=(1.5, 0.25), xytext=(2, 0.5), \n",
    "            arrowprops={'facecolor':'grün'})\n",
    "# Ein Pfeil wird erstellt, der auf den Punkt (1.5, 0.25) zeigt, mit der Anmerkung \"Asymptote: exp(-x)\"\n",
    "# die am Punkt (2, 0.5) beginnt. Dann geben wir ihm die grüne Farbe.\n",
    "\n",
    "plt.annotate('Asymptote: -exp(-x)', xy=(1.5, -0.25), xytext=(2, -0.5), \n",
    "            arrowprops={'facecolor':'rot'})"
   ]
  },
  {
   "cell_type": "markdown",
   "id": "a715537f-fe7e-446a-a0f4-79c61a6c4910",
   "metadata": {},
   "source": [
    "#### \n",
    "> (h) Um alle bisher erlernten Fähigkeiten zusammenzufassen, versuchen wir, die folgende Abbildung zu reproduzieren: <br>\n",
    "> <img src=\"./imgs/exoplot_en.png\" style=\"height:400px\">\n"
   ]
  },
  {
   "cell_type": "code",
   "execution_count": 3,
   "id": "ff4da2a9-c36a-4bcd-ab11-4ac03162e944",
   "metadata": {},
   "outputs": [],
   "source": [
    "# Deine Lösung:\n",
    "\n",
    "\n",
    "\n"
   ]
  },
  {
   "cell_type": "markdown",
   "id": "b6bd4051-40de-4418-99bb-19907906c17d",
   "metadata": {
    "jp-MarkdownHeadingCollapsed": true
   },
   "source": [
    "#### Lösung:"
   ]
  },
  {
   "cell_type": "code",
   "execution_count": null,
   "id": "149a5a7f-856d-4759-bffa-54a37b73aefd",
   "metadata": {},
   "outputs": [],
   "source": [
    "x = np.linspace(-6, 2, 40)\n",
    "# Eine Sequenz von 40 Punkten wird im Intervall [-6, 2] erstellt\n",
    "\n",
    "plt.grid(True, linestyle='--')\n",
    "# Ein Gitter wird zur Grafik hinzugefügt\n",
    "\n",
    "plt.plot(x, x**2, 'b', label='$x^2$')\n",
    "# Wir zeichnen das Liniendiagramm x^2 und geben ihm die entsprechende Beschriftung für die Legende\n",
    "\n",
    "plt.plot(x, np.exp(-x), 'g--', label='$exp(-x)$')\n",
    "# Das Liniendiagramm exp(-x) wird gestrichelt gezeichnet und erhält die entsprechende Beschriftung für die Legende\n",
    "\n",
    "plt.axis([-5,2,0,25])\n",
    "# Wir ändern die Amplitude der Achsen\n",
    "\n",
    "plt.plot([-3, -2, -2, -3, -3], [5, 5, 10, 10, 5], 'r', alpha=0.6)\n",
    "# Wir erstellen das Quadrat, das den Teil der Grafik umgibt, den wir reproduzieren werden\n",
    "# Das Argument 'alpha' gibt den Prozentsatz der Deckkraft der Zeichnung an (1 undurchsichtig, 0 unsichtbar transparent)\n",
    "\n",
    "plt.annotate('Zoom', xy=(-1.8, 7.5), xytext=(-0.5, 7.5), \n",
    "            arrowprops={'facecolor':'rot'})\n",
    "# Der rote Pfeil wird erstellt, mit dem Text 'Zoom', der auf den Punkt (-1.8, 7.5) zeigt\n",
    "\n",
    "plt.title('Meine Zusammenfassungsgrafik')\n",
    "# Die Grafik erhält einen Titel\n",
    "\n",
    "plt.legend()\n",
    "# Legenden werden angezeigt\n",
    "\n",
    "plt.axes([.55, 0.4, .2, .2])\n",
    "# Eine neue Grafik wird innerhalb der vorherigen erstellt,\n",
    "# deren untere linke Ecke am Punkt (0.55, 0.4) in relativer Entfernung beginnt,\n",
    "# wobei 0 den Ursprung und 1 das Ende der Achse darstellt.\n",
    "# Diese Grafik wird eine Breite und Höhe von 20% der Breite\n",
    "# und der Höhe der ursprünglichen Grafik haben.\n",
    "\n",
    "# Von nun an gelten die 'pyplot' Befehle nur noch für diese neue Grafik\n",
    "\n",
    "plt.plot(x, x**2, 'b')\n",
    "plt.plot(x, np.exp(-x), 'g--')\n",
    "# Wir zeichnen die gleichen Liniendiagramme wie zuvor\n",
    "\n",
    "plt.axis([-3,-2,5,10])\n",
    "# Aber wir begrenzen die Achsen auf die Koordinaten des Quadrats, das wir gezeichnet haben\n",
    "\n",
    "plt.xticks([])\n",
    "plt.yticks([])\n",
    "# Lösche die Graduierungen auf der neuen Grafik"
   ]
  }
 ],
 "metadata": {
  "kernelspec": {
   "display_name": "Python 3 (ipykernel)",
   "language": "python",
   "name": "python3"
  },
  "language_info": {
   "codemirror_mode": {
    "name": "ipython",
    "version": 3
   },
   "file_extension": ".py",
   "mimetype": "text/x-python",
   "name": "python",
   "nbconvert_exporter": "python",
   "pygments_lexer": "ipython3",
   "version": "3.10.15"
  }
 },
 "nbformat": 4,
 "nbformat_minor": 5
}
