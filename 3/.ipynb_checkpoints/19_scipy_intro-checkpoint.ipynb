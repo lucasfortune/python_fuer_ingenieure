{
 "cells": [
  {
   "cell_type": "markdown",
   "id": "788b111a-a092-474c-94a9-50deaf437c5a",
   "metadata": {},
   "source": [
    "# Python Grundlagen 19\n",
    "## SciPy - Einführung\n",
    "***\n",
    "In diesem Notebook wird behandelt:\n",
    "- Was ist SciPy?\n",
    "- Integration mit SciPy\n",
    "- Interpolation mit SciPy\n",
    "***\n",
    "\n",
    "## Einführung\n",
    "\n",
    "`scipy` (für *Scientific Python*) ist eine Python-Bibliothek, die auf `numpy` aufbaut und erweiterte Funktionen für wissenschaftliches Rechnen bereitstellt. Sie bietet effiziente Werkzeuge für Optimierung, lineare Algebra, Integration, Interpolation und andere Bereiche der technischen und wissenschaftlichen Datenverarbeitung. <br>\n",
    "\n",
    "Der Hauptvorteil von `scipy` liegt in seiner Sammlung von optimierten Algorithmen, die häufig in wissenschaftlichen Anwendungen benötigt werden. Diese sind nicht nur schnell, sondern auch gut getestet und zuverlässig. <br>\n",
    "\n",
    "## 1 Integration mit SciPy\n",
    "\n",
    "Die numerische Integration ist eine der Kernfunktionen von SciPy. Das Modul `scipy.integrate` bietet verschiedene Methoden zur Berechnung bestimmter Integrale: <br>\n",
    "\n",
    "```python\n",
    "# Import der benötigten Module\n",
    "from scipy import integrate\n",
    "import numpy as np\n",
    "\n",
    "# Definition einer Funktion zum Integrieren\n",
    "def f(x):\n",
    "    return np.sin(x)**2\n",
    "\n",
    "# Berechnung des bestimmten Integrals von 0 bis pi\n",
    "ergebnis, fehler = integrate.quad(f, 0, np.pi)\n",
    "\n",
    "print(f\"Integral von sin²(x) von 0 bis π = {ergebnis:.6f}\")\n",
    "print(f\"Geschätzter Fehler: {fehler:.2e}\")\n",
    "```\n",
    "\n",
    "Die Funktion `quad` ist die Standardmethode für die eindimensionale Integration. Sie gibt sowohl das Ergebnis als auch eine Fehlerabschätzung zurück. <br>\n",
    "\n",
    "#### 1.1 Aufgaben:\n",
    "> (a) Berechne das bestimmte Integral der Funktion f(x) = x * e^(-x) im Intervall [0, ∞). <br>\n",
    ">\n",
    "> Hinweis: Verwende `quad` mit `np.inf` als obere Grenze. <br>\n",
    ">\n",
    "> (b) Vergleiche das numerische Ergebnis mit dem analytischen Wert (= 1)."
   ]
  },
  {
   "cell_type": "code",
   "execution_count": 1,
   "id": "ed6dacdb-43ef-4ce2-85c5-5c48a524081a",
   "metadata": {},
   "outputs": [],
   "source": [
    "# Deine Lösung:\n",
    "\n",
    "\n",
    "\n"
   ]
  },
  {
   "cell_type": "markdown",
   "id": "410cfc66-c47b-4ee4-af93-ab67906e9fb7",
   "metadata": {
    "jp-MarkdownHeadingCollapsed": true
   },
   "source": [
    "#### Lösung:"
   ]
  },
  {
   "cell_type": "code",
   "execution_count": null,
   "id": "836541f7-4d64-4133-92e1-42ef344fb5fd",
   "metadata": {},
   "outputs": [],
   "source": [
    "from scipy import integrate\n",
    "import numpy as np\n",
    "\n",
    "# Definition der Funktion\n",
    "def f(x):\n",
    "    return x * np.exp(-x)\n",
    "\n",
    "# Berechnung des Integrals\n",
    "ergebnis, fehler = integrate.quad(f, 0, np.inf)\n",
    "\n",
    "print(f\"Numerisches Ergebnis: {ergebnis:.10f}\")\n",
    "print(f\"Absoluter Fehler zum analytischen Wert: {abs(1 - ergebnis):.2e}\")"
   ]
  },
  {
   "cell_type": "markdown",
   "id": "0752aa6f-1673-4161-a324-334e6f7c1f90",
   "metadata": {},
   "source": [
    "## 2 Interpolation mit SciPy\n",
    "\n",
    "Interpolation ist der Prozess, neue Datenpunkte zwischen bekannten Datenpunkten zu schätzen. SciPy bietet verschiedene Interpolationsmethoden im Modul `scipy.interpolate`: <br>\n",
    "\n",
    "```python\n",
    "from scipy import interpolate\n",
    "import numpy as np\n",
    "\n",
    "# Beispieldaten\n",
    "x = np.array([0, 1, 2, 3, 4, 5])\n",
    "y = np.array([0, 2, 4, 2, 1, 3])\n",
    "\n",
    "# Erstellen einer linearen Interpolationsfunktion\n",
    "f_linear = interpolate.interp1d(x, y)\n",
    "\n",
    "# Erstellen einer kubischen Interpolationsfunktion\n",
    "f_kubisch = interpolate.interp1d(x, y, kind='cubic')\n",
    "\n",
    "# Neue x-Werte für die Interpolation\n",
    "x_neu = np.linspace(0, 5, 100)\n",
    "\n",
    "# Berechnung der interpolierten Werte\n",
    "y_linear = f_linear(x_neu)\n",
    "y_kubisch = f_kubisch(x_neu)\n",
    "```\n",
    "\n",
    "#### 2.1 Aufgaben:\n",
    "> (a) Erstelle eine Funktion, die die Sinusfunktion an den Punkten x = 0, π/2, π, 3π/2, 2π sampelt. <br>\n",
    ">\n",
    "> (b) Vergleiche die lineare und kubische Interpolation dieser Punkte mit der tatsächlichen Sinusfunktion. <br>\n",
    ">\n",
    "> (c) Berechne den maximalen absoluten Fehler für beide Interpolationsmethoden."
   ]
  },
  {
   "cell_type": "code",
   "execution_count": 2,
   "id": "8c37e75b-d2f8-4772-8d3f-be0f8a3f7b9d",
   "metadata": {},
   "outputs": [],
   "source": [
    "# Deine Lösung:\n",
    "\n",
    "\n",
    "\n"
   ]
  },
  {
   "cell_type": "markdown",
   "id": "c1622413-4e3a-45f9-af45-51b52312c096",
   "metadata": {
    "jp-MarkdownHeadingCollapsed": true
   },
   "source": [
    "#### Lösung:"
   ]
  },
  {
   "cell_type": "code",
   "execution_count": null,
   "id": "0f51122c-391e-4333-89ad-aad33ac64b90",
   "metadata": {},
   "outputs": [],
   "source": [
    "import numpy as np\n",
    "from scipy import interpolate\n",
    "import matplotlib.pyplot as plt\n",
    "\n",
    "# Sampling-Punkte\n",
    "x_sample = np.array([0, np.pi/2, np.pi, 3*np.pi/2, 2*np.pi])\n",
    "y_sample = np.sin(x_sample)\n",
    "\n",
    "# Interpolationsfunktionen\n",
    "f_linear = interpolate.interp1d(x_sample, y_sample)\n",
    "f_kubisch = interpolate.interp1d(x_sample, y_sample, kind='cubic')\n",
    "\n",
    "# Feine Auflösung für Vergleich\n",
    "x_fein = np.linspace(0, 2*np.pi, 200)\n",
    "y_wahr = np.sin(x_fein)\n",
    "y_linear = f_linear(x_fein)\n",
    "y_kubisch = f_kubisch(x_fein)\n",
    "\n",
    "# Berechnung der Fehler\n",
    "max_fehler_linear = np.max(np.abs(y_wahr - y_linear))\n",
    "max_fehler_kubisch = np.max(np.abs(y_wahr - y_kubisch))\n",
    "\n",
    "print(f\"Maximaler Fehler (linear): {max_fehler_linear:.6f}\")\n",
    "print(f\"Maximaler Fehler (kubisch): {max_fehler_kubisch:.6f}\")"
   ]
  },
  {
   "cell_type": "markdown",
   "id": "79eb27e8-2446-4d8a-81be-184af554efa6",
   "metadata": {},
   "source": [
    "## Fazit:\n",
    "\n",
    "SciPy ist ein unverzichtbares Werkzeug für wissenschaftliche Berechnungen in Python. Seine Hauptvorteile sind: <br>\n",
    "\n",
    "- Effiziente und genaue numerische Algorithmen <br>\n",
    "- Breite Palette an mathematischen Funktionen <br>\n",
    "- Gute Integration mit NumPy und anderen wissenschaftlichen Python-Bibliotheken <br>\n",
    "- Ausführliche Dokumentation und aktive Community <br>\n",
    "\n",
    "In den kommenden Aufgaben werden wir weitere Funktionen von SciPy kennenlernen und in praktischen Anwendungen einsetzen. <br>"
   ]
  }
 ],
 "metadata": {
  "kernelspec": {
   "display_name": "Python 3 (ipykernel)",
   "language": "python",
   "name": "python3"
  },
  "language_info": {
   "codemirror_mode": {
    "name": "ipython",
    "version": 3
   },
   "file_extension": ".py",
   "mimetype": "text/x-python",
   "name": "python",
   "nbconvert_exporter": "python",
   "pygments_lexer": "ipython3",
   "version": "3.10.15"
  }
 },
 "nbformat": 4,
 "nbformat_minor": 5
}
