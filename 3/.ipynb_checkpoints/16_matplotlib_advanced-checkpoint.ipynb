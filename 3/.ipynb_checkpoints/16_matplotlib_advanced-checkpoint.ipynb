{
 "cells": [
  {
   "cell_type": "markdown",
   "id": "a1165b58-bf70-4bb1-a80e-ab1aad774462",
   "metadata": {},
   "source": [
    "# Python Datenvisualisierung\n",
    "## Matplotlib - Advanced\n",
    "***\n",
    "In diesem Notebook wird behandelt:\n",
    "- Klassen\n",
    "- Objekte\n",
    "***"
   ]
  },
  {
   "cell_type": "markdown",
   "id": "60a8a84a-66a9-411e-b47d-4c8c6bdfac88",
   "metadata": {},
   "source": [
    "## Einführung in Klassen und Objekte\n",
    "\n",
    "\n",
    "Willkommen zu diesem weiterführenden Kurs über Matplotlib. Du wirst lernen, wie du die Bibliothek auf eine neue Art und Weise nutzen und neue Arten von Grafiken entdecken kannst. <br>\n",
    "\n",
    "Im vorherigen Modul hast du gelernt, wie man mit dem Modul **`matplotlib.pyplot`** verschiedene Arten von Grafiken erstellt und manipuliert, aber das ist nicht die einzige Möglichkeit, `Matplotlib` zu verwenden. <br>\n",
    "\n",
    "Die **objektorientierte** Methode ist in Python die am besten geeignete Methode für die Interaktion mit Matplotlib. Es ist auch die mächtigste Art, mit `Matplotlib` zu programmieren, da sie eine vollständige Kontrolle über das Ergebnis ermöglicht, auch wenn sie komplexer ist. <br>\n",
    "\n",
    "Im vorherigen Kurs wurde kein Bezug auf Objekte genommen, die verschiedenen Objekte wurden automatisch im Hintergrund erstellt, wenn `pyplot`-Funktionen aufgerufen wurden. <br>\n",
    "\n",
    "Die am häufigsten verwendeten Objekte sind die Objekte der Klassen \"Figure\" und \"Axes\". Weitere Details findest du in der [Online-Dokumentation](http://matplotlib.org/contents.html). <br>\n",
    "\n",
    "Im Folgenden werden wir hauptsächlich Objekte verwenden, aber auch \"pyplot\" für einige elementare Anweisungen. <br>\n",
    "\n",
    "Mit den im vorherigen Modul gesehenen Funktionen erzeugt der folgende Code:\n",
    "```python\n",
    "x = np.arange(0, 10, 0.1)\n",
    "y = np.random.randn(len(x))\n",
    "plt.plot(x, y)\n",
    "plt.title('Zufallszahlen')\n",
    "```\n",
    "die Grafik:\n",
    "<img src=\"./imgs/exemple.png\" style=\"height:200px\">\n",
    "\n",
    "Mit dem **`pyplot`**-Modul wird beim Aufruf der Funktion `plot` automatisch eine **`Figure`** erstellt, durch einen versteckten Aufruf der Funktion `figure`. Ebenso wird automatisch eine Grafik (Objekt **'Axes'**) darin integriert. <br>\n",
    "\n",
    "Es ist möglich, diese Objekte explizit zu erstellen und sie dadurch direkt einfacher manipulieren zu können. <br>\n",
    "\n",
    "Hier ist derselbe Code im objektorientierten Stil umgeschrieben:\n",
    "```python\n",
    "x = np.arange(0, 10, 0.1)\n",
    "y = np.random.randn(len(x))\n",
    "fig = plt.figure()\n",
    "ax = fig.add_subplot(111)\n",
    "l = ax.plot(x, y)\n",
    "t = ax.set_title('Zufallszahlen')\n",
    "```\n",
    "\n",
    "Hier erstellen wir eine Figur namens **fig**, der wir mit der Methode `add_subplot` eine Grafik **ax** hinzufügen. <br>\n",
    "\n",
    "Die \"plot\"-Funktion, die auf die Grafik **ax** angewendet wird, gibt eine Liste von Line2D-Elementen zurück, eines für jede Linie (in diesem Fall gibt es nur eine). <br>\n",
    "Im obigen Code ist **l** eine Referenz auf das Linienobjekt, sodass jede Operation, die auf einem Line2D-Objekt erlaubt ist, mit **l** ausgeführt werden kann, was viel mehr Anpassungsmöglichkeiten erlaubt. <br>\n",
    "\n",
    "Um zum Beispiel die Farbe der Linie später zu ändern, nach dem Aufruf der `plot`-Funktion, ist es möglich, `l.set_color('rot')` zu verwenden, anstatt das Argument in der Funktion zu ändern. <br>\n",
    "\n",
    "#### Bitte führe diese Zelle aus, bevor du mit der Übung beginnst"
   ]
  },
  {
   "cell_type": "code",
   "execution_count": null,
   "id": "f14a746d-61aa-4c00-b82e-c3b1233bf9c6",
   "metadata": {},
   "outputs": [],
   "source": [
    "%matplotlib inline\n",
    "import matplotlib.pyplot as plt\n",
    "import numpy as np"
   ]
  },
  {
   "cell_type": "markdown",
   "id": "21782387-12a1-49ad-a0ac-3bf9f4731468",
   "metadata": {},
   "source": [
    "Um eine Grafik zu erstellen, brauchen wir eine Figur. Die Funktion `plt.figure` gibt eine Figur zurück, der wir eine oder mehrere Grafiken (Objekte 'Axes') hinzufügen können. Die Argumente `figsize` und `facecolor` ändern jeweils die Größe und die Hintergrundfarbe der Figur. <br>\n",
    "\n",
    "Die Funktion `fig.add_subplot(111)` gibt ein Axes-Objekt zurück, auf dem eine Grafik gezeichnet werden kann. <br>\n",
    "Es ist die häufigste Art, 'Axes' zu einer Figur hinzuzufügen. Die Methode `add_subplot` fügt ein '**`subplot`**' hinzu und hat 3 Parameter: `numrows, numcols, fignum`. <br>\n",
    "* *numrows* repräsentiert die Anzahl der Zeilen von *subplots*, die instanziiert werden sollen\n",
    "* *numcols* repräsentiert die Anzahl der Spalten von *subplots*, die instanziiert werden sollen\n",
    "* *fignum* variiert von $1$ bis $num_{rows} \\times num_{cols}$ und repräsentiert die Nummer des zu verwendenden *subplot*\n",
    "\n",
    "<span style=\"color:#09b038; text-decoration : underline\">Beispiele:</span><br>\n",
    "`ax = fig.add_subplot(1, 1, 1)`, wird verwendet, wenn nur eine Grafik benötigt wird. <br>\n",
    "\n",
    "`ax2 = fig.add_subplot(212)`, teilt die Figur in 2 subplots über 2 Zeilen und gibt an, dass wir auf dem zweiten arbeiten möchten. <br>\n",
    "\n",
    "Sobald 'Axes'-Objekte erstellt wurden, wird die Plot-Methode auf die zuletzt erstellte Instanz angewendet, wenn keine angegeben ist. <br>\n",
    "Um einer der Grafiken explizit Inhalt hinzuzufügen, wende die üblichen Funktionen als Methoden auf 'Axes' an. <br>\n",
    "\n",
    "<span style=\"color:#09b038; text-decoration : underline\">Beispiel:</span><br>\n",
    "`plt.barplot()` wird zu `ax.barplot()`\n",
    "\n",
    "#### 1.1 Aufgaben:\n",
    "> (a) Erstelle mit den Funktionen **`plt.figure`** und **`add_subplot`** eine Figur namens '**`fig`**' der Größe `(8,4)`, die aus zwei Grafiken '**`ax1`**' und '**`ax2`**' besteht, die nebeneinander auf derselben Zeile liegen. <br>\n",
    ">\n",
    "> (b) Zeichne im ersten subplot eine grüne Kurvenlinie, die durch die Punkte `(0,1), (2,3), (3,2)` geht. <br>\n",
    ">\n",
    "> (c) Zeichne im zweiten subplot das Histogramm aus der folgenden Liste von Elementen: `[1, 2, 2, 2, 3, 3, 4, 5, 5]`."
   ]
  },
  {
   "cell_type": "code",
   "execution_count": 1,
   "id": "048a0220-ab7f-4321-8519-08e830b8e1b0",
   "metadata": {},
   "outputs": [],
   "source": [
    "# Deine Lösung:\n",
    "\n",
    "\n",
    "\n"
   ]
  },
  {
   "cell_type": "markdown",
   "id": "559bb44c-9096-445f-8007-60865cb4b4c2",
   "metadata": {
    "jp-MarkdownHeadingCollapsed": true
   },
   "source": [
    "#### Lösung:"
   ]
  },
  {
   "cell_type": "code",
   "execution_count": null,
   "id": "fe3856ff-1629-4b9f-9846-17c195c3f199",
   "metadata": {},
   "outputs": [],
   "source": [
    "fig = plt.figure(figsize=(8,4))\n",
    "# Wir erstellen eine Figur\n",
    "\n",
    "ax1 = fig.add_subplot(121)\n",
    "# Wir fügen die erste Grafik zur Figur hinzu, die in 2 Spalten geteilt ist\n",
    "\n",
    "ax2 = fig.add_subplot(122)\n",
    "# Wir fügen die zweite Teilgrafik hinzu\n",
    "\n",
    "ax1.plot([0, 2, 3], [1, 3, 2], 'green')\n",
    "# In der ersten Grafik fügen wir ein Liniendiagramm hinzu\n",
    "\n",
    "ax2.hist([1, 2, 2, 2, 3, 3, 4, 5, 5])\n",
    "# In der zweiten erstellen wir ein Histogramm\n",
    "\n",
    "# Es wäre auch möglich, die Funktionen plt.plot() und plt.hist() zu verwenden,\n",
    "# aber wir verwenden hier lieber Objekte, um ihre Verwendung besser zu verstehen"
   ]
  },
  {
   "cell_type": "markdown",
   "id": "9951bb78-7edb-4b32-a70a-d13a28c6d0d4",
   "metadata": {},
   "source": [
    "#### Mehrere Figuren\n",
    "\n",
    "Mit `Matplotlib` ist es möglich, mehrere Figuren zu zeichnen, indem man die Funktion **`figure`** mehrmals hintereinander aufruft. Die Figuren können dann genauso wie eine einzelne Figur verwendet werden. <br>\n",
    "\n",
    "> (d) Stelle dieselben Grafiken wie in der vorherigen Aufgabe dar, aber auf zwei verschiedenen Figuren, namens '**`fig1`**' und '**`fig2`**'."
   ]
  },
  {
   "cell_type": "code",
   "execution_count": 2,
   "id": "7489140c-3c85-4746-b87d-149875538cf0",
   "metadata": {},
   "outputs": [],
   "source": [
    "# Deine Lösung:\n",
    "\n",
    "\n",
    "\n"
   ]
  },
  {
   "cell_type": "markdown",
   "id": "f5b51be4-e2e9-4441-b9b3-ccfc34863b4c",
   "metadata": {
    "jp-MarkdownHeadingCollapsed": true
   },
   "source": [
    "#### Lösung:"
   ]
  },
  {
   "cell_type": "code",
   "execution_count": null,
   "id": "5a25a715-6671-4a4c-8394-eab9ee0aace9",
   "metadata": {},
   "outputs": [],
   "source": [
    "fig1 = plt.figure()\n",
    "ax1 = fig1.add_subplot(111)\n",
    "ax1.plot([0, 2, 3], [1, 3, 2], 'green')\n",
    "\n",
    "fig2 = plt.figure()\n",
    "ax2 = fig2.add_subplot(111)\n",
    "ax2.hist([1, 2, 2, 2, 3, 3, 4, 5, 5])"
   ]
  },
  {
   "cell_type": "markdown",
   "id": "7e3fd614-2df1-4b19-ae31-aa4092cd93fa",
   "metadata": {},
   "source": [
    "#### Achsen benennen\n",
    "\n",
    "Die Befehle `set_xlabel` und `set_ylabel` weisen den Achsen x und y einer Grafik Beschriftungen zu, genauso wie die Funktionen `xlabel` und `ylabel` von `pyplot`. <br>\n",
    "\n",
    "##### Achsen hinzufügen\n",
    "\n",
    "In manchen Situationen ist es möglich, zwei verschiedene Datenreihen in derselben Grafik mit verschiedenen Beschriftungen darzustellen. Mit der Funktion `twinx` können wir ein neues Achsenpaar innerhalb einer bestehenden Grafik mit einer anderen Beschriftung auf der y-Achse erstellen. Umgekehrt können wir mit `twiny` die Ordinatenachse teilen und verschiedene Abszissen haben. <br>\n",
    "\n",
    "<span style=\"color:#09b038; text-decoration : underline\">Beispiel: Erstellen eines neuen Achsenpaars</span><br>\n",
    "Der Code\n",
    "```python\n",
    "x = np.arange(-10, 10, 0.1)\n",
    "y1 = x**2\n",
    "y2 = x**3\n",
    "fig = plt.figure()\n",
    "ax1 = fig.add_subplot(111)\n",
    "ax1.plot(x, y1)\n",
    "ax1.set_ylabel('x quadriert')\n",
    "ax2 = ax1.twinx()   # Die wichtige Zeile!\n",
    "ax2.plot(x, y2, 'r')\n",
    "ax2.set_ylabel('x hoch 3')\n",
    "```\n",
    "\n",
    "erzeugt die folgende Grafik:\n",
    "<img src=\"./imgs/twinx.png\" style=\"height:250px\">\n",
    "\n",
    "Ein zweites 'Axes'-Objekt wird mit der Funktion `twinx` erstellt und dem ersten überlagert. Daher ist es notwendig, der zweiten Kurve eine andere Farbe zu geben, sonst wäre sie blau wie bei einer neuen Grafik. <br>\n",
    "\n",
    "> (e) Erstelle eine Sequenz **`x`** zwischen `0.1` und der Konstanten **`e`** mit einer Schrittweite von `0.01`. <br>\n",
    ">\n",
    "> (f) Erstelle die Reihen **`y1`** und **`y2`**, die jeweils $exp(-x)$ und $log(x)$ entsprechen. <br>\n",
    ">\n",
    "> (g) Stelle in derselben Figur **`fig`** die Kurven zu `(x, y1)` und `(x, y2)` mit zwei verschiedenen Y-Achsen dar, die erste mit der Beschriftung 'Werte von Y für exp(-x)' und die zweite mit der Beschriftung 'Werte von Y für ln(x)'. <br>\n",
    "\n",
    "<div class=\"alert alert-success\">\n",
    "<i class=\"fa fa-question-circle\"></i> &emsp; \n",
    "Die Zahl <b>e</b> (etwa 2,718) sowie die Exponential- und Logarithmusfunktionen sind Konstanten, die im Modul numpy bereitgestellt werden.\n",
    "</div>\n"
   ]
  },
  {
   "cell_type": "code",
   "execution_count": 6,
   "id": "dd5c4161-7653-42fc-a2c9-d2d012e7c2be",
   "metadata": {},
   "outputs": [],
   "source": [
    "# Deine Lösung:\n",
    "\n",
    "\n",
    "\n"
   ]
  },
  {
   "cell_type": "markdown",
   "id": "af8e154b-e014-4d31-b104-9caf8503d014",
   "metadata": {
    "jp-MarkdownHeadingCollapsed": true
   },
   "source": [
    "#### Lösung:"
   ]
  },
  {
   "cell_type": "code",
   "execution_count": null,
   "id": "ed18b01b-2096-41fd-92ff-2a970b2ce483",
   "metadata": {},
   "outputs": [],
   "source": [
    "x = np.arange(0.1, np.e, 0.01)\n",
    "y1 = np.exp(-x)\n",
    "y2 = np.log(x)\n",
    "\n",
    "fig = plt.figure()\n",
    "ax1 = fig.add_subplot(111)\n",
    "ax1.plot(x, y1)\n",
    "ax1.set_ylabel('Werte von Y für exp(-x)')\n",
    "\n",
    "ax2 = ax1.twinx() # wichtige Funktion!\n",
    "ax2.plot(x, y2, 'r')\n",
    "ax2.set_xlim([0.1, np.e])\n",
    "ax2.set_ylabel('Werte von Y für ln(x)')"
   ]
  },
  {
   "cell_type": "markdown",
   "id": "1e9d9cdf-202e-4479-8d23-7d32bb8e2af2",
   "metadata": {},
   "source": [
    "#### Eine Achse teilen\n",
    "\n",
    "Manchmal ist es vorzuziehen, **mehrere Grafiken** in derselben Figur als *subplots* zu drucken und eine Achse zu teilen, mit den Argumenten `sharex` und `sharey` der Funktion `add_subplot`. <br>\n",
    "Es ist auch möglich, diese beiden Argumente zusammen zu verwenden, was nützlich sein kann, wenn verschiedene Daten dieselbe Maßeinheit haben. <br>\n",
    "\n",
    "<span style=\"color:#09b038; text-decoration : underline\">Beispiel: Mehrere Grafiken zeichnen</span><br>\n",
    "\n",
    "Der Code\n",
    "```python\n",
    "x = np.arange(11)\n",
    "fig = plt.figure()\n",
    "ax1 = fig.add_subplot(311)\n",
    "ax1.plot(x, x)\n",
    "ax2 = fig.add_subplot(312, sharex=True)\n",
    "ax2.plot(2*x, 2*x)\n",
    "ax3 = fig.add_subplot(313, sharex=True)\n",
    "ax3.plot(3*x, 3*x)\n",
    "```\n",
    "\n",
    "druckt die folgende Figur:\n",
    "<img src=\"./imgs/sharex.png\" style=\"height:250px\">\n",
    "\n",
    "Die x-Achse geht von `0` bis `30`, weil die Grenzen angepasst werden, um alle Grafiken in der Figur darzustellen. <br>\n",
    "\n",
    "> (h) Erstelle eine Sequenz von Zahlen von `0` bis `10` mit einer Schrittweite von `0.01`. <br>\n",
    ">\n",
    "> (i) Erstelle eine Figur namens **`fig`**, in die wir 4 'Axes'-Objekte mit der Funktion **`add_subplot`** einfügen. <br>\n",
    ">\n",
    "> (j) In der ersten, '**`ax1`**', zeichnen wir die Linie **`(x, sin(x))`**. <br>\n",
    ">\n",
    "> (k) In der zweiten, '**`ax2`**', die Linie **`(-x, cos(x))`**. <br>\n",
    ">\n",
    "> (l) In der dritten die Linie **`(x*2, sin(x*2))`**, die die x-Achse mit **`ax1`** teilt. <br>\n",
    ">\n",
    "> (m) In der vierten die Linie **`(x, cos(x))`**, die die x-Achse mit **`ax2`** teilt."
   ]
  },
  {
   "cell_type": "code",
   "execution_count": 7,
   "id": "059705e4-44e8-4939-9c03-786bec1fb326",
   "metadata": {},
   "outputs": [],
   "source": [
    "# Deine Lösung:\n",
    "\n",
    "\n",
    "\n"
   ]
  },
  {
   "cell_type": "markdown",
   "id": "5797db97-d1f0-4e57-8a88-af44fe3455f8",
   "metadata": {
    "jp-MarkdownHeadingCollapsed": true
   },
   "source": [
    "#### Lösung:"
   ]
  },
  {
   "cell_type": "code",
   "execution_count": null,
   "id": "bb2fec97-294c-4a44-a12a-0604cec2dad1",
   "metadata": {},
   "outputs": [],
   "source": [
    "x = np.arange(0,10,0.01)\n",
    "\n",
    "fig = plt.figure()\n",
    "ax1 = fig.add_subplot(221)\n",
    "ax1.plot(x, np.sin(x));\n",
    "ax2 = fig.add_subplot(222)\n",
    "ax2.plot(-x, np.cos(x));\n",
    "ax3 = fig.add_subplot(223, sharex=ax1)\n",
    "ax3.plot(x*2, np.sin(x*2));\n",
    "ax4 = fig.add_subplot(224, sharex=ax2)\n",
    "ax4.plot(x, np.cos(x));"
   ]
  },
  {
   "cell_type": "markdown",
   "id": "a2911cb3-30d1-4bf6-b3a1-6a4c22530491",
   "metadata": {},
   "source": [
    "#### \n",
    "Figuren, Plots und Subplots können mit einem einzigen Befehl erstellt werden, dank der Funktion `plt.subplots` (achte auf das **s**), die die Anzahl der Zeilen und Spalten als Eingabe nimmt. <br>\n",
    "\n",
    " Hier sind die Argumente `sharex` und `sharey` boolesche Werte **True** oder **False**, die es ermöglichen, die Achsen der Grafiken einheitlich oder unterschiedlich anzupassen. <br>\n",
    "\n",
    " <span style=\"color:#09b038; text-decoration : underline\"> Beispiel: Verwendung der Funktion **plt.subplots** </span><br> \n",
    "\n",
    " `fig,axes = plt.subplots(3,2,sharex=True,sharey=True)`\n",
    "\n",
    " Die Tabelle *axes* enthält alle erstellten Teilgrafiken. Um auf die Grafik in der $i.$ Zeile und der $j.$ Spalte zuzugreifen, kann man `axes[i,j]` verwenden. <br>\n",
    "\n",
    "* **(o)** Erstelle eine Figur mit vier Teilgrafiken in zwei verschiedenen Zeilen und Spalten, die sich die gleichen Achsen teilen <br>\n",
    "\n",
    "* **(p)** Füge mithilfe von zwei **for**-Schleifen in jede Grafik ein schwarzes Histogramm mit 500 Zufallswerten aus **`np.random.randn`** in 50 Intervallen ein. Setze die Transparenz (*alpha*) auf 0,5 <br>\n",
    "\n",
    "<div class=\"alert alert-info\">\n",
    "<i class=\"fa fa-info-circle\"></i> &emsp; \n",
    "    Der Parameter <b>alpha</b> existiert für alle Grafiken und regelt den Transparenzgrad (0 = transparent, 1 = undurchsichtig).</div>"
   ]
  },
  {
   "cell_type": "code",
   "execution_count": 9,
   "id": "f428db2f-d1a6-43ce-b54a-3a81a1634af6",
   "metadata": {},
   "outputs": [],
   "source": [
    "# Deine Lösung:\n",
    "\n",
    "\n",
    "\n"
   ]
  },
  {
   "cell_type": "markdown",
   "id": "42454d7f-d867-4867-9d69-6b1fe8acea6e",
   "metadata": {},
   "source": [
    "#### Lösung:"
   ]
  },
  {
   "cell_type": "code",
   "execution_count": null,
   "id": "5b4f2a14-4e65-4093-abfe-059dc9e03758",
   "metadata": {},
   "outputs": [],
   "source": [
    "fig,axes = plt.subplots(2,2,sharex=True,sharey=True)\n",
    "# Die vier Teilgrafiken wurden erstellt.\n",
    "# Sharex und sharey zeigen an, dass die Teilgrafiken die gleichen Achsen haben\n",
    "for i in range(2):\n",
    "    for j in range(2):\n",
    "        axes[i,j].hist(np.random.randn(500), bins=50, color='black', alpha=0.5)\n",
    "# Das Objekt \"axes\" ist ein 2D-Array, einfach zu indizieren und zu durchlaufen"
   ]
  }
 ],
 "metadata": {
  "kernelspec": {
   "display_name": "Python 3 (ipykernel)",
   "language": "python",
   "name": "python3"
  },
  "language_info": {
   "codemirror_mode": {
    "name": "ipython",
    "version": 3
   },
   "file_extension": ".py",
   "mimetype": "text/x-python",
   "name": "python",
   "nbconvert_exporter": "python",
   "pygments_lexer": "ipython3",
   "version": "3.10.15"
  }
 },
 "nbformat": 4,
 "nbformat_minor": 5
}
