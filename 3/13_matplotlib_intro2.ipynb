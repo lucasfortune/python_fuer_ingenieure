{
 "cells": [
  {
   "cell_type": "markdown",
   "id": "f46f8eaa-6a18-4ccb-9915-0682740d6137",
   "metadata": {},
   "source": [
    "# Python Datenvisualisierung 2\n",
    "## Matplotlib\n",
    "***\n",
    "In diesem Notebook wird behandelt:\n",
    "- Balkendiagramme\n",
    "- Streudiagramme oder Scatterplots\n",
    "- Histogramme\n",
    "***"
   ]
  },
  {
   "cell_type": "markdown",
   "id": "be3b5309-89f3-4617-8b0a-ac79fcddc61b",
   "metadata": {},
   "source": [
    "## 1. Balkendiagramme\n",
    "\n",
    "\n",
    "#### Bitte führe diese Zelle aus, bevor du mit der Übung beginnst"
   ]
  },
  {
   "cell_type": "code",
   "execution_count": 1,
   "id": "554763ed-260b-493a-b717-17ba32977afa",
   "metadata": {},
   "outputs": [],
   "source": [
    "#%matplotlib widget\n",
    "import matplotlib.pyplot as plt\n",
    "import numpy as np\n",
    "import pandas as pd"
   ]
  },
  {
   "cell_type": "markdown",
   "id": "726341bf-33f0-4b05-9b8b-b8ff12971f3d",
   "metadata": {},
   "source": [
    "Die Funktion **`plt.bar`** ermöglicht es dir, vertikale Balkendiagramme mit einer oder mehreren numerischen Reihen zu erstellen. <br>\n",
    "\n",
    "Um die Balken zu zeichnen, musst du der Funktion nur zwei Argumente übergeben: Das erste sind die Positionen der x-Achse, auf denen die Balken zentriert werden, und das zweite Argument ist die Höhe jedes Balkens. <br>\n",
    "\n",
    "Die wichtigsten zusätzlichen Parameter sind: die Füllfarbe der Balken (`color`) und die relative Breite jedes Balkens (`width` ist standardmäßig 0,8, d.h. etwa 20% Leerraum zwischen den Balken). <br>\n",
    "\n",
    "<span style=\"color:#09b038; text-decoration : underline\">Beispiel:</span><br>\n",
    "`plt.bar(range(4), [2, 3, 4, 5], color = 'green', width = 0.6)` erstellt folgendes *Balkendiagramm*: <br>\n",
    "\n",
    "<img src=\"../imgs/barp.png\" style=\"height:200px\">\n",
    "\n",
    "Wie bei allen **`pyplot`** Funktionen gibt es viele weitere Parameter: <br>\n",
    "\n",
    "  |  <p class=\"text-center\">Parameter</p> | <p class=\"text-center\">Beschreibung</p> |\n",
    "  |:---:|:---:|\n",
    "  |  <p class=\"text-center\">`edgecolor`</p> | <p class=\"text-center\">Farbe der Balkenränder</p> |\n",
    "  |  <p class=\"text-center\">`linewidth`</p> | <p class=\"text-center\">Breite der Linien</p> |\n",
    "  |  <p class=\"text-center\">`yerr`</p> | <p class=\"text-center\">Werte der Fehlerbalken</p> |\n",
    "  |  <p class=\"text-center\">`ecolor`</p> | <p class=\"text-center\">Farbe der Fehlerbalken</p> |\n",
    "  |  <p class=\"text-center\">`align`</p> | <p class=\"text-center\">ob x-Markierungen die Zentren oder die linken Ecken der Balken sind</p> |\n",
    "  |  <p class=\"text-center\">`orientation`</p> | <p class=\"text-center\">'horizontal' für ein horizontales Balkendiagramm</p> |\n",
    "  |  <p class=\"text-center\">`hatch`</p> | <p class=\"text-center\">Schraffierungen: mögliche Formen: '/', '\\\\', '-', '+', 'x', 'o', 'O', '.', '*'</p> |\n",
    "\n",
    "#### 1.1 Aufgaben:\n",
    "> (a) Erstelle ein Balkendiagramm mit x-Werten von `0` bis `6` und Höhen `[3,4,5,6,5,4,3]`, mit einer Breite von 0.6 und blauer Füllfarbe. <br>"
   ]
  },
  {
   "cell_type": "code",
   "execution_count": null,
   "id": "74b160d1-da72-4e36-8dce-70fd4dde3af7",
   "metadata": {},
   "outputs": [],
   "source": [
    "# Deine Lösung:\n",
    "\n",
    "\n",
    "\n"
   ]
  },
  {
   "cell_type": "markdown",
   "id": "ef8c3e63-1db1-4ad3-b665-523ee13951dd",
   "metadata": {},
   "source": [
    "#### Lösung:"
   ]
  },
  {
   "cell_type": "code",
   "execution_count": null,
   "id": "04871491-8be7-4429-8b2f-3785820c7a06",
   "metadata": {},
   "outputs": [],
   "source": [
    "plt.bar(range(7), [3,4,5,6,5,4,3], width=0.6)\n",
    "plt.show()"
   ]
  },
  {
   "cell_type": "markdown",
   "id": "ace2c21e-95a8-4cb3-9625-e771369589fa",
   "metadata": {},
   "source": [
    "#### \n",
    "> (b) Lies die Datei `'sales_data.csv'` in einen Dataframe ein. <br>\n",
    ">\n",
    "> (c) Stelle die Anzahl der verkauften Produkte vom Typ 1: ```\"Product1\"``` pro Monat in einem Balkendiagramm dar. <br>"
   ]
  },
  {
   "cell_type": "code",
   "execution_count": null,
   "id": "7e0421bb-de08-4b20-8935-f34452f1d392",
   "metadata": {},
   "outputs": [],
   "source": [
    "# Deine Lösung:\n",
    "\n",
    "\n",
    "\n"
   ]
  },
  {
   "cell_type": "markdown",
   "id": "b2390cb2-1842-4f1d-a16e-541e2215dd8c",
   "metadata": {},
   "source": [
    "#### Lösung:"
   ]
  },
  {
   "cell_type": "code",
   "execution_count": null,
   "id": "666426c4-c54e-4ee4-9b2b-841e52785132",
   "metadata": {},
   "outputs": [],
   "source": [
    "df = pd.read_csv('../data/sales_data.csv')\n",
    "#print(df.head())\n",
    "plt.bar(range(len(df)), df.Product1)"
   ]
  },
  {
   "cell_type": "markdown",
   "id": "2a150f3a-b495-4954-a0a9-f0c9c7355bda",
   "metadata": {},
   "source": [
    "#### \n",
    "Es ist möglich, mehrere Balkendiagramme in derselben Grafik darzustellen, indem du die **`plt.bar`** Funktion mehrmals aufrufst. <br>\n",
    "Wie bei der `plot` Funktion können wir einem *Balkendiagramm* eine Beschriftung geben und diese dann als Legende verwenden. <br>\n",
    "\n",
    "> (d) Erstelle eine Grafik mit zwei *Balkendiagrammen*, jeweils in Blau und Grün. Sie sollen mit \"Beispiel 1\" und \"Beispiel 2\" beschriftet werden und als Argumente die Listen `[1,3,5,7,9],[5,2,7,8,2]` und `[2,4,6,8,10],[8,6,2,5,6]` verwenden. <br>\n",
    ">\n",
    "> (e) Gib der x-Achse die Beschriftung 'Nummer' und der y-Achse die Beschriftung 'Höhe'. <br>\n",
    ">\n",
    "> (f) Zeige die Legenden an und gib der Grafik den Titel \"Mein Balkendiagramm\". <br>"
   ]
  },
  {
   "cell_type": "code",
   "execution_count": null,
   "id": "608f4a16-7f70-4436-ab7d-b954df755850",
   "metadata": {},
   "outputs": [],
   "source": [
    "# Deine Lösung:\n",
    "\n",
    "\n",
    "\n"
   ]
  },
  {
   "cell_type": "markdown",
   "id": "a2db86f7-a79b-4fb6-beea-d17b6521c93f",
   "metadata": {},
   "source": [
    "#### Lösung:"
   ]
  },
  {
   "cell_type": "code",
   "execution_count": null,
   "id": "c7c2d2b8-616a-4665-9878-8f9005d3ce08",
   "metadata": {},
   "outputs": [],
   "source": [
    "plt.bar([1,3,5,7,9],[5,2,7,8,2], label=\"Beispiel 1\")\n",
    "plt.bar([2,4,6,8,10],[8,6,2,5,6], label=\"Beispiel 2\")\n",
    "\n",
    "plt.xlabel('Nummer')\n",
    "plt.ylabel('Höhe')\n",
    "\n",
    "plt.legend()\n",
    "plt.title('Mein Balkendiagramm')"
   ]
  },
  {
   "cell_type": "markdown",
   "id": "ddcd5544-0744-487d-bada-2a76bf8382bb",
   "metadata": {},
   "source": [
    "#### \n",
    "Es ist auch möglich, ein Balkendiagramm aus 2 übereinander gestapelten Wertereihen zu erstellen, indem du den Parameter `bottom` beim zweiten Aufruf von `plt.bar()` hinzufügst. <br>\n",
    "\n",
    "Beispiel:\n",
    "```python\n",
    "plt.bar(x, y1)\n",
    "plt.bar(x, y2, bottom=y1)\n",
    "```\n",
    "\n",
    "> (g) Stelle die Anzahl der verkauften Produkte vom Typ 1: ```\"Product1\"``` und die Anzahl der verkauften Produkte vom Typ 2 pro Monat übereinander dar. <br>\n",
    ">\n",
    "> (h) Füge die Legenden hinzu. <br>\n"
   ]
  },
  {
   "cell_type": "code",
   "execution_count": null,
   "id": "729d01e2-2c7f-4253-911a-e0fe0c8de9c7",
   "metadata": {},
   "outputs": [],
   "source": [
    "# Deine Lösung:\n",
    "\n",
    "\n",
    "\n"
   ]
  },
  {
   "cell_type": "markdown",
   "id": "f50baf2d-cf71-46b5-a04d-2b9cc6b214fb",
   "metadata": {},
   "source": [
    "#### Lösung:"
   ]
  },
  {
   "cell_type": "code",
   "execution_count": null,
   "id": "416fc55b-e99a-4af0-aa83-b9b238a93358",
   "metadata": {},
   "outputs": [],
   "source": [
    "plt.bar(range(len(df)), df.Product1, label=\"Product1\")\n",
    "plt.bar(range(len(df)), df.Product2, bottom=df.Product1, label=\"Product2\")\n",
    "plt.legend()"
   ]
  },
  {
   "cell_type": "markdown",
   "id": "3289bae7-04a8-4132-936b-6c3de6451fcc",
   "metadata": {},
   "source": [
    "#### \n",
    "Wenn du die Balken lieber nebeneinander und nicht gestapelt haben möchtest, musst du mit den x-Achsen-Werten der Balken und ihrer Breite spielen. <br>\n",
    "\n",
    "Es ist auch möglich, bei jeder Grafik die Achsenbeschriftungen mit den Funktionen `xticks` und `yticks` zu ändern. <br>\n",
    "\n",
    "<span style=\"color:#09b038; text-decoration : underline\">Beispiel:</span><br>\n",
    "Der Befehl\n",
    "```python\n",
    "plt.xticks([1,2,3], ['eins','zwei','drei'])\n",
    "```\n",
    "ersetzt die Beschriftungen der x-Achse durch die drei Beschriftungen \"eins\", \"zwei\", \"drei\". <br>\n",
    "\n",
    "> (i) Erstelle eine Variable namens **`barWidth`** mit dem Wert `0.4`. <br>\n",
    ">\n",
    "> (j) Erstelle eine Sequenz `x1` mit den Zahlen von `0` bis `11`. <br>\n",
    ">\n",
    "> (k) Erstelle eine Liste `x2`, deren Elemente die Elemente von `x1` plus **`barWidth`** sind. <br>\n",
    ">\n",
    "> (l) Erstelle in derselben Abbildung 2 *Balkendiagramme* mit den jeweiligen x-Werten `x1` und `x2` und der Breite **`barWidth`**, die die Anzahl der verkauften Produkte vom Typ 1: ```\"Product1\"``` und 2: ```\"Product2\"``` in den ersten **12 Monaten** darstellen. <br>\n",
    ">\n",
    "> (m) Zeige auf der x-Achse nur die folgenden Monate an: `'Januar'`, `'März'`, `'Mai'`, `'Juli'`, `'September'`, `'Dezember'`. <br>\n",
    ">\n"
   ]
  },
  {
   "cell_type": "code",
   "execution_count": null,
   "id": "af657fe9-2d4b-40e7-b729-4cddd80bb392",
   "metadata": {},
   "outputs": [],
   "source": [
    "# Deine Lösung:\n",
    "\n",
    "\n",
    "\n"
   ]
  },
  {
   "cell_type": "markdown",
   "id": "2bfc53eb-91e9-433c-9f88-efd95f9a03e6",
   "metadata": {},
   "source": [
    "#### Lösung:"
   ]
  },
  {
   "cell_type": "code",
   "execution_count": null,
   "id": "b81ece37-dae3-45b2-be09-3c580a0e7fd4",
   "metadata": {},
   "outputs": [],
   "source": [
    "barWidth = 0.4\n",
    "\n",
    "x1 = range(12)\n",
    "x2 = [r + barWidth for r in x1]\n",
    "\n",
    "df12 = df.head(12)\n",
    "\n",
    "plt.bar(x1, df12.Product1, width=barWidth, label=\"Produkc1\")\n",
    "plt.bar(x2, df12.Product2, width=barWidth, label=\"Product2\")\n",
    "plt.xticks([0,2,4,6,8,11], ['Januar', 'März', 'Mai', 'Juli', 'September', 'Dezember'])\n",
    "plt.legend()"
   ]
  },
  {
   "cell_type": "markdown",
   "id": "fb1fa49f-989d-4533-a702-69afc7747a44",
   "metadata": {},
   "source": [
    "#### \n",
    "<div class=\"alert alert-success\">\n",
    "<i class=\"fa fa-bar-chart\" aria-hidden=\"true\"></i> &emsp;\n",
    "Um ein *Balkendiagramm* direkt aus einem Pandas Dataframe zu erstellen, kannst du die Methode <b><code style=\"background-color: transparent; color: inherit\">plot.bar()</code></b> verwenden, die automatisch ein Balkendiagramm aus den im Parameter <i>y</i> angegebenen Spalten erstellt. </div>\n",
    "\n",
    "Standardmäßig werden die Balken nebeneinander angezeigt, aber mit dem Argument `stacked=True` können sie gestapelt werden. Diese Methode ermöglicht zwar weniger Anpassungsmöglichkeiten bei Details und Parametern, ist aber für die Erstellung schneller und einfacher Grafiken zu empfehlen. <br>\n",
    "\n",
    "Hier ist ein Beispiel für die Verwendung: <br>"
   ]
  },
  {
   "cell_type": "code",
   "execution_count": null,
   "id": "d449496c-fa98-4d99-a0e9-b2255ac89eeb",
   "metadata": {},
   "outputs": [],
   "source": [
    "df.head(6).plot.bar(x='Month', \n",
    "                    y=['Product1', 'Product2', 'Returns'], \n",
    "                    stacked=True,\n",
    "                    xticks=range(10,20), rot=0)"
   ]
  },
  {
   "cell_type": "markdown",
   "id": "77cb4e6a-eec0-4d42-8bad-ae11585f705c",
   "metadata": {},
   "source": [
    "## 2. Streudiagramme / Scatterplots\n",
    "\n",
    "Die scatter-Methode zeichnet jeden einzelnen Punkt auf dem Graph, ohne Verbindungen zwischen ihnen zu erstellen. Sie wird ähnlich wie plot verwendet. <br>\n",
    "\n",
    "<span style=\"color:#09b038; text-decoration : underline\">Beispiel: Verwendung der **scatter** Methode</span><br>\n",
    "```python\n",
    "plt.scatter(range(0,7), [8,7,6,5,6,7,8], color='red', marker='*', s=40)\n",
    "```\n",
    "erzeugt den folgenden Graph: <img src=\"../imgs/barp4.png\" style=\"height:250px\"> <br>\n",
    "\n",
    "Es ist möglich, zwei Streudiagramme gleichzeitig im selben Graph darzustellen, indem man `plt.scatter` zweimal nacheinander verwendet. <br>\n",
    "\n",
    "Die Parameter `c` (für die Farbe) und `s` (für die Größe) können sein: <br>\n",
    "- **Entweder** einzelne Elemente (`c = 'rot'`)\n",
    "- **Oder** Listen mit der gleichen Größe wie die Anzahl der Punkte (`c = ['rot', 'grün', 'blau']` bei zum Beispiel 3 Punkten)\n",
    "\n",
    "Die Liste der verfügbaren Farben in Matplotlib mag manchem begrenzt erscheinen. Es ist möglich, [HEX](https://www.color-hex.com/) Farbcodes zu verwenden, um jede Art von Graph zu färben. <br>\n",
    "\n",
    "#### 2.1 Aufgaben:\n",
    "> (a) Erstelle die Liste **`x`** der x-Werte von `1` bis `5`, dann die folgenden Listen **`y1`** und **`y2`**: `[0,2, 3, 8, 15], [5, 8, 11, 16, 22]`. <br>\n",
    ">\n",
    "> (b) Stelle die Punkte mit den Koordinaten **`x`** und **`y1`** in Gelb und mit zunehmenden Größen dar: `30, 60, 90, 120, 150`. <br>\n",
    ">\n",
    "> (c) Stelle die Punkte mit den Koordinaten **`x`** und **`y2`** mit der Größe `40` und den Farben: ['#d248a2', '#8b48d2', '#48a5d2', '#4dd248', '#d1d248'] dar."
   ]
  },
  {
   "cell_type": "code",
   "execution_count": null,
   "id": "aae080f2-46f1-460b-bee7-29819ce64b66",
   "metadata": {},
   "outputs": [],
   "source": [
    "# Deine Lösung:\n",
    "\n",
    "\n",
    "\n"
   ]
  },
  {
   "cell_type": "markdown",
   "id": "fb7ca493-0183-40bb-83b4-1b7e63ed04de",
   "metadata": {},
   "source": [
    "#### Lösung:"
   ]
  },
  {
   "cell_type": "code",
   "execution_count": null,
   "id": "302afb54-cccf-4f0b-a7d7-e388b3c98730",
   "metadata": {},
   "outputs": [],
   "source": [
    "x = [1, 2, 3, 4, 5]\n",
    "y1 = [0,2, 3, 8, 15]\n",
    "y2 = [5, 8, 11, 16, 22]\n",
    "plt.scatter(x, y1, c='yellow', s=[30, 60, 90, 120, 150])\n",
    "plt.scatter(x, y2, c=['#d248a2', '#8b48d2', '#48a5d2', '#4dd248', '#d1d248'], s=40)"
   ]
  },
  {
   "cell_type": "markdown",
   "id": "cf87ce41-48aa-41f0-84f1-49345d8c1394",
   "metadata": {},
   "source": [
    "#### \n",
    "Bei der Arbeit mit Dataframes ermöglicht der Parameter `c`, die Punkte entsprechend der Werte in einer Spalte zu färben, indem diese Spalte als Argument für den Parameter **`c`** übergeben wird. <br>\n",
    "\n",
    "> (d) Lies die Datei `'sales_data.csv'` ein. <br>\n",
    ">\n",
    "> (e) Erstelle ein Streudiagramm mit den x-Werten **`df.Produkt1`** und y-Werten **`df.Produkt2`**, Größe 30, und färbe die Punkte entsprechend **`df.Retouren`**. "
   ]
  },
  {
   "cell_type": "code",
   "execution_count": null,
   "id": "030ddada-29d1-4f29-a9cc-e51692087304",
   "metadata": {},
   "outputs": [],
   "source": [
    "# Deine Lösung:\n",
    "\n",
    "\n",
    "\n"
   ]
  },
  {
   "cell_type": "markdown",
   "id": "b4431cad-fd81-4054-a3e2-6b14dada76a8",
   "metadata": {},
   "source": [
    "#### Lösung:"
   ]
  },
  {
   "cell_type": "code",
   "execution_count": null,
   "id": "4ee8e696-4e4a-43ad-a11b-f5790fd959eb",
   "metadata": {},
   "outputs": [],
   "source": [
    "df = pd.read_csv('../data/sales_data.csv')\n",
    "plt.scatter(df.Product1, df.Product2, c=df.Returns, s=30)"
   ]
  },
  {
   "cell_type": "markdown",
   "id": "da3e19f7-d08e-41fa-8e6d-b126ff02ffa1",
   "metadata": {},
   "source": [
    "#### \n",
    "<div class=\"alert alert-success\">\n",
    "<i class=\"fa fa-question-circle\" aria-hidden=\"true\"></i>&emsp; \n",
    "Hier ist der äquivalente Graph, der direkt mit der Methode <b><code style=\"background-color: transparent; color: inherit\">plot.scatter()</code></b> der <i>Pandas Dataframes</i> erstellt wurde:\n",
    "</div>"
   ]
  },
  {
   "cell_type": "code",
   "execution_count": null,
   "id": "c7b67a55-22db-4c03-bea3-b268fc9caa6f",
   "metadata": {},
   "outputs": [],
   "source": [
    "df.plot.scatter(x='Produkt1', y='Produkt2', c='Retouren', s=30, cmap='viridis')\n",
    "# cmap ermöglicht das Hinzufügen einer Farbpalette aus allen verfügbaren hier:\n",
    "# https://matplotlib.org/examples/color/colormaps_reference.html"
   ]
  },
  {
   "cell_type": "markdown",
   "id": "9d2e473f-4334-4545-bb46-35051064d61d",
   "metadata": {},
   "source": [
    "## 3. Histogramme\n",
    "\n",
    "Die Funktion **`plt.hist`** wird verwendet, um Histogramme darzustellen. Sie nimmt hauptsächlich folgende Argumente: <br>\n",
    "- eine Wertereihe (`x`)\n",
    "- die Grenzen der zu verwendenden Werte (*range*: Standard (min(x), max(x)))\n",
    "- die Anzahl der Intervalle (*bins*) **oder** die expliziten Grenzen der Intervalle <br>\n",
    "\n",
    "Falls nur die Anzahl der Intervalle angegeben wird, haben diese die gleiche Größe. Intervalle unterschiedlicher Größe sind möglich, wenn sie explizit angegeben werden. Standardmäßig sind die Intervalle rechts offen und links geschlossen. <br>\n",
    "\n",
    "<span style=\"color:#09b038; text-decoration : underline\">Beispiele:</span><br>\n",
    "```python\n",
    "plt.hist([0,1,1,1,2,2,2,2,3,4,4,4,4,4,4,4,5,5,5], range=(0,6), bins=6)\n",
    "```\n",
    "erzeugt den Graph:\n",
    "<img src=\"../imgs/hist.png\" style=\"height:250px\">\n",
    "\n",
    "Und\n",
    "```python\n",
    "plt.hist([0,8,10,13,13,15,16,16,18,32,36,36,39,40,43,45,48,49], bins=[0,10,20,40,50])\n",
    "```\n",
    "erzeugt den Graph:\n",
    "<img src=\"../imgs/hist2.png\" style=\"height:250px\">\n",
    "\n",
    "Für besser lesbare Histogramme ermöglicht der Parameter `rwidth` die Breite der Balken zu reduzieren und Zwischenräume zu erstellen (Prozentsatz zwischen 0 und 1). <br>\n",
    "\n",
    "#### 3.1 Aufgaben:\n",
    "> (a) Erstelle ein Histogramm aus `40` zufällig ausgewählten Zahlen zwischen `0` und `10` mit der Funktion **`np.random.choice`**, bestehend aus 7 Intervallen, Breite 0.8 und orangener Farbe."
   ]
  },
  {
   "cell_type": "code",
   "execution_count": null,
   "id": "33c7cff9-a621-4920-b358-25fdba953fea",
   "metadata": {},
   "outputs": [],
   "source": [
    "# Deine Lösung:\n",
    "\n",
    "\n",
    "\n"
   ]
  },
  {
   "cell_type": "markdown",
   "id": "40ebfe52-3e6b-4341-9d80-1425a0907738",
   "metadata": {},
   "source": [
    "#### Lösung:"
   ]
  },
  {
   "cell_type": "code",
   "execution_count": 6,
   "id": "b503eb69-329b-43b1-81bc-1890f55cf030",
   "metadata": {},
   "outputs": [
    {
     "data": {
      "text/plain": [
       "(array([11.,  5.,  3.,  5.,  5.,  3.,  8.]),\n",
       " array([0.        , 1.28571429, 2.57142857, 3.85714286, 5.14285714,\n",
       "        6.42857143, 7.71428571, 9.        ]),\n",
       " <BarContainer object of 7 artists>)"
      ]
     },
     "execution_count": 6,
     "metadata": {},
     "output_type": "execute_result"
    },
    {
     "data": {
      "image/png": "[encoded data removed]",
      "text/plain": [
       "<Figure size 640x480 with 1 Axes>"
      ]
     },
     "metadata": {},
     "output_type": "display_data"
    }
   ],
   "source": [
    "x = np.random.choice(10,40)\n",
    "plt.hist(x, bins=7, color='orange', rwidth=0.8)\n"
   ]
  },
  {
   "cell_type": "markdown",
   "id": "f5ee27e6-ca12-4d54-963c-6eee0448adae",
   "metadata": {},
   "source": [
    "#### \n",
    "Es ist möglich, auf der y-Achse Häufigkeiten statt Anzahlen anzuzeigen, indem man das Argument `density=True` hinzufügt. <br>\n",
    "Der Parameter `orientation='horizontal'` ermöglicht es, ein horizontales Histogramm zu zeichnen. <br>\n",
    "\n",
    "> (b) Stelle ein horizontales Histogramm aus der Wertereihe **`x`** = `[1, 2, 2, 2, 3, 3, 4, 4, 4, 4, 4, 4, 5, 5]` dar, mit Zahlen zwischen `1` und `5`, 5 Intervallen, um `0.6` reduzierten Balken, in Rosa (Code '#EE3459') und ersetze die Häufigkeiten durch die entsprechenden Frequenzen. <br>\n",
    ">\n",
    "> (c) Gib der x-Achse die Beschriftung \"Häufigkeiten\", der y-Achse die Beschriftung \"Werte\" und dem Graph den Titel \"Horizontales Histogramm\"."
   ]
  },
  {
   "cell_type": "code",
   "execution_count": null,
   "id": "1b383f69-83ad-4be6-8d90-d51f7e620a12",
   "metadata": {},
   "outputs": [],
   "source": [
    "# Deine Lösung:\n",
    "\n",
    "\n",
    "\n"
   ]
  },
  {
   "cell_type": "markdown",
   "id": "ca3f5c90-a078-452a-8fe0-f9f8306d7ead",
   "metadata": {},
   "source": [
    "#### Lösung:"
   ]
  },
  {
   "cell_type": "code",
   "execution_count": 14,
   "id": "51c4cd99-947a-4233-bdf9-5b68f31377db",
   "metadata": {},
   "outputs": [
    {
     "data": {
      "image/png": "[encoded data removed]",
      "text/plain": [
       "<Figure size 640x480 with 1 Axes>"
      ]
     },
     "metadata": {},
     "output_type": "display_data"
    }
   ],
   "source": [
    "x = [1, 2, 2, 3, 4, 4, 4, 4, 4, 5, 5]\n",
    "\n",
    "\n",
    "\n",
    "plt.hist(x, range=(1, 6), bins=5, color='#EE3459',\n",
    "         density=True,\n",
    "         orientation='horizontal', rwidth=0.6)\n",
    "\n",
    "plt.ylabel('Werte')\n",
    "plt.xlabel('Häufigkeiten')\n",
    "plt.title('Horizontales Histogramm')\n",
    "\n",
    "plt.yticks([1.5, 2.5, 3.5, 4.5, 5.5], [1, 2, 3, 4, 5]) \n",
    "\n",
    "plt.show()"
   ]
  },
  {
   "cell_type": "markdown",
   "id": "1f1031d1-7b10-46ab-aed4-1caf4c9e02ef",
   "metadata": {},
   "source": [
    "#### \n",
    "Wie bei den *Balkendiagrammen* ist es möglich, mehrere Histogramme im selben Graph nebeneinander oder übereinander darzustellen, indem man eine Liste von Reihen als Argument übergibt. Für ein Histogramm mit übereinander liegenden Reihen fügt man einfach den Parameter `histtype='barstacked'` hinzu. <br>\n",
    "\n",
    "> (d) Lies die Datei `'./data/sales_data.csv'` ein. <br>\n",
    ">\n",
    "> (e) Erstelle ein Histogramm aus **`df.Produkt1`** und **`df.Produkt2`**, das 6 Intervalle enthält und dessen Balken die Farben '#f27750' und '#f7bf59' haben. <br>\n",
    ">\n",
    "> (f) Füge die entsprechenden Beschriftungen für jede Reihe hinzu. Gib dem Graph den Titel \"Histogramm 2 Reihen\", der x-Achse die Beschriftung \"Verkäufe\" und der y-Achse die Beschriftung \"Häufigkeiten\". <br>\n",
    ">\n",
    "> (g) Zeige die Legenden im Graph an."
   ]
  },
  {
   "cell_type": "code",
   "execution_count": null,
   "id": "edb65bea-9082-40bc-a452-e3b332cde35c",
   "metadata": {},
   "outputs": [],
   "source": [
    "# Deine Lösung:\n",
    "\n",
    "\n",
    "\n"
   ]
  },
  {
   "cell_type": "markdown",
   "id": "b65a1f68-7838-4ff1-aa5b-805e75891c48",
   "metadata": {},
   "source": [
    "#### Lösung:"
   ]
  },
  {
   "cell_type": "code",
   "execution_count": 2,
   "id": "ae63c8a9-3f1b-4882-ba92-a76662db884a",
   "metadata": {},
   "outputs": [
    {
     "data": {
      "image/png": "[encoded data removed]",
      "text/plain": [
       "<Figure size 640x480 with 1 Axes>"
      ]
     },
     "metadata": {},
     "output_type": "display_data"
    }
   ],
   "source": [
    "df = pd.read_csv('../data/sales_data.csv')\n",
    "\n",
    "plt.hist([df.Product1, df.Product2], bins=6, color=['#f27750', '#f7bf59'],\n",
    "         label=['Product1', 'Product2'])\n",
    "plt.ylabel('Häufigkeiten')\n",
    "plt.xlabel('Verkäufe')\n",
    "plt.title('Histogramm 2 Reihen')\n",
    "plt.legend()\n",
    "plt.show()"
   ]
  },
  {
   "cell_type": "markdown",
   "id": "29e37aae-53e2-456e-900c-1a22ce74bf1d",
   "metadata": {},
   "source": [
    "#### \n",
    "> (h) Erstelle ein **gestapeltes** Histogramm aus den Wertereihen **`df.Produkt1, df.Produkt2`**, dessen Balken die Farben '#961939', '#193996' haben, mit den entsprechenden Beschriftungen und getrennt durch `rwidth=0.8`. Die verwendeten Bins sollen **`[100,200,280,325,450,600,800]`** sein. <br>\n",
    ">\n",
    "> (i) Gib dem Graph den Titel \"2 Reihen gestapelt\", der x-Achse die Beschriftung \"Verkäufe\" und der y-Achse die Beschriftung \"Häufigkeiten\". <br>\n",
    ">\n",
    "> (j) Zeige die Legenden im Graph an."
   ]
  },
  {
   "cell_type": "code",
   "execution_count": null,
   "id": "74147a86-5ddb-4eda-a433-97e615b6059e",
   "metadata": {},
   "outputs": [],
   "source": [
    "# Deine Lösung:\n",
    "\n",
    "\n",
    "\n"
   ]
  },
  {
   "cell_type": "markdown",
   "id": "8ce955c1-7fff-4399-8edf-b93fd60a6b8c",
   "metadata": {},
   "source": [
    "#### Lösung:"
   ]
  },
  {
   "cell_type": "code",
   "execution_count": null,
   "id": "b8d62ebd-57e1-48b6-b44e-7a6973ddc0c6",
   "metadata": {},
   "outputs": [],
   "source": [
    "plt.hist([df.Product1, df.Product2], bins=[100,200,280,325,450,600,800], color=['#0086ad', '#97ebdb'],\n",
    "         label=['Product1', 'Product2'], histtype='barstacked', rwidth=0.8)\n",
    "plt.ylabel('Verkäufe')\n",
    "plt.xlabel('Häufigkeiten')\n",
    "plt.title('2 Reihen gestapelt')\n",
    "plt.legend()\n",
    "plt.show()"
   ]
  },
  {
   "cell_type": "markdown",
   "id": "332b5362-83ca-4f90-91cd-cf6d6e00b792",
   "metadata": {},
   "source": [
    "#### \n",
    "Die Methode `plot.hist()` ermöglicht es dir, ein Histogramm direkt aus einem DataFrame darzustellen. <br>\n",
    "Wenn mehr als zwei Wertereihen im DataFrame vorhanden sind oder in Argumenten angegeben werden, werden die Histogramme zusammen im selben Graph angezeigt. <br>\n",
    "Um sie zu trennen, füge einfach das Argument `subplots=True` hinzu und passe das Layout der Zelle mit dem Parameter `layout` an. <br>\n",
    "\n",
    "Eine zweite Methode, `hist()`, zeigt ebenfalls Histogramme an, erstellt aber automatisch ein Histogramm pro Spalte und erlaubt zum Beispiel keine unterschiedlichen Farben pro Histogramm. <br>\n",
    "\n",
    "Hier sind einige Beispiele für die Verwendung:\n"
   ]
  },
  {
   "cell_type": "code",
   "execution_count": null,
   "id": "043a650c-707d-4427-92fa-6d8024f0dcdc",
   "metadata": {},
   "outputs": [],
   "source": [
    "df.plot.hist(y=['Product1', 'Product2'], bins=7, rwidth=0.8, color=['#0c4c83', '#830c4c'], alpha=0.5)\n",
    "df.plot.hist(y=['Product1', 'Product2'], bins=7, subplots=True, rwidth=0.8, color=['#0c4c83', '#830c4c'], alpha=0.5)\n",
    "\n",
    "df.hist(column=['Product1', 'Product2'], bins=7, rwidth=0.8, color=['#0c4c83'])"
   ]
  }
 ],
 "metadata": {
  "kernelspec": {
   "display_name": "Python 3 (ipykernel)",
   "language": "python",
   "name": "python3"
  },
  "language_info": {
   "codemirror_mode": {
    "name": "ipython",
    "version": 3
   },
   "file_extension": ".py",
   "mimetype": "text/x-python",
   "name": "python",
   "nbconvert_exporter": "python",
   "pygments_lexer": "ipython3",
   "version": "3.13.2"
  }
 },
 "nbformat": 4,
 "nbformat_minor": 5
}
