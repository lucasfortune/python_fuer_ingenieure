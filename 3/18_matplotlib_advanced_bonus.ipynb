{
 "cells": [
  {
   "cell_type": "markdown",
   "id": "5b3fcfcc-c4ca-48ab-94db-e5c2ccf55184",
   "metadata": {},
   "source": [
    "# Python Datenvisualisierung - Bonus\n",
    "## Matplotlib - Advanced\n",
    "***\n",
    "In diesem Notebook wird behandelt:\n",
    "- Bilder\n",
    "- 3D-Graphen\n",
    "***"
   ]
  },
  {
   "cell_type": "markdown",
   "id": "723ecbf6-cfbe-4c7f-8dad-2ca6b8f88343",
   "metadata": {},
   "source": [
    "#### Bitte führe diese Zelle aus, bevor du mit der Übung beginnst"
   ]
  },
  {
   "cell_type": "code",
   "execution_count": null,
   "id": "91822a3f-b02d-4672-bc33-98e1226a1028",
   "metadata": {},
   "outputs": [],
   "source": [
    "#%matplotlib widget\n",
    "#%matplotlib inline\n",
    "import matplotlib.pyplot as plt\n",
    "import numpy as np"
   ]
  },
  {
   "cell_type": "markdown",
   "id": "957aecd0-07e0-48f3-8f7a-caf835b8d128",
   "metadata": {},
   "source": [
    "## 1. Bilder\n",
    "\n",
    " In der Mathematik ist ein Bild eine Funktion, die die Lichtintensität jedes Punktes eines Bildes quantifiziert. <br>\n",
    "\n",
    " In einem Schwarzweißbild ist die Intensität der Grauwert: je dunkler ein Punkt ist, desto niedriger ist sein Grauwert. <br>\n",
    "\n",
    " In einem Farbbild wird ein Punkt durch seine Intensität von Rot, Grün und Blau quantifiziert. <br>\n",
    " Ein digitales Bild wird abgetastet: es wird nach einem regelmäßigen Raster unterteilt und jeder Bildzelle wird eine Intensität zugeordnet, die man Pixel nennt. <br>\n",
    " Die Graustufenwerte oder Farbwerte im RGB-Modell sind ganze Zahlen zwischen 0 und 255. <br>\n",
    "\n",
    " Der Befehl `plt.imread` ermöglicht es, ein Bild in ein dreidimensionales Array (oder 2D, wenn das Bild in Schwarzweiß ist) umzuwandeln. <br>\n",
    " Für ein RGB-Bild ist es ein 3D-Array aus 3 Tabellen von Pixeln im Bereich von 0 bis 255. <br>\n",
    " Der Befehl `plt.imshow` ermöglicht es, ein Bild-Array innerhalb eines Graphen anzuzeigen. <br>\n",
    "\n",
    "#### 1.1 Aufgaben:\n",
    "> (a) Importiere das Bild *../data/heartbeat.png* in ein Array namens **`heart`** und zeige es an."
   ]
  },
  {
   "cell_type": "code",
   "execution_count": null,
   "id": "ffd0cb15-0972-41d3-b1f1-48d0bd9541bc",
   "metadata": {},
   "outputs": [],
   "source": [
    "# Deine Lösung:\n",
    "\n",
    "\n",
    "\n"
   ]
  },
  {
   "cell_type": "markdown",
   "id": "b582d7fc-5530-4eed-8e2e-e23feffed312",
   "metadata": {},
   "source": [
    "#### Lösung:"
   ]
  },
  {
   "cell_type": "code",
   "execution_count": null,
   "id": "3faa0361-af99-4d4b-b043-c12f55f9e55b",
   "metadata": {},
   "outputs": [],
   "source": [
    "heart = plt.imread('../data/heartbeat.png') \n",
    "plt.imshow(heart)"
   ]
  },
  {
   "cell_type": "markdown",
   "id": "0060392d-ab2a-441c-89a0-7a67dd662ebe",
   "metadata": {},
   "source": [
    "#### \n",
    "Die Funktion `plt.imshow` erstellt automatisch eine Figur und einen Graphen und zeigt das Bild in einer passenden Größe an. <br>\n",
    " Es ist jedoch möglich, ein Bild zu einem bestehenden Graphen hinzuzufügen und an einer bestimmten Position zu platzieren, indem man das Argument `extent` mit den Werten [xmin, xmax, ymin, ymax] an die Funktion `plt.imshow` übergibt. <br>\n",
    "\n",
    " Die Datei 'hb.csv' enthält die Daten eines Elektrokardiogramms eines Patienten. <br>\n",
    "\n",
    "> (b) Lies die Datei 'hb.csv' ein <br>\n",
    ">\n",
    "> (c) Erstelle in einer Figur der Größe (8,6) und einem Plot mit x-Bereich [-2,260] und y-Bereich [0,140] die Kurve der Elektrokardiogramm-Daten <br>\n",
    ">\n",
    "> (d) Zeige das zuvor geladene Bild **`heart`** an, indem du es zwischen den Punkten `[80,170,60,140]` positionierst <br>\n",
    ">\n",
    "> (e) Füge am Punkt (95,130) den Text 'Elektrokardiogramm' in kursiv hinzu"
   ]
  },
  {
   "cell_type": "code",
   "execution_count": null,
   "id": "80fa18b6-2b01-4d1e-8795-5b3f74bf9b79",
   "metadata": {},
   "outputs": [],
   "source": [
    "# Deine Lösung:\n",
    "\n",
    "\n",
    "\n"
   ]
  },
  {
   "cell_type": "markdown",
   "id": "028b40d7-c97b-47c5-9f54-5c1dd8b30cda",
   "metadata": {},
   "source": [
    "#### Lösung:"
   ]
  },
  {
   "cell_type": "code",
   "execution_count": null,
   "id": "30c880e8-2102-4a8d-9a89-eafa6028b7d0",
   "metadata": {},
   "outputs": [],
   "source": [
    "import pandas as pd\n",
    "hb = pd.read_csv('../data/hb.csv', header=None)\n",
    "plt.figure(figsize=(8,6))\n",
    "plt.ylim([0,140])\n",
    "plt.xlim([-2,260])\n",
    "plt.plot(hb)\n",
    "plt.text(95,130,'Elektrokardiogramm', style='italic')\n",
    "plt.imshow(heart, extent=[80,170,60,140]);"
   ]
  },
  {
   "cell_type": "markdown",
   "id": "9036ffc7-1fe6-4555-8c78-e04596dea4cc",
   "metadata": {},
   "source": [
    "## 2. 3D-Graphen\n",
    "### 2.1 3D-Kurven\n",
    "\n",
    " Mit `Matplotlib` ist es auch möglich, dreidimensionale Grafiken anzuzeigen, indem man das Paket **`Axes3D`** importiert und das Argument `projection='3d'` beim Erstellen der Achsen verwendet. <br>\n",
    " Elementare pyplot-Methoden, wie die zum Zeichnen von Kurven oder Streudiagrammen, können dann eine zusätzliche Dimension als Argument annehmen. <br>\n",
    "\n",
    "#### 2.1.1 Aufgaben:\n",
    "> (a) Importiere das Paket **Axes3D** aus **`mpl_toolkits.mplot3d`** <br>\n",
    ">\n",
    "> (b) Erstelle eine Figur der Größe $8 \\times 6$ und füge ein **`Axes3D`**-Objekt hinzu <br>\n",
    ">\n",
    "> (c) Erstelle einen Vektor **t** mit 100 Werten zwischen $0$ und $2\\pi$ <br>\n",
    ">\n",
    "> (d) Erstelle die Vektoren **x**, **y**, **z**, die den Funktionen entsprechen: $\\sin(3t), \\cos(3t), \\cos(t)\\sin(t)$ <br>\n",
    ">\n",
    "> (e) Zeichne eine Kurve mit den Argumenten **x**, **y** und **z** und gib ihr die Beschriftung `'3D-Kurve'`"
   ]
  },
  {
   "cell_type": "code",
   "execution_count": null,
   "id": "86555ddb-3119-4be9-b46e-df4ce02d155d",
   "metadata": {},
   "outputs": [],
   "source": [
    "# Deine Lösung:\n",
    "\n",
    "\n",
    "\n"
   ]
  },
  {
   "cell_type": "markdown",
   "id": "add76374-f624-4085-a1ad-4a642fa83907",
   "metadata": {},
   "source": [
    "#### Lösung:"
   ]
  },
  {
   "cell_type": "code",
   "execution_count": null,
   "id": "5bd0e0b8-8492-4d0d-9f2b-1384022977ce",
   "metadata": {},
   "outputs": [],
   "source": [
    "from mpl_toolkits.mplot3d import Axes3D\n",
    "fig = plt.figure(figsize=(8,6))\n",
    "ax = fig.add_subplot(111, projection='3d')\n",
    "\n",
    "t = np.linspace(0, 2*np.pi, 100)\n",
    "z = np.cos(t)*np.sin(t)\n",
    "x = np.cos(3*t)\n",
    "y = np.sin(3*t)\n",
    "ax.plot(x, y, z, label='3D-Kurve')\n",
    "\n",
    "plt.legend()\n",
    "plt.show()"
   ]
  },
  {
   "cell_type": "markdown",
   "id": "ba13495e-7d61-4de2-84cb-659d79982859",
   "metadata": {},
   "source": [
    "### 2.2 3D-Streudiagramm\n",
    "\n",
    "#### 2.2.1 Aufgaben:\n",
    "> (a) Erstelle einen Vektor **z** mit 100 Punkten, verteilt zwischen 0 und 1 <br>\n",
    ">\n",
    "> (b) Erstelle die Vektoren $ x = z \\times \\sin(20z)$ und $ y = z \\times \\cos(20z)$ <br>\n",
    ">\n",
    "> (c) Zeige ein dreidimensionales Streudiagramm von x, y, z und füge die entsprechenden **Beschriftungen** für jede Achse hinzu"
   ]
  },
  {
   "cell_type": "code",
   "execution_count": null,
   "id": "99670dd9-446c-46bb-8a56-9b1d659a6665",
   "metadata": {},
   "outputs": [],
   "source": [
    "# Deine Lösung:\n",
    "\n",
    "\n",
    "\n"
   ]
  },
  {
   "cell_type": "markdown",
   "id": "407b312e-c218-493f-87fd-82f6c817533b",
   "metadata": {
    "jp-MarkdownHeadingCollapsed": true
   },
   "source": [
    "#### Lösung:"
   ]
  },
  {
   "cell_type": "code",
   "execution_count": null,
   "id": "4ba069ec-2a90-4c03-8ddf-aee801df9209",
   "metadata": {},
   "outputs": [],
   "source": [
    "fig = plt.figure()\n",
    "ax = fig.add_subplot(111, projection='3d')\n",
    "\n",
    "z = np.linspace(0, 1, 100)\n",
    "x = z * np.sin(20 * z)\n",
    "y = z * np.cos(20 * z)\n",
    "\n",
    "ax.scatter(x, y, z, c='r')\n",
    "\n",
    "ax.set_xlabel('X-Achse')\n",
    "ax.set_ylabel('Y-Achse')\n",
    "ax.set_zlabel('Z-Achse')\n",
    "\n",
    "plt.show()"
   ]
  },
  {
   "cell_type": "markdown",
   "id": "c3ccaad7-c462-40b5-88df-2e7e9b0d9a75",
   "metadata": {},
   "source": [
    "### 2.3 3D-Balkendiagramme\n",
    "\n",
    " Die Methode `bar3d` ermöglicht die Anzeige von Balkendiagrammen in 3 Dimensionen. <br>\n",
    " Dazu nimmt sie als Argument die Positionskoordinaten der Balken sowie die Größe der Balken auf jeder Achse, die jeweils der Breite, Tiefe und Höhe der Balken entsprechen. <br>\n",
    "\n",
    " <span style=\"color:#09b038; text-decoration : underline\"> Beispiel: </span><br>\n",
    "```python\n",
    "ax = fig.add_subplot(111, projection='3d')\n",
    "ax.bar3d(xpos, ypos, bottom, width, depth, top)\n",
    "```\n",
    "\n",
    "<div class=\"alert alert-info\">\n",
    "<i class=\"fa fa-info-circle\"></i> &emsp; \n",
    "    Außer im Fall von gestapelten Balken sind die Positionskoordinaten der dritten Dimension oft null.\n",
    "</div>\n",
    "\n",
    "#### 2.3.1 Aufgaben:\n",
    "> (a) Erstelle den Vektor **x** mit der Sequenz der ganzen Zahlen zwischen 1 und 10 <br>\n",
    ">\n",
    "> (b) Erstelle den Vektor **y**: [2,3,4,5,1,6,2,1,7,2] <br>\n",
    ">\n",
    "> (c) Erstelle den Vektor **z**, null der Größe 10 <br>\n",
    ">\n",
    "> (d) Erstelle die Vektoren **dx** und **dy**, die die Zahl 1 zehnmal wiederholen, und den Vektor **dz** =[1,2,3,4,5,6,7,8,9,10] <br>\n",
    ">\n",
    "> (e) Zeige ein 3D-Balkendiagramm mit der Farbe `#14c989` aus den Koordinaten **x**, **y** und **z** und mit den Balkengrößen **dx**, **dy**, **dz**"
   ]
  },
  {
   "cell_type": "code",
   "execution_count": null,
   "id": "35171e4d-1ec4-48f8-a273-f37ae609a8b0",
   "metadata": {},
   "outputs": [],
   "source": [
    "# Deine Lösung:\n",
    "\n",
    "\n",
    "\n"
   ]
  },
  {
   "cell_type": "markdown",
   "id": "ff0e456c-be2c-4f6b-b1d6-4703133edb6c",
   "metadata": {},
   "source": [
    "#### Lösung:"
   ]
  },
  {
   "cell_type": "code",
   "execution_count": null,
   "id": "79c14263-1651-4b9d-8d47-c86c61a211b6",
   "metadata": {},
   "outputs": [],
   "source": [
    "fig = plt.figure(figsize=(8,6))\n",
    "ax1 = fig.add_subplot(111, projection='3d')\n",
    "\n",
    "x = [1,2,3,4,5,6,7,8,9,10] #oder np.arange(1,11)\n",
    "y = [2,3,4,5,1,6,2,1,7,2]\n",
    "z = np.zeros(10)\n",
    "dx = np.ones(10)\n",
    "dy = np.ones(10)\n",
    "dz = [1,2,3,4,5,6,7,8,9,10]\n",
    "\n",
    "ax1.bar3d(x, y, z, dx, dy, dz, color='#14c989');"
   ]
  },
  {
   "cell_type": "markdown",
   "id": "fe07115a-7c7c-458d-9a70-55d94768c1d9",
   "metadata": {},
   "source": [
    "### 2.4 Drahtgittermodelle\n",
    "\n",
    " Ein *Drahtgittermodell* ist eine dreidimensionale Form, die nur aus \"Drähten\" (Linien und Vertices) besteht und keine Oberflächen oder Texturen hat. <br>\n",
    " Die *Drahtgittermodelle* nehmen ein Werteraster und projizieren es in den dreidimensionalen Raum zur einfachen Visualisierung. <br>\n",
    "\n",
    " Die Methode **`plot_wireframe`** ermöglicht die Anzeige von *Drahtgittermodellen* und nimmt als Argumente drei 2-dimensionale Koordinatengitter. <br>\n",
    "\n",
    "#### 2.4.1 Aufgaben:\n",
    "> (a) Erstelle den Vektor **u** mit einer Sequenz von 30 Zahlen zwischen 0 und $\\pi$ <br>\n",
    ">\n",
    "> (b) Erstelle den Vektor **v** mit einer Sequenz von 30 Zahlen zwischen 0 und $2\\pi$ <br>\n",
    ">\n",
    "> (c) Erstelle die Tabelle **x** mit dem Matrixprodukt $sin(u) (sin(v)^T)$ mit der *numpy*-Funktion **`outer`** <br>\n",
    ">\n",
    "> (d) Erstelle die Tabelle **y** mit dem Matrixprodukt $sin(u) (cos(v)^T)$ mit der *numpy*-Funktion **`outer`** <br>\n",
    ">\n",
    "> (e) Erstelle die Tabelle **z** mit dem Matrixprodukt $cos(u) (\\mathbb{1}_{30})^T$, wobei $\\mathbb{1}_{30}$ einen Vektor der Größe 30 gefüllt mit 1 darstellt <br>\n",
    ">\n",
    "> (f) Zeige das *Drahtgittermodell* aus **x**, **y**, **z** an"
   ]
  },
  {
   "cell_type": "code",
   "execution_count": null,
   "id": "05cd675c-0fd8-413e-9f6e-dfa85d04d293",
   "metadata": {},
   "outputs": [],
   "source": [
    "# Deine Lösung:\n",
    "\n",
    "\n",
    "\n"
   ]
  },
  {
   "cell_type": "markdown",
   "id": "2e5d06f3-f184-40cb-a616-55abc62bb76a",
   "metadata": {
    "jp-MarkdownHeadingCollapsed": true
   },
   "source": [
    "#### Lösung:"
   ]
  },
  {
   "cell_type": "code",
   "execution_count": null,
   "id": "03f5c70e-aec7-4b14-85ed-00d8a77ad5f2",
   "metadata": {},
   "outputs": [],
   "source": [
    "u = np.linspace(0, np.pi, 30)\n",
    "v = np.linspace(0, 2 * np.pi, 30)\n",
    "\n",
    "x = np.outer(np.sin(u), np.sin(v))\n",
    "y = np.outer(np.sin(u), np.cos(v))\n",
    "z = np.outer(np.cos(u), np.ones(30))\n",
    "\n",
    "fig = plt.figure(figsize=(8,6))\n",
    "ax = plt.axes(projection='3d')\n",
    "\n",
    "ax.plot_wireframe(x, y, z);"
   ]
  },
  {
   "cell_type": "markdown",
   "id": "1f73c980-ad2d-4e13-b749-1a6eb0595f98",
   "metadata": {},
   "source": [
    "### 2.5 Oberflächenplots\n",
    "\n",
    " Oberflächenplots sind manchmal nützlich, um komplexe Funktionen und ihre Konturen in 3D zu visualisieren. <br>\n",
    " Die Methode **`plot_surface`** ermöglicht die Anzeige einer 3D-Darstellung der Oberfläche einer Funktion, die entsprechend ihrer Werte eingefärbt ist. <br>\n",
    "\n",
    "#### 2.5.1 Aufgaben:\n",
    "> (a) Erstelle die Matrix **x**, definiert durch das folgende Matrixprodukt: `np.outer(np.linspace(-2, 2, 30), np.ones(30))` <br>\n",
    ">\n",
    "> (b) Erstelle **y**, die Transponierte von **x** <br>\n",
    ">\n",
    "> (c) Erstelle **z** als die Funktion: $ z = \\cos(x^2 + y^2)$ <br>\n",
    ">\n",
    "> (d) Zeige einen *Oberflächenplot* von **x**, **y** und **z** an und füge das Argument `cmap=plt.cm.Spectral_r` hinzu, um die verwendeten Farben anzupassen"
   ]
  },
  {
   "cell_type": "code",
   "execution_count": null,
   "id": "15f602ca-1fae-44f8-a703-5b79d0064d90",
   "metadata": {},
   "outputs": [],
   "source": [
    "# Deine Lösung:\n",
    "\n",
    "\n",
    "\n"
   ]
  },
  {
   "cell_type": "markdown",
   "id": "426249e4-c7ed-4a8c-b1d4-59bb190811f9",
   "metadata": {
    "jp-MarkdownHeadingCollapsed": true
   },
   "source": [
    "#### Lösung:"
   ]
  },
  {
   "cell_type": "code",
   "execution_count": null,
   "id": "79e5cf9e-a578-4693-b143-0038f1bc701c",
   "metadata": {},
   "outputs": [],
   "source": [
    "x = np.outer(np.linspace(-2, 2, 30), np.ones(30))\n",
    "y = x.T\n",
    "z = np.cos(x ** 2 + y ** 2)\n",
    "\n",
    "fig = plt.figure(figsize=(8,6))\n",
    "ax = plt.axes(projection='3d')\n",
    "\n",
    "ax.plot_surface(x, y, z, cmap=plt.cm.Spectral_r);"
   ]
  },
  {
   "cell_type": "code",
   "execution_count": null,
   "id": "d8e41679-e02c-4dce-973b-1ce2498f4019",
   "metadata": {},
   "outputs": [],
   "source": []
  }
 ],
 "metadata": {
  "kernelspec": {
   "display_name": "Python 3 (ipykernel)",
   "language": "python",
   "name": "python3"
  },
  "language_info": {
   "codemirror_mode": {
    "name": "ipython",
    "version": 3
   },
   "file_extension": ".py",
   "mimetype": "text/x-python",
   "name": "python",
   "nbconvert_exporter": "python",
   "pygments_lexer": "ipython3",
   "version": "3.11.0"
  }
 },
 "nbformat": 4,
 "nbformat_minor": 5
}
