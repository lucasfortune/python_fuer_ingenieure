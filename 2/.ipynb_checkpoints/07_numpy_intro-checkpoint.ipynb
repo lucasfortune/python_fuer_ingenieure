{
 "cells": [
  {
   "cell_type": "markdown",
   "id": "588ce8d5-352e-4b51-911c-e121b7ed4057",
   "metadata": {},
   "source": [
    "# Python Grundlagen 7\n",
    "## Numpy - Einführung\n",
    "***\n",
    "In diesem Notebook wird behandelt:\n",
    "- die array-Klasse\n",
    "- Erstellen, Indizieren und Bearbeiten\n",
    "***"
   ]
  },
  {
   "cell_type": "markdown",
   "id": "976b32a6-8e1a-439d-861e-a192027e5cd7",
   "metadata": {},
   "source": [
    "## Einführung\n",
    "\n",
    "`numpy` (für *Numerical Python*) ist eine fortgeschrittene Programmbibliothek zur Verarbeitung großer mehrdimensionaler Arrays und mathematischer Routinen höherer Ordnung (lineare Algebra, Statistik, komplexe mathematische Funktionen, etc.). <br>\n",
    "\n",
    "Die Objektklasse, mit der wir hauptsächlich arbeiten werden, ist die **`array`**-Klasse von `numpy`. <br>\n",
    "\n",
    "Diese Arrays entsprechen N-dimensionalen Matrizen, die verschiedene Daten wie Tabellendaten, Zeitreihen oder Bilder enthalten können. <br>\n",
    "\n",
    "Der Vorteil des `numpy`-Moduls liegt in seiner Fähigkeit, Array-Operationen sehr effizient auszuführen. Das bedeutet, dass sowohl die benötigte **Codelänge** als auch die **Rechenzeit** für diese Operationen im Vergleich zur konventionellen `Python`-Syntax deutlich minimiert werden.\n",
    "\n",
    "## 1 Erstellen eines `numpy`-Arrays\n",
    "\n",
    "Anders als bei üblichen Klassen, kann ein `numpy`-Array mit vielen verschiedenen Konstruktoren erstellt werden. <br>\n",
    "\n",
    "Das Argument dieser Konstruktoren ist normalerweise ein **`tuple`**, das die gewünschten Matrix-Dimensionen enthält. Dieses Tuple wird als **Shape** (Form) eines Arrays bezeichnet:\n",
    "\n",
    "```python\n",
    "# Import des numpy-Moduls unter dem Alias 'np'\n",
    "import numpy as np\n",
    "\n",
    "# Erstellen einer 5x10 Matrix gefüllt mit Nullen\n",
    "X = np.zeros(shape = (5, 10))\n",
    "\n",
    "# Erstellen einer 3-dimensionalen 3x10x10 Matrix gefüllt mit Einsen\n",
    "X = np.ones(shape = (3, 10, 10))\n",
    "```\n",
    "\n",
    "Es ist auch möglich, ein Array aus einer **Liste** mit dem `np.array`-Konstruktor zu erstellen:\n",
    "\n",
    "```python\n",
    "# Erstellen eines Arrays aus einer Liste durch List Comprehension\n",
    "X = np.array([2*i for i in range(10)]) # 0, 2, 4, 6, ..., 18\n",
    "\n",
    "# Erstellen eines Arrays aus einer Liste von Listen\n",
    "X = np.array([[1, 3, 3],\n",
    "              [3, 3, 1],\n",
    "              [1, 2, 0]])\n",
    "```\n",
    "\n",
    "Diese drei Konstruktoren sind nur Beispiele. Wir werden später noch weitere Konstruktoren kennenlernen.\n",
    "\n",
    "## 2 Indizierung eines `numpy`-Arrays\n",
    "\n",
    "Anders als bei Listen ist ein `numpy`-Array mehrdimensional. Die Indizierung muss durch Eingabe des gewünschten Index **in jeder Dimension** erfolgen:\n",
    "\n",
    "```python\n",
    "# Erstellen einer 10x10 Matrix gefüllt mit Einsen\n",
    "X = np.ones(shape = (10, 10))\n",
    "\n",
    "# Anzeigen des Elements am Index (4, 3)\n",
    "print(X[4, 3])\n",
    "\n",
    "# Zuweisen des Wertes -1 zum Element mit Index (1, 5)\n",
    "X[1, 5] = -1\n",
    "```\n",
    "\n",
    "Wie bei allen anderen indizierbaren Python-Objekten beginnt der Index einer Achse bei 0. <br>\n",
    "\n",
    "<img src=\"../imgs/indexation_array_en.png\" style = 'height:350px'> <br>\n",
    "\n",
    "Wie bei Listen ist es möglich, ein Array mittels **Slicing** zu indizieren. <br>\n",
    "\n",
    "<img src=\"../imgs/indexation_array_slicing_en.png\" style = 'height:350px'>\n",
    "\n",
    "Es ist möglich, in **jeder Dimension** eines Arrays zu slicen. Im folgenden Beispiel werden wir ein **Subarray** aus `X` mittels Slicing extrahieren. <br>\n",
    "\n",
    "<img src=\"../imgs/indexation_array_slicing2_en.png\" style = 'height:350px'>\n",
    "\n",
    "Die vorherigen Beispiele zeigen die Indizierung eines 2-dimensionalen Arrays, aber diese Art der Indizierung kann auf N-dimensionale Arrays verallgemeinert werden. Es ist auch möglich, die **negative Indizierung** wie bei Listen zu verwenden.\n",
    "\n",
    "#### 2.1 Aufgaben:\n",
    "> (a) Erstelle und zeige folgende diagonale Blockmatrix mit Hilfe von Konstruktoren und Array-Slicing:\n",
    "> \n",
    ">$$\n",
    "\\begin{pmatrix}\n",
    "1 & 1 & 1 & 0 & 0 & 0 \\\\\n",
    "1 & 1 & 1 & 0 & 0 & 0 \\\\\n",
    "1 & 1 & 1 & 0 & 0 & 0 \\\\\n",
    "0 & 0 & 0 & -1 & -1 & -1 \\\\\n",
    "0 & 0 & 0 & -1 & -1 & -1 \\\\\n",
    "0 & 0 & 0 & -1 & -1 & -1 \\\\\n",
    "\\end{pmatrix}\n",
    "$$ \n"
   ]
  },
  {
   "cell_type": "code",
   "execution_count": 1,
   "id": "fa08c025-ec57-4793-9d9a-68b316db207a",
   "metadata": {},
   "outputs": [],
   "source": [
    "import numpy as np\n",
    "# Deine Lösung:\n",
    "\n",
    "\n",
    "\n"
   ]
  },
  {
   "cell_type": "markdown",
   "id": "c2f7471f-bdaa-4d88-8da3-78606a30c86e",
   "metadata": {
    "jp-MarkdownHeadingCollapsed": true
   },
   "source": [
    "#### Lösung:"
   ]
  },
  {
   "cell_type": "code",
   "execution_count": null,
   "id": "c0b1671c-0570-474e-ac4a-13eca21c5235",
   "metadata": {},
   "outputs": [],
   "source": [
    "# Erstellen einer 6x6 Matrix gefüllt mit 0\n",
    "X = np.zeros(shape = (6, 6))\n",
    "\n",
    "# Zuweisen der Werte 1 für das obere linke Viertel\n",
    "X[:3, :3] = 1\n",
    "\n",
    "# Zuweisen der Werte -1 für das untere rechte Viertel\n",
    "X[3:, 3:] = -1\n",
    "\n",
    "# Displaying the matrix\n",
    "print(X)"
   ]
  },
  {
   "cell_type": "markdown",
   "id": "348db0c0-fedf-4506-9f88-5ed67ab33832",
   "metadata": {},
   "source": [
    "#### \n",
    "> (b) Erstelle und zeige folgende Matrix mit Hilfe von Array-Konstruktoren und Slicing:\n",
    ">  \n",
    ">$$\n",
    "\\begin{pmatrix}\n",
    "0 & 1 & 2 & 3 & 4 & 5 \\\\\n",
    "0 & 1 & 2 & 3 & 4 & 5 \\\\\n",
    "0 & 1 & 2 & 3 & 4 & 5 \\\\\n",
    "0 & 1 & 2 & 3 & 4 & 5 \\\\\n",
    "0 & 1 & 2 & 3 & 4 & 5 \\\\\n",
    "0 & 1 & 2 & 3 & 4 & 5 \\\\\n",
    "\\end{pmatrix}\n",
    "$$ <br>\n",
    "> Du kannst entweder jede Zeile einer Matrix aus Nullen mit `np.array([0, 1, 2, 3, 4, 5])` ersetzen oder jeder Spalte ihren Index zuweisen."
   ]
  },
  {
   "cell_type": "code",
   "execution_count": 1,
   "id": "7151508d-0fcb-4fa1-a2a2-b776efe801db",
   "metadata": {},
   "outputs": [],
   "source": [
    "# Deine Lösung:\n",
    "\n",
    "\n",
    "\n"
   ]
  },
  {
   "cell_type": "markdown",
   "id": "83076860-1603-414b-a12f-ab2b73a2a001",
   "metadata": {
    "jp-MarkdownHeadingCollapsed": true
   },
   "source": [
    "#### Lösung:"
   ]
  },
  {
   "cell_type": "code",
   "execution_count": null,
   "id": "292556ce-f527-4d1d-99a5-ee814751878d",
   "metadata": {},
   "outputs": [],
   "source": [
    "# Erste Lösung:\n",
    "X = np.zeros(shape = (6, 6))\n",
    "\n",
    "# Wir ersetzen jede Reiche mit: 'np.array([0, 1, 2, 3, 4, 5])' \n",
    "for i in range (6):\n",
    "    X[i ,:] = np.array ([0, 1, 2, 3, 4, 5])\n",
    "\n",
    "# Ausgabe:\n",
    "print(\"Erste Lösung\")\n",
    "print(X)\n",
    "print(\"\\n\")\n",
    "\n",
    "# Zweite Lösung\n",
    "Y = np.zeros(shape = (6, 6))\n",
    "\n",
    "# Jeder Spalte von x wird ihr Index zugewiesen:\n",
    "for i in range(6):\n",
    "    Y[:, i] = i\n",
    "    \n",
    "# Ausgabe\n",
    "print(\"Zweite Lösung\")\n",
    "print(Y)"
   ]
  },
  {
   "cell_type": "markdown",
   "id": "53fa2c5e-7521-47b0-a721-f558cf9261d0",
   "metadata": {},
   "source": [
    "## 3 Operationen auf Numpy-Arrays\n",
    "\n",
    " Meistens wirst du `numpy`-Arrays mit realen Daten verarbeiten. <br>\n",
    "\n",
    " Der Wert des `numpy`-Moduls liegt in seinem optimierten **Code**, der schnelle Berechnungen auf großen Matrizen ermöglicht. <br>\n",
    "\n",
    " Das `numpy`-Modul enthält grundlegende mathematische Funktionen wie:\n",
    "\n",
    " | Funktion                    | Numpy-Funktion              |\n",
    " |:---------------------------:|:---------------------------:|\n",
    " | $e^x$                       | `np.exp(x)`                 |\n",
    " | $\\mathrm{log}(x)$           | `np.log(x)`                 |\n",
    " | $\\mathrm{sin}(x)$           | `np.sin(x)`                 |\n",
    " | $\\mathrm{cos}(x)$           | `np.cos(x)`                 |\n",
    " | Runden auf **`n`** Dezimalstellen| `np.round(x, decimals = n)` |\n",
    "\n",
    " Die vollständige Liste der mathematischen Operationen für `numpy` findest du [hier](https://numpy.org/doc/stable/reference/routines.math.html). <br>\n",
    "\n",
    " Diese Funktionen können auf alle `numpy`-Arrays angewendet werden, unabhängig von ihren Dimensionen:\n",
    "\n",
    " ```python\n",
    " X = np.array([i/100 for i in range(100)]) # 0, 0.01, 0.02, 0.03, ..., 0.98, 0.99\n",
    "\n",
    " # Berechne die Exponentialfunktion von x für x = 0, 0.01, 0.02, 0.03, ..., 0.98, 0.99\n",
    " exp_X = np.exp(X)\n",
    " ```\n",
    "\n",
    "In der nächsten Zelle werden wir das Array erstellen:\n",
    "\n",
    "$$\n",
    "X =\n",
    "\\begin{pmatrix}\n",
    "0.01 & 0.02 & ... & 0.98 & 0.99\n",
    "\\end{pmatrix}\n",
    "$$\n",
    "\n",
    "#### 3.1 Aufgaben:\n",
    "> (a) Definiere eine Funktion `f`, die ein Array `X` nimmt und **in einer einzigen Codezeile** die folgende Funktion berechnet: <br>\n",
    ">\n",
    "> $$ f(x) = \\mathrm{exp}(\\mathrm{sin}(x) + \\mathrm{cos}(x)) $$ <br>\n",
    ">\n",
    "> (b) Zeige die **ersten 10** Elemente des Ergebnisses **gerundet auf 2 Dezimalstellen** der Funktion `f` angewendet auf das Array `X`."
   ]
  },
  {
   "cell_type": "code",
   "execution_count": null,
   "id": "f782bb79-3500-48a8-abf4-780260449574",
   "metadata": {},
   "outputs": [],
   "source": [
    "# Deine Lösung:\n",
    "\n",
    "\n",
    "\n"
   ]
  },
  {
   "cell_type": "markdown",
   "id": "ce7c01ea-e7b8-4221-ad82-ca4dd549cba3",
   "metadata": {
    "jp-MarkdownHeadingCollapsed": true
   },
   "source": [
    "#### Lösung:"
   ]
  },
  {
   "cell_type": "code",
   "execution_count": null,
   "id": "6fc4fb6b-8f57-4f7e-acad-b7c97ec779ec",
   "metadata": {},
   "outputs": [],
   "source": [
    "X = np.array([i/100 for i in range(100)])\n",
    "\n",
    "# Definition der Funktion f\n",
    "def f(X):\n",
    "    return np.exp(np.sin(X) + np.cos(X))\n",
    "\n",
    "# Berechnen von f(X)\n",
    "result = f(X)\n",
    "\n",
    "# Wir runden das Ergebnis auf 2 dezimalstellen\n",
    "rounded = np.round(result, decimals = 2)\n",
    "\n",
    "# und geben die ersten 10 Stellen des Ergebnis aus:\n",
    "print(rounded[: 10])"
   ]
  },
  {
   "cell_type": "markdown",
   "id": "8493e82f-9650-40a6-b777-c1cfb744e4b1",
   "metadata": {},
   "source": [
    "#### \n",
    "> (c) Definiere eine Funktion namens `f_python`, die die gleiche Operation auf jedes Element von X mit einer `for`-Schleife ausführt. <br>\n",
    "> \n",
    "> Die Dimensionen eines Arrays `X` können mit dem **`shape`**-Attribut von `X` abgerufen werden, welches ein **Tuple** ist: `shape = X.shape`. <br>\n",
    ">\n",
    "> Für ein Array mit **einer** Dimension entspricht die Anzahl der enthaltenen Elemente dem **ersten** Element seiner Form: `n = X.shape[0]`. <br>"
   ]
  },
  {
   "cell_type": "code",
   "execution_count": null,
   "id": "e3d11c35-a053-4fde-a82f-feb272e24bd8",
   "metadata": {},
   "outputs": [],
   "source": [
    "# Deine Lösung:\n",
    "\n",
    "\n",
    "\n"
   ]
  },
  {
   "cell_type": "markdown",
   "id": "a1fe7fa0-a18f-41b7-b1db-c3fd128931f9",
   "metadata": {
    "jp-MarkdownHeadingCollapsed": true
   },
   "source": [
    "#### Lösung:"
   ]
  },
  {
   "cell_type": "code",
   "execution_count": null,
   "id": "23a3440f-2c17-4ce1-8978-dc18cb88b04c",
   "metadata": {},
   "outputs": [],
   "source": [
    "def f_python(X):\n",
    "    n = X.shape[0]\n",
    "    for i in range(n):\n",
    "        X[i] = np.exp(np.sin(X[i]) + np.cos(X[i]))\n",
    "    return X"
   ]
  },
  {
   "cell_type": "markdown",
   "id": "b634d07d-87c5-4c03-b021-68f0ff27598f",
   "metadata": {},
   "source": [
    "#### \n",
    "> Wir werden nun die Ausführungszeiten dieser beiden Funktionen vergleichen, die auf ein sehr großes Array mit 10 Millionen Werten angewendet werden. <br>\n",
    ">\n",
    "> Wir werden diese Ausführungszeiten mit dem `time`-Modul messen. Um die Ausführungszeit einer Funktion zu messen, nimm einfach die **Differenz** zwischen **der Startzeit der Ausführung** und **der Endzeit**. Wir gehen davon aus, dass die Zuweisung einer Variable sofort erfolgt. <br>\n",
    ">\n",
    "> (d) Führe die nächste Zelle aus, um die Ausführungszeiten zu vergleichen. Diese Zelle könnte einige Zeit zum Ausführen benötigen."
   ]
  },
  {
   "cell_type": "code",
   "execution_count": null,
   "id": "764e503c-5bb2-49c0-b07d-3f815c465ee3",
   "metadata": {},
   "outputs": [],
   "source": [
    "from time import time\n",
    "\n",
    "# Wir erstellen ein Array mit 1000000 Werten\n",
    "X = np.array([i/1e7 for i in range(int(1e7))])\n",
    "\n",
    "time_start = time()\n",
    "f(X)\n",
    "time_end = time()\n",
    "\n",
    "runtime = time_end - time_start\n",
    "\n",
    "print (\"Die Berechnung mit numpy dauert:\", runtime, \"Sekunden\")\n",
    "\n",
    "time_start = time()\n",
    "f_python(X)\n",
    "time_end = time()\n",
    "\n",
    "runtime = time_end - time_start\n",
    "\n",
    "print (\"Die Berechnung mit einem loop dauert:\", runtime, \"Sekunden\")"
   ]
  },
  {
   "cell_type": "markdown",
   "id": "50faa10b-61ec-4e2a-802c-664983fabb75",
   "metadata": {},
   "source": [
    "Wie du siehst dauert die Berechnung mit einem ```Loop``` Im Vergleich zur Berechnung mit ```numpy```. <br>\n",
    "Besonders bei Berechnungen mit großen Datensätzen oder statistischen Berechnungen ist das oft von Vorteil, wie wir in kommenden Aufgaben sehen werden."
   ]
  },
  {
   "cell_type": "code",
   "execution_count": null,
   "id": "fdda2342-97bd-4bc2-9ce7-6e9b2e1ab7e9",
   "metadata": {},
   "outputs": [],
   "source": []
  }
 ],
 "metadata": {
  "kernelspec": {
   "display_name": "Python 3 (ipykernel)",
   "language": "python",
   "name": "python3"
  },
  "language_info": {
   "codemirror_mode": {
    "name": "ipython",
    "version": 3
   },
   "file_extension": ".py",
   "mimetype": "text/x-python",
   "name": "python",
   "nbconvert_exporter": "python",
   "pygments_lexer": "ipython3",
   "version": "3.10.15"
  }
 },
 "nbformat": 4,
 "nbformat_minor": 5
}
