{
 "cells": [
  {
   "cell_type": "markdown",
   "id": "f80e26d0-3ed4-4a9c-b27c-a1282bc4e359",
   "metadata": {},
   "source": [
    "# Python Grundlagen 6\n",
    "## Objektorientiertes Programmieren 02\n",
    "***\n",
    "In diesem Notebook wird behandelt:\n",
    "- Vererbung\n",
    "- Vordefinierte Klassen\n",
    "- Eingebaute Methoden\n",
    "***"
   ]
  },
  {
   "cell_type": "markdown",
   "id": "2f3d95eb-9a84-4bce-ae4b-751317f29eca",
   "metadata": {},
   "source": [
    "## 1 Vererbung\n",
    "*Vererbung* wird verwendet, um eine *Unterklasse* von einer existierenden Klasse zu erstellen. Wir sagen, dass diese neue Klasse von der ersten *erbt*, weil sie automatisch die gleichen Attribute und Methoden haben wird.\n",
    "\n",
    "Darüber hinaus ist es möglich, Attribute oder Methoden hinzuzufügen, die spezifisch für diese Unterklasse sind.\n",
    "\n",
    "Im ersten Teil dieses Moduls haben wir die Klasse ```Vehicle``` wie folgt definiert:\n",
    "```python\n",
    "class Vehicle:\n",
    "    def __init__(self, a, b = []):\n",
    "        self.seats = a\n",
    "        self.passengers = b\n",
    "    def print_passengers(self):\n",
    "        for i in range(len(self.passengers)):\n",
    "            print(self.passengers[i])\n",
    "    def add(self, name):\n",
    "            self.passengers.append(name)\n",
    "```\n",
    "\n",
    "Wir können eine Klasse ```Motorcycle``` definieren, die von der Klasse ```Vehicle``` erbt, wie folgt:\n",
    "\n",
    "```python\n",
    "class Motorcycle(Vehicle):\n",
    "    def __init__(self, b, c):\n",
    "        self.seats = 2\n",
    "        self.passengers = b\n",
    "        self.brand = c\n",
    "```\n",
    "```python\n",
    "motorcycle = Motorcycle(['Pierre', 'Dimitri'], 'Yamaha')\n",
    "```\n",
    "\n",
    "Durch das Überschreiben der ```__init__``` Methode bekommt jedes ```Motorcycle```-Objekt automatisch 2 Sitze und ein neues ```brand```-Attribut.\n",
    "\n",
    "#### 1.1 Aufgaben:\n",
    "> (a) Führe die folgende Zelle aus, um dich davon zu überzeugen.\n",
    "\n"
   ]
  },
  {
   "cell_type": "code",
   "execution_count": null,
   "id": "aed8588d-9096-4167-b27e-f892c8209059",
   "metadata": {},
   "outputs": [],
   "source": [
    "class Vehicle: # Definition der Vehicle-Klasse\n",
    "    def __init__(self, a, b = []):\n",
    "        self.seats = a       # Anzahl der Sitze im Fahrzeug\n",
    "        self.passengers = b  # Liste mit den Namen der Passagiere\n",
    "    \n",
    "    def print_passengers(self): # Gibt die Namen der Passagiere im Fahrzeug aus\n",
    "        for i in range(len(self.passengers)):\n",
    "            print(self.passengers[i])\n",
    "    \n",
    "    def add(self,name): # Fügt einen neuen Passagier zur Passagierliste hinzu\n",
    "            self.passengers.append(name)\n",
    "    \n",
    "class Motorcycle(Vehicle):\n",
    "    def __init__(self, b, c):\n",
    "        self.seats = 2      # Die Anzahl der Sitze wird automatisch auf 2 gesetzt und nicht durch die Argumente geändert\n",
    "        self.passengers = b \n",
    "        self.brand = c\n",
    "\n",
    "moto1 = Motorcycle(['Pierre','Dimitri'], 'Yamaha')\n",
    "moto1.add('Yohann')\n",
    "moto1.print_passengers()"
   ]
  },
  {
   "cell_type": "markdown",
   "id": "a2b9de9c-db0b-400d-b040-8da688ae48ac",
   "metadata": {},
   "source": [
    "> (b) Definiere in der Klasse ```Motorcycle``` eine ```add``` Methode, die einen als Argument übergebenen Namen zur Passagierliste hinzufügt und dabei prüft, ob noch Plätze verfügbar sind. Wenn keine Plätze mehr auf dem ```Motorcycle``` frei sind, soll *Das Fahrzeug ist voll* angezeigt werden. Wenn noch Plätze frei sind, soll die Methode den Namen zur Liste hinzufügen und die Anzahl der verbleibenden Plätze anzeigen."
   ]
  },
  {
   "cell_type": "code",
   "execution_count": null,
   "id": "0e5b19fb-1e21-45b9-a19d-2025caf80635",
   "metadata": {},
   "outputs": [],
   "source": [
    "# Deine Lösung:\n",
    "\n",
    "\n",
    "\n"
   ]
  },
  {
   "cell_type": "markdown",
   "id": "bbd055a4-a4d7-4d7d-9266-cf614f1476fb",
   "metadata": {},
   "source": [
    "#### Lösung:"
   ]
  },
  {
   "cell_type": "code",
   "execution_count": null,
   "id": "ba55cfd5-d48d-4785-9bf2-7e3aac512214",
   "metadata": {},
   "outputs": [],
   "source": [
    "class Motorcycle(Vehicle):\n",
    "    def __init__(self, b, c):\n",
    "        self.seats = 2\n",
    "        self.passengers = b\n",
    "        self.brand = c\n",
    "        \n",
    "    def add(self, name):\n",
    "        if(len(self.passengers) <  self.seats):\n",
    "            self.passengers.append(name)\n",
    "            print('Es sind noch', self.seats - len(self.passengers), 'Plätze frei.')\n",
    "        else:\n",
    "            print(\"Das Fahrzeug ist voll.\")"
   ]
  },
  {
   "cell_type": "markdown",
   "id": "e29c3f5f-f8cc-4a72-ae0b-d9d4d493bd54",
   "metadata": {},
   "source": [
    "#### \n",
    "Wir führen die folgenden Anweisungen aus:\n",
    "```python\n",
    "car2 = Vehicle(3, ['Antoine', 'Thomas', 'Raphaël'])\n",
    "moto2 = Motorcycle(['Guillaume', 'Charles'], 'Honda')\n",
    "car2.add('Benjamin')\n",
    "moto2.add('Dimitri')\n",
    "```\n",
    "\n",
    "Zusätzlich erinnern wir uns daran, dass die Klassen ```Vehicle``` und ```Motorcycle``` wie folgt definiert sind:\n",
    "```python\n",
    "class Vehicle:\n",
    "        def __init__(self, a, b = []):\n",
    "            self.seats = a\n",
    "            self.passengers = b\n",
    "            \n",
    "        def print_passengers(self):\n",
    "            for i in range(len(self.passengers)):\n",
    "                print(self.passengers[i])\n",
    " \n",
    "        def add(self, name):\n",
    "            self.passengers.append(name)\n",
    "```\n",
    "\n",
    "```python\n",
    "class Motorcycle(Vehicle):\n",
    "    def __init__(self, b, c):\n",
    "        self.seats = 2\n",
    "        self.passengers = b\n",
    "        self.brand = c\n",
    "        \n",
    "    def add(self, name):\n",
    "        if(len(self.passengers) < self.seats):\n",
    "            self.passengers.append(name)\n",
    "            print('Es sind noch', self.seats - len(self.passengers), 'Plätze frei.')\n",
    "        else:\n",
    "            print(\"Das Fahrzeug ist voll.\")\n",
    "```\n",
    "\n",
    "> Was zeigt die Methode ```moto2.print_passengers()``` an?:\n",
    "> * A: ```Guillaume Charles Dimitri```\n",
    "> * B: ```Guillaume Charles```\n",
    "> * C: ```Das Fahrzeug ist voll.```"
   ]
  },
  {
   "cell_type": "code",
   "execution_count": null,
   "id": "127bf39e-4d69-4336-b811-f5a7c30990cf",
   "metadata": {},
   "outputs": [],
   "source": [
    "# Deine Lösung:\n",
    "\n",
    "\n",
    "\n"
   ]
  },
  {
   "cell_type": "markdown",
   "id": "14869960-8740-43b2-9e7f-be7ec1a8a791",
   "metadata": {},
   "source": [
    "#### Lösung:"
   ]
  },
  {
   "cell_type": "markdown",
   "id": "d632162d-8ed0-488e-9f19-48a42ccd6ee5",
   "metadata": {},
   "source": [
    "> Antwort **A** ist richtig: ```Guillaume Charles Dimitri```"
   ]
  },
  {
   "cell_type": "markdown",
   "id": "83b4f33e-24ff-4a74-a351-5a4827091e1b",
   "metadata": {},
   "source": [
    "#### \n",
    "> Warum ist die Anweisung ```car3 = Vehicle(4)``` richtig geschrieben, aber die Anweisung ```moto3 = Motorcycle(6)``` gibt einen Fehler zurück?\n",
    "> * A: Ein ```Motorcycle```-Objekt kann keine 6 Sitze haben.\n",
    "> * B: Der Konstruktor der Klasse ```Vehicle``` nimmt nur ein Argument an.\n",
    "> * C: Bei der Initialisierung der ```moto3```-Instanz fehlt ein Argument."
   ]
  },
  {
   "cell_type": "code",
   "execution_count": null,
   "id": "377e66b5-3ead-466d-bde8-201e863cbf9c",
   "metadata": {},
   "outputs": [],
   "source": [
    "# Deine Lösung:\n",
    "\n",
    "\n",
    "\n"
   ]
  },
  {
   "cell_type": "markdown",
   "id": "2cd1b4c5-aaec-4bdd-811a-30259dce9460",
   "metadata": {
    "jp-MarkdownHeadingCollapsed": true
   },
   "source": [
    "#### Lösung:"
   ]
  },
  {
   "cell_type": "markdown",
   "id": "6be21453-f6cb-403b-906f-37ed16de6285",
   "metadata": {},
   "source": [
    "> Antwort **C** ist richtig: Bei der Initialisierung der ```moto3```-Instanz fehlt ein Argument. Bei der ```Vehicle```Klasse ist ein Argument vordefiniert, bei ```Motorcycle``` dagegen keins. Man benötigt also zwei Argumente, um ein Objekt zu initialisieren."
   ]
  },
  {
   "cell_type": "markdown",
   "id": "3d45dba5-e561-48e7-879c-62247ffae539",
   "metadata": {},
   "source": [
    "#### \n",
    "#### Aufgaben:\n",
    "> (c) Erstelle eine Klasse ```Convoy```, die 2 Attribute hat: Das erste Attribut namens ```vehicle_list``` ist eine Liste von ```Vehicle```-Objekten und das zweite Attribut ```length``` ist die Gesamtzahl der Fahrzeuge im ```Convoy```. Ein Konvoi wird automatisch mit einem ```Vehicle``` initialisiert, das 4 Sitze und keine Passagiere hat. <br>\n",
    "> \n",
    "> (d) Definiere in der Klasse ```Convoy``` eine Methode ```add_vehicle```, die ein Objekt vom Typ ```Vehicle``` am Ende der Fahrzeugliste des Konvois hinzufügt. Vergiss nicht, die Länge des Konvois zu aktualisieren. <br>\n"
   ]
  },
  {
   "cell_type": "code",
   "execution_count": null,
   "id": "2ece2b27-2508-4f53-8281-d44fdaa1a924",
   "metadata": {},
   "outputs": [],
   "source": [
    "# Deine Lösung:\n",
    "\n",
    "\n",
    "\n"
   ]
  },
  {
   "cell_type": "markdown",
   "id": "798784ce-bc40-49de-8166-e46027e9b23f",
   "metadata": {
    "jp-MarkdownHeadingCollapsed": true
   },
   "source": [
    "#### Lösung:"
   ]
  },
  {
   "cell_type": "code",
   "execution_count": null,
   "id": "09c5c680-0d64-4b47-8c9a-ee3b6b66c199",
   "metadata": {},
   "outputs": [],
   "source": [
    "class Convoy:\n",
    "    def __init__(self):\n",
    "        self.vehicle_list = []               \n",
    "        self.vehicle_list.append(Vehicle(4)) # vehicle_list wird initialisiert als Liste mit einem Fahrzeug (Vehicle)\n",
    "        self.length = 1                      # Das length Attribut wird mit 1 initialisiert\n",
    "    \n",
    "    def add_vehicle(self, vehicle):\n",
    "        self.vehicle_list.append(vehicle)    # a Vehicle wird am Ende der vehicle_list hinzugefügt\n",
    "        self.length = self.length + 1        # Die Länge (length) des Convoys wird upgedatet"
   ]
  },
  {
   "cell_type": "markdown",
   "id": "4c1aed7c-c1e7-4e19-91a8-bd52532b995e",
   "metadata": {},
   "source": [
    "#### \n",
    "> (e) Initialisiere ein ```convoy1```-Objekt der Klasse ```Convoy```. <br>\n",
    "> \n",
    "> (f) Füge den Passagier ```\"Albert\"``` zum ersten Fahrzeug von ```convoy1``` hinzu. <br>\n",
    "> \n",
    "> (g) Füge ein Motorrad der Marke ```\"Honda\"``` zu ```convoy1``` hinzu, das von ```\"Raphael\"``` gefahren wird. <br>\n"
   ]
  },
  {
   "cell_type": "code",
   "execution_count": null,
   "id": "0880da4e-28a5-4838-b326-6d6dfa05cf36",
   "metadata": {},
   "outputs": [],
   "source": [
    "# Deine Lösung:\n",
    "\n",
    "\n",
    "\n"
   ]
  },
  {
   "cell_type": "markdown",
   "id": "57ac6e09-44ef-43ac-8ceb-048fe6e81f52",
   "metadata": {
    "jp-MarkdownHeadingCollapsed": true
   },
   "source": [
    "#### Lösung:"
   ]
  },
  {
   "cell_type": "code",
   "execution_count": null,
   "id": "b2d264cb-5877-4347-9199-5c90ccb917d5",
   "metadata": {},
   "outputs": [],
   "source": [
    "convoy1 = Convoy()                                     # convoy wird instanziert\n",
    "\n",
    "convoy1.vehicle_list[0].add('Albert')                  # \"Albert\" wird dem Ersten Fahrzeug des Konvois hinzugefügt\n",
    "\n",
    "convoy1.add_vehicle(Motorcycle(['Raphael'] , 'Honda')) # Hier ist zu beachten: \n",
    "                                                       # das erste Argument der 'Motorcycle' Klasse ist eine Liste."
   ]
  },
  {
   "cell_type": "markdown",
   "id": "8e821fce-722b-4a71-8564-a527e5f82cbd",
   "metadata": {},
   "source": [
    "#### \n",
    "> (h) Schreibe ein kleines Skript, das alle Passagiere in ```convoy1``` anzeigt."
   ]
  },
  {
   "cell_type": "code",
   "execution_count": null,
   "id": "cd9c1554-7a0f-4739-a80b-411542e2a0f6",
   "metadata": {},
   "outputs": [],
   "source": [
    "# Deine Lösung:\n",
    "\n",
    "\n",
    "\n"
   ]
  },
  {
   "cell_type": "markdown",
   "id": "f54c8fa0-d8fb-444d-9433-da1eacc0bb48",
   "metadata": {
    "jp-MarkdownHeadingCollapsed": true
   },
   "source": [
    "#### Lösung:"
   ]
  },
  {
   "cell_type": "code",
   "execution_count": null,
   "id": "d1cd751c-7aac-4419-9543-f6aa0eab85f7",
   "metadata": {},
   "outputs": [],
   "source": [
    "for vehicle in convoy1.vehicle_list: # Für jedes Fahrzeug auf der Liste:\n",
    "    vehicle.print_passengers()       # nutzen wir die 'print_passengers'-Funktion der 'Vehicle'-Klasse"
   ]
  },
  {
   "cell_type": "markdown",
   "id": "db488ca0-579a-4597-be48-0b9bf9a4fad6",
   "metadata": {},
   "source": [
    "# 2 Vordefinierte Klassen\n",
    "In Python werden viele vordefinierte Klassen wie die Klassen ```list```, ```tuple``` oder ```str``` regelmäßig verwendet, um die Aufgaben des Entwicklers zu erleichtern. Wie alle anderen Klassen haben sie ihre eigenen Attribute und Methoden, die dem Benutzer zur Verfügung stehen.\n",
    "<br><br>\n",
    "Einer der großen Vorteile der objektorientierten Programmierung ist die Möglichkeit, Klassen zu erstellen und sie mit anderen Entwicklern zu teilen. Dies geschieht durch Pakete wie ```numpy```, ```pandas``` oder ```scikit-learn```. All diese Pakete sind tatsächlich Klassen, die von anderen Entwicklern in der Python-Community erstellt wurden, um uns Werkzeuge zur Verfügung zu stellen, die die Entwicklung unserer eigenen Algorithmen erleichtern.\n",
    "<br><br>\n",
    "Wir werden zunächst eine der wichtigsten vordefinierten Objektklassen, die ```list```-Klasse, besprechen, um zu lernen, wie man sie in vollem Umfang nutzt.\n",
    "<br>\n",
    "Anschließend werden wir kurz die ```DataFrame```-Klasse des ```pandas```-Pakets vorstellen und lernen, ihre Methoden zu identifizieren und zu verwenden.\n",
    "\n",
    "## 2.1 Die list-Klasse\n",
    "\n",
    "#### 2.1.1 Aufgaben:\n",
    "> (a) Verwende den Befehl ```dir(list)```, um alle Attribute und Methoden der ```list```-Klasse anzuzeigen. <br>"
   ]
  },
  {
   "cell_type": "code",
   "execution_count": null,
   "id": "2ff17ee4-891d-4201-b806-64670b1e27d8",
   "metadata": {},
   "outputs": [],
   "source": [
    "# Deine Lösung:\n",
    "\n",
    "\n",
    "\n"
   ]
  },
  {
   "cell_type": "markdown",
   "id": "2c06501e-0dd9-44b3-b568-3a6517f8b55c",
   "metadata": {},
   "source": [
    "#### \n",
    "> (b) Verwende den Befehl ```help(list)```, um die *Dokumentation* der ```list```-Klasse anzuzeigen. Diese Dokumentation ist nützlich, um zu verstehen, wie man die Methoden einer Klasse verwendet. <br>"
   ]
  },
  {
   "cell_type": "code",
   "execution_count": null,
   "id": "f47feadf-2528-4d0a-9e08-dc172e516920",
   "metadata": {},
   "outputs": [],
   "source": [
    "# Deine Lösung:\n",
    "\n",
    "\n",
    "\n"
   ]
  },
  {
   "cell_type": "markdown",
   "id": "c560f4e6-e2fb-4007-9a48-6a43ad4edaec",
   "metadata": {},
   "source": [
    "#### \n",
    "> <div class=\"alert alert-info\">\n",
    "<i class=\"fa fa-info-circle\"></i>\n",
    "Die Befehle <code style=\"background-color: transparent; color: inherit\">dir</code> und <code style=\"background-color: transparent; color: inherit\">help</code> sind die ersten Befehle, die man ausführen sollte, wenn man nicht versteht, wie man eine Methode einer Klasse verwendet oder wenn man sich nicht an den Namen einer Methode erinnern kann.\n",
    "> </div>\n",
    "\n",
    "> (c) Finde mithilfe der Befehle ```dir``` oder ```help``` eine Methode, die die Reihenfolge der Elemente der Liste ```list_1``` umkehrt. <br>"
   ]
  },
  {
   "cell_type": "code",
   "execution_count": null,
   "id": "4180b7d5-be1c-498c-bc7f-051c7faccd7c",
   "metadata": {},
   "outputs": [],
   "source": [
    "list_1 = [1, 2, 3, 4, 5, 6, 7, 8, 9]\n",
    "# Deine Lösung:\n",
    "\n",
    "\n",
    "\n"
   ]
  },
  {
   "cell_type": "markdown",
   "id": "96e2635a-bb73-43b1-a7bc-bf0fc38300df",
   "metadata": {
    "jp-MarkdownHeadingCollapsed": true
   },
   "source": [
    "#### Lösung:"
   ]
  },
  {
   "cell_type": "code",
   "execution_count": null,
   "id": "a5be0fcb-5e55-4ed5-91b7-903fe38f5e0f",
   "metadata": {},
   "outputs": [],
   "source": [
    "list_1 = [1, 2, 3, 4, 5, 6, 7, 8, 9]\n",
    "\n",
    "list_1.reverse() # die 'reverse' Methode dreht die Reihenfolge der Liste, die sie aufruft, um.\n",
    "                 # Beachte, dass diese Methode die Liste nicht ausgibt, sondern modifiziert!\n",
    "\n",
    "list_1"
   ]
  },
  {
   "cell_type": "markdown",
   "id": "c8b67b7a-aa40-4881-8417-24ec0ba16804",
   "metadata": {},
   "source": [
    "#### \n",
    "> (d) Finde mithilfe der Befehle ```dir``` und ```help``` eine Methode, die den Wert ```10``` an der fünften Position der Liste ```list_2``` einfügt. <br>\n"
   ]
  },
  {
   "cell_type": "code",
   "execution_count": null,
   "id": "ab00d52d-4036-4f34-8291-c5fed2051f6f",
   "metadata": {},
   "outputs": [],
   "source": [
    "list_2 = [1, 2, 3, 4, 5, 6, 7, 8, 9]\n",
    "# Deine Lösung:\n",
    "\n",
    "\n",
    "\n"
   ]
  },
  {
   "cell_type": "markdown",
   "id": "0cc7f0bb-af6d-4b26-a43b-c95662175647",
   "metadata": {
    "jp-MarkdownHeadingCollapsed": true
   },
   "source": [
    "#### Lösung:"
   ]
  },
  {
   "cell_type": "code",
   "execution_count": null,
   "id": "86499b08-d057-48fd-a9bd-aba9c2fff933",
   "metadata": {},
   "outputs": [],
   "source": [
    "list_2 = [1, 2, 3, 4, 5, 6, 7, 8, 9]\n",
    "\n",
    "list_2.insert(4, 10) # fügt den Wert 10 bei index 4 (fünfte Position in Python) ein.\n",
    "\n",
    "list_2"
   ]
  },
  {
   "cell_type": "markdown",
   "id": "bcddd1de-9fa3-4801-9bac-882ca1389321",
   "metadata": {},
   "source": [
    "#### \n",
    "> (e) Finde mithilfe der Befehle ```dir``` und ```help``` eine Methode, die die Liste ```list_3``` sortiert."
   ]
  },
  {
   "cell_type": "code",
   "execution_count": null,
   "id": "18627c0e-f598-4171-85b0-45c9837b86f7",
   "metadata": {},
   "outputs": [],
   "source": [
    "list_3 = [5, 2, 4, 9, 6, 7, 8, 3, 10, 1]\n",
    "# Deine Lösung:\n",
    "\n",
    "\n",
    "\n"
   ]
  },
  {
   "cell_type": "markdown",
   "id": "d076ae49-e47f-4d57-bfb5-c0a137bbc431",
   "metadata": {},
   "source": [
    "#### Lösung:"
   ]
  },
  {
   "cell_type": "code",
   "execution_count": null,
   "id": "a415e4a6-8c01-4739-a82e-db46f3738eaf",
   "metadata": {},
   "outputs": [],
   "source": [
    "list_3 = [5, 2, 4, 9, 6, 7, 8, 3, 10, 1]\n",
    "\n",
    "list_3.sort() # Ordnet die Elemente einer Liste in aufsteigender Reihenfolge\n",
    "              # Beachte, dass diese Methode die Liste nicht ausgibt, sondern modifiziert!\n",
    "\n",
    "list_3"
   ]
  },
  {
   "cell_type": "markdown",
   "id": "7a842687-bec0-403a-a05a-1638d258a9dc",
   "metadata": {},
   "source": [
    "## 2.2 Die DataFrame-Klasse\n",
    "Das ```pandas```-Paket enthält eine Klasse namens ```DataFrame```, deren Nützlichkeit sie zum meistgenutzten Paket von Data Scientists für die Datenmanipulation macht.\n",
    "\n",
    "Um das ```pandas```-Paket zu verwenden, musst du es zuerst importieren. Um dann einen ```DataFrame``` zu instanziieren, musst du seinen im ```pandas```-Paket definierten Konstruktor aufrufen.\n",
    "\n",
    "#### 2.2.1 Aufgaben:\n",
    "> (a) Importiere das ```pandas```-Paket unter dem Alias ```pd```. <br>\n",
    "> \n",
    "> (b) Instanziiere einen leeren ```DataFrame``` mithilfe des im ```pandas```-Paket enthaltenen Konstruktors. Dieser ```DataFrame``` soll den Namen ```df``` haben. <br>"
   ]
  },
  {
   "cell_type": "code",
   "execution_count": null,
   "id": "334197b0-3b0c-4cb7-9468-91aa0439fffc",
   "metadata": {},
   "outputs": [],
   "source": [
    "# Deine Lösung\n",
    "\n",
    "\n",
    "\n"
   ]
  },
  {
   "cell_type": "markdown",
   "id": "1081f117-37fc-4d23-bcbf-edc69e2f60eb",
   "metadata": {
    "jp-MarkdownHeadingCollapsed": true
   },
   "source": [
    "#### Lösung:"
   ]
  },
  {
   "cell_type": "code",
   "execution_count": null,
   "id": "56f311dc-0cde-4ea8-9ab3-94ece2aeb15c",
   "metadata": {},
   "outputs": [],
   "source": [
    "import pandas as pd\n",
    "\n",
    "df = pd.DataFrame()"
   ]
  },
  {
   "cell_type": "markdown",
   "id": "2f9075a9-5ece-4ce2-83e4-7e6dc611d720",
   "metadata": {},
   "source": [
    "#### \n",
    "Wenn du die Anweisungen ```dir(df)``` oder ```dir(pd.DataFrame)``` ausführst, wirst du sehen, dass die ```DataFrame```-Klasse viele Methoden und Attribute hat. Es ist sehr schwierig, sich alle zu merken, daher sind die Befehle ```dir``` und ```help``` so nützlich.\n",
    "\n",
    "Aufgrund der Länge der Dokumentation ist es jedoch nicht praktisch, direkt die Befehle ```dir(df)``` oder ```help(df)``` zu verwenden. Um direkten Zugriff auf die Dokumentation einer bestimmten Methode zu haben, kannst du stattdessen die ```help```-Funktion mit dem Argument ```object.method``` verwenden.\n",
    "\n",
    "> (c) Erstelle mithilfe des Befehls ```help(pd.DataFrame)``` einen ```DataFrame``` namens ```df1``` unter Verwendung der Liste ```list_4```. <br>"
   ]
  },
  {
   "cell_type": "code",
   "execution_count": null,
   "id": "1a580ca4-4045-48bb-a033-1b2481087084",
   "metadata": {},
   "outputs": [],
   "source": [
    "# Deine Lösung\n",
    "\n",
    "\n",
    "\n"
   ]
  },
  {
   "cell_type": "markdown",
   "id": "69d1b4af-fc9a-45c0-a415-4c5b51775273",
   "metadata": {
    "jp-MarkdownHeadingCollapsed": true
   },
   "source": [
    "#### Lösung:"
   ]
  },
  {
   "cell_type": "code",
   "execution_count": null,
   "id": "f9f6e4e6-884d-413a-8573-14895bc84069",
   "metadata": {},
   "outputs": [],
   "source": [
    "list_4 = [1, 5, 45, 42, None, 123, 4213, None, 213]\n",
    "\n",
    "df1 = pd.DataFrame(data = list_4)\n",
    "\n",
    "df1"
   ]
  },
  {
   "cell_type": "markdown",
   "id": "3d6b4ab6-7908-4d17-a338-29578d6e4783",
   "metadata": {},
   "source": [
    "#### \n",
    "Wenn du den ```DataFrame``` ```df1``` anzeigst, kannst du sehen, dass einige seiner Werte ```NaN``` zugewiesen sind, was für *Not a Number* steht. In der Praxis kommt dies sehr häufig vor, wenn wir eine unverarbeitete Datenbank importieren. Die ```DataFrame```-Klasse enthält eine sehr einfache Methode, um diese fehlenden Werte loszuwerden: die ```dropna```-Methode.\n",
    "\n",
    "> <div class=\"alert alert-danger\">\n",
    "<i class='fa fa-exclamation-triangle'></i>\n",
    "Im Gegensatz zu den Methoden der <code style=\"background-color: transparent; color: inherit\">list</code>-Klasse modifizieren die Methoden der <code style=\"background-color: transparent; color: inherit\">DataFrame</code>-Klasse nicht die Instanz, die die Methode aufruft. Diese Methoden geben einen neuen <code style=\"background-color: transparent; color: inherit\">DataFrame</code> zurück, auf den die Methode angewendet wird. Du musst diesen neuen <code style=\"background-color: transparent; color: inherit\">DataFrame</code> systematisch speichern, um das Ergebnis der Methode zu behalten.\n",
    "</div>\n",
    "\n",
    "> (d) Erstelle mithilfe der ```dropna```-Methode der ```DataFrame```-Klasse einen neuen ```DataFrame``` namens ```df2```, der keine fehlenden Werte enthält. <br>"
   ]
  },
  {
   "cell_type": "code",
   "execution_count": null,
   "id": "cbb3d84b-0c38-4a4c-9d40-a6b97514ab62",
   "metadata": {},
   "outputs": [],
   "source": [
    "# Deine Lösung\n",
    "\n",
    "\n",
    "\n"
   ]
  },
  {
   "cell_type": "markdown",
   "id": "646fda2b-6120-44e9-a714-122cc725c516",
   "metadata": {
    "jp-MarkdownHeadingCollapsed": true
   },
   "source": [
    "#### Lösung:"
   ]
  },
  {
   "cell_type": "code",
   "execution_count": null,
   "id": "7a6af4d6-18a3-478a-9b64-489f172e3205",
   "metadata": {},
   "outputs": [],
   "source": [
    "df2 = df1.dropna()\n",
    "\n",
    "df2"
   ]
  },
  {
   "cell_type": "markdown",
   "id": "a79acca5-c2c9-46d8-9c9d-b335854b3b52",
   "metadata": {},
   "source": [
    "#### \n",
    "Eine weitere häufig verwendete Methode der ```DataFrame```-Klasse ist die ```apply```-Methode. Diese Methode ermöglicht es dir, eine als Argument übergebene Funktion auf alle Einträge des ```DataFrame``` anzuwenden, der die Methode aufruft.\n",
    "\n",
    "> (e) Definiere eine Funktion namens ```divide2```, die die Division einer als Argument übergebenen Zahl durch 2 zurückgibt. <br>\n",
    "> \n",
    "> (f) Erstelle einen ```DataFrame``` namens ```df3```, der die Werte von ```df2``` geteilt durch 2 enthält. <br>\n"
   ]
  },
  {
   "cell_type": "code",
   "execution_count": null,
   "id": "9ee9b61b-de08-414a-bc25-80c2cb96763c",
   "metadata": {},
   "outputs": [],
   "source": [
    "# Deine Lösung\n",
    "\n",
    "\n",
    "\n"
   ]
  },
  {
   "cell_type": "markdown",
   "id": "aa05f355-82fd-4b08-a88f-a301581e1bd0",
   "metadata": {
    "jp-MarkdownHeadingCollapsed": true
   },
   "source": [
    "#### Lösung:"
   ]
  },
  {
   "cell_type": "code",
   "execution_count": null,
   "id": "8ad42919-9037-4263-bd2b-51f2291a2bca",
   "metadata": {},
   "outputs": [],
   "source": [
    "def divide2(x):   \n",
    "    return x/2\n",
    "\n",
    "df3 = df2.apply(divide2)  # applies the function divide2 to all entries of the DataFrame\n",
    "\n",
    "df3"
   ]
  },
  {
   "cell_type": "markdown",
   "id": "3cf7c20b-95ca-4634-a409-71ed55d6fc5b",
   "metadata": {},
   "source": [
    "#### \n",
    "\n",
    "Die ```DataFrame```-Klasse hat viele Methoden wie ```apply``` oder ```dropna```, die du während deiner Lernreise noch ausführlicher erkunden wirst. Da die ```list```-Klasse zu einfach für die Bedürfnisse von Data Scientists ist, machen diese Methoden die ```DataFrame```-Klasse zum Standard für die Datenmanipulation. Mehr über das ```pandas```-Modul erfahren wir morgen.\n",
    "\n",
    "Alle Pakete, die du in deiner Ausbildung verwenden wirst, werden als Objekte behandelt, d.h. du musst zuerst ein Objekt der Klasse (```DataFrame```, ```Scikit Model```, ```Python Plot```, ...) initialisieren und dann die **in der Klasse** definierten Methoden aufrufen.\n",
    "<br><br>\n",
    "Die Befehle ```dir``` und ```help``` werden dir beim Umgang mit diesen Klassen helfen. Denk daran, sie regelmäßig zu verwenden!"
   ]
  },
  {
   "cell_type": "markdown",
   "id": "78a4b0c5-cf66-4abd-b81f-d05188e03594",
   "metadata": {},
   "source": [
    "## 3 Eingebaute Methoden\n",
    "Alle in Python definierten Klassen haben Methoden, deren Namen bereits definiert sind. Das erste Beispiel einer solchen Methode, das wir gesehen haben, ist die ```__init```-Methode, die es uns ermöglicht, ein Objekt zu initialisieren, aber sie ist nicht die einzige.\n",
    "\n",
    "Eingebaute Methoden geben der Klasse die Fähigkeit, mit vordefinierten Python-Funktionen wie ```print```, ```len```, ```help``` und grundlegenden Operatoren zu interagieren. Diese Methoden haben normalerweise die Affixe ```__``` am Anfang und Ende ihrer Namen, wodurch wir sie leicht identifizieren können.\n",
    "\n",
    "Mithilfe des Befehls ```dir(object)``` können wir einen Überblick über einige vordefinierte Methoden erhalten, die allen Python-Objekten gemeinsam sind.\n",
    "\n"
   ]
  },
  {
   "cell_type": "code",
   "execution_count": null,
   "id": "6c04e154-e2ff-4dd4-a091-d68068c276de",
   "metadata": {},
   "outputs": [],
   "source": [
    "dir(object)"
   ]
  },
  {
   "cell_type": "markdown",
   "id": "0bfb6da9-2901-4f7e-8351-bf7cbbdf2307",
   "metadata": {},
   "source": [
    "## 3.1 Die str-Methode\n",
    "Eine der praktischsten Methoden ist die ```__str__```-Methode, die automatisch aufgerufen wird, wenn der Benutzer den ```print```-Befehl auf ein Objekt anwendet. Diese Methode gibt eine Zeichenkette zurück, die das ihr übergebene Objekt repräsentiert.\n",
    "\n",
    "Alle Klassen in Python, auf die wir die ```print```-Funktion anwenden können, haben diese Methode in ihrer Definition.\n",
    "> Probiere es aus: Definiere eine Variable (egal was, eine Liste, ein String, eine ganze Zahl, was du willst) und dann rufe mit der Variable die ```__str__```Methode auf:"
   ]
  },
  {
   "cell_type": "code",
   "execution_count": null,
   "id": "0a49f825-1746-4aaf-a1d0-ce73db76dafa",
   "metadata": {},
   "outputs": [],
   "source": [
    "# Deine Lösung:\n",
    "\n",
    "\n",
    "\n"
   ]
  },
  {
   "cell_type": "markdown",
   "id": "8acac255-a9ef-4ba3-ad61-8876c765c362",
   "metadata": {
    "jp-MarkdownHeadingCollapsed": true
   },
   "source": [
    "#### Lösung:"
   ]
  },
  {
   "cell_type": "code",
   "execution_count": null,
   "id": "5bacecc2-2270-4317-8ba9-b6a14a2fa096",
   "metadata": {},
   "outputs": [],
   "source": [
    "# für eine Liste:\n",
    "\n",
    "tab = [1, 2 , 3, 4, 5, 6]\n",
    "tab.__str__()"
   ]
  },
  {
   "cell_type": "markdown",
   "id": "fea6f826-43ff-4032-8f30-5cec1bb10725",
   "metadata": {},
   "source": [
    "####  \n",
    "Wenn wir unsere eigenen Klassen definieren, ist es besser, eine ```__str__```-Methode zu definieren, anstatt einer Methode wie ```display```, wie wir es zuvor getan haben. Dies ermöglicht allen zukünftigen Benutzern, direkt die ```print```-Funktion zu verwenden, um das Objekt in der Konsole anzuzeigen.\n",
    "\n",
    "Wir werden die ```Complex```-Klasse verwenden, die wir im ersten Modul der Einführung in die objektorientierte Programmierung definiert haben:\n",
    "<br><br>\n",
    "```python\n",
    "class Complex:\n",
    "    def __init__(self, a, b):\n",
    "       self.part_re = a\n",
    "       self.part_im = b\n",
    "```\n",
    "```python\n",
    "    def display(self):\n",
    "       if(self.part_im < 0):\n",
    "            print(self.part_re,'-', -self.part_im,'i')\n",
    "       if(self.part_im == 0):\n",
    "            print(self.part_re)\n",
    "       if(self.part_im > 0):\n",
    "            print(self.part_re, '+',self.part_im,'i')\n",
    "```\n",
    "\n",
    "#### 3.1.1 Aufgaben:\n",
    "> (a) Definiere in der Klasse ```Complex``` die ```__str__```-Methode, die **einen String** zurückgeben muss, die der algebraischen Darstellung $a+bi$ einer komplexen Zahl entspricht. Diese Methode wird die ```display```-Methode ersetzen. <br>\n",
    "> \n",
    "> <div class=\"alert alert-info\">\n",
    "> <i class=\"fa fa-info-circle\"></i>\n",
    "> Um die String-Darstellung einer Zahl zu erhalten, kannst du ihre <code style=\"background-color: transparent; color: inherit\">__str__</code>-Methode aufrufen.\n",
    "> </div>\n",
    "> \n",
    "> (b) Instanziiere ein ```Complex```-Objekt, das der Zahl $6 - 3i$ entspricht, und zeige es dann mithilfe der ```print```-Funktion in der Konsole an. <br>\n",
    "\n"
   ]
  },
  {
   "cell_type": "code",
   "execution_count": null,
   "id": "3a19ab39-944d-455d-a044-6b3c987f4fbe",
   "metadata": {},
   "outputs": [],
   "source": [
    "# Deine Lösung:\n",
    "\n",
    "\n",
    "\n"
   ]
  },
  {
   "cell_type": "markdown",
   "id": "ae4cbbeb-8706-4b62-8e2c-f8d7cc6fec68",
   "metadata": {
    "jp-MarkdownHeadingCollapsed": true
   },
   "source": [
    "#### Lösung:"
   ]
  },
  {
   "cell_type": "code",
   "execution_count": null,
   "id": "16ca9e4b-63b0-4482-bf73-c6156435a140",
   "metadata": {},
   "outputs": [],
   "source": [
    "class Complex:\n",
    "    def __init__(self, a = 0, b = 0):\n",
    "        self.part_re = a\n",
    "        self.part_im = b\n",
    "    \n",
    "    def __str__(self):\n",
    "        if(self.part_im < 0):\n",
    "            return self.part_re.__str__() + self.part_im.__str__() + 'i'  # gibt 'a' '-b' 'i' zurück\n",
    "        \n",
    "        if(self.part_im == 0):\n",
    "            return self.part_re.__str__()    # returns 'a'\n",
    "        \n",
    "        if(self.part_im > 0):\n",
    "            return self.part_re.__str__() + '+' + self.part_im.__str__() + 'i' # gibt 'a' '+' 'b' + 'i' zurück\n",
    "        \n",
    "z = Complex(6, -3)\n",
    "print(z)"
   ]
  },
  {
   "cell_type": "markdown",
   "id": "226a6895-c98f-44b7-b9fe-b6bd56de4a99",
   "metadata": {},
   "source": [
    "## 3.2 Vergleichsmethoden\n",
    "Wie bei den Klassen ```int``` oder ```float``` möchten wir die Objekte der Klasse ```Complex``` miteinander vergleichen können, d.h. die Vergleichsoperatoren (```>```, ```<```, ```==```, ```!=```, ...) verwenden können.\n",
    "\n",
    "Zu diesem Zweck haben die Python-Entwickler die folgenden Methoden bereitgestellt:\n",
    "* *```__le__```* / *```__ge__```*: *kleiner oder gleich* / *größer oder gleich*\n",
    "\n",
    "* *```__lt__```* / *```__gt__```*: *kleiner als* / *größer als*\n",
    "\n",
    "* *```__eq__```* / *```__ne__```*: *gleich* / *ungleich*\n",
    "\n",
    "Diese Methoden werden automatisch aufgerufen, wenn die Vergleichsoperatoren verwendet werden, und geben einen booleschen Wert (```True``` oder ```False```) zurück.\n",
    "\n"
   ]
  },
  {
   "cell_type": "code",
   "execution_count": null,
   "id": "78836c31-e788-418d-9cf6-4e3fd1e19863",
   "metadata": {},
   "outputs": [],
   "source": [
    "x = 5\n",
    "\n",
    "print(x > 3)  # True\n",
    "\n",
    "print(x.__gt__(3)) # True   \n",
    "                           # These two types of syntax are strictly equivalent\n",
    "print(x < 3) # False\n",
    "\n",
    "print(x.__lt__(3)) # False"
   ]
  },
  {
   "cell_type": "markdown",
   "id": "1dc0ba01-85e4-4078-a4ee-a2155c1fee54",
   "metadata": {},
   "source": [
    "#### 3.2.1 Aufgaben:\n",
    "\n",
    "Für die Klasse ```Complex``` werden wir den Vergleich mithilfe des Betrags durchführen, der durch die Formel $|a + bi| = \\sqrt{a² + b²}$ berechnet wird.\n",
    "\n",
    "\n",
    "> (a) Definiere für die Klasse ```Complex```  eine ```mod```-Methode, die den Betrag des ```Complex``` zurückgibt, der die Methode aufruft. Du kannst die ```sqrt```-Funktion des ```numpy```-Pakets verwenden, um eine Quadratwurzel zu berechnen. <br>\n",
    "> \n",
    "> (b) Definiere in der Klasse ```Complex``` die Methoden ```__lt__``` und ```__gt__``` (streng kleiner und streng größer). Diese Methoden müssen einen booleschen Wert zurückgeben. <br>\n",
    "> \n",
    "> (c) Führe die beiden oben definierten Vergleiche mit den komplexen Zahlen $3 + 4i$ und $2 - 5i$ durch."
   ]
  },
  {
   "cell_type": "code",
   "execution_count": 11,
   "id": "355e79e5-e30b-44f9-81c2-063131b6092f",
   "metadata": {},
   "outputs": [],
   "source": [
    "# Deine Lösung:\n",
    "\n",
    "\n",
    "\n"
   ]
  },
  {
   "cell_type": "markdown",
   "id": "51329090-1386-498e-8b8a-372542247ec4",
   "metadata": {
    "jp-MarkdownHeadingCollapsed": true
   },
   "source": [
    "#### Lösung:"
   ]
  },
  {
   "cell_type": "code",
   "execution_count": null,
   "id": "a5eb3bd3-b8cb-4c6a-b47e-f4be8e7c2f9f",
   "metadata": {},
   "outputs": [],
   "source": [
    "import numpy as np\n",
    "\n",
    "class Complex:\n",
    "    def __init__(self, a = 0, b = 0):\n",
    "        self.part_re = a\n",
    "        self.part_im = b\n",
    "    \n",
    "    def __str__(self):\n",
    "        if(self.part_im < 0):\n",
    "            return self.part_re.__str__() + self.part_im.__str__() + 'i'  # gibt 'a' '-b' 'i' zurück\n",
    "        \n",
    "        if(self.part_im == 0):\n",
    "            return self.part_re.__str__()    # gibt 'a' zurück\n",
    "        \n",
    "        if(self.part_im > 0):\n",
    "            return self.part_re.__str__() + '+' + self.part_im.__str__() + 'i' # gibt 'a' '+' 'b' + 'i' zurück\n",
    "        \n",
    "    def mod(self):\n",
    "        return np.sqrt( self.part_re ** 2 + self.part_im ** 2)  # gibt den Betrag zurück (sqrt(a² + b²))\n",
    "    \n",
    "    def __lt__(self, other):    \n",
    "        if(self.mod() < other.mod()):   # gibt True zurück falls: |self| < |other|\n",
    "            return True\n",
    "        else:\n",
    "            return False\n",
    "        \n",
    "    def __gt__(self, other):\n",
    "        if(self.mod() > other.mod()):   # gibt True zurück falls: |self| > |other|\n",
    "            return True\n",
    "        else:\n",
    "            return False\n",
    "        \n",
    "        \n",
    "z1 = Complex(3, 4)\n",
    "z2 = Complex(2, 5)\n",
    "print(z1 > z2)\n",
    "print(z1 < z2)"
   ]
  }
 ],
 "metadata": {
  "kernelspec": {
   "display_name": "Python 3 (ipykernel)",
   "language": "python",
   "name": "python3"
  },
  "language_info": {
   "codemirror_mode": {
    "name": "ipython",
    "version": 3
   },
   "file_extension": ".py",
   "mimetype": "text/x-python",
   "name": "python",
   "nbconvert_exporter": "python",
   "pygments_lexer": "ipython3",
   "version": "3.10.15"
  }
 },
 "nbformat": 4,
 "nbformat_minor": 5
}
